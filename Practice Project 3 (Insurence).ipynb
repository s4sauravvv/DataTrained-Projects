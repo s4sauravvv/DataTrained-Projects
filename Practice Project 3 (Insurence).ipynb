{
 "cells": [
  {
   "cell_type": "markdown",
   "id": "874467a9",
   "metadata": {},
   "source": [
    "# Medical Cost Personal Insurance Datasets\n",
    "\n",
    "\n",
    "\n",
    "Problem Statement:\n",
    "\n",
    "\n",
    "\n",
    "Insurance Forecast by using Linear Regression\n",
    "\n",
    "\n",
    "\n",
    "\n",
    "Health insurance is a type of insurance that covers medical expenses that arise due to an illness. These expenses could be related to hospitalisation costs, cost of medicines or doctor consultation fees. The main purpose of medical insurance is to receive the best medical care without any strain on your finances. Health insurance plans offer protection against high medical costs. It covers hospitalization expenses, day care procedures, domiciliary expenses, and ambulance charges, besides many others. Based on certain input features such as age , bmi,,no of dependents ,smoker ,region  medical insurance is calculated .\n",
    "\n",
    "\n",
    "\n",
    "\n",
    "Columns                                            \n",
    "\n",
    "·  age: age of primary beneficiary\n",
    "\n",
    "· sex: insurance contractor gender, female, male\n",
    "\n",
    "· bmi: Body mass index, providing an understanding of body, weights that are relatively high or low relative to height, objective index of body weight (kg / m ^ 2) using the ratio of height to weight, ideally 18.5 to 24.9.\n",
    "\n",
    "· children: Number of children covered by health insurance / Number of dependents\n",
    "\n",
    "· smoker: Smoking\n",
    "\n",
    "· region: the beneficiary's residential area in the US, northeast, southeast, southwest, northwest.\n",
    "\n",
    "· charges: Individual medical costs billed by health insurance\n",
    "\n",
    "\n",
    "\n",
    "\n",
    "Predict : Charges  Can you accurately predict insurance costs?\n",
    "\n",
    "\n",
    "\n",
    "\n",
    "\n",
    "Dataset Link - https://github.com/dsrscientist/dataset4/blob/main/medical_cost_insurance.csv"
   ]
  },
  {
   "cell_type": "markdown",
   "id": "7b10dd9e",
   "metadata": {},
   "source": [
    "For more information about algorithm\n",
    "Follow this -> https://scikit-learn.org/stable/index.html"
   ]
  },
  {
   "cell_type": "code",
   "execution_count": 2,
   "id": "0ef9d894",
   "metadata": {},
   "outputs": [],
   "source": [
    "#Lets import necessary Libraries.\n",
    "import pandas as pd\n",
    "import numpy as np"
   ]
  },
  {
   "cell_type": "code",
   "execution_count": 3,
   "id": "a7ddfea4",
   "metadata": {},
   "outputs": [
    {
     "data": {
      "text/html": [
       "<div>\n",
       "<style scoped>\n",
       "    .dataframe tbody tr th:only-of-type {\n",
       "        vertical-align: middle;\n",
       "    }\n",
       "\n",
       "    .dataframe tbody tr th {\n",
       "        vertical-align: top;\n",
       "    }\n",
       "\n",
       "    .dataframe thead th {\n",
       "        text-align: right;\n",
       "    }\n",
       "</style>\n",
       "<table border=\"1\" class=\"dataframe\">\n",
       "  <thead>\n",
       "    <tr style=\"text-align: right;\">\n",
       "      <th></th>\n",
       "      <th>age</th>\n",
       "      <th>sex</th>\n",
       "      <th>bmi</th>\n",
       "      <th>children</th>\n",
       "      <th>smoker</th>\n",
       "      <th>region</th>\n",
       "      <th>charges</th>\n",
       "    </tr>\n",
       "  </thead>\n",
       "  <tbody>\n",
       "    <tr>\n",
       "      <th>0</th>\n",
       "      <td>19</td>\n",
       "      <td>female</td>\n",
       "      <td>27.900</td>\n",
       "      <td>0</td>\n",
       "      <td>yes</td>\n",
       "      <td>southwest</td>\n",
       "      <td>16884.92400</td>\n",
       "    </tr>\n",
       "    <tr>\n",
       "      <th>1</th>\n",
       "      <td>18</td>\n",
       "      <td>male</td>\n",
       "      <td>33.770</td>\n",
       "      <td>1</td>\n",
       "      <td>no</td>\n",
       "      <td>southeast</td>\n",
       "      <td>1725.55230</td>\n",
       "    </tr>\n",
       "    <tr>\n",
       "      <th>2</th>\n",
       "      <td>28</td>\n",
       "      <td>male</td>\n",
       "      <td>33.000</td>\n",
       "      <td>3</td>\n",
       "      <td>no</td>\n",
       "      <td>southeast</td>\n",
       "      <td>4449.46200</td>\n",
       "    </tr>\n",
       "    <tr>\n",
       "      <th>3</th>\n",
       "      <td>33</td>\n",
       "      <td>male</td>\n",
       "      <td>22.705</td>\n",
       "      <td>0</td>\n",
       "      <td>no</td>\n",
       "      <td>northwest</td>\n",
       "      <td>21984.47061</td>\n",
       "    </tr>\n",
       "    <tr>\n",
       "      <th>4</th>\n",
       "      <td>32</td>\n",
       "      <td>male</td>\n",
       "      <td>28.880</td>\n",
       "      <td>0</td>\n",
       "      <td>no</td>\n",
       "      <td>northwest</td>\n",
       "      <td>3866.85520</td>\n",
       "    </tr>\n",
       "  </tbody>\n",
       "</table>\n",
       "</div>"
      ],
      "text/plain": [
       "   age     sex     bmi  children smoker     region      charges\n",
       "0   19  female  27.900         0    yes  southwest  16884.92400\n",
       "1   18    male  33.770         1     no  southeast   1725.55230\n",
       "2   28    male  33.000         3     no  southeast   4449.46200\n",
       "3   33    male  22.705         0     no  northwest  21984.47061\n",
       "4   32    male  28.880         0     no  northwest   3866.85520"
      ]
     },
     "execution_count": 3,
     "metadata": {},
     "output_type": "execute_result"
    }
   ],
   "source": [
    "data=pd.read_csv(\"https://raw.githubusercontent.com/dsrscientist/dataset4/main/medical_cost_insurance.csv\")\n",
    "data.head()"
   ]
  },
  {
   "cell_type": "code",
   "execution_count": 3,
   "id": "eaadf1b2",
   "metadata": {},
   "outputs": [
    {
     "data": {
      "text/plain": [
       "(1338, 7)"
      ]
     },
     "execution_count": 3,
     "metadata": {},
     "output_type": "execute_result"
    }
   ],
   "source": [
    "#Lets check the shape of dataset\n",
    "data.shape"
   ]
  },
  {
   "cell_type": "markdown",
   "id": "89047961",
   "metadata": {},
   "source": [
    "So , here we have 1338 rows and 7 columns"
   ]
  },
  {
   "cell_type": "markdown",
   "id": "894de661",
   "metadata": {},
   "source": [
    "# Data is Duplicated ?\n"
   ]
  },
  {
   "cell_type": "code",
   "execution_count": 62,
   "id": "cacb0d60",
   "metadata": {},
   "outputs": [
    {
     "data": {
      "text/plain": [
       "1"
      ]
     },
     "execution_count": 62,
     "metadata": {},
     "output_type": "execute_result"
    }
   ],
   "source": [
    "data.duplicated().sum()"
   ]
  },
  {
   "cell_type": "code",
   "execution_count": 63,
   "id": "fcfeb182",
   "metadata": {},
   "outputs": [],
   "source": [
    "data.drop_duplicates(inplace=True)"
   ]
  },
  {
   "cell_type": "code",
   "execution_count": 6,
   "id": "ef68af48",
   "metadata": {},
   "outputs": [
    {
     "data": {
      "text/plain": [
       "(1337, 7)"
      ]
     },
     "execution_count": 6,
     "metadata": {},
     "output_type": "execute_result"
    }
   ],
   "source": [
    "#Lets check again the shape of dataset\n",
    "data.shape"
   ]
  },
  {
   "cell_type": "code",
   "execution_count": 14,
   "id": "bc9b730c",
   "metadata": {},
   "outputs": [
    {
     "data": {
      "text/plain": [
       "age           int64\n",
       "sex          object\n",
       "bmi         float64\n",
       "children      int64\n",
       "smoker       object\n",
       "region       object\n",
       "charges     float64\n",
       "dtype: object"
      ]
     },
     "execution_count": 14,
     "metadata": {},
     "output_type": "execute_result"
    }
   ],
   "source": [
    "#Lets check the data type of dataset\n",
    "data.dtypes"
   ]
  },
  {
   "cell_type": "markdown",
   "id": "c00b0035",
   "metadata": {},
   "source": [
    " So ,Here we have we have .\n",
    "\n",
    "int type  - 2 columns ( Age , Children)\n",
    "\n",
    "Object type - 3 columns ( Sex, Smoker , Region)\n",
    "\n",
    "Float Type - 2 columns (BMI ,charges)\n",
    "\n",
    "\n",
    "\n",
    "Our target column is float type that is Charges. and we consider 99% of times float data has a continious data . so in this we have 2 continious data in pour dataset."
   ]
  },
  {
   "cell_type": "code",
   "execution_count": 15,
   "id": "d5ebe8bf",
   "metadata": {},
   "outputs": [
    {
     "data": {
      "image/png": "[encoded data removed]",
      "text/plain": [
       "<Figure size 1584x576 with 2 Axes>"
      ]
     },
     "metadata": {
      "needs_background": "light"
     },
     "output_type": "display_data"
    }
   ],
   "source": [
    "#Lets Discribe the dataset using heatmap\n",
    "import matplotlib.pyplot as plt\n",
    "%matplotlib inline\n",
    "import seaborn as sns\n",
    "plt.figure(figsize=(22,8))\n",
    "sns.heatmap(data.describe(),annot=True,linewidths=0.3,linecolor='orange',fmt=\"0.2f\")\n",
    "plt.show()"
   ]
  },
  {
   "cell_type": "markdown",
   "id": "0678aae7",
   "metadata": {},
   "source": [
    "# Observations\n",
    "- No Missing Values\n",
    "\n",
    "\n",
    "- Outliers in BMI.\n",
    "\n",
    "\n",
    "We are good to proceed."
   ]
  },
  {
   "cell_type": "markdown",
   "id": "5f690856",
   "metadata": {},
   "source": [
    "#  EDA (Exploratory data analysis)\n",
    "\n",
    "- Basic Analysis with Visualisation"
   ]
  },
  {
   "cell_type": "code",
   "execution_count": 16,
   "id": "0325d7b7",
   "metadata": {},
   "outputs": [],
   "source": [
    "#Lets plot relplot(Relational Plot)\n",
    "import seaborn as sns # Importing Visualisation library (Seaborn and Matplotlib)\n",
    "import matplotlib.pyplot as plt"
   ]
  },
  {
   "cell_type": "code",
   "execution_count": 17,
   "id": "012817b6",
   "metadata": {},
   "outputs": [
    {
     "data": {
      "image/png": "[encoded data removed]",
      "text/plain": [
       "<Figure size 360x360 with 1 Axes>"
      ]
     },
     "metadata": {
      "needs_background": "light"
     },
     "output_type": "display_data"
    }
   ],
   "source": [
    "#Lets plot age\n",
    "sns.relplot(x='age',y='charges',data=data,kind='scatter')\n",
    "plt.show()"
   ]
  },
  {
   "cell_type": "markdown",
   "id": "3a3efcac",
   "metadata": {},
   "source": [
    "So , Here we can see the . there are  some positive relationship."
   ]
  },
  {
   "cell_type": "code",
   "execution_count": 18,
   "id": "a5ac6e8e",
   "metadata": {},
   "outputs": [
    {
     "data": {
      "image/png": "[encoded data removed]",
      "text/plain": [
       "<Figure size 360x360 with 1 Axes>"
      ]
     },
     "metadata": {
      "needs_background": "light"
     },
     "output_type": "display_data"
    }
   ],
   "source": [
    "#Lets plot children columns\n",
    "sns.relplot(x='children',y='charges',data=data,kind='scatter')\n",
    "plt.show()"
   ]
  },
  {
   "cell_type": "markdown",
   "id": "41438b1b",
   "metadata": {},
   "source": [
    "As the number of children increase the charges decrease ,We can clearly see that there is no relationship. in children and charges column \n"
   ]
  },
  {
   "cell_type": "code",
   "execution_count": 19,
   "id": "32080347",
   "metadata": {},
   "outputs": [
    {
     "data": {
      "image/png": "[encoded data removed]",
      "text/plain": [
       "<Figure size 360x360 with 1 Axes>"
      ]
     },
     "metadata": {
      "needs_background": "light"
     },
     "output_type": "display_data"
    }
   ],
   "source": [
    "#Lets plot BMI\n",
    "sns.relplot(x='bmi',y='charges',data=data,kind='scatter')\n",
    "plt.show()"
   ]
  },
  {
   "cell_type": "markdown",
   "id": "158388df",
   "metadata": {},
   "source": [
    "We can see that . BMI and Charges has no  relationship.."
   ]
  },
  {
   "cell_type": "code",
   "execution_count": 20,
   "id": "24fcb371",
   "metadata": {},
   "outputs": [
    {
     "data": {
      "image/png": "[encoded data removed]",
      "text/plain": [
       "<Figure size 432x288 with 1 Axes>"
      ]
     },
     "metadata": {
      "needs_background": "light"
     },
     "output_type": "display_data"
    },
    {
     "data": {
      "text/plain": [
       "male      675\n",
       "female    662\n",
       "Name: sex, dtype: int64"
      ]
     },
     "execution_count": 20,
     "metadata": {},
     "output_type": "execute_result"
    }
   ],
   "source": [
    "#Lets plot sex data .Using count plot\n",
    "sns.countplot(x='sex',data=data)\n",
    "plt.show()\n",
    "data['sex'].value_counts()"
   ]
  },
  {
   "cell_type": "markdown",
   "id": "6a0ec18f",
   "metadata": {},
   "source": [
    "So , in sex column we have Male - 675 and Female - 662"
   ]
  },
  {
   "cell_type": "code",
   "execution_count": 21,
   "id": "cce3b739",
   "metadata": {},
   "outputs": [
    {
     "data": {
      "image/png": "[encoded data removed]",
      "text/plain": [
       "<Figure size 432x288 with 1 Axes>"
      ]
     },
     "metadata": {
      "needs_background": "light"
     },
     "output_type": "display_data"
    },
    {
     "data": {
      "text/plain": [
       "no     1063\n",
       "yes     274\n",
       "Name: smoker, dtype: int64"
      ]
     },
     "execution_count": 21,
     "metadata": {},
     "output_type": "execute_result"
    }
   ],
   "source": [
    "#Lets plot smoker . using count plot.\n",
    "sns.countplot(x='smoker',data=data)\n",
    "plt.show()\n",
    "data['smoker'].value_counts()"
   ]
  },
  {
   "cell_type": "markdown",
   "id": "0ec69c6f",
   "metadata": {},
   "source": [
    "So ,here we have 274 person who are smoking and 1063 person who are not smoking."
   ]
  },
  {
   "cell_type": "code",
   "execution_count": 22,
   "id": "c819ec6f",
   "metadata": {},
   "outputs": [
    {
     "data": {
      "image/png": "[encoded data removed]",
      "text/plain": [
       "<Figure size 432x288 with 1 Axes>"
      ]
     },
     "metadata": {
      "needs_background": "light"
     },
     "output_type": "display_data"
    }
   ],
   "source": [
    "#Lets check how much  are smoking who have dependents\n",
    "sns.countplot(x='smoker',data=data,hue='children',)\n",
    "plt.show()"
   ]
  },
  {
   "cell_type": "markdown",
   "id": "c1afe4fd",
   "metadata": {},
   "source": [
    "- So who have 0 Dependents - More then 100 peoples are smoking\n",
    "\n",
    "- So Who have 1 Dependents - More then 60 People are somking\n",
    "\n",
    "\n",
    "- So Who have 2 Dependents - More then 50 People are smoking\n",
    "\n",
    "\n",
    "- So Who have 3 Dependents - Almost 50 people are somking\n",
    "\n",
    "\n",
    "- So Who have 4 Dependents - Almost 4 - 6 People are Smoking\n",
    "\n",
    "\n",
    "- So who have 5 Dependents - Almost 1-2 People are Smoking"
   ]
  },
  {
   "cell_type": "code",
   "execution_count": 23,
   "id": "5ef6d072",
   "metadata": {},
   "outputs": [
    {
     "data": {
      "image/png": "[encoded data removed]",
      "text/plain": [
       "<Figure size 432x288 with 1 Axes>"
      ]
     },
     "metadata": {
      "needs_background": "light"
     },
     "output_type": "display_data"
    },
    {
     "data": {
      "text/plain": [
       "southeast    364\n",
       "southwest    325\n",
       "northwest    324\n",
       "northeast    324\n",
       "Name: region, dtype: int64"
      ]
     },
     "execution_count": 23,
     "metadata": {},
     "output_type": "execute_result"
    }
   ],
   "source": [
    "#Lets plot region \n",
    "sns.countplot(x='region',data=data)\n",
    "plt.show()\n",
    "data['region'].value_counts()"
   ]
  },
  {
   "cell_type": "markdown",
   "id": "f8c0e970",
   "metadata": {},
   "source": [
    "So here we can see that \n",
    "\n",
    "\n",
    "Beneficiary's residential area in the US from SouthEast  is - 364\n",
    "\n",
    "\n",
    "\n",
    "Beneficiary's residential area in the US from SouthWest is - 325\n",
    "\n",
    "\n",
    "\n",
    "Beneficiary's residential area in the US from NorthEast is - 324\n",
    "\n",
    "\n",
    "\n",
    "\n",
    "beneficiary's residential area in the US from NorthWest is - 324"
   ]
  },
  {
   "cell_type": "code",
   "execution_count": 24,
   "id": "8dd1366c",
   "metadata": {},
   "outputs": [
    {
     "data": {
      "image/png": "[encoded data removed]",
      "text/plain": [
       "<Figure size 432x288 with 1 Axes>"
      ]
     },
     "metadata": {
      "needs_background": "light"
     },
     "output_type": "display_data"
    }
   ],
   "source": [
    "#Lets check how much male and how much female from all 4 location\n",
    "sns.countplot(x='region',data=data,hue='sex')\n",
    "plt.show()"
   ]
  },
  {
   "cell_type": "markdown",
   "id": "868e2533",
   "metadata": {},
   "source": [
    "So here we can see that from ,\n",
    "\n",
    "SouthWest - Female is 162 and Male is 165\n",
    "\n",
    "SouthEast - Female is 175 and Male is almost 185\n",
    "\n",
    "\n",
    "NorthWest -Female is almost 168 and Male is almost 160\n",
    "\n",
    "\n",
    "North east -  Female is almost almost 160 and Male is almost 168"
   ]
  },
  {
   "cell_type": "code",
   "execution_count": 25,
   "id": "4fc60dfa",
   "metadata": {},
   "outputs": [
    {
     "data": {
      "image/png": "[encoded data removed]",
      "text/plain": [
       "<Figure size 432x288 with 1 Axes>"
      ]
     },
     "metadata": {
      "needs_background": "light"
     },
     "output_type": "display_data"
    }
   ],
   "source": [
    "#Lets check how much smoker from which part of USA\n",
    "sns.countplot(x='smoker',data=data,hue='region')\n",
    "plt.show()"
   ]
  },
  {
   "cell_type": "markdown",
   "id": "8677d55a",
   "metadata": {},
   "source": [
    "From Southwest from USA only almost 60 person  are smoker\n",
    "\n",
    "From Southwest from USA more then 250 person  are Non smoker\n",
    "\n",
    "From SouthEast from USA only almost 90 person  are smoker\n",
    "\n",
    "\n",
    "From SouthEast from USA more then 250 person  are Non smoker\n",
    "\n",
    "\n",
    "From NorthWest from USA only almost 60 person are smoker\n",
    "\n",
    "\n",
    "From NorthWest from USA more then 250 person  are Non smoker\n",
    "\n",
    "\n",
    "\n",
    "From NorthEast from USA more then almost 70 person are smoker\n",
    "\n",
    "\n",
    "From NorthEast from USA more then 250 person  are Non smoker\n",
    "\n",
    "\n",
    "\n",
    "\n",
    "So, here we observe that  number of people are smoker in 4 region in USA \n"
   ]
  },
  {
   "cell_type": "markdown",
   "id": "6ccecb98",
   "metadata": {},
   "source": [
    "# Count of Smokers by Sex and Region"
   ]
  },
  {
   "cell_type": "code",
   "execution_count": 27,
   "id": "5a78e95a",
   "metadata": {},
   "outputs": [
    {
     "data": {
      "text/plain": [
       "region     smoker  sex   \n",
       "northeast  no      female    132\n",
       "                   male      125\n",
       "           yes     male       38\n",
       "                   female     29\n",
       "northwest  no      female    135\n",
       "                   male      131\n",
       "           yes     female     29\n",
       "                   male       29\n",
       "southeast  no      female    139\n",
       "                   male      134\n",
       "           yes     male       55\n",
       "                   female     36\n",
       "southwest  no      female    141\n",
       "                   male      126\n",
       "           yes     male       37\n",
       "                   female     21\n",
       "dtype: int64"
      ]
     },
     "execution_count": 27,
     "metadata": {},
     "output_type": "execute_result"
    }
   ],
   "source": [
    "import warnings\n",
    "warnings.filterwarnings('ignore')\n",
    "data.groupby(['region'])['smoker','sex'].value_counts()\n"
   ]
  },
  {
   "cell_type": "markdown",
   "id": "177715e5",
   "metadata": {},
   "source": [
    "So we get almost same as what we see in the previous code."
   ]
  },
  {
   "cell_type": "code",
   "execution_count": 28,
   "id": "61f2431a",
   "metadata": {},
   "outputs": [
    {
     "data": {
      "image/png": "[encoded data removed]",
      "text/plain": [
       "<Figure size 432x288 with 1 Axes>"
      ]
     },
     "metadata": {
      "needs_background": "light"
     },
     "output_type": "display_data"
    }
   ],
   "source": [
    "#Lets check how much male and female are smoker\n",
    "\n",
    "sns.countplot(x='sex',data=data,hue='smoker')\n",
    "plt.show()"
   ]
  },
  {
   "cell_type": "markdown",
   "id": "61ceb644",
   "metadata": {},
   "source": [
    "So ,here we can observe that \n",
    "\n",
    "Female - more 100 peoples are smoker  \n",
    "\n",
    "\n",
    "Male - More then  peoples are smoker "
   ]
  },
  {
   "cell_type": "code",
   "execution_count": 29,
   "id": "a4e4c103",
   "metadata": {},
   "outputs": [],
   "source": [
    "import warnings\n",
    "warnings.filterwarnings('ignore')"
   ]
  },
  {
   "cell_type": "code",
   "execution_count": 30,
   "id": "a3f925d2",
   "metadata": {},
   "outputs": [
    {
     "data": {
      "text/plain": [
       "Index(['age', 'sex', 'bmi', 'children', 'smoker', 'region', 'charges'], dtype='object')"
      ]
     },
     "execution_count": 30,
     "metadata": {},
     "output_type": "execute_result"
    }
   ],
   "source": [
    "data.columns"
   ]
  },
  {
   "cell_type": "code",
   "execution_count": 31,
   "id": "b0892939",
   "metadata": {},
   "outputs": [
    {
     "data": {
      "image/png": "[encoded data removed]",
      "text/plain": [
       "<Figure size 1584x504 with 4 Axes>"
      ]
     },
     "metadata": {
      "needs_background": "light"
     },
     "output_type": "display_data"
    }
   ],
   "source": [
    "#Lets check the distribution of the columns\n",
    "plt.figure(figsize=(22,7))\n",
    "plotnumber=1\n",
    "for column in data[['age','bmi','children','charges']]:#Here we taking only numerical data\n",
    "    if plotnumber <=4:\n",
    "        ax=plt.subplot(2,2,plotnumber)\n",
    "        sns.distplot(data[column])\n",
    "        plt.xlabel(column,fontsize=20)\n",
    "    plotnumber +=1\n",
    "plt.show()"
   ]
  },
  {
   "cell_type": "markdown",
   "id": "333ca4e6",
   "metadata": {},
   "source": [
    "# Observation\n",
    "\n",
    "\n",
    "Age - > Age in noramlly Distributed\n",
    "\n",
    "BMI -> BMI contains some outliers because we have the Normal BMI rate (using the ratio of height to weight, ideally 18.5 to 24.9)\n",
    "\n",
    "Children -> 6 Children Is normal,  We consider as noraml distributed\n",
    "\n",
    "\n",
    "Chrages - > Charges is our target column."
   ]
  },
  {
   "cell_type": "code",
   "execution_count": 32,
   "id": "e8dff77b",
   "metadata": {},
   "outputs": [
    {
     "data": {
      "image/png": "[encoded data removed]",
      "text/plain": [
       "<Figure size 1584x504 with 4 Axes>"
      ]
     },
     "metadata": {
      "needs_background": "light"
     },
     "output_type": "display_data"
    }
   ],
   "source": [
    "#Lets Plot BOX plot and Check Outliers by visualization\n",
    "#Lets check the distribution of the columns\n",
    "plt.figure(figsize=(22,7))\n",
    "plotnumber=1\n",
    "for column in data[['age','bmi','children','charges']]:#Here we taking only numerical data\n",
    "    if plotnumber <=4:\n",
    "        ax=plt.subplot(2,2,plotnumber)\n",
    "        sns.boxplot(data[column])\n",
    "        plt.xlabel(column,fontsize=20)\n",
    "    plotnumber +=1\n",
    "plt.show()"
   ]
  },
  {
   "cell_type": "markdown",
   "id": "3384cb82",
   "metadata": {},
   "source": [
    "Observation\n",
    "\n",
    "Here we can clearly see that . BMI has some outliers . We have to fix them."
   ]
  },
  {
   "cell_type": "markdown",
   "id": "5ee5b7c2",
   "metadata": {},
   "source": [
    "# First we have to check correlatiom before losing any data because we have small dataset ."
   ]
  },
  {
   "cell_type": "code",
   "execution_count": 33,
   "id": "a4c39469",
   "metadata": {},
   "outputs": [
    {
     "data": {
      "image/png": "[encoded data removed]",
      "text/plain": [
       "<Figure size 432x288 with 2 Axes>"
      ]
     },
     "metadata": {
      "needs_background": "light"
     },
     "output_type": "display_data"
    }
   ],
   "source": [
    "sns.heatmap(data.corr(),annot=True,fmt='.2f',)\n",
    "plt.show()"
   ]
  },
  {
   "cell_type": "markdown",
   "id": "fce8a1b1",
   "metadata": {},
   "source": [
    "# Observations\n",
    "\n",
    "1 - BMI have almost 20% relationship with charges\n",
    "\n",
    "2- Age have almost 30%  relationship with charges\n",
    "\n",
    "2 -Childres have almost 7% relationship with charges"
   ]
  },
  {
   "cell_type": "code",
   "execution_count": 35,
   "id": "3174e867",
   "metadata": {},
   "outputs": [
    {
     "data": {
      "text/plain": [
       "age         0.298308\n",
       "bmi         0.198401\n",
       "children    0.067389\n",
       "charges     1.000000\n",
       "Name: charges, dtype: float64"
      ]
     },
     "execution_count": 35,
     "metadata": {},
     "output_type": "execute_result"
    }
   ],
   "source": [
    "#Lets check correlation with target columns\n",
    "data.corr()['charges']"
   ]
  },
  {
   "cell_type": "markdown",
   "id": "78e15a81",
   "metadata": {},
   "source": [
    "As we seen before this code . almost same we get not."
   ]
  },
  {
   "cell_type": "code",
   "execution_count": null,
   "id": "221002d8",
   "metadata": {},
   "outputs": [],
   "source": []
  },
  {
   "cell_type": "markdown",
   "id": "c388da95",
   "metadata": {},
   "source": [
    "# Data Preprocessing"
   ]
  },
  {
   "cell_type": "code",
   "execution_count": 65,
   "id": "3239d2fd",
   "metadata": {},
   "outputs": [
    {
     "data": {
      "text/plain": [
       "['sex', 'smoker', 'region']"
      ]
     },
     "execution_count": 65,
     "metadata": {},
     "output_type": "execute_result"
    }
   ],
   "source": [
    "#Lets use encoding technique and convert all categorical data to numerical data\n",
    "#First filter categorical column\n",
    "numeric=['int8','int16','int32','int64','float','float32','float64']\n",
    "categorical_column=[]\n",
    "feature=data.columns.values.tolist()\n",
    "\n",
    "for col in feature:\n",
    "    if data[col].dtype in numeric:\n",
    "        continue\n",
    "    categorical_column.append(col)\n",
    "categorical_column"
   ]
  },
  {
   "cell_type": "code",
   "execution_count": 66,
   "id": "131c129f",
   "metadata": {},
   "outputs": [
    {
     "data": {
      "text/html": [
       "<div>\n",
       "<style scoped>\n",
       "    .dataframe tbody tr th:only-of-type {\n",
       "        vertical-align: middle;\n",
       "    }\n",
       "\n",
       "    .dataframe tbody tr th {\n",
       "        vertical-align: top;\n",
       "    }\n",
       "\n",
       "    .dataframe thead th {\n",
       "        text-align: right;\n",
       "    }\n",
       "</style>\n",
       "<table border=\"1\" class=\"dataframe\">\n",
       "  <thead>\n",
       "    <tr style=\"text-align: right;\">\n",
       "      <th></th>\n",
       "      <th>sex_male</th>\n",
       "      <th>smoker_yes</th>\n",
       "      <th>region_northwest</th>\n",
       "      <th>region_southeast</th>\n",
       "      <th>region_southwest</th>\n",
       "    </tr>\n",
       "  </thead>\n",
       "  <tbody>\n",
       "    <tr>\n",
       "      <th>0</th>\n",
       "      <td>0</td>\n",
       "      <td>1</td>\n",
       "      <td>0</td>\n",
       "      <td>0</td>\n",
       "      <td>1</td>\n",
       "    </tr>\n",
       "    <tr>\n",
       "      <th>1</th>\n",
       "      <td>1</td>\n",
       "      <td>0</td>\n",
       "      <td>0</td>\n",
       "      <td>1</td>\n",
       "      <td>0</td>\n",
       "    </tr>\n",
       "    <tr>\n",
       "      <th>2</th>\n",
       "      <td>1</td>\n",
       "      <td>0</td>\n",
       "      <td>0</td>\n",
       "      <td>1</td>\n",
       "      <td>0</td>\n",
       "    </tr>\n",
       "    <tr>\n",
       "      <th>3</th>\n",
       "      <td>1</td>\n",
       "      <td>0</td>\n",
       "      <td>1</td>\n",
       "      <td>0</td>\n",
       "      <td>0</td>\n",
       "    </tr>\n",
       "    <tr>\n",
       "      <th>4</th>\n",
       "      <td>1</td>\n",
       "      <td>0</td>\n",
       "      <td>1</td>\n",
       "      <td>0</td>\n",
       "      <td>0</td>\n",
       "    </tr>\n",
       "  </tbody>\n",
       "</table>\n",
       "</div>"
      ],
      "text/plain": [
       "   sex_male  smoker_yes  region_northwest  region_southeast  region_southwest\n",
       "0         0           1                 0                 0                 1\n",
       "1         1           0                 0                 1                 0\n",
       "2         1           0                 0                 1                 0\n",
       "3         1           0                 1                 0                 0\n",
       "4         1           0                 1                 0                 0"
      ]
     },
     "execution_count": 66,
     "metadata": {},
     "output_type": "execute_result"
    }
   ],
   "source": [
    "df_dummies=pd.get_dummies(data[categorical_column],drop_first=True)\n",
    "df_dummies.head()"
   ]
  },
  {
   "cell_type": "markdown",
   "id": "d12feacf",
   "metadata": {},
   "source": [
    "So , Here we have to Encode Sex , Smoker and Region. using pd.get_dummies."
   ]
  },
  {
   "cell_type": "code",
   "execution_count": 67,
   "id": "d6859316",
   "metadata": {},
   "outputs": [],
   "source": [
    "#Lets join with DataFrame\n",
    "data=data.join(df_dummies)\n"
   ]
  },
  {
   "cell_type": "code",
   "execution_count": 68,
   "id": "459b4f05",
   "metadata": {},
   "outputs": [
    {
     "data": {
      "text/html": [
       "<div>\n",
       "<style scoped>\n",
       "    .dataframe tbody tr th:only-of-type {\n",
       "        vertical-align: middle;\n",
       "    }\n",
       "\n",
       "    .dataframe tbody tr th {\n",
       "        vertical-align: top;\n",
       "    }\n",
       "\n",
       "    .dataframe thead th {\n",
       "        text-align: right;\n",
       "    }\n",
       "</style>\n",
       "<table border=\"1\" class=\"dataframe\">\n",
       "  <thead>\n",
       "    <tr style=\"text-align: right;\">\n",
       "      <th></th>\n",
       "      <th>age</th>\n",
       "      <th>sex</th>\n",
       "      <th>bmi</th>\n",
       "      <th>children</th>\n",
       "      <th>smoker</th>\n",
       "      <th>region</th>\n",
       "      <th>charges</th>\n",
       "      <th>sex_male</th>\n",
       "      <th>smoker_yes</th>\n",
       "      <th>region_northwest</th>\n",
       "      <th>region_southeast</th>\n",
       "      <th>region_southwest</th>\n",
       "    </tr>\n",
       "  </thead>\n",
       "  <tbody>\n",
       "    <tr>\n",
       "      <th>0</th>\n",
       "      <td>19</td>\n",
       "      <td>female</td>\n",
       "      <td>27.900</td>\n",
       "      <td>0</td>\n",
       "      <td>yes</td>\n",
       "      <td>southwest</td>\n",
       "      <td>16884.92400</td>\n",
       "      <td>0</td>\n",
       "      <td>1</td>\n",
       "      <td>0</td>\n",
       "      <td>0</td>\n",
       "      <td>1</td>\n",
       "    </tr>\n",
       "    <tr>\n",
       "      <th>1</th>\n",
       "      <td>18</td>\n",
       "      <td>male</td>\n",
       "      <td>33.770</td>\n",
       "      <td>1</td>\n",
       "      <td>no</td>\n",
       "      <td>southeast</td>\n",
       "      <td>1725.55230</td>\n",
       "      <td>1</td>\n",
       "      <td>0</td>\n",
       "      <td>0</td>\n",
       "      <td>1</td>\n",
       "      <td>0</td>\n",
       "    </tr>\n",
       "    <tr>\n",
       "      <th>2</th>\n",
       "      <td>28</td>\n",
       "      <td>male</td>\n",
       "      <td>33.000</td>\n",
       "      <td>3</td>\n",
       "      <td>no</td>\n",
       "      <td>southeast</td>\n",
       "      <td>4449.46200</td>\n",
       "      <td>1</td>\n",
       "      <td>0</td>\n",
       "      <td>0</td>\n",
       "      <td>1</td>\n",
       "      <td>0</td>\n",
       "    </tr>\n",
       "    <tr>\n",
       "      <th>3</th>\n",
       "      <td>33</td>\n",
       "      <td>male</td>\n",
       "      <td>22.705</td>\n",
       "      <td>0</td>\n",
       "      <td>no</td>\n",
       "      <td>northwest</td>\n",
       "      <td>21984.47061</td>\n",
       "      <td>1</td>\n",
       "      <td>0</td>\n",
       "      <td>1</td>\n",
       "      <td>0</td>\n",
       "      <td>0</td>\n",
       "    </tr>\n",
       "    <tr>\n",
       "      <th>4</th>\n",
       "      <td>32</td>\n",
       "      <td>male</td>\n",
       "      <td>28.880</td>\n",
       "      <td>0</td>\n",
       "      <td>no</td>\n",
       "      <td>northwest</td>\n",
       "      <td>3866.85520</td>\n",
       "      <td>1</td>\n",
       "      <td>0</td>\n",
       "      <td>1</td>\n",
       "      <td>0</td>\n",
       "      <td>0</td>\n",
       "    </tr>\n",
       "  </tbody>\n",
       "</table>\n",
       "</div>"
      ],
      "text/plain": [
       "   age     sex     bmi  children smoker     region      charges  sex_male  \\\n",
       "0   19  female  27.900         0    yes  southwest  16884.92400         0   \n",
       "1   18    male  33.770         1     no  southeast   1725.55230         1   \n",
       "2   28    male  33.000         3     no  southeast   4449.46200         1   \n",
       "3   33    male  22.705         0     no  northwest  21984.47061         1   \n",
       "4   32    male  28.880         0     no  northwest   3866.85520         1   \n",
       "\n",
       "   smoker_yes  region_northwest  region_southeast  region_southwest  \n",
       "0           1                 0                 0                 1  \n",
       "1           0                 0                 1                 0  \n",
       "2           0                 0                 1                 0  \n",
       "3           0                 1                 0                 0  \n",
       "4           0                 1                 0                 0  "
      ]
     },
     "execution_count": 68,
     "metadata": {},
     "output_type": "execute_result"
    }
   ],
   "source": [
    "#Lets check\n",
    "data.head()"
   ]
  },
  {
   "cell_type": "code",
   "execution_count": 69,
   "id": "23b82df2",
   "metadata": {},
   "outputs": [],
   "source": [
    "#Lets drop unwanted column (Like categorical column)\n",
    "data.drop(columns=categorical_column,axis=1,inplace=True)"
   ]
  },
  {
   "cell_type": "code",
   "execution_count": 70,
   "id": "25317936",
   "metadata": {},
   "outputs": [
    {
     "name": "stdout",
     "output_type": "stream",
     "text": [
      "(1337, 9)\n"
     ]
    },
    {
     "data": {
      "text/html": [
       "<div>\n",
       "<style scoped>\n",
       "    .dataframe tbody tr th:only-of-type {\n",
       "        vertical-align: middle;\n",
       "    }\n",
       "\n",
       "    .dataframe tbody tr th {\n",
       "        vertical-align: top;\n",
       "    }\n",
       "\n",
       "    .dataframe thead th {\n",
       "        text-align: right;\n",
       "    }\n",
       "</style>\n",
       "<table border=\"1\" class=\"dataframe\">\n",
       "  <thead>\n",
       "    <tr style=\"text-align: right;\">\n",
       "      <th></th>\n",
       "      <th>age</th>\n",
       "      <th>bmi</th>\n",
       "      <th>children</th>\n",
       "      <th>charges</th>\n",
       "      <th>sex_male</th>\n",
       "      <th>smoker_yes</th>\n",
       "      <th>region_northwest</th>\n",
       "      <th>region_southeast</th>\n",
       "      <th>region_southwest</th>\n",
       "    </tr>\n",
       "  </thead>\n",
       "  <tbody>\n",
       "    <tr>\n",
       "      <th>0</th>\n",
       "      <td>19</td>\n",
       "      <td>27.900</td>\n",
       "      <td>0</td>\n",
       "      <td>16884.92400</td>\n",
       "      <td>0</td>\n",
       "      <td>1</td>\n",
       "      <td>0</td>\n",
       "      <td>0</td>\n",
       "      <td>1</td>\n",
       "    </tr>\n",
       "    <tr>\n",
       "      <th>1</th>\n",
       "      <td>18</td>\n",
       "      <td>33.770</td>\n",
       "      <td>1</td>\n",
       "      <td>1725.55230</td>\n",
       "      <td>1</td>\n",
       "      <td>0</td>\n",
       "      <td>0</td>\n",
       "      <td>1</td>\n",
       "      <td>0</td>\n",
       "    </tr>\n",
       "    <tr>\n",
       "      <th>2</th>\n",
       "      <td>28</td>\n",
       "      <td>33.000</td>\n",
       "      <td>3</td>\n",
       "      <td>4449.46200</td>\n",
       "      <td>1</td>\n",
       "      <td>0</td>\n",
       "      <td>0</td>\n",
       "      <td>1</td>\n",
       "      <td>0</td>\n",
       "    </tr>\n",
       "    <tr>\n",
       "      <th>3</th>\n",
       "      <td>33</td>\n",
       "      <td>22.705</td>\n",
       "      <td>0</td>\n",
       "      <td>21984.47061</td>\n",
       "      <td>1</td>\n",
       "      <td>0</td>\n",
       "      <td>1</td>\n",
       "      <td>0</td>\n",
       "      <td>0</td>\n",
       "    </tr>\n",
       "    <tr>\n",
       "      <th>4</th>\n",
       "      <td>32</td>\n",
       "      <td>28.880</td>\n",
       "      <td>0</td>\n",
       "      <td>3866.85520</td>\n",
       "      <td>1</td>\n",
       "      <td>0</td>\n",
       "      <td>1</td>\n",
       "      <td>0</td>\n",
       "      <td>0</td>\n",
       "    </tr>\n",
       "  </tbody>\n",
       "</table>\n",
       "</div>"
      ],
      "text/plain": [
       "   age     bmi  children      charges  sex_male  smoker_yes  region_northwest  \\\n",
       "0   19  27.900         0  16884.92400         0           1                 0   \n",
       "1   18  33.770         1   1725.55230         1           0                 0   \n",
       "2   28  33.000         3   4449.46200         1           0                 0   \n",
       "3   33  22.705         0  21984.47061         1           0                 1   \n",
       "4   32  28.880         0   3866.85520         1           0                 1   \n",
       "\n",
       "   region_southeast  region_southwest  \n",
       "0                 0                 1  \n",
       "1                 1                 0  \n",
       "2                 1                 0  \n",
       "3                 0                 0  \n",
       "4                 0                 0  "
      ]
     },
     "execution_count": 70,
     "metadata": {},
     "output_type": "execute_result"
    }
   ],
   "source": [
    "#Lets check columns are deleted or not\n",
    "print(data.shape)\n",
    "data.head()"
   ]
  },
  {
   "cell_type": "markdown",
   "id": "ce78fd2f",
   "metadata": {},
   "source": [
    "Now we completed Encoding Part and Visualization part \n",
    "\n"
   ]
  },
  {
   "cell_type": "markdown",
   "id": "ada63a7d",
   "metadata": {},
   "source": [
    "# Lets Handle the Outlies By using Zscore\n",
    "\n",
    "We see above, only BMI column contains outliers .lets check again\n"
   ]
  },
  {
   "cell_type": "code",
   "execution_count": 77,
   "id": "5437f346",
   "metadata": {},
   "outputs": [
    {
     "data": {
      "image/png": "[encoded data removed]",
      "text/plain": [
       "<Figure size 432x288 with 1 Axes>"
      ]
     },
     "metadata": {
      "needs_background": "light"
     },
     "output_type": "display_data"
    }
   ],
   "source": [
    "#Lets plot agian BMI\n",
    "data['bmi'].plot.box()\n",
    "plt.show()"
   ]
  },
  {
   "cell_type": "markdown",
   "id": "8a714686",
   "metadata": {},
   "source": [
    "We can . Clearly see that there is outliers we have to treat that. using zscore"
   ]
  },
  {
   "cell_type": "code",
   "execution_count": 79,
   "id": "9e284121",
   "metadata": {},
   "outputs": [
    {
     "data": {
      "text/plain": [
       "(1337, 9)"
      ]
     },
     "execution_count": 79,
     "metadata": {},
     "output_type": "execute_result"
    }
   ],
   "source": [
    "data.shape"
   ]
  },
  {
   "cell_type": "code",
   "execution_count": 81,
   "id": "bfd0fd52",
   "metadata": {},
   "outputs": [
    {
     "data": {
      "text/html": [
       "<div>\n",
       "<style scoped>\n",
       "    .dataframe tbody tr th:only-of-type {\n",
       "        vertical-align: middle;\n",
       "    }\n",
       "\n",
       "    .dataframe tbody tr th {\n",
       "        vertical-align: top;\n",
       "    }\n",
       "\n",
       "    .dataframe thead th {\n",
       "        text-align: right;\n",
       "    }\n",
       "</style>\n",
       "<table border=\"1\" class=\"dataframe\">\n",
       "  <thead>\n",
       "    <tr style=\"text-align: right;\">\n",
       "      <th></th>\n",
       "      <th>age</th>\n",
       "      <th>bmi</th>\n",
       "      <th>children</th>\n",
       "      <th>charges</th>\n",
       "      <th>sex_male</th>\n",
       "      <th>smoker_yes</th>\n",
       "      <th>region_northwest</th>\n",
       "      <th>region_southeast</th>\n",
       "      <th>region_southwest</th>\n",
       "    </tr>\n",
       "  </thead>\n",
       "  <tbody>\n",
       "    <tr>\n",
       "      <th>count</th>\n",
       "      <td>1333.000000</td>\n",
       "      <td>1333.000000</td>\n",
       "      <td>1333.000000</td>\n",
       "      <td>1333.000000</td>\n",
       "      <td>1333.000000</td>\n",
       "      <td>1333.000000</td>\n",
       "      <td>1333.000000</td>\n",
       "      <td>1333.000000</td>\n",
       "      <td>1333.000000</td>\n",
       "    </tr>\n",
       "    <tr>\n",
       "      <th>mean</th>\n",
       "      <td>39.249062</td>\n",
       "      <td>30.601564</td>\n",
       "      <td>1.097524</td>\n",
       "      <td>13274.344476</td>\n",
       "      <td>0.503376</td>\n",
       "      <td>0.204801</td>\n",
       "      <td>0.243061</td>\n",
       "      <td>0.270068</td>\n",
       "      <td>0.243811</td>\n",
       "    </tr>\n",
       "    <tr>\n",
       "      <th>std</th>\n",
       "      <td>14.028963</td>\n",
       "      <td>6.003179</td>\n",
       "      <td>1.206626</td>\n",
       "      <td>12090.004775</td>\n",
       "      <td>0.500176</td>\n",
       "      <td>0.403708</td>\n",
       "      <td>0.429092</td>\n",
       "      <td>0.444161</td>\n",
       "      <td>0.429541</td>\n",
       "    </tr>\n",
       "    <tr>\n",
       "      <th>min</th>\n",
       "      <td>18.000000</td>\n",
       "      <td>15.960000</td>\n",
       "      <td>0.000000</td>\n",
       "      <td>1121.873900</td>\n",
       "      <td>0.000000</td>\n",
       "      <td>0.000000</td>\n",
       "      <td>0.000000</td>\n",
       "      <td>0.000000</td>\n",
       "      <td>0.000000</td>\n",
       "    </tr>\n",
       "    <tr>\n",
       "      <th>25%</th>\n",
       "      <td>27.000000</td>\n",
       "      <td>26.220000</td>\n",
       "      <td>0.000000</td>\n",
       "      <td>4747.052900</td>\n",
       "      <td>0.000000</td>\n",
       "      <td>0.000000</td>\n",
       "      <td>0.000000</td>\n",
       "      <td>0.000000</td>\n",
       "      <td>0.000000</td>\n",
       "    </tr>\n",
       "    <tr>\n",
       "      <th>50%</th>\n",
       "      <td>39.000000</td>\n",
       "      <td>30.305000</td>\n",
       "      <td>1.000000</td>\n",
       "      <td>9386.161300</td>\n",
       "      <td>1.000000</td>\n",
       "      <td>0.000000</td>\n",
       "      <td>0.000000</td>\n",
       "      <td>0.000000</td>\n",
       "      <td>0.000000</td>\n",
       "    </tr>\n",
       "    <tr>\n",
       "      <th>75%</th>\n",
       "      <td>51.000000</td>\n",
       "      <td>34.600000</td>\n",
       "      <td>2.000000</td>\n",
       "      <td>16657.717450</td>\n",
       "      <td>1.000000</td>\n",
       "      <td>0.000000</td>\n",
       "      <td>0.000000</td>\n",
       "      <td>1.000000</td>\n",
       "      <td>0.000000</td>\n",
       "    </tr>\n",
       "    <tr>\n",
       "      <th>max</th>\n",
       "      <td>64.000000</td>\n",
       "      <td>48.070000</td>\n",
       "      <td>5.000000</td>\n",
       "      <td>63770.428010</td>\n",
       "      <td>1.000000</td>\n",
       "      <td>1.000000</td>\n",
       "      <td>1.000000</td>\n",
       "      <td>1.000000</td>\n",
       "      <td>1.000000</td>\n",
       "    </tr>\n",
       "  </tbody>\n",
       "</table>\n",
       "</div>"
      ],
      "text/plain": [
       "               age          bmi     children       charges     sex_male  \\\n",
       "count  1333.000000  1333.000000  1333.000000   1333.000000  1333.000000   \n",
       "mean     39.249062    30.601564     1.097524  13274.344476     0.503376   \n",
       "std      14.028963     6.003179     1.206626  12090.004775     0.500176   \n",
       "min      18.000000    15.960000     0.000000   1121.873900     0.000000   \n",
       "25%      27.000000    26.220000     0.000000   4747.052900     0.000000   \n",
       "50%      39.000000    30.305000     1.000000   9386.161300     1.000000   \n",
       "75%      51.000000    34.600000     2.000000  16657.717450     1.000000   \n",
       "max      64.000000    48.070000     5.000000  63770.428010     1.000000   \n",
       "\n",
       "        smoker_yes  region_northwest  region_southeast  region_southwest  \n",
       "count  1333.000000       1333.000000       1333.000000       1333.000000  \n",
       "mean      0.204801          0.243061          0.270068          0.243811  \n",
       "std       0.403708          0.429092          0.444161          0.429541  \n",
       "min       0.000000          0.000000          0.000000          0.000000  \n",
       "25%       0.000000          0.000000          0.000000          0.000000  \n",
       "50%       0.000000          0.000000          0.000000          0.000000  \n",
       "75%       0.000000          0.000000          1.000000          0.000000  \n",
       "max       1.000000          1.000000          1.000000          1.000000  "
      ]
     },
     "execution_count": 81,
     "metadata": {},
     "output_type": "execute_result"
    }
   ],
   "source": [
    "#Lets import zscore\n",
    "import numpy as np\n",
    "from scipy.stats import zscore\n",
    "z_score=zscore(data[['bmi']])\n",
    "abs_score=np.abs(z_score)\n",
    "filtering_entry=(abs_score<3).all(axis=1)\n",
    "data=data[filtering_entry]\n",
    "data.describe()"
   ]
  },
  {
   "cell_type": "code",
   "execution_count": 82,
   "id": "02854ec8",
   "metadata": {},
   "outputs": [
    {
     "data": {
      "text/plain": [
       "(1333, 9)"
      ]
     },
     "execution_count": 82,
     "metadata": {},
     "output_type": "execute_result"
    }
   ],
   "source": [
    "data.shape"
   ]
  },
  {
   "cell_type": "markdown",
   "id": "83f973fd",
   "metadata": {},
   "source": [
    "# Check How Much Data Loss"
   ]
  },
  {
   "cell_type": "code",
   "execution_count": 83,
   "id": "4c33cc0b",
   "metadata": {},
   "outputs": [
    {
     "data": {
      "text/plain": [
       "0.2991772625280479"
      ]
     },
     "execution_count": 83,
     "metadata": {},
     "output_type": "execute_result"
    }
   ],
   "source": [
    "data_loss=((1337-1333)/1337)*100\n",
    "data_loss"
   ]
  },
  {
   "cell_type": "code",
   "execution_count": 84,
   "id": "476ca0b5",
   "metadata": {},
   "outputs": [
    {
     "data": {
      "image/png": "[encoded data removed]",
      "text/plain": [
       "<Figure size 432x288 with 1 Axes>"
      ]
     },
     "metadata": {
      "needs_background": "light"
     },
     "output_type": "display_data"
    }
   ],
   "source": [
    "#Lets plot agian BMI\n",
    "data['bmi'].plot.box()\n",
    "plt.show()"
   ]
  },
  {
   "cell_type": "markdown",
   "id": "22b6f28d",
   "metadata": {},
   "source": [
    "So here we can see that we deleted 4 records from our bmi "
   ]
  },
  {
   "cell_type": "markdown",
   "id": "33ef1abb",
   "metadata": {},
   "source": [
    "# Dividing data in feature and vectors"
   ]
  },
  {
   "cell_type": "code",
   "execution_count": 86,
   "id": "2041e5af",
   "metadata": {},
   "outputs": [],
   "source": [
    "x=data.drop(columns='charges')#Feature\n",
    "y=data.charges#Target"
   ]
  },
  {
   "cell_type": "markdown",
   "id": "cf97156d",
   "metadata": {},
   "source": [
    "# Lets Standardize the feature data\n"
   ]
  },
  {
   "cell_type": "code",
   "execution_count": 94,
   "id": "547c6e2c",
   "metadata": {},
   "outputs": [
    {
     "data": {
      "text/plain": [
       "array([[-1.44391729, -0.45019112, -0.9099223 , ..., -0.5666657 ,\n",
       "        -0.6082678 ,  1.76111853],\n",
       "       [-1.51522515,  0.52799105, -0.08085434, ..., -0.5666657 ,\n",
       "         1.64401271, -0.56782095],\n",
       "       [-0.80214655,  0.39967754,  1.57728158, ..., -0.5666657 ,\n",
       "         1.64401271, -0.56782095],\n",
       "       ...,\n",
       "       [-1.51522515,  1.04124506, -0.9099223 , ..., -0.5666657 ,\n",
       "         1.64401271, -0.56782095],\n",
       "       [-1.30130157, -0.80013704, -0.9099223 , ..., -0.5666657 ,\n",
       "        -0.6082678 ,  1.76111853],\n",
       "       [ 1.55101281, -0.25522125, -0.9099223 , ...,  1.76470891,\n",
       "        -0.6082678 , -0.56782095]])"
      ]
     },
     "execution_count": 94,
     "metadata": {},
     "output_type": "execute_result"
    }
   ],
   "source": [
    "#Lets import standardscaler\n",
    "from sklearn.preprocessing import StandardScaler\n",
    "scaler=StandardScaler()\n",
    "x_scaled=scaler.fit_transform(x)\n",
    "x_scaled"
   ]
  },
  {
   "cell_type": "markdown",
   "id": "aaf60125",
   "metadata": {},
   "source": [
    "# Now use VIF for checking multicollinearity problem\n",
    "\n",
    "VIF - > Variance Inflation Factor"
   ]
  },
  {
   "cell_type": "code",
   "execution_count": 97,
   "id": "0f6dda74",
   "metadata": {},
   "outputs": [],
   "source": [
    "#Lets import VIF\n",
    "from statsmodels.stats.outliers_influence import variance_inflation_factor\n",
    "\n",
    "vif=pd.DataFrame()\n",
    "vif['vif']=[variance_inflation_factor(x_scaled,i)for i in range(x_scaled.shape[1])]\n",
    "vif['feature']=x.columns"
   ]
  },
  {
   "cell_type": "code",
   "execution_count": 99,
   "id": "ca04303b",
   "metadata": {},
   "outputs": [
    {
     "data": {
      "text/html": [
       "<div>\n",
       "<style scoped>\n",
       "    .dataframe tbody tr th:only-of-type {\n",
       "        vertical-align: middle;\n",
       "    }\n",
       "\n",
       "    .dataframe tbody tr th {\n",
       "        vertical-align: top;\n",
       "    }\n",
       "\n",
       "    .dataframe thead th {\n",
       "        text-align: right;\n",
       "    }\n",
       "</style>\n",
       "<table border=\"1\" class=\"dataframe\">\n",
       "  <thead>\n",
       "    <tr style=\"text-align: right;\">\n",
       "      <th></th>\n",
       "      <th>vif</th>\n",
       "      <th>feature</th>\n",
       "    </tr>\n",
       "  </thead>\n",
       "  <tbody>\n",
       "    <tr>\n",
       "      <th>0</th>\n",
       "      <td>1.018685</td>\n",
       "      <td>age</td>\n",
       "    </tr>\n",
       "    <tr>\n",
       "      <th>1</th>\n",
       "      <td>1.101832</td>\n",
       "      <td>bmi</td>\n",
       "    </tr>\n",
       "    <tr>\n",
       "      <th>2</th>\n",
       "      <td>1.004079</td>\n",
       "      <td>children</td>\n",
       "    </tr>\n",
       "    <tr>\n",
       "      <th>3</th>\n",
       "      <td>1.008101</td>\n",
       "      <td>sex_male</td>\n",
       "    </tr>\n",
       "    <tr>\n",
       "      <th>4</th>\n",
       "      <td>1.012060</td>\n",
       "      <td>smoker_yes</td>\n",
       "    </tr>\n",
       "    <tr>\n",
       "      <th>5</th>\n",
       "      <td>1.516219</td>\n",
       "      <td>region_northwest</td>\n",
       "    </tr>\n",
       "    <tr>\n",
       "      <th>6</th>\n",
       "      <td>1.639773</td>\n",
       "      <td>region_southeast</td>\n",
       "    </tr>\n",
       "    <tr>\n",
       "      <th>7</th>\n",
       "      <td>1.527871</td>\n",
       "      <td>region_southwest</td>\n",
       "    </tr>\n",
       "  </tbody>\n",
       "</table>\n",
       "</div>"
      ],
      "text/plain": [
       "        vif           feature\n",
       "0  1.018685               age\n",
       "1  1.101832               bmi\n",
       "2  1.004079          children\n",
       "3  1.008101          sex_male\n",
       "4  1.012060        smoker_yes\n",
       "5  1.516219  region_northwest\n",
       "6  1.639773  region_southeast\n",
       "7  1.527871  region_southwest"
      ]
     },
     "execution_count": 99,
     "metadata": {},
     "output_type": "execute_result"
    }
   ],
   "source": [
    "#Lets check how lookinf VIF score\n",
    "vif"
   ]
  },
  {
   "cell_type": "markdown",
   "id": "28e0835f",
   "metadata": {},
   "source": [
    "In VIF we consider threshold 5 VIF Score . if any feature is greater then 5 VIF Score it means it contains multicollinearity problmem/\n",
    "\n",
    "\n",
    "So in our dataset  no feature have more then 5 vif score . so it means out dataset is not contain any multicollinearity problem."
   ]
  },
  {
   "cell_type": "code",
   "execution_count": 232,
   "id": "b7408134",
   "metadata": {},
   "outputs": [],
   "source": [
    "#lets do train test split\n",
    "#Import train test split\n",
    "from sklearn.model_selection import train_test_split\n",
    "#Import Linear Regression\n",
    "from sklearn.linear_model import LinearRegression\n",
    "lr=LinearRegression()\n",
    "#Import R2_score\n",
    "from sklearn.metrics import r2_score"
   ]
  },
  {
   "cell_type": "code",
   "execution_count": 111,
   "id": "d21c68c5",
   "metadata": {},
   "outputs": [
    {
     "name": "stdout",
     "output_type": "stream",
     "text": [
      "At random state  48 The model performs very well \n",
      "At random state  48 The model performs very well \n",
      "Training Accuracy Score is :-  75.00325664822107\n",
      "Testing Accuracy Score is :-  74.9518924650371 /n\n",
      "At random state  71 The model performs very well \n",
      "At random state  71 The model performs very well \n",
      "Training Accuracy Score is :-  75.01233655663889\n",
      "Testing Accuracy Score is :-  75.03640330161798 /n\n",
      "At random state  173 The model performs very well \n",
      "At random state  173 The model performs very well \n",
      "Training Accuracy Score is :-  74.97549261903781\n",
      "Testing Accuracy Score is :-  75.00020036783052 /n\n",
      "At random state  497 The model performs very well \n",
      "At random state  497 The model performs very well \n",
      "Training Accuracy Score is :-  74.97889363101926\n",
      "Testing Accuracy Score is :-  74.9856080154621 /n\n",
      "At random state  532 The model performs very well \n",
      "At random state  532 The model performs very well \n",
      "Training Accuracy Score is :-  74.98197335101746\n",
      "Testing Accuracy Score is :-  75.00115311378536 /n\n",
      "At random state  613 The model performs very well \n",
      "At random state  613 The model performs very well \n",
      "Training Accuracy Score is :-  75.03006689372782\n",
      "Testing Accuracy Score is :-  75.01896139955959 /n\n",
      "At random state  688 The model performs very well \n",
      "At random state  688 The model performs very well \n",
      "Training Accuracy Score is :-  74.95928424671605\n",
      "Testing Accuracy Score is :-  75.03745662189338 /n\n",
      "At random state  797 The model performs very well \n",
      "At random state  797 The model performs very well \n",
      "Training Accuracy Score is :-  74.98592152798436\n",
      "Testing Accuracy Score is :-  75.03090167656975 /n\n",
      "At random state  860 The model performs very well \n",
      "At random state  860 The model performs very well \n",
      "Training Accuracy Score is :-  75.00877642406543\n",
      "Testing Accuracy Score is :-  74.96171647836205 /n\n"
     ]
    }
   ],
   "source": [
    "for i in range(0,1000):\n",
    "    x_train,x_test,y_train,y_test=train_test_split(x_scaled,y,random_state=i,test_size=0.20)\n",
    "    \n",
    "    lr.fit(x_train,y_train)\n",
    "    \n",
    "    pred_train=lr.predict(x_train)\n",
    "    pred_test=lr.predict(x_test)\n",
    "    if round(r2_score(y_train,pred_train)*100,1)== round(r2_score(y_test,pred_test)*100,1):\n",
    "        print(\"At random state \",i,\"The model performs very well \")\n",
    "        print(\"At random state \",i,\"The model performs very well \")\n",
    "        print(\"Training Accuracy Score is :- \",r2_score(y_train,pred_train)*100)\n",
    "        print(\"Testing Accuracy Score is :- \",r2_score(y_test,pred_test)*100,\"/n\")"
   ]
  },
  {
   "cell_type": "markdown",
   "id": "1adf3dfd",
   "metadata": {},
   "source": [
    "Here i am not getting any Satisfied result so i plan for checking in diffrent ways"
   ]
  },
  {
   "cell_type": "code",
   "execution_count": 114,
   "id": "b4b31116",
   "metadata": {},
   "outputs": [
    {
     "name": "stdout",
     "output_type": "stream",
     "text": [
      " At random state 0 , the Training accuracy is :- 0.753356627807823\n",
      " At random state 0 , the testing accuracy is :- 0.738569185968742\n",
      "\n",
      "\n",
      " At random state 1 , the Training accuracy is :- 0.7505918303770204\n",
      " At random state 1 , the testing accuracy is :- 0.7479440447293855\n",
      "\n",
      "\n",
      " At random state 2 , the Training accuracy is :- 0.7412220703508512\n",
      " At random state 2 , the testing accuracy is :- 0.7858237345882718\n",
      "\n",
      "\n",
      " At random state 3 , the Training accuracy is :- 0.75378481050513\n",
      " At random state 3 , the testing accuracy is :- 0.7365653134708205\n",
      "\n",
      "\n",
      " At random state 4 , the Training accuracy is :- 0.744904917213556\n",
      " At random state 4 , the testing accuracy is :- 0.76824108217428\n",
      "\n",
      "\n",
      " At random state 5 , the Training accuracy is :- 0.7552073095015868\n",
      " At random state 5 , the testing accuracy is :- 0.7291612062841368\n",
      "\n",
      "\n",
      " At random state 6 , the Training accuracy is :- 0.7542838910983224\n",
      " At random state 6 , the testing accuracy is :- 0.7326212964215881\n",
      "\n",
      "\n",
      " At random state 7 , the Training accuracy is :- 0.7518316618858204\n",
      " At random state 7 , the testing accuracy is :- 0.7424389353248824\n",
      "\n",
      "\n",
      " At random state 8 , the Training accuracy is :- 0.752178232543425\n",
      " At random state 8 , the testing accuracy is :- 0.7400932116633728\n",
      "\n",
      "\n",
      " At random state 9 , the Training accuracy is :- 0.7555210708904091\n",
      " At random state 9 , the testing accuracy is :- 0.7307987001648748\n",
      "\n",
      "\n",
      " At random state 10 , the Training accuracy is :- 0.7550613185631846\n",
      " At random state 10 , the testing accuracy is :- 0.7263659760941459\n",
      "\n",
      "\n",
      " At random state 11 , the Training accuracy is :- 0.7510406618958577\n",
      " At random state 11 , the testing accuracy is :- 0.7452153607027847\n",
      "\n",
      "\n",
      " At random state 12 , the Training accuracy is :- 0.7376392767040566\n",
      " At random state 12 , the testing accuracy is :- 0.8044165987447724\n",
      "\n",
      "\n",
      " At random state 13 , the Training accuracy is :- 0.750601141816085\n",
      " At random state 13 , the testing accuracy is :- 0.7481395266410038\n",
      "\n",
      "\n",
      " At random state 14 , the Training accuracy is :- 0.7492192776826558\n",
      " At random state 14 , the testing accuracy is :- 0.7539469572122831\n",
      "\n",
      "\n",
      " At random state 15 , the Training accuracy is :- 0.75145890040894\n",
      " At random state 15 , the testing accuracy is :- 0.7439317347998788\n",
      "\n",
      "\n",
      " At random state 16 , the Training accuracy is :- 0.7613221164100155\n",
      " At random state 16 , the testing accuracy is :- 0.6951513615465592\n",
      "\n",
      "\n",
      " At random state 17 , the Training accuracy is :- 0.7587934515366154\n",
      " At random state 17 , the testing accuracy is :- 0.7102274647248036\n",
      "\n",
      "\n",
      " At random state 18 , the Training accuracy is :- 0.7425991731175051\n",
      " At random state 18 , the testing accuracy is :- 0.7818541120645466\n",
      "\n",
      "\n",
      " At random state 19 , the Training accuracy is :- 0.747798890362231\n",
      " At random state 19 , the testing accuracy is :- 0.7611201697216006\n",
      "\n",
      "\n",
      " At random state 20 , the Training accuracy is :- 0.7473456140470617\n",
      " At random state 20 , the testing accuracy is :- 0.7550996506989838\n",
      "\n",
      "\n",
      " At random state 21 , the Training accuracy is :- 0.7532675260057495\n",
      " At random state 21 , the testing accuracy is :- 0.7364374962668463\n",
      "\n",
      "\n",
      " At random state 22 , the Training accuracy is :- 0.744150875153354\n",
      " At random state 22 , the testing accuracy is :- 0.7714684921386493\n",
      "\n",
      "\n",
      " At random state 23 , the Training accuracy is :- 0.7541194408776967\n",
      " At random state 23 , the testing accuracy is :- 0.7314862133056441\n",
      "\n",
      "\n",
      " At random state 24 , the Training accuracy is :- 0.7390902453320379\n",
      " At random state 24 , the testing accuracy is :- 0.7890610086950974\n",
      "\n",
      "\n",
      " At random state 25 , the Training accuracy is :- 0.739896708513183\n",
      " At random state 25 , the testing accuracy is :- 0.786524138307631\n",
      "\n",
      "\n",
      " At random state 26 , the Training accuracy is :- 0.7524908652265875\n",
      " At random state 26 , the testing accuracy is :- 0.7408496583533745\n",
      "\n",
      "\n",
      " At random state 27 , the Training accuracy is :- 0.7451093042907169\n",
      " At random state 27 , the testing accuracy is :- 0.7692980463335594\n",
      "\n",
      "\n",
      " At random state 28 , the Training accuracy is :- 0.7553344370199266\n",
      " At random state 28 , the testing accuracy is :- 0.7296031179432594\n",
      "\n",
      "\n",
      " At random state 29 , the Training accuracy is :- 0.748384286878592\n",
      " At random state 29 , the testing accuracy is :- 0.7555895730295132\n",
      "\n",
      "\n",
      " At random state 30 , the Training accuracy is :- 0.7538622356262709\n",
      " At random state 30 , the testing accuracy is :- 0.7367688557407692\n",
      "\n",
      "\n",
      " At random state 31 , the Training accuracy is :- 0.75091885236153\n",
      " At random state 31 , the testing accuracy is :- 0.7460569848030861\n",
      "\n",
      "\n",
      " At random state 32 , the Training accuracy is :- 0.7476115601222272\n",
      " At random state 32 , the testing accuracy is :- 0.7571513445569775\n",
      "\n",
      "\n",
      " At random state 33 , the Training accuracy is :- 0.7456533933820255\n",
      " At random state 33 , the testing accuracy is :- 0.767584580179657\n",
      "\n",
      "\n",
      " At random state 34 , the Training accuracy is :- 0.7543590340163971\n",
      " At random state 34 , the testing accuracy is :- 0.7340474391420563\n",
      "\n",
      "\n",
      " At random state 35 , the Training accuracy is :- 0.7432351381598273\n",
      " At random state 35 , the testing accuracy is :- 0.7690399625702262\n",
      "\n",
      "\n",
      " At random state 36 , the Training accuracy is :- 0.7548486854137479\n",
      " At random state 36 , the testing accuracy is :- 0.7310851059819696\n",
      "\n",
      "\n",
      " At random state 37 , the Training accuracy is :- 0.7483221091361842\n",
      " At random state 37 , the testing accuracy is :- 0.7580304295943571\n",
      "\n",
      "\n",
      " At random state 38 , the Training accuracy is :- 0.7539742507312318\n",
      " At random state 38 , the testing accuracy is :- 0.7326861644640147\n",
      "\n",
      "\n",
      " At random state 39 , the Training accuracy is :- 0.7543256252303134\n",
      " At random state 39 , the testing accuracy is :- 0.7227913130572203\n",
      "\n",
      "\n",
      " At random state 40 , the Training accuracy is :- 0.747343265191087\n",
      " At random state 40 , the testing accuracy is :- 0.7612502397087413\n",
      "\n",
      "\n",
      " At random state 41 , the Training accuracy is :- 0.7446389284779784\n",
      " At random state 41 , the testing accuracy is :- 0.770840207160826\n",
      "\n",
      "\n",
      " At random state 42 , the Training accuracy is :- 0.7461086171871474\n",
      " At random state 42 , the testing accuracy is :- 0.7633191656969781\n",
      "\n",
      "\n",
      " At random state 43 , the Training accuracy is :- 0.7556659442563659\n",
      " At random state 43 , the testing accuracy is :- 0.7307919935552445\n",
      "\n",
      "\n",
      " At random state 44 , the Training accuracy is :- 0.7677204092875807\n",
      " At random state 44 , the testing accuracy is :- 0.6799984376246236\n",
      "\n",
      "\n",
      " At random state 45 , the Training accuracy is :- 0.7557102920708143\n",
      " At random state 45 , the testing accuracy is :- 0.7290006836816141\n",
      "\n",
      "\n",
      " At random state 46 , the Training accuracy is :- 0.749068897369009\n",
      " At random state 46 , the testing accuracy is :- 0.7523753674878061\n",
      "\n",
      "\n",
      " At random state 47 , the Training accuracy is :- 0.7538372549204488\n",
      " At random state 47 , the testing accuracy is :- 0.7363522365220379\n",
      "\n",
      "\n",
      " At random state 48 , the Training accuracy is :- 0.7500325664822107\n",
      " At random state 48 , the testing accuracy is :- 0.7495189246503711\n",
      "\n",
      "\n",
      " At random state 49 , the Training accuracy is :- 0.7525336266302329\n",
      " At random state 49 , the testing accuracy is :- 0.7413553602925806\n",
      "\n",
      "\n",
      " At random state 50 , the Training accuracy is :- 0.7563094162780567\n",
      " At random state 50 , the testing accuracy is :- 0.7265881665897806\n",
      "\n",
      "\n",
      " At random state 51 , the Training accuracy is :- 0.7521349646130923\n",
      " At random state 51 , the testing accuracy is :- 0.7395353048319028\n",
      "\n",
      "\n",
      " At random state 52 , the Training accuracy is :- 0.7447382521474668\n",
      " At random state 52 , the testing accuracy is :- 0.7743148890724616\n",
      "\n",
      "\n",
      " At random state 53 , the Training accuracy is :- 0.7392181178051286\n",
      " At random state 53 , the testing accuracy is :- 0.7941303845610067\n",
      "\n",
      "\n",
      " At random state 54 , the Training accuracy is :- 0.7630550038979429\n",
      " At random state 54 , the testing accuracy is :- 0.6837901396083361\n",
      "\n",
      "\n",
      " At random state 55 , the Training accuracy is :- 0.7546513531191312\n",
      " At random state 55 , the testing accuracy is :- 0.7311194480049976\n",
      "\n",
      "\n",
      " At random state 56 , the Training accuracy is :- 0.7535744533191349\n",
      " At random state 56 , the testing accuracy is :- 0.7352349764190572\n",
      "\n",
      "\n",
      " At random state 57 , the Training accuracy is :- 0.7555919680160025\n",
      " At random state 57 , the testing accuracy is :- 0.7229639464516843\n",
      "\n",
      "\n",
      " At random state 58 , the Training accuracy is :- 0.7427891251516463\n",
      " At random state 58 , the testing accuracy is :- 0.7729767061631313\n",
      "\n",
      "\n",
      " At random state 59 , the Training accuracy is :- 0.7590075795398503\n",
      " At random state 59 , the testing accuracy is :- 0.7173463014660363\n",
      "\n",
      "\n",
      " At random state 60 , the Training accuracy is :- 0.7638214566531826\n",
      " At random state 60 , the testing accuracy is :- 0.6895698990015491\n",
      "\n",
      "\n",
      " At random state 61 , the Training accuracy is :- 0.7567017243040511\n",
      " At random state 61 , the testing accuracy is :- 0.7182730264270667\n",
      "\n",
      "\n",
      " At random state 62 , the Training accuracy is :- 0.7584783082622504\n",
      " At random state 62 , the testing accuracy is :- 0.7161212752171479\n",
      "\n",
      "\n",
      " At random state 63 , the Training accuracy is :- 0.750250576686688\n",
      " At random state 63 , the testing accuracy is :- 0.748849222625382\n",
      "\n",
      "\n",
      " At random state 64 , the Training accuracy is :- 0.7576558447546824\n",
      " At random state 64 , the testing accuracy is :- 0.7213240064587614\n",
      "\n",
      "\n",
      " At random state 65 , the Training accuracy is :- 0.7453994539577891\n",
      " At random state 65 , the testing accuracy is :- 0.7697912321028901\n",
      "\n",
      "\n",
      " At random state 66 , the Training accuracy is :- 0.7601342057984293\n",
      " At random state 66 , the testing accuracy is :- 0.7167767223152786\n",
      "\n",
      "\n",
      " At random state 67 , the Training accuracy is :- 0.7424637325785767\n",
      " At random state 67 , the testing accuracy is :- 0.7703260075346149\n",
      "\n",
      "\n",
      " At random state 68 , the Training accuracy is :- 0.7421862726194499\n",
      " At random state 68 , the testing accuracy is :- 0.7856512131283224\n",
      "\n",
      "\n",
      " At random state 69 , the Training accuracy is :- 0.7450691431923409\n",
      " At random state 69 , the testing accuracy is :- 0.76701560531551\n",
      "\n",
      "\n",
      " At random state 70 , the Training accuracy is :- 0.7469400659413727\n",
      " At random state 70 , the testing accuracy is :- 0.7617692208400354\n",
      "\n",
      "\n",
      " At random state 71 , the Training accuracy is :- 0.7501233655663889\n",
      " At random state 71 , the testing accuracy is :- 0.7503640330161798\n",
      "\n",
      "\n",
      " At random state 72 , the Training accuracy is :- 0.757622188312734\n",
      " At random state 72 , the testing accuracy is :- 0.7184067095381095\n",
      "\n",
      "\n",
      " At random state 73 , the Training accuracy is :- 0.767353351389552\n",
      " At random state 73 , the testing accuracy is :- 0.6787338565286483\n",
      "\n",
      "\n",
      " At random state 74 , the Training accuracy is :- 0.744377696620247\n",
      " At random state 74 , the testing accuracy is :- 0.7721582111773944\n",
      "\n",
      "\n",
      " At random state 75 , the Training accuracy is :- 0.7438057518830352\n",
      " At random state 75 , the testing accuracy is :- 0.7750515289374283\n",
      "\n",
      "\n",
      " At random state 76 , the Training accuracy is :- 0.7548501657715938\n",
      " At random state 76 , the testing accuracy is :- 0.7252675626617151\n",
      "\n",
      "\n",
      " At random state 77 , the Training accuracy is :- 0.7558234593445728\n",
      " At random state 77 , the testing accuracy is :- 0.7234127876719807\n",
      "\n",
      "\n",
      " At random state 78 , the Training accuracy is :- 0.7429222246543707\n",
      " At random state 78 , the testing accuracy is :- 0.7777825436201851\n",
      "\n",
      "\n",
      " At random state 79 , the Training accuracy is :- 0.7519246008613533\n",
      " At random state 79 , the testing accuracy is :- 0.7434046405747315\n",
      "\n",
      "\n",
      " At random state 80 , the Training accuracy is :- 0.7500290719787854\n",
      " At random state 80 , the testing accuracy is :- 0.7473715569094876\n",
      "\n",
      "\n",
      " At random state 81 , the Training accuracy is :- 0.7548417675115222\n",
      " At random state 81 , the testing accuracy is :- 0.7297249316896975\n",
      "\n",
      "\n",
      " At random state 82 , the Training accuracy is :- 0.737053481360175\n",
      " At random state 82 , the testing accuracy is :- 0.7793275581329775\n",
      "\n",
      "\n",
      " At random state 83 , the Training accuracy is :- 0.7570503855532607\n",
      " At random state 83 , the testing accuracy is :- 0.7186848329106881\n",
      "\n",
      "\n",
      " At random state 84 , the Training accuracy is :- 0.7466836486026539\n",
      " At random state 84 , the testing accuracy is :- 0.7639926319306113\n",
      "\n",
      "\n",
      " At random state 85 , the Training accuracy is :- 0.762036229333948\n",
      " At random state 85 , the testing accuracy is :- 0.6985438698729616\n",
      "\n",
      "\n",
      " At random state 86 , the Training accuracy is :- 0.7554160971869166\n",
      " At random state 86 , the testing accuracy is :- 0.729418530074045\n",
      "\n",
      "\n",
      " At random state 87 , the Training accuracy is :- 0.7527087763372374\n",
      " At random state 87 , the testing accuracy is :- 0.7397537425309775\n",
      "\n",
      "\n",
      " At random state 88 , the Training accuracy is :- 0.7475896026014589\n",
      " At random state 88 , the testing accuracy is :- 0.7583918497716586\n",
      "\n",
      "\n",
      " At random state 89 , the Training accuracy is :- 0.7504706088561446\n",
      " At random state 89 , the testing accuracy is :- 0.7493619457586658\n",
      "\n",
      "\n",
      " At random state 90 , the Training accuracy is :- 0.7475119533158002\n",
      " At random state 90 , the testing accuracy is :- 0.762638443419315\n",
      "\n",
      "\n",
      " At random state 91 , the Training accuracy is :- 0.7544485312497812\n",
      " At random state 91 , the testing accuracy is :- 0.7325115081353839\n",
      "\n",
      "\n",
      " At random state 92 , the Training accuracy is :- 0.7413731132678282\n",
      " At random state 92 , the testing accuracy is :- 0.7842318482661891\n",
      "\n",
      "\n",
      " At random state 93 , the Training accuracy is :- 0.754077826297188\n",
      " At random state 93 , the testing accuracy is :- 0.7321717699690352\n",
      "\n",
      "\n",
      " At random state 94 , the Training accuracy is :- 0.7316781315730294\n",
      " At random state 94 , the testing accuracy is :- 0.8186898080383693\n",
      "\n",
      "\n",
      " At random state 95 , the Training accuracy is :- 0.756160956022322\n",
      " At random state 95 , the testing accuracy is :- 0.7248957226238295\n",
      "\n",
      "\n",
      " At random state 96 , the Training accuracy is :- 0.7543541276869309\n",
      " At random state 96 , the testing accuracy is :- 0.7314717117256067\n",
      "\n",
      "\n",
      " At random state 97 , the Training accuracy is :- 0.7604929813473522\n",
      " At random state 97 , the testing accuracy is :- 0.7000639737740504\n",
      "\n",
      "\n",
      " At random state 98 , the Training accuracy is :- 0.7477595079290386\n",
      " At random state 98 , the testing accuracy is :- 0.7596490887837262\n",
      "\n",
      "\n",
      " At random state 99 , the Training accuracy is :- 0.7591216605959198\n",
      " At random state 99 , the testing accuracy is :- 0.7111820192284593\n",
      "\n",
      "\n"
     ]
    }
   ],
   "source": [
    "#Lets check with diffrent method\n",
    "for i in range(0,100):\n",
    "    x_train,x_test,y_train,y_test=train_test_split(x_scaled,y,test_size=0.2,random_state=i)\n",
    "    lr.fit(x_train,y_train)\n",
    "    x_pred=lr.predict(x_train)\n",
    "    y_pred=lr.predict(x_test)\n",
    "    print(f\" At random state {i} , the Training accuracy is :- {r2_score(y_train,x_pred)}\")\n",
    "    print(f\" At random state {i} , the testing accuracy is :- {r2_score(y_test,y_pred)}\")\n",
    "    print(\"\\n\")"
   ]
  },
  {
   "cell_type": "markdown",
   "id": "4441e02b",
   "metadata": {},
   "source": [
    "So , Here i am going with Random State - 75"
   ]
  },
  {
   "cell_type": "code",
   "execution_count": 177,
   "id": "e47c423d",
   "metadata": {},
   "outputs": [],
   "source": [
    "x_train,x_test,y_train,y_test=train_test_split(x_scaled,y,test_size=0.20,random_state=75)"
   ]
  },
  {
   "cell_type": "code",
   "execution_count": 178,
   "id": "174a2125",
   "metadata": {},
   "outputs": [
    {
     "data": {
      "text/html": [
       "<style>#sk-container-id-2 {color: black;background-color: white;}#sk-container-id-2 pre{padding: 0;}#sk-container-id-2 div.sk-toggleable {background-color: white;}#sk-container-id-2 label.sk-toggleable__label {cursor: pointer;display: block;width: 100%;margin-bottom: 0;padding: 0.3em;box-sizing: border-box;text-align: center;}#sk-container-id-2 label.sk-toggleable__label-arrow:before {content: \"▸\";float: left;margin-right: 0.25em;color: #696969;}#sk-container-id-2 label.sk-toggleable__label-arrow:hover:before {color: black;}#sk-container-id-2 div.sk-estimator:hover label.sk-toggleable__label-arrow:before {color: black;}#sk-container-id-2 div.sk-toggleable__content {max-height: 0;max-width: 0;overflow: hidden;text-align: left;background-color: #f0f8ff;}#sk-container-id-2 div.sk-toggleable__content pre {margin: 0.2em;color: black;border-radius: 0.25em;background-color: #f0f8ff;}#sk-container-id-2 input.sk-toggleable__control:checked~div.sk-toggleable__content {max-height: 200px;max-width: 100%;overflow: auto;}#sk-container-id-2 input.sk-toggleable__control:checked~label.sk-toggleable__label-arrow:before {content: \"▾\";}#sk-container-id-2 div.sk-estimator input.sk-toggleable__control:checked~label.sk-toggleable__label {background-color: #d4ebff;}#sk-container-id-2 div.sk-label input.sk-toggleable__control:checked~label.sk-toggleable__label {background-color: #d4ebff;}#sk-container-id-2 input.sk-hidden--visually {border: 0;clip: rect(1px 1px 1px 1px);clip: rect(1px, 1px, 1px, 1px);height: 1px;margin: -1px;overflow: hidden;padding: 0;position: absolute;width: 1px;}#sk-container-id-2 div.sk-estimator {font-family: monospace;background-color: #f0f8ff;border: 1px dotted black;border-radius: 0.25em;box-sizing: border-box;margin-bottom: 0.5em;}#sk-container-id-2 div.sk-estimator:hover {background-color: #d4ebff;}#sk-container-id-2 div.sk-parallel-item::after {content: \"\";width: 100%;border-bottom: 1px solid gray;flex-grow: 1;}#sk-container-id-2 div.sk-label:hover label.sk-toggleable__label {background-color: #d4ebff;}#sk-container-id-2 div.sk-serial::before {content: \"\";position: absolute;border-left: 1px solid gray;box-sizing: border-box;top: 0;bottom: 0;left: 50%;z-index: 0;}#sk-container-id-2 div.sk-serial {display: flex;flex-direction: column;align-items: center;background-color: white;padding-right: 0.2em;padding-left: 0.2em;position: relative;}#sk-container-id-2 div.sk-item {position: relative;z-index: 1;}#sk-container-id-2 div.sk-parallel {display: flex;align-items: stretch;justify-content: center;background-color: white;position: relative;}#sk-container-id-2 div.sk-item::before, #sk-container-id-2 div.sk-parallel-item::before {content: \"\";position: absolute;border-left: 1px solid gray;box-sizing: border-box;top: 0;bottom: 0;left: 50%;z-index: -1;}#sk-container-id-2 div.sk-parallel-item {display: flex;flex-direction: column;z-index: 1;position: relative;background-color: white;}#sk-container-id-2 div.sk-parallel-item:first-child::after {align-self: flex-end;width: 50%;}#sk-container-id-2 div.sk-parallel-item:last-child::after {align-self: flex-start;width: 50%;}#sk-container-id-2 div.sk-parallel-item:only-child::after {width: 0;}#sk-container-id-2 div.sk-dashed-wrapped {border: 1px dashed gray;margin: 0 0.4em 0.5em 0.4em;box-sizing: border-box;padding-bottom: 0.4em;background-color: white;}#sk-container-id-2 div.sk-label label {font-family: monospace;font-weight: bold;display: inline-block;line-height: 1.2em;}#sk-container-id-2 div.sk-label-container {text-align: center;}#sk-container-id-2 div.sk-container {/* jupyter's `normalize.less` sets `[hidden] { display: none; }` but bootstrap.min.css set `[hidden] { display: none !important; }` so we also need the `!important` here to be able to override the default hidden behavior on the sphinx rendered scikit-learn.org. See: https://github.com/scikit-learn/scikit-learn/issues/21755 */display: inline-block !important;position: relative;}#sk-container-id-2 div.sk-text-repr-fallback {display: none;}</style><div id=\"sk-container-id-2\" class=\"sk-top-container\"><div class=\"sk-text-repr-fallback\"><pre>LinearRegression()</pre><b>In a Jupyter environment, please rerun this cell to show the HTML representation or trust the notebook. <br />On GitHub, the HTML representation is unable to render, please try loading this page with nbviewer.org.</b></div><div class=\"sk-container\" hidden><div class=\"sk-item\"><div class=\"sk-estimator sk-toggleable\"><input class=\"sk-toggleable__control sk-hidden--visually\" id=\"sk-estimator-id-2\" type=\"checkbox\" checked><label for=\"sk-estimator-id-2\" class=\"sk-toggleable__label sk-toggleable__label-arrow\">LinearRegression</label><div class=\"sk-toggleable__content\"><pre>LinearRegression()</pre></div></div></div></div></div>"
      ],
      "text/plain": [
       "LinearRegression()"
      ]
     },
     "execution_count": 178,
     "metadata": {},
     "output_type": "execute_result"
    }
   ],
   "source": [
    "lr.fit(x_train,y_train)"
   ]
  },
  {
   "cell_type": "markdown",
   "id": "cffad4fd",
   "metadata": {},
   "source": [
    "# For Training Score "
   ]
  },
  {
   "cell_type": "code",
   "execution_count": 179,
   "id": "5a4bedff",
   "metadata": {},
   "outputs": [
    {
     "data": {
      "text/plain": [
       "0.7438057518830352"
      ]
     },
     "execution_count": 179,
     "metadata": {},
     "output_type": "execute_result"
    }
   ],
   "source": [
    "lr.score(x_train,y_train)\n",
    "train_pred=lr.predict(x_train)\n",
    "r2_score(y_train,train_pred)"
   ]
  },
  {
   "cell_type": "markdown",
   "id": "5ac049a7",
   "metadata": {},
   "source": [
    "# For Testing Score"
   ]
  },
  {
   "cell_type": "code",
   "execution_count": 180,
   "id": "db91f558",
   "metadata": {},
   "outputs": [
    {
     "data": {
      "text/plain": [
       "0.7750515289374283"
      ]
     },
     "execution_count": 180,
     "metadata": {},
     "output_type": "execute_result"
    }
   ],
   "source": [
    "lr.score(x_test,y_test)\n",
    "pred_train=lr.predict(x_test)\n",
    "r2_score(y_test,pred_train)"
   ]
  },
  {
   "cell_type": "markdown",
   "id": "a1abe6a3",
   "metadata": {},
   "source": [
    "# Cross Validation of the Model"
   ]
  },
  {
   "cell_type": "code",
   "execution_count": 181,
   "id": "c2207ffa",
   "metadata": {},
   "outputs": [],
   "source": [
    "train_accuracy=r2_score(y_train,x_pred)\n",
    "test_accuracy=r2_score(y_test,y_pred)\n",
    "#Lets import Cross Validation\n",
    "from sklearn.model_selection import cross_val_score"
   ]
  },
  {
   "cell_type": "code",
   "execution_count": 182,
   "id": "79309173",
   "metadata": {},
   "outputs": [
    {
     "name": "stdout",
     "output_type": "stream",
     "text": [
      "At cross fold 2 the CV Score is 0.748283303793706 and accuracy for training is -0.840022075011347 and accuracy for testing is -0.7870871766226133\n",
      "\n",
      "\n",
      "At cross fold 3 the CV Score is 0.7438132914249685 and accuracy for training is -0.840022075011347 and accuracy for testing is -0.7870871766226133\n",
      "\n",
      "\n",
      "At cross fold 4 the CV Score is 0.7456690905347216 and accuracy for training is -0.840022075011347 and accuracy for testing is -0.7870871766226133\n",
      "\n",
      "\n",
      "At cross fold 5 the CV Score is 0.7465220525129679 and accuracy for training is -0.840022075011347 and accuracy for testing is -0.7870871766226133\n",
      "\n",
      "\n",
      "At cross fold 6 the CV Score is 0.7449836012841727 and accuracy for training is -0.840022075011347 and accuracy for testing is -0.7870871766226133\n",
      "\n",
      "\n",
      "At cross fold 7 the CV Score is 0.7444521098192547 and accuracy for training is -0.840022075011347 and accuracy for testing is -0.7870871766226133\n",
      "\n",
      "\n",
      "At cross fold 8 the CV Score is 0.7425539851429888 and accuracy for training is -0.840022075011347 and accuracy for testing is -0.7870871766226133\n",
      "\n",
      "\n",
      "At cross fold 9 the CV Score is 0.7436844753833154 and accuracy for training is -0.840022075011347 and accuracy for testing is -0.7870871766226133\n",
      "\n",
      "\n",
      "At cross fold 10 the CV Score is 0.7434493727505405 and accuracy for training is -0.840022075011347 and accuracy for testing is -0.7870871766226133\n",
      "\n",
      "\n",
      "At cross fold 11 the CV Score is 0.7382533494231349 and accuracy for training is -0.840022075011347 and accuracy for testing is -0.7870871766226133\n",
      "\n",
      "\n",
      "At cross fold 12 the CV Score is 0.7364195378502343 and accuracy for training is -0.840022075011347 and accuracy for testing is -0.7870871766226133\n",
      "\n",
      "\n",
      "At cross fold 13 the CV Score is 0.7401837804157445 and accuracy for training is -0.840022075011347 and accuracy for testing is -0.7870871766226133\n",
      "\n",
      "\n",
      "At cross fold 14 the CV Score is 0.739008121625794 and accuracy for training is -0.840022075011347 and accuracy for testing is -0.7870871766226133\n",
      "\n",
      "\n",
      "At cross fold 15 the CV Score is 0.7370075680782903 and accuracy for training is -0.840022075011347 and accuracy for testing is -0.7870871766226133\n",
      "\n",
      "\n",
      "At cross fold 16 the CV Score is 0.735039911539662 and accuracy for training is -0.840022075011347 and accuracy for testing is -0.7870871766226133\n",
      "\n",
      "\n",
      "At cross fold 17 the CV Score is 0.7390664729181989 and accuracy for training is -0.840022075011347 and accuracy for testing is -0.7870871766226133\n",
      "\n",
      "\n",
      "At cross fold 18 the CV Score is 0.7300084052141256 and accuracy for training is -0.840022075011347 and accuracy for testing is -0.7870871766226133\n",
      "\n",
      "\n",
      "At cross fold 19 the CV Score is 0.7363416150986236 and accuracy for training is -0.840022075011347 and accuracy for testing is -0.7870871766226133\n",
      "\n",
      "\n",
      "At cross fold 20 the CV Score is 0.7335798884800093 and accuracy for training is -0.840022075011347 and accuracy for testing is -0.7870871766226133\n",
      "\n",
      "\n",
      "At cross fold 21 the CV Score is 0.7300112420315005 and accuracy for training is -0.840022075011347 and accuracy for testing is -0.7870871766226133\n",
      "\n",
      "\n",
      "At cross fold 22 the CV Score is 0.7253572781001171 and accuracy for training is -0.840022075011347 and accuracy for testing is -0.7870871766226133\n",
      "\n",
      "\n",
      "At cross fold 23 the CV Score is 0.7244866746465412 and accuracy for training is -0.840022075011347 and accuracy for testing is -0.7870871766226133\n",
      "\n",
      "\n",
      "At cross fold 24 the CV Score is 0.7328138796267615 and accuracy for training is -0.840022075011347 and accuracy for testing is -0.7870871766226133\n",
      "\n",
      "\n",
      "At cross fold 25 the CV Score is 0.7251081790145496 and accuracy for training is -0.840022075011347 and accuracy for testing is -0.7870871766226133\n",
      "\n",
      "\n",
      "At cross fold 26 the CV Score is 0.730931109474901 and accuracy for training is -0.840022075011347 and accuracy for testing is -0.7870871766226133\n",
      "\n",
      "\n",
      "At cross fold 27 the CV Score is 0.7248804489621228 and accuracy for training is -0.840022075011347 and accuracy for testing is -0.7870871766226133\n",
      "\n",
      "\n",
      "At cross fold 28 the CV Score is 0.7146510882798897 and accuracy for training is -0.840022075011347 and accuracy for testing is -0.7870871766226133\n",
      "\n",
      "\n",
      "At cross fold 29 the CV Score is 0.7263001264150805 and accuracy for training is -0.840022075011347 and accuracy for testing is -0.7870871766226133\n",
      "\n",
      "\n",
      "At cross fold 30 the CV Score is 0.7216412247484868 and accuracy for training is -0.840022075011347 and accuracy for testing is -0.7870871766226133\n",
      "\n",
      "\n",
      "At cross fold 31 the CV Score is 0.7244127482565298 and accuracy for training is -0.840022075011347 and accuracy for testing is -0.7870871766226133\n",
      "\n",
      "\n",
      "At cross fold 32 the CV Score is 0.7211683450150823 and accuracy for training is -0.840022075011347 and accuracy for testing is -0.7870871766226133\n",
      "\n",
      "\n",
      "At cross fold 33 the CV Score is 0.7161463258262994 and accuracy for training is -0.840022075011347 and accuracy for testing is -0.7870871766226133\n",
      "\n",
      "\n",
      "At cross fold 34 the CV Score is 0.7266790946153665 and accuracy for training is -0.840022075011347 and accuracy for testing is -0.7870871766226133\n",
      "\n",
      "\n",
      "At cross fold 35 the CV Score is 0.7189642419954002 and accuracy for training is -0.840022075011347 and accuracy for testing is -0.7870871766226133\n",
      "\n",
      "\n",
      "At cross fold 36 the CV Score is 0.7137138054498157 and accuracy for training is -0.840022075011347 and accuracy for testing is -0.7870871766226133\n",
      "\n",
      "\n",
      "At cross fold 37 the CV Score is 0.7121620883547701 and accuracy for training is -0.840022075011347 and accuracy for testing is -0.7870871766226133\n",
      "\n",
      "\n",
      "At cross fold 38 the CV Score is 0.713266622991869 and accuracy for training is -0.840022075011347 and accuracy for testing is -0.7870871766226133\n",
      "\n",
      "\n",
      "At cross fold 39 the CV Score is 0.7037489436307423 and accuracy for training is -0.840022075011347 and accuracy for testing is -0.7870871766226133\n",
      "\n",
      "\n",
      "At cross fold 40 the CV Score is 0.7016874122221046 and accuracy for training is -0.840022075011347 and accuracy for testing is -0.7870871766226133\n",
      "\n",
      "\n",
      "At cross fold 41 the CV Score is 0.713116073251755 and accuracy for training is -0.840022075011347 and accuracy for testing is -0.7870871766226133\n",
      "\n",
      "\n",
      "At cross fold 42 the CV Score is 0.6994775746283398 and accuracy for training is -0.840022075011347 and accuracy for testing is -0.7870871766226133\n",
      "\n",
      "\n",
      "At cross fold 43 the CV Score is 0.694705509942056 and accuracy for training is -0.840022075011347 and accuracy for testing is -0.7870871766226133\n",
      "\n",
      "\n",
      "At cross fold 44 the CV Score is 0.6923008149820521 and accuracy for training is -0.840022075011347 and accuracy for testing is -0.7870871766226133\n",
      "\n",
      "\n",
      "At cross fold 45 the CV Score is 0.6988526812265515 and accuracy for training is -0.840022075011347 and accuracy for testing is -0.7870871766226133\n",
      "\n",
      "\n",
      "At cross fold 46 the CV Score is 0.7006037007132117 and accuracy for training is -0.840022075011347 and accuracy for testing is -0.7870871766226133\n",
      "\n",
      "\n",
      "At cross fold 47 the CV Score is 0.6850656836932909 and accuracy for training is -0.840022075011347 and accuracy for testing is -0.7870871766226133\n",
      "\n",
      "\n",
      "At cross fold 48 the CV Score is 0.7092607430401525 and accuracy for training is -0.840022075011347 and accuracy for testing is -0.7870871766226133\n",
      "\n",
      "\n",
      "At cross fold 49 the CV Score is 0.6801535572049504 and accuracy for training is -0.840022075011347 and accuracy for testing is -0.7870871766226133\n",
      "\n",
      "\n"
     ]
    }
   ],
   "source": [
    "for j in range(2,50):\n",
    "    cv_score=cross_val_score(lr,x_scaled,y,cv=j)\n",
    "    cv_mean=cv_score.mean()\n",
    "    \n",
    "    print(f\"At cross fold {j} the CV Score is {cv_mean} and accuracy for training is {train_accuracy} and accuracy for testing is {test_accuracy}\")\n",
    "    print(\"\\n\")"
   ]
  },
  {
   "cell_type": "markdown",
   "id": "c4417ab1",
   "metadata": {},
   "source": [
    "Since the number of folds dont have such impact on the accuracy and cv_score . So cv=2 is selected."
   ]
  },
  {
   "cell_type": "markdown",
   "id": "59cf9fa4",
   "metadata": {},
   "source": [
    " Here we have handled the problem of the overfitting and the underfitting by checking the training and testing score"
   ]
  },
  {
   "cell_type": "markdown",
   "id": "15ba9e16",
   "metadata": {},
   "source": [
    "# Lets Plot Best Fit Line and Check How Data points are Close to the Best Fit Line"
   ]
  },
  {
   "cell_type": "code",
   "execution_count": 183,
   "id": "d052ba41",
   "metadata": {},
   "outputs": [
    {
     "data": {
      "image/png": "[encoded data removed]",
      "text/plain": [
       "<Figure size 576x432 with 1 Axes>"
      ]
     },
     "metadata": {
      "needs_background": "light"
     },
     "output_type": "display_data"
    }
   ],
   "source": [
    "import matplotlib.pyplot as plt\n",
    "plt.figure(figsize=(8,6))\n",
    "plt.scatter(x=y_test,y=y_pred,color='r')\n",
    "plt.plot(y_test,y_test,color='b')\n",
    "plt.xlabel(\"Acutal Charges \",fontsize=14)\n",
    "plt.ylabel(\"Predicted Charges \",fontsize=14)\n",
    "plt.title(\"Linear Regression \",fontsize=18)\n",
    "plt.savefig('lr.png')\n",
    "plt.show()"
   ]
  },
  {
   "cell_type": "markdown",
   "id": "d5608f8e",
   "metadata": {},
   "source": [
    "Here we can see that . Most of the data is  near the best fit line. but we have lots of data dont come near the best fit line. Lets tune the parameter"
   ]
  },
  {
   "cell_type": "markdown",
   "id": "5f939ea0",
   "metadata": {},
   "source": [
    "# Regularization -"
   ]
  },
  {
   "cell_type": "code",
   "execution_count": 239,
   "id": "80a815c3",
   "metadata": {},
   "outputs": [],
   "source": [
    "from sklearn.model_selection import GridSearchCV\n",
    "from sklearn.model_selection import cross_val_score\n"
   ]
  },
  {
   "cell_type": "code",
   "execution_count": 268,
   "id": "21aa5e17",
   "metadata": {},
   "outputs": [
    {
     "data": {
      "text/html": [
       "<style>#sk-container-id-17 {color: black;background-color: white;}#sk-container-id-17 pre{padding: 0;}#sk-container-id-17 div.sk-toggleable {background-color: white;}#sk-container-id-17 label.sk-toggleable__label {cursor: pointer;display: block;width: 100%;margin-bottom: 0;padding: 0.3em;box-sizing: border-box;text-align: center;}#sk-container-id-17 label.sk-toggleable__label-arrow:before {content: \"▸\";float: left;margin-right: 0.25em;color: #696969;}#sk-container-id-17 label.sk-toggleable__label-arrow:hover:before {color: black;}#sk-container-id-17 div.sk-estimator:hover label.sk-toggleable__label-arrow:before {color: black;}#sk-container-id-17 div.sk-toggleable__content {max-height: 0;max-width: 0;overflow: hidden;text-align: left;background-color: #f0f8ff;}#sk-container-id-17 div.sk-toggleable__content pre {margin: 0.2em;color: black;border-radius: 0.25em;background-color: #f0f8ff;}#sk-container-id-17 input.sk-toggleable__control:checked~div.sk-toggleable__content {max-height: 200px;max-width: 100%;overflow: auto;}#sk-container-id-17 input.sk-toggleable__control:checked~label.sk-toggleable__label-arrow:before {content: \"▾\";}#sk-container-id-17 div.sk-estimator input.sk-toggleable__control:checked~label.sk-toggleable__label {background-color: #d4ebff;}#sk-container-id-17 div.sk-label input.sk-toggleable__control:checked~label.sk-toggleable__label {background-color: #d4ebff;}#sk-container-id-17 input.sk-hidden--visually {border: 0;clip: rect(1px 1px 1px 1px);clip: rect(1px, 1px, 1px, 1px);height: 1px;margin: -1px;overflow: hidden;padding: 0;position: absolute;width: 1px;}#sk-container-id-17 div.sk-estimator {font-family: monospace;background-color: #f0f8ff;border: 1px dotted black;border-radius: 0.25em;box-sizing: border-box;margin-bottom: 0.5em;}#sk-container-id-17 div.sk-estimator:hover {background-color: #d4ebff;}#sk-container-id-17 div.sk-parallel-item::after {content: \"\";width: 100%;border-bottom: 1px solid gray;flex-grow: 1;}#sk-container-id-17 div.sk-label:hover label.sk-toggleable__label {background-color: #d4ebff;}#sk-container-id-17 div.sk-serial::before {content: \"\";position: absolute;border-left: 1px solid gray;box-sizing: border-box;top: 0;bottom: 0;left: 50%;z-index: 0;}#sk-container-id-17 div.sk-serial {display: flex;flex-direction: column;align-items: center;background-color: white;padding-right: 0.2em;padding-left: 0.2em;position: relative;}#sk-container-id-17 div.sk-item {position: relative;z-index: 1;}#sk-container-id-17 div.sk-parallel {display: flex;align-items: stretch;justify-content: center;background-color: white;position: relative;}#sk-container-id-17 div.sk-item::before, #sk-container-id-17 div.sk-parallel-item::before {content: \"\";position: absolute;border-left: 1px solid gray;box-sizing: border-box;top: 0;bottom: 0;left: 50%;z-index: -1;}#sk-container-id-17 div.sk-parallel-item {display: flex;flex-direction: column;z-index: 1;position: relative;background-color: white;}#sk-container-id-17 div.sk-parallel-item:first-child::after {align-self: flex-end;width: 50%;}#sk-container-id-17 div.sk-parallel-item:last-child::after {align-self: flex-start;width: 50%;}#sk-container-id-17 div.sk-parallel-item:only-child::after {width: 0;}#sk-container-id-17 div.sk-dashed-wrapped {border: 1px dashed gray;margin: 0 0.4em 0.5em 0.4em;box-sizing: border-box;padding-bottom: 0.4em;background-color: white;}#sk-container-id-17 div.sk-label label {font-family: monospace;font-weight: bold;display: inline-block;line-height: 1.2em;}#sk-container-id-17 div.sk-label-container {text-align: center;}#sk-container-id-17 div.sk-container {/* jupyter's `normalize.less` sets `[hidden] { display: none; }` but bootstrap.min.css set `[hidden] { display: none !important; }` so we also need the `!important` here to be able to override the default hidden behavior on the sphinx rendered scikit-learn.org. See: https://github.com/scikit-learn/scikit-learn/issues/21755 */display: inline-block !important;position: relative;}#sk-container-id-17 div.sk-text-repr-fallback {display: none;}</style><div id=\"sk-container-id-17\" class=\"sk-top-container\"><div class=\"sk-text-repr-fallback\"><pre>LassoCV(max_iter=100, normalize=True)</pre><b>In a Jupyter environment, please rerun this cell to show the HTML representation or trust the notebook. <br />On GitHub, the HTML representation is unable to render, please try loading this page with nbviewer.org.</b></div><div class=\"sk-container\" hidden><div class=\"sk-item\"><div class=\"sk-estimator sk-toggleable\"><input class=\"sk-toggleable__control sk-hidden--visually\" id=\"sk-estimator-id-17\" type=\"checkbox\" checked><label for=\"sk-estimator-id-17\" class=\"sk-toggleable__label sk-toggleable__label-arrow\">LassoCV</label><div class=\"sk-toggleable__content\"><pre>LassoCV(max_iter=100, normalize=True)</pre></div></div></div></div></div>"
      ],
      "text/plain": [
       "LassoCV(max_iter=100, normalize=True)"
      ]
     },
     "execution_count": 268,
     "metadata": {},
     "output_type": "execute_result"
    }
   ],
   "source": [
    "#lets import Lasso (Least absolute shrinkage and selection operator)\n",
    "from sklearn.linear_model import Ridge,Lasso,RidgeCV,LassoCV\n",
    "#LASSOCV will return best alpha after max iteration\n",
    "#normalize is subtracting the mean and divide by L2_norm\n",
    "\n",
    "\n",
    "\n",
    "lasscv=LassoCV(alphas = None , max_iter =100,normalize=True)\n",
    "lasscv.fit(x_train,y_train)\n",
    "          \n",
    "          \n",
    "          \n"
   ]
  },
  {
   "cell_type": "code",
   "execution_count": 269,
   "id": "2331a53c",
   "metadata": {},
   "outputs": [
    {
     "data": {
      "text/plain": [
       "3.5821541933107004"
      ]
     },
     "execution_count": 269,
     "metadata": {},
     "output_type": "execute_result"
    }
   ],
   "source": [
    "#best alpha paremetere\n",
    "alpha=lasscv.alpha_\n",
    "alpha"
   ]
  },
  {
   "cell_type": "code",
   "execution_count": 242,
   "id": "8fd85ef4",
   "metadata": {},
   "outputs": [
    {
     "data": {
      "text/html": [
       "<style>#sk-container-id-12 {color: black;background-color: white;}#sk-container-id-12 pre{padding: 0;}#sk-container-id-12 div.sk-toggleable {background-color: white;}#sk-container-id-12 label.sk-toggleable__label {cursor: pointer;display: block;width: 100%;margin-bottom: 0;padding: 0.3em;box-sizing: border-box;text-align: center;}#sk-container-id-12 label.sk-toggleable__label-arrow:before {content: \"▸\";float: left;margin-right: 0.25em;color: #696969;}#sk-container-id-12 label.sk-toggleable__label-arrow:hover:before {color: black;}#sk-container-id-12 div.sk-estimator:hover label.sk-toggleable__label-arrow:before {color: black;}#sk-container-id-12 div.sk-toggleable__content {max-height: 0;max-width: 0;overflow: hidden;text-align: left;background-color: #f0f8ff;}#sk-container-id-12 div.sk-toggleable__content pre {margin: 0.2em;color: black;border-radius: 0.25em;background-color: #f0f8ff;}#sk-container-id-12 input.sk-toggleable__control:checked~div.sk-toggleable__content {max-height: 200px;max-width: 100%;overflow: auto;}#sk-container-id-12 input.sk-toggleable__control:checked~label.sk-toggleable__label-arrow:before {content: \"▾\";}#sk-container-id-12 div.sk-estimator input.sk-toggleable__control:checked~label.sk-toggleable__label {background-color: #d4ebff;}#sk-container-id-12 div.sk-label input.sk-toggleable__control:checked~label.sk-toggleable__label {background-color: #d4ebff;}#sk-container-id-12 input.sk-hidden--visually {border: 0;clip: rect(1px 1px 1px 1px);clip: rect(1px, 1px, 1px, 1px);height: 1px;margin: -1px;overflow: hidden;padding: 0;position: absolute;width: 1px;}#sk-container-id-12 div.sk-estimator {font-family: monospace;background-color: #f0f8ff;border: 1px dotted black;border-radius: 0.25em;box-sizing: border-box;margin-bottom: 0.5em;}#sk-container-id-12 div.sk-estimator:hover {background-color: #d4ebff;}#sk-container-id-12 div.sk-parallel-item::after {content: \"\";width: 100%;border-bottom: 1px solid gray;flex-grow: 1;}#sk-container-id-12 div.sk-label:hover label.sk-toggleable__label {background-color: #d4ebff;}#sk-container-id-12 div.sk-serial::before {content: \"\";position: absolute;border-left: 1px solid gray;box-sizing: border-box;top: 0;bottom: 0;left: 50%;z-index: 0;}#sk-container-id-12 div.sk-serial {display: flex;flex-direction: column;align-items: center;background-color: white;padding-right: 0.2em;padding-left: 0.2em;position: relative;}#sk-container-id-12 div.sk-item {position: relative;z-index: 1;}#sk-container-id-12 div.sk-parallel {display: flex;align-items: stretch;justify-content: center;background-color: white;position: relative;}#sk-container-id-12 div.sk-item::before, #sk-container-id-12 div.sk-parallel-item::before {content: \"\";position: absolute;border-left: 1px solid gray;box-sizing: border-box;top: 0;bottom: 0;left: 50%;z-index: -1;}#sk-container-id-12 div.sk-parallel-item {display: flex;flex-direction: column;z-index: 1;position: relative;background-color: white;}#sk-container-id-12 div.sk-parallel-item:first-child::after {align-self: flex-end;width: 50%;}#sk-container-id-12 div.sk-parallel-item:last-child::after {align-self: flex-start;width: 50%;}#sk-container-id-12 div.sk-parallel-item:only-child::after {width: 0;}#sk-container-id-12 div.sk-dashed-wrapped {border: 1px dashed gray;margin: 0 0.4em 0.5em 0.4em;box-sizing: border-box;padding-bottom: 0.4em;background-color: white;}#sk-container-id-12 div.sk-label label {font-family: monospace;font-weight: bold;display: inline-block;line-height: 1.2em;}#sk-container-id-12 div.sk-label-container {text-align: center;}#sk-container-id-12 div.sk-container {/* jupyter's `normalize.less` sets `[hidden] { display: none; }` but bootstrap.min.css set `[hidden] { display: none !important; }` so we also need the `!important` here to be able to override the default hidden behavior on the sphinx rendered scikit-learn.org. See: https://github.com/scikit-learn/scikit-learn/issues/21755 */display: inline-block !important;position: relative;}#sk-container-id-12 div.sk-text-repr-fallback {display: none;}</style><div id=\"sk-container-id-12\" class=\"sk-top-container\"><div class=\"sk-text-repr-fallback\"><pre>Lasso(alpha=3.5821541933107004)</pre><b>In a Jupyter environment, please rerun this cell to show the HTML representation or trust the notebook. <br />On GitHub, the HTML representation is unable to render, please try loading this page with nbviewer.org.</b></div><div class=\"sk-container\" hidden><div class=\"sk-item\"><div class=\"sk-estimator sk-toggleable\"><input class=\"sk-toggleable__control sk-hidden--visually\" id=\"sk-estimator-id-12\" type=\"checkbox\" checked><label for=\"sk-estimator-id-12\" class=\"sk-toggleable__label sk-toggleable__label-arrow\">Lasso</label><div class=\"sk-toggleable__content\"><pre>Lasso(alpha=3.5821541933107004)</pre></div></div></div></div></div>"
      ],
      "text/plain": [
       "Lasso(alpha=3.5821541933107004)"
      ]
     },
     "execution_count": 242,
     "metadata": {},
     "output_type": "execute_result"
    }
   ],
   "source": [
    "#Now that we have best parameter,Lets use Lasso regression and see how well our data has fitted before\n",
    "lasso_reg=Lasso(alpha)\n",
    "lasso_reg.fit(x_train,y_train)"
   ]
  },
  {
   "cell_type": "code",
   "execution_count": 243,
   "id": "7f4ba3c9",
   "metadata": {},
   "outputs": [
    {
     "data": {
      "text/plain": [
       "0.7751355168587747"
      ]
     },
     "execution_count": 243,
     "metadata": {},
     "output_type": "execute_result"
    }
   ],
   "source": [
    "lasso_reg.score(x_test,y_test)"
   ]
  },
  {
   "cell_type": "markdown",
   "id": "13babb28",
   "metadata": {},
   "source": [
    "So , With lasso we get 77 % accuracy with testing data "
   ]
  },
  {
   "cell_type": "markdown",
   "id": "ed722e7f",
   "metadata": {},
   "source": [
    "# Using Ridge Regression Model.\n",
    "Ridge will return best alpha and coefficients after performing 10 Cross validation.¶"
   ]
  },
  {
   "cell_type": "code",
   "execution_count": 244,
   "id": "3100adc2",
   "metadata": {},
   "outputs": [
    {
     "data": {
      "text/html": [
       "<style>#sk-container-id-13 {color: black;background-color: white;}#sk-container-id-13 pre{padding: 0;}#sk-container-id-13 div.sk-toggleable {background-color: white;}#sk-container-id-13 label.sk-toggleable__label {cursor: pointer;display: block;width: 100%;margin-bottom: 0;padding: 0.3em;box-sizing: border-box;text-align: center;}#sk-container-id-13 label.sk-toggleable__label-arrow:before {content: \"▸\";float: left;margin-right: 0.25em;color: #696969;}#sk-container-id-13 label.sk-toggleable__label-arrow:hover:before {color: black;}#sk-container-id-13 div.sk-estimator:hover label.sk-toggleable__label-arrow:before {color: black;}#sk-container-id-13 div.sk-toggleable__content {max-height: 0;max-width: 0;overflow: hidden;text-align: left;background-color: #f0f8ff;}#sk-container-id-13 div.sk-toggleable__content pre {margin: 0.2em;color: black;border-radius: 0.25em;background-color: #f0f8ff;}#sk-container-id-13 input.sk-toggleable__control:checked~div.sk-toggleable__content {max-height: 200px;max-width: 100%;overflow: auto;}#sk-container-id-13 input.sk-toggleable__control:checked~label.sk-toggleable__label-arrow:before {content: \"▾\";}#sk-container-id-13 div.sk-estimator input.sk-toggleable__control:checked~label.sk-toggleable__label {background-color: #d4ebff;}#sk-container-id-13 div.sk-label input.sk-toggleable__control:checked~label.sk-toggleable__label {background-color: #d4ebff;}#sk-container-id-13 input.sk-hidden--visually {border: 0;clip: rect(1px 1px 1px 1px);clip: rect(1px, 1px, 1px, 1px);height: 1px;margin: -1px;overflow: hidden;padding: 0;position: absolute;width: 1px;}#sk-container-id-13 div.sk-estimator {font-family: monospace;background-color: #f0f8ff;border: 1px dotted black;border-radius: 0.25em;box-sizing: border-box;margin-bottom: 0.5em;}#sk-container-id-13 div.sk-estimator:hover {background-color: #d4ebff;}#sk-container-id-13 div.sk-parallel-item::after {content: \"\";width: 100%;border-bottom: 1px solid gray;flex-grow: 1;}#sk-container-id-13 div.sk-label:hover label.sk-toggleable__label {background-color: #d4ebff;}#sk-container-id-13 div.sk-serial::before {content: \"\";position: absolute;border-left: 1px solid gray;box-sizing: border-box;top: 0;bottom: 0;left: 50%;z-index: 0;}#sk-container-id-13 div.sk-serial {display: flex;flex-direction: column;align-items: center;background-color: white;padding-right: 0.2em;padding-left: 0.2em;position: relative;}#sk-container-id-13 div.sk-item {position: relative;z-index: 1;}#sk-container-id-13 div.sk-parallel {display: flex;align-items: stretch;justify-content: center;background-color: white;position: relative;}#sk-container-id-13 div.sk-item::before, #sk-container-id-13 div.sk-parallel-item::before {content: \"\";position: absolute;border-left: 1px solid gray;box-sizing: border-box;top: 0;bottom: 0;left: 50%;z-index: -1;}#sk-container-id-13 div.sk-parallel-item {display: flex;flex-direction: column;z-index: 1;position: relative;background-color: white;}#sk-container-id-13 div.sk-parallel-item:first-child::after {align-self: flex-end;width: 50%;}#sk-container-id-13 div.sk-parallel-item:last-child::after {align-self: flex-start;width: 50%;}#sk-container-id-13 div.sk-parallel-item:only-child::after {width: 0;}#sk-container-id-13 div.sk-dashed-wrapped {border: 1px dashed gray;margin: 0 0.4em 0.5em 0.4em;box-sizing: border-box;padding-bottom: 0.4em;background-color: white;}#sk-container-id-13 div.sk-label label {font-family: monospace;font-weight: bold;display: inline-block;line-height: 1.2em;}#sk-container-id-13 div.sk-label-container {text-align: center;}#sk-container-id-13 div.sk-container {/* jupyter's `normalize.less` sets `[hidden] { display: none; }` but bootstrap.min.css set `[hidden] { display: none !important; }` so we also need the `!important` here to be able to override the default hidden behavior on the sphinx rendered scikit-learn.org. See: https://github.com/scikit-learn/scikit-learn/issues/21755 */display: inline-block !important;position: relative;}#sk-container-id-13 div.sk-text-repr-fallback {display: none;}</style><div id=\"sk-container-id-13\" class=\"sk-top-container\"><div class=\"sk-text-repr-fallback\"><pre>RidgeCV(alphas=array([0.001, 0.011, 0.021, 0.031, 0.041, 0.051, 0.061, 0.071, 0.081,\n",
       "       0.091]),\n",
       "        normalize=True)</pre><b>In a Jupyter environment, please rerun this cell to show the HTML representation or trust the notebook. <br />On GitHub, the HTML representation is unable to render, please try loading this page with nbviewer.org.</b></div><div class=\"sk-container\" hidden><div class=\"sk-item\"><div class=\"sk-estimator sk-toggleable\"><input class=\"sk-toggleable__control sk-hidden--visually\" id=\"sk-estimator-id-13\" type=\"checkbox\" checked><label for=\"sk-estimator-id-13\" class=\"sk-toggleable__label sk-toggleable__label-arrow\">RidgeCV</label><div class=\"sk-toggleable__content\"><pre>RidgeCV(alphas=array([0.001, 0.011, 0.021, 0.031, 0.041, 0.051, 0.061, 0.071, 0.081,\n",
       "       0.091]),\n",
       "        normalize=True)</pre></div></div></div></div></div>"
      ],
      "text/plain": [
       "RidgeCV(alphas=array([0.001, 0.011, 0.021, 0.031, 0.041, 0.051, 0.061, 0.071, 0.081,\n",
       "       0.091]),\n",
       "        normalize=True)"
      ]
     },
     "execution_count": 244,
     "metadata": {},
     "output_type": "execute_result"
    }
   ],
   "source": [
    "# Ridge will return best alpha and coefficients after performing 10 Cross validation\n",
    "\n",
    "ridgecv=RidgeCV(alphas =np.arange(0.001,0.1,0.01),normalize=True)\n",
    "ridgecv.fit(x_train,y_train)"
   ]
  },
  {
   "cell_type": "code",
   "execution_count": 245,
   "id": "22843818",
   "metadata": {},
   "outputs": [
    {
     "data": {
      "text/plain": [
       "0.001"
      ]
     },
     "execution_count": 245,
     "metadata": {},
     "output_type": "execute_result"
    }
   ],
   "source": [
    "ridgecv.alpha_"
   ]
  },
  {
   "cell_type": "code",
   "execution_count": 250,
   "id": "829ba692",
   "metadata": {},
   "outputs": [
    {
     "data": {
      "text/html": [
       "<style>#sk-container-id-16 {color: black;background-color: white;}#sk-container-id-16 pre{padding: 0;}#sk-container-id-16 div.sk-toggleable {background-color: white;}#sk-container-id-16 label.sk-toggleable__label {cursor: pointer;display: block;width: 100%;margin-bottom: 0;padding: 0.3em;box-sizing: border-box;text-align: center;}#sk-container-id-16 label.sk-toggleable__label-arrow:before {content: \"▸\";float: left;margin-right: 0.25em;color: #696969;}#sk-container-id-16 label.sk-toggleable__label-arrow:hover:before {color: black;}#sk-container-id-16 div.sk-estimator:hover label.sk-toggleable__label-arrow:before {color: black;}#sk-container-id-16 div.sk-toggleable__content {max-height: 0;max-width: 0;overflow: hidden;text-align: left;background-color: #f0f8ff;}#sk-container-id-16 div.sk-toggleable__content pre {margin: 0.2em;color: black;border-radius: 0.25em;background-color: #f0f8ff;}#sk-container-id-16 input.sk-toggleable__control:checked~div.sk-toggleable__content {max-height: 200px;max-width: 100%;overflow: auto;}#sk-container-id-16 input.sk-toggleable__control:checked~label.sk-toggleable__label-arrow:before {content: \"▾\";}#sk-container-id-16 div.sk-estimator input.sk-toggleable__control:checked~label.sk-toggleable__label {background-color: #d4ebff;}#sk-container-id-16 div.sk-label input.sk-toggleable__control:checked~label.sk-toggleable__label {background-color: #d4ebff;}#sk-container-id-16 input.sk-hidden--visually {border: 0;clip: rect(1px 1px 1px 1px);clip: rect(1px, 1px, 1px, 1px);height: 1px;margin: -1px;overflow: hidden;padding: 0;position: absolute;width: 1px;}#sk-container-id-16 div.sk-estimator {font-family: monospace;background-color: #f0f8ff;border: 1px dotted black;border-radius: 0.25em;box-sizing: border-box;margin-bottom: 0.5em;}#sk-container-id-16 div.sk-estimator:hover {background-color: #d4ebff;}#sk-container-id-16 div.sk-parallel-item::after {content: \"\";width: 100%;border-bottom: 1px solid gray;flex-grow: 1;}#sk-container-id-16 div.sk-label:hover label.sk-toggleable__label {background-color: #d4ebff;}#sk-container-id-16 div.sk-serial::before {content: \"\";position: absolute;border-left: 1px solid gray;box-sizing: border-box;top: 0;bottom: 0;left: 50%;z-index: 0;}#sk-container-id-16 div.sk-serial {display: flex;flex-direction: column;align-items: center;background-color: white;padding-right: 0.2em;padding-left: 0.2em;position: relative;}#sk-container-id-16 div.sk-item {position: relative;z-index: 1;}#sk-container-id-16 div.sk-parallel {display: flex;align-items: stretch;justify-content: center;background-color: white;position: relative;}#sk-container-id-16 div.sk-item::before, #sk-container-id-16 div.sk-parallel-item::before {content: \"\";position: absolute;border-left: 1px solid gray;box-sizing: border-box;top: 0;bottom: 0;left: 50%;z-index: -1;}#sk-container-id-16 div.sk-parallel-item {display: flex;flex-direction: column;z-index: 1;position: relative;background-color: white;}#sk-container-id-16 div.sk-parallel-item:first-child::after {align-self: flex-end;width: 50%;}#sk-container-id-16 div.sk-parallel-item:last-child::after {align-self: flex-start;width: 50%;}#sk-container-id-16 div.sk-parallel-item:only-child::after {width: 0;}#sk-container-id-16 div.sk-dashed-wrapped {border: 1px dashed gray;margin: 0 0.4em 0.5em 0.4em;box-sizing: border-box;padding-bottom: 0.4em;background-color: white;}#sk-container-id-16 div.sk-label label {font-family: monospace;font-weight: bold;display: inline-block;line-height: 1.2em;}#sk-container-id-16 div.sk-label-container {text-align: center;}#sk-container-id-16 div.sk-container {/* jupyter's `normalize.less` sets `[hidden] { display: none; }` but bootstrap.min.css set `[hidden] { display: none !important; }` so we also need the `!important` here to be able to override the default hidden behavior on the sphinx rendered scikit-learn.org. See: https://github.com/scikit-learn/scikit-learn/issues/21755 */display: inline-block !important;position: relative;}#sk-container-id-16 div.sk-text-repr-fallback {display: none;}</style><div id=\"sk-container-id-16\" class=\"sk-top-container\"><div class=\"sk-text-repr-fallback\"><pre>Ridge(alpha=0.001)</pre><b>In a Jupyter environment, please rerun this cell to show the HTML representation or trust the notebook. <br />On GitHub, the HTML representation is unable to render, please try loading this page with nbviewer.org.</b></div><div class=\"sk-container\" hidden><div class=\"sk-item\"><div class=\"sk-estimator sk-toggleable\"><input class=\"sk-toggleable__control sk-hidden--visually\" id=\"sk-estimator-id-16\" type=\"checkbox\" checked><label for=\"sk-estimator-id-16\" class=\"sk-toggleable__label sk-toggleable__label-arrow\">Ridge</label><div class=\"sk-toggleable__content\"><pre>Ridge(alpha=0.001)</pre></div></div></div></div></div>"
      ],
      "text/plain": [
       "Ridge(alpha=0.001)"
      ]
     },
     "execution_count": 250,
     "metadata": {},
     "output_type": "execute_result"
    }
   ],
   "source": [
    "ridge_model = Ridge(alpha=ridgecv.alpha_)\n",
    "ridge_model.fit(x_train,y_train)"
   ]
  },
  {
   "cell_type": "code",
   "execution_count": 251,
   "id": "cff668cf",
   "metadata": {},
   "outputs": [
    {
     "data": {
      "text/plain": [
       "0.7750514893301945"
      ]
     },
     "execution_count": 251,
     "metadata": {},
     "output_type": "execute_result"
    }
   ],
   "source": [
    "ridge_model.score(x_test,y_test)"
   ]
  },
  {
   "cell_type": "markdown",
   "id": "3f69db9a",
   "metadata": {},
   "source": [
    "We get same result in lasso and ridge . So i think that if we using RandomForest may be our accuracy will boost."
   ]
  },
  {
   "cell_type": "markdown",
   "id": "ae368366",
   "metadata": {},
   "source": [
    "# Ensemble Technique"
   ]
  },
  {
   "cell_type": "code",
   "execution_count": 253,
   "id": "b11dd182",
   "metadata": {},
   "outputs": [
    {
     "name": "stdout",
     "output_type": "stream",
     "text": [
      "{'criterion': 'mse', 'max_depth': 26, 'max_features': 'auto', 'min_samples_leaf': 12, 'min_samples_split': 10}\n"
     ]
    }
   ],
   "source": [
    "from sklearn.model_selection import GridSearchCV\n",
    "from sklearn.ensemble import RandomForestRegressor\n",
    "\n",
    "parameter={'criterion':['mse','mae'],\n",
    "          'max_features':['auto','sqrt','log2'],\n",
    "          'max_depth':range(20,50),\n",
    "          'min_samples_split':range(10,15),\n",
    "          'min_samples_leaf':range(12,14)}\n",
    "\n",
    "\n",
    "\n",
    "rf=RandomForestRegressor()\n",
    "clf=GridSearchCV(rf,parameter)\n",
    "clf.fit(x_train,y_train)\n",
    "print(clf.best_params_)"
   ]
  },
  {
   "cell_type": "code",
   "execution_count": 256,
   "id": "8909e173",
   "metadata": {},
   "outputs": [
    {
     "name": "stdout",
     "output_type": "stream",
     "text": [
      "R2 Score 88.2592861936535\n",
      "Cross Val Score 85.70885019709644\n"
     ]
    }
   ],
   "source": [
    "rf=RandomForestRegressor(criterion='mse',max_features='auto',max_depth=26,min_samples_leaf=12,min_samples_split=10)\n",
    "rf.fit(x_train,y_train)\n",
    "rf.score(x_train,y_train)\n",
    "pred_decision=rf.predict(x_test)\n",
    "rfs=r2_score(y_test,pred_decision)\n",
    "print(\"R2 Score\",rfs*100)\n",
    "rfs_score=cross_val_score(rf,x,y,cv=5)\n",
    "rfc=rfs_score.mean()\n",
    "print('Cross Val Score',rfc*100)"
   ]
  },
  {
   "cell_type": "code",
   "execution_count": 260,
   "id": "d1ec4484",
   "metadata": {},
   "outputs": [
    {
     "data": {
      "text/plain": [
       "0.8821487890151009"
      ]
     },
     "execution_count": 260,
     "metadata": {},
     "output_type": "execute_result"
    }
   ],
   "source": [
    "rf.score(x_train,y_train)#Training Score"
   ]
  },
  {
   "cell_type": "code",
   "execution_count": 261,
   "id": "007d3870",
   "metadata": {},
   "outputs": [
    {
     "data": {
      "text/plain": [
       "0.882592861936535"
      ]
     },
     "execution_count": 261,
     "metadata": {},
     "output_type": "execute_result"
    }
   ],
   "source": [
    "rf.score(x_test,y_test)#Testing Score"
   ]
  },
  {
   "cell_type": "markdown",
   "id": "6cbf7b49",
   "metadata": {},
   "source": [
    "Here we got 88 % Training Score and Testing Score both . and now our score is better then Linear Regression . This reason for i am going with Random Forest"
   ]
  },
  {
   "cell_type": "code",
   "execution_count": 262,
   "id": "4c61d8a5",
   "metadata": {},
   "outputs": [],
   "source": [
    "#So lets save the model\n",
    "import pickle\n",
    "filename=('Insurence Foresast')\n",
    "pickle.dump(rf,open(filename,'wb'))"
   ]
  },
  {
   "cell_type": "markdown",
   "id": "3e16e5b0",
   "metadata": {},
   "source": [
    "# Conclusion"
   ]
  },
  {
   "cell_type": "code",
   "execution_count": 263,
   "id": "5ff048b4",
   "metadata": {},
   "outputs": [
    {
     "name": "stdout",
     "output_type": "stream",
     "text": [
      "88.2592861936535\n"
     ]
    }
   ],
   "source": [
    "loaded_model=pickle.load(open('Insurence Foresast','rb'))\n",
    "result=loaded_model.score(x_test,y_test)\n",
    "print(result*100)"
   ]
  },
  {
   "cell_type": "code",
   "execution_count": 266,
   "id": "2a35b5fc",
   "metadata": {},
   "outputs": [
    {
     "data": {
      "text/html": [
       "<div>\n",
       "<style scoped>\n",
       "    .dataframe tbody tr th:only-of-type {\n",
       "        vertical-align: middle;\n",
       "    }\n",
       "\n",
       "    .dataframe tbody tr th {\n",
       "        vertical-align: top;\n",
       "    }\n",
       "\n",
       "    .dataframe thead th {\n",
       "        text-align: right;\n",
       "    }\n",
       "</style>\n",
       "<table border=\"1\" class=\"dataframe\">\n",
       "  <thead>\n",
       "    <tr style=\"text-align: right;\">\n",
       "      <th></th>\n",
       "      <th>0</th>\n",
       "      <th>1</th>\n",
       "      <th>2</th>\n",
       "      <th>3</th>\n",
       "      <th>4</th>\n",
       "      <th>5</th>\n",
       "      <th>6</th>\n",
       "      <th>7</th>\n",
       "      <th>8</th>\n",
       "      <th>9</th>\n",
       "      <th>...</th>\n",
       "      <th>1056</th>\n",
       "      <th>1057</th>\n",
       "      <th>1058</th>\n",
       "      <th>1059</th>\n",
       "      <th>1060</th>\n",
       "      <th>1061</th>\n",
       "      <th>1062</th>\n",
       "      <th>1063</th>\n",
       "      <th>1064</th>\n",
       "      <th>1065</th>\n",
       "    </tr>\n",
       "  </thead>\n",
       "  <tbody>\n",
       "    <tr>\n",
       "      <th>predicted</th>\n",
       "      <td>2185.880579</td>\n",
       "      <td>10397.078317</td>\n",
       "      <td>7181.483398</td>\n",
       "      <td>7671.268939</td>\n",
       "      <td>8418.146373</td>\n",
       "      <td>2690.687687</td>\n",
       "      <td>11834.572644</td>\n",
       "      <td>14441.296297</td>\n",
       "      <td>27152.927069</td>\n",
       "      <td>18995.934033</td>\n",
       "      <td>...</td>\n",
       "      <td>3847.544582</td>\n",
       "      <td>3339.947363</td>\n",
       "      <td>14582.622262</td>\n",
       "      <td>44591.238247</td>\n",
       "      <td>47781.213452</td>\n",
       "      <td>5126.740046</td>\n",
       "      <td>2026.337808</td>\n",
       "      <td>39808.342056</td>\n",
       "      <td>6575.461646</td>\n",
       "      <td>6582.585832</td>\n",
       "    </tr>\n",
       "    <tr>\n",
       "      <th>original</th>\n",
       "      <td>17053.774289</td>\n",
       "      <td>11246.623143</td>\n",
       "      <td>7214.699786</td>\n",
       "      <td>7580.239601</td>\n",
       "      <td>8717.858457</td>\n",
       "      <td>13138.937292</td>\n",
       "      <td>12515.856756</td>\n",
       "      <td>3771.329014</td>\n",
       "      <td>9742.125832</td>\n",
       "      <td>36252.301797</td>\n",
       "      <td>...</td>\n",
       "      <td>NaN</td>\n",
       "      <td>NaN</td>\n",
       "      <td>NaN</td>\n",
       "      <td>NaN</td>\n",
       "      <td>NaN</td>\n",
       "      <td>NaN</td>\n",
       "      <td>NaN</td>\n",
       "      <td>NaN</td>\n",
       "      <td>NaN</td>\n",
       "      <td>NaN</td>\n",
       "    </tr>\n",
       "  </tbody>\n",
       "</table>\n",
       "<p>2 rows × 1066 columns</p>\n",
       "</div>"
      ],
      "text/plain": [
       "                   0             1            2            3            4     \\\n",
       "predicted   2185.880579  10397.078317  7181.483398  7671.268939  8418.146373   \n",
       "original   17053.774289  11246.623143  7214.699786  7580.239601  8717.858457   \n",
       "\n",
       "                   5             6             7             8     \\\n",
       "predicted   2690.687687  11834.572644  14441.296297  27152.927069   \n",
       "original   13138.937292  12515.856756   3771.329014   9742.125832   \n",
       "\n",
       "                   9     ...         1056         1057          1058  \\\n",
       "predicted  18995.934033  ...  3847.544582  3339.947363  14582.622262   \n",
       "original   36252.301797  ...          NaN          NaN           NaN   \n",
       "\n",
       "                   1059          1060         1061         1062          1063  \\\n",
       "predicted  44591.238247  47781.213452  5126.740046  2026.337808  39808.342056   \n",
       "original            NaN           NaN          NaN          NaN           NaN   \n",
       "\n",
       "                  1064         1065  \n",
       "predicted  6575.461646  6582.585832  \n",
       "original           NaN          NaN  \n",
       "\n",
       "[2 rows x 1066 columns]"
      ]
     },
     "execution_count": 266,
     "metadata": {},
     "output_type": "execute_result"
    }
   ],
   "source": [
    "conclusion=pd.DataFrame([loaded_model.predict(x_train)[:],pred_decision[:]],index=['predicted','original'])\n",
    "conclusion"
   ]
  },
  {
   "cell_type": "code",
   "execution_count": 267,
   "id": "38e252ad",
   "metadata": {},
   "outputs": [],
   "source": [
    "#Student of DataScience\n",
    "#Student of DataTrained- Saurav\n",
    "#Date-19-10-22\n",
    "#Time - 21:12"
   ]
  },
  {
   "cell_type": "code",
   "execution_count": null,
   "id": "81d0ad98",
   "metadata": {},
   "outputs": [],
   "source": []
  }
 ],
 "metadata": {
  "kernelspec": {
   "display_name": "Python 3 (ipykernel)",
   "language": "python",
   "name": "python3"
  },
  "language_info": {
   "codemirror_mode": {
    "name": "ipython",
    "version": 3
   },
   "file_extension": ".py",
   "mimetype": "text/x-python",
   "name": "python",
   "nbconvert_exporter": "python",
   "pygments_lexer": "ipython3",
   "version": "3.9.12"
  }
 },
 "nbformat": 4,
 "nbformat_minor": 5
}
