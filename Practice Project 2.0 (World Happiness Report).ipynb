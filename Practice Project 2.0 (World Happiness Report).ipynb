{
 "cells": [
  {
   "cell_type": "markdown",
   "id": "9b05071a",
   "metadata": {},
   "source": [
    "# World Happiness Report\n",
    "\n",
    "\n",
    "# Problem Statement:\n",
    " \n",
    " \n",
    "Context\n",
    "\n",
    "\n",
    "\n",
    "\n",
    "The World Happiness Report is a landmark survey of the state of global happiness. The first report was published in 2012, the second in 2013, the third in 2015, and the fourth in the 2016 Update. The World Happiness 2017, which ranks 155 countries by their happiness levels, was released at the United Nations at an event celebrating International Day of Happiness on March 20th. The report continues to gain global recognition as governments, organizations and civil society increasingly use happiness indicators to inform their policy-making decisions. Leading experts across fields – economics, psychology, survey analysis, national statistics, health, public policy and more – describe how measurements of well-being can be used effectively to assess the progress of nations. The reports review the state of happiness in the world today and show how the new science of happiness explains personal and national variations in happiness.\n",
    "\n",
    "\n",
    "\n",
    "# What is Dystopia?\n",
    "\n",
    "Dystopia is an imaginary country that has the world’s least-happy people. The purpose in establishing Dystopia is to have a benchmark against which all countries can be favorably compared (no country performs more poorly than Dystopia) in terms of each of the six key variables, thus allowing each sub-bar to be of positive width. The lowest scores observed for the six key variables, therefore, characterize Dystopia. Since life would be very unpleasant in a country with the world’s lowest incomes, lowest life expectancy, lowest generosity, most corruption, least freedom and least social support, it is referred to as “Dystopia,” in contrast to Utopia.\n",
    "\n",
    "# What are the residuals?\n",
    "\n",
    "The residuals, or unexplained components, differ for each country, reflecting the extent to which the six variables either over- or under-explain average life evaluations. These residuals have an average value of approximately zero over the whole set of countries. \n",
    "\n",
    "\n",
    "\n",
    "# What do the columns succeeding the Happiness Score(like Family, Generosity, etc.) describe?\n",
    "\n",
    "\n",
    "\n",
    "\n",
    "\n",
    "The following columns: GDP per Capita, Family, Life Expectancy, Freedom, Generosity, Trust Government Corruption describe the extent to which these factors contribute in evaluating the happiness in each country.\n",
    "\n",
    "\n",
    "The Dystopia Residual metric actually is the Dystopia Happiness Score(1.85) + the Residual value or the unexplained value for each country.\n",
    "\n",
    "\n",
    "\n",
    "\n",
    "\n",
    "The Dystopia Residual is already provided in the dataset. \n",
    "\n",
    "If you add all these factors up, you get the happiness score so it might be un-reliable to model them to predict Happiness Scores.\n",
    "\n",
    "You need to predict the happiness score considering all the other factors mentioned in the dataset. \n",
    "\n",
    "Note: You can find the dataset in the link below."
   ]
  },
  {
   "cell_type": "markdown",
   "id": "1a647c62",
   "metadata": {},
   "source": [
    "# # Always refer.\n",
    "For any queries about algorithm follow the given below link.\n",
    "\n",
    "\n",
    "\n",
    "\n",
    "https://scikit-learn.org/stable/index.html"
   ]
  },
  {
   "cell_type": "code",
   "execution_count": 1,
   "id": "4076ec44",
   "metadata": {},
   "outputs": [],
   "source": [
    "#Lets import libraries for get dataset\n",
    "import numpy as np\n",
    "import pandas as pd"
   ]
  },
  {
   "cell_type": "code",
   "execution_count": 2,
   "id": "b3788788",
   "metadata": {},
   "outputs": [
    {
     "data": {
      "text/html": [
       "<div>\n",
       "<style scoped>\n",
       "    .dataframe tbody tr th:only-of-type {\n",
       "        vertical-align: middle;\n",
       "    }\n",
       "\n",
       "    .dataframe tbody tr th {\n",
       "        vertical-align: top;\n",
       "    }\n",
       "\n",
       "    .dataframe thead th {\n",
       "        text-align: right;\n",
       "    }\n",
       "</style>\n",
       "<table border=\"1\" class=\"dataframe\">\n",
       "  <thead>\n",
       "    <tr style=\"text-align: right;\">\n",
       "      <th></th>\n",
       "      <th>Country</th>\n",
       "      <th>Region</th>\n",
       "      <th>Happiness Rank</th>\n",
       "      <th>Happiness Score</th>\n",
       "      <th>Standard Error</th>\n",
       "      <th>Economy (GDP per Capita)</th>\n",
       "      <th>Family</th>\n",
       "      <th>Health (Life Expectancy)</th>\n",
       "      <th>Freedom</th>\n",
       "      <th>Trust (Government Corruption)</th>\n",
       "      <th>Generosity</th>\n",
       "      <th>Dystopia Residual</th>\n",
       "    </tr>\n",
       "  </thead>\n",
       "  <tbody>\n",
       "    <tr>\n",
       "      <th>0</th>\n",
       "      <td>Switzerland</td>\n",
       "      <td>Western Europe</td>\n",
       "      <td>1</td>\n",
       "      <td>7.587</td>\n",
       "      <td>0.03411</td>\n",
       "      <td>1.39651</td>\n",
       "      <td>1.34951</td>\n",
       "      <td>0.94143</td>\n",
       "      <td>0.66557</td>\n",
       "      <td>0.41978</td>\n",
       "      <td>0.29678</td>\n",
       "      <td>2.51738</td>\n",
       "    </tr>\n",
       "    <tr>\n",
       "      <th>1</th>\n",
       "      <td>Iceland</td>\n",
       "      <td>Western Europe</td>\n",
       "      <td>2</td>\n",
       "      <td>7.561</td>\n",
       "      <td>0.04884</td>\n",
       "      <td>1.30232</td>\n",
       "      <td>1.40223</td>\n",
       "      <td>0.94784</td>\n",
       "      <td>0.62877</td>\n",
       "      <td>0.14145</td>\n",
       "      <td>0.43630</td>\n",
       "      <td>2.70201</td>\n",
       "    </tr>\n",
       "    <tr>\n",
       "      <th>2</th>\n",
       "      <td>Denmark</td>\n",
       "      <td>Western Europe</td>\n",
       "      <td>3</td>\n",
       "      <td>7.527</td>\n",
       "      <td>0.03328</td>\n",
       "      <td>1.32548</td>\n",
       "      <td>1.36058</td>\n",
       "      <td>0.87464</td>\n",
       "      <td>0.64938</td>\n",
       "      <td>0.48357</td>\n",
       "      <td>0.34139</td>\n",
       "      <td>2.49204</td>\n",
       "    </tr>\n",
       "    <tr>\n",
       "      <th>3</th>\n",
       "      <td>Norway</td>\n",
       "      <td>Western Europe</td>\n",
       "      <td>4</td>\n",
       "      <td>7.522</td>\n",
       "      <td>0.03880</td>\n",
       "      <td>1.45900</td>\n",
       "      <td>1.33095</td>\n",
       "      <td>0.88521</td>\n",
       "      <td>0.66973</td>\n",
       "      <td>0.36503</td>\n",
       "      <td>0.34699</td>\n",
       "      <td>2.46531</td>\n",
       "    </tr>\n",
       "    <tr>\n",
       "      <th>4</th>\n",
       "      <td>Canada</td>\n",
       "      <td>North America</td>\n",
       "      <td>5</td>\n",
       "      <td>7.427</td>\n",
       "      <td>0.03553</td>\n",
       "      <td>1.32629</td>\n",
       "      <td>1.32261</td>\n",
       "      <td>0.90563</td>\n",
       "      <td>0.63297</td>\n",
       "      <td>0.32957</td>\n",
       "      <td>0.45811</td>\n",
       "      <td>2.45176</td>\n",
       "    </tr>\n",
       "  </tbody>\n",
       "</table>\n",
       "</div>"
      ],
      "text/plain": [
       "       Country          Region  Happiness Rank  Happiness Score  \\\n",
       "0  Switzerland  Western Europe               1            7.587   \n",
       "1      Iceland  Western Europe               2            7.561   \n",
       "2      Denmark  Western Europe               3            7.527   \n",
       "3       Norway  Western Europe               4            7.522   \n",
       "4       Canada   North America               5            7.427   \n",
       "\n",
       "   Standard Error  Economy (GDP per Capita)   Family  \\\n",
       "0         0.03411                   1.39651  1.34951   \n",
       "1         0.04884                   1.30232  1.40223   \n",
       "2         0.03328                   1.32548  1.36058   \n",
       "3         0.03880                   1.45900  1.33095   \n",
       "4         0.03553                   1.32629  1.32261   \n",
       "\n",
       "   Health (Life Expectancy)  Freedom  Trust (Government Corruption)  \\\n",
       "0                   0.94143  0.66557                        0.41978   \n",
       "1                   0.94784  0.62877                        0.14145   \n",
       "2                   0.87464  0.64938                        0.48357   \n",
       "3                   0.88521  0.66973                        0.36503   \n",
       "4                   0.90563  0.63297                        0.32957   \n",
       "\n",
       "   Generosity  Dystopia Residual  \n",
       "0     0.29678            2.51738  \n",
       "1     0.43630            2.70201  \n",
       "2     0.34139            2.49204  \n",
       "3     0.34699            2.46531  \n",
       "4     0.45811            2.45176  "
      ]
     },
     "execution_count": 2,
     "metadata": {},
     "output_type": "execute_result"
    }
   ],
   "source": [
    "#Lets load dataset\n",
    "data=pd.read_csv(\"https://raw.githubusercontent.com/dsrscientist/DSData/master/happiness_score_dataset.csv\")\n",
    "data.head()"
   ]
  },
  {
   "cell_type": "code",
   "execution_count": 3,
   "id": "3deef9f6",
   "metadata": {},
   "outputs": [
    {
     "data": {
      "text/plain": [
       "(158, 12)"
      ]
     },
     "execution_count": 3,
     "metadata": {},
     "output_type": "execute_result"
    }
   ],
   "source": [
    "#Lets check the shape of the dataset\n",
    "data.shape"
   ]
  },
  {
   "cell_type": "markdown",
   "id": "5c203402",
   "metadata": {},
   "source": [
    "So, we have 152 rows and 12 column."
   ]
  },
  {
   "cell_type": "code",
   "execution_count": 4,
   "id": "2ae827eb",
   "metadata": {},
   "outputs": [
    {
     "data": {
      "text/plain": [
       "Country                          0\n",
       "Region                           0\n",
       "Happiness Rank                   0\n",
       "Happiness Score                  0\n",
       "Standard Error                   0\n",
       "Economy (GDP per Capita)         0\n",
       "Family                           0\n",
       "Health (Life Expectancy)         0\n",
       "Freedom                          0\n",
       "Trust (Government Corruption)    0\n",
       "Generosity                       0\n",
       "Dystopia Residual                0\n",
       "dtype: int64"
      ]
     },
     "execution_count": 4,
     "metadata": {},
     "output_type": "execute_result"
    }
   ],
   "source": [
    "#Checking Nan Values\n",
    "data.isna().sum()"
   ]
  },
  {
   "cell_type": "markdown",
   "id": "dbeb5056",
   "metadata": {},
   "source": [
    "So, we dont have Nan values . we are good to proceed."
   ]
  },
  {
   "cell_type": "code",
   "execution_count": 5,
   "id": "18246015",
   "metadata": {},
   "outputs": [
    {
     "data": {
      "text/plain": [
       "Country                           object\n",
       "Region                            object\n",
       "Happiness Rank                     int64\n",
       "Happiness Score                  float64\n",
       "Standard Error                   float64\n",
       "Economy (GDP per Capita)         float64\n",
       "Family                           float64\n",
       "Health (Life Expectancy)         float64\n",
       "Freedom                          float64\n",
       "Trust (Government Corruption)    float64\n",
       "Generosity                       float64\n",
       "Dystopia Residual                float64\n",
       "dtype: object"
      ]
     },
     "execution_count": 5,
     "metadata": {},
     "output_type": "execute_result"
    }
   ],
   "source": [
    "#Lets check the datatype of the columns\n",
    "data.dtypes"
   ]
  },
  {
   "cell_type": "markdown",
   "id": "8802509a",
   "metadata": {},
   "source": [
    "So, 2 columns has object type data [\"Country and Region\"] and 1 column has int64 dataype['Region'] and left columns hace float value . and all know float values is 99 % of time its a continious data ."
   ]
  },
  {
   "cell_type": "markdown",
   "id": "022ae829",
   "metadata": {},
   "source": [
    "# Features ,\n",
    "\n",
    "- Country\n",
    "\n",
    "\n",
    "- Region\n",
    "\n",
    "\n",
    "- Happiness Rank\n",
    "\n",
    "\n",
    "- Happiness Score\n",
    "\n",
    "\n",
    "- Standard Error\n",
    "\n",
    "\n",
    "\n",
    "- Economy (GDP per Capita)\n",
    "\n",
    "\n",
    "\n",
    "- Family\n",
    "\n",
    "\n",
    "\n",
    "- Health (Life Expectancy)\n",
    "\n",
    "\n",
    "- Freedom\n",
    "\n",
    "\n",
    "\n",
    "- Health (Life Expectancy)\n",
    "\n",
    "\n",
    "\n",
    "- Freedom\n",
    "\n",
    "\n",
    "\n",
    "- Trust (Government Corruption)\n",
    "\n",
    "\n",
    "\n",
    "\n",
    "- Generosity\n",
    "\n",
    "\n",
    "\n",
    "\n",
    "# Target\n",
    "\n",
    "\n",
    "\n",
    "\n",
    "\n",
    "- Dystopia Residual\n",
    "\n"
   ]
  },
  {
   "cell_type": "code",
   "execution_count": 6,
   "id": "1fad3c0e",
   "metadata": {},
   "outputs": [
    {
     "data": {
      "text/html": [
       "<div>\n",
       "<style scoped>\n",
       "    .dataframe tbody tr th:only-of-type {\n",
       "        vertical-align: middle;\n",
       "    }\n",
       "\n",
       "    .dataframe tbody tr th {\n",
       "        vertical-align: top;\n",
       "    }\n",
       "\n",
       "    .dataframe thead th {\n",
       "        text-align: right;\n",
       "    }\n",
       "</style>\n",
       "<table border=\"1\" class=\"dataframe\">\n",
       "  <thead>\n",
       "    <tr style=\"text-align: right;\">\n",
       "      <th></th>\n",
       "      <th>Country</th>\n",
       "      <th>Region</th>\n",
       "      <th>Happiness Rank</th>\n",
       "      <th>Happiness Score</th>\n",
       "      <th>Standard Error</th>\n",
       "      <th>Economy (GDP per Capita)</th>\n",
       "      <th>Family</th>\n",
       "      <th>Health (Life Expectancy)</th>\n",
       "      <th>Freedom</th>\n",
       "      <th>Trust (Government Corruption)</th>\n",
       "      <th>Generosity</th>\n",
       "      <th>Dystopia Residual</th>\n",
       "    </tr>\n",
       "  </thead>\n",
       "  <tbody>\n",
       "  </tbody>\n",
       "</table>\n",
       "</div>"
      ],
      "text/plain": [
       "Empty DataFrame\n",
       "Columns: [Country, Region, Happiness Rank, Happiness Score, Standard Error, Economy (GDP per Capita), Family, Health (Life Expectancy), Freedom, Trust (Government Corruption), Generosity, Dystopia Residual]\n",
       "Index: []"
      ]
     },
     "execution_count": 6,
     "metadata": {},
     "output_type": "execute_result"
    }
   ],
   "source": [
    "#Lets use loc method and check thre is any blank space are available in target columns.\n",
    "data.loc[data['Dystopia Residual']==\" \"]"
   ]
  },
  {
   "cell_type": "markdown",
   "id": "40e0485b",
   "metadata": {},
   "source": [
    "So , in our target column there is no blank space  and we also dont have null value . we are good to proceed."
   ]
  },
  {
   "cell_type": "code",
   "execution_count": 7,
   "id": "4360dcc5",
   "metadata": {},
   "outputs": [
    {
     "data": {
      "text/html": [
       "<div>\n",
       "<style scoped>\n",
       "    .dataframe tbody tr th:only-of-type {\n",
       "        vertical-align: middle;\n",
       "    }\n",
       "\n",
       "    .dataframe tbody tr th {\n",
       "        vertical-align: top;\n",
       "    }\n",
       "\n",
       "    .dataframe thead th {\n",
       "        text-align: right;\n",
       "    }\n",
       "</style>\n",
       "<table border=\"1\" class=\"dataframe\">\n",
       "  <thead>\n",
       "    <tr style=\"text-align: right;\">\n",
       "      <th></th>\n",
       "      <th>Happiness Rank</th>\n",
       "      <th>Happiness Score</th>\n",
       "      <th>Standard Error</th>\n",
       "      <th>Economy (GDP per Capita)</th>\n",
       "      <th>Family</th>\n",
       "      <th>Health (Life Expectancy)</th>\n",
       "      <th>Freedom</th>\n",
       "      <th>Trust (Government Corruption)</th>\n",
       "      <th>Generosity</th>\n",
       "      <th>Dystopia Residual</th>\n",
       "    </tr>\n",
       "  </thead>\n",
       "  <tbody>\n",
       "    <tr>\n",
       "      <th>count</th>\n",
       "      <td>158.000000</td>\n",
       "      <td>158.000000</td>\n",
       "      <td>158.000000</td>\n",
       "      <td>158.000000</td>\n",
       "      <td>158.000000</td>\n",
       "      <td>158.000000</td>\n",
       "      <td>158.000000</td>\n",
       "      <td>158.000000</td>\n",
       "      <td>158.000000</td>\n",
       "      <td>158.000000</td>\n",
       "    </tr>\n",
       "    <tr>\n",
       "      <th>mean</th>\n",
       "      <td>79.493671</td>\n",
       "      <td>5.375734</td>\n",
       "      <td>0.047885</td>\n",
       "      <td>0.846137</td>\n",
       "      <td>0.991046</td>\n",
       "      <td>0.630259</td>\n",
       "      <td>0.428615</td>\n",
       "      <td>0.143422</td>\n",
       "      <td>0.237296</td>\n",
       "      <td>2.098977</td>\n",
       "    </tr>\n",
       "    <tr>\n",
       "      <th>std</th>\n",
       "      <td>45.754363</td>\n",
       "      <td>1.145010</td>\n",
       "      <td>0.017146</td>\n",
       "      <td>0.403121</td>\n",
       "      <td>0.272369</td>\n",
       "      <td>0.247078</td>\n",
       "      <td>0.150693</td>\n",
       "      <td>0.120034</td>\n",
       "      <td>0.126685</td>\n",
       "      <td>0.553550</td>\n",
       "    </tr>\n",
       "    <tr>\n",
       "      <th>min</th>\n",
       "      <td>1.000000</td>\n",
       "      <td>2.839000</td>\n",
       "      <td>0.018480</td>\n",
       "      <td>0.000000</td>\n",
       "      <td>0.000000</td>\n",
       "      <td>0.000000</td>\n",
       "      <td>0.000000</td>\n",
       "      <td>0.000000</td>\n",
       "      <td>0.000000</td>\n",
       "      <td>0.328580</td>\n",
       "    </tr>\n",
       "    <tr>\n",
       "      <th>25%</th>\n",
       "      <td>40.250000</td>\n",
       "      <td>4.526000</td>\n",
       "      <td>0.037268</td>\n",
       "      <td>0.545808</td>\n",
       "      <td>0.856823</td>\n",
       "      <td>0.439185</td>\n",
       "      <td>0.328330</td>\n",
       "      <td>0.061675</td>\n",
       "      <td>0.150553</td>\n",
       "      <td>1.759410</td>\n",
       "    </tr>\n",
       "    <tr>\n",
       "      <th>50%</th>\n",
       "      <td>79.500000</td>\n",
       "      <td>5.232500</td>\n",
       "      <td>0.043940</td>\n",
       "      <td>0.910245</td>\n",
       "      <td>1.029510</td>\n",
       "      <td>0.696705</td>\n",
       "      <td>0.435515</td>\n",
       "      <td>0.107220</td>\n",
       "      <td>0.216130</td>\n",
       "      <td>2.095415</td>\n",
       "    </tr>\n",
       "    <tr>\n",
       "      <th>75%</th>\n",
       "      <td>118.750000</td>\n",
       "      <td>6.243750</td>\n",
       "      <td>0.052300</td>\n",
       "      <td>1.158448</td>\n",
       "      <td>1.214405</td>\n",
       "      <td>0.811013</td>\n",
       "      <td>0.549092</td>\n",
       "      <td>0.180255</td>\n",
       "      <td>0.309883</td>\n",
       "      <td>2.462415</td>\n",
       "    </tr>\n",
       "    <tr>\n",
       "      <th>max</th>\n",
       "      <td>158.000000</td>\n",
       "      <td>7.587000</td>\n",
       "      <td>0.136930</td>\n",
       "      <td>1.690420</td>\n",
       "      <td>1.402230</td>\n",
       "      <td>1.025250</td>\n",
       "      <td>0.669730</td>\n",
       "      <td>0.551910</td>\n",
       "      <td>0.795880</td>\n",
       "      <td>3.602140</td>\n",
       "    </tr>\n",
       "  </tbody>\n",
       "</table>\n",
       "</div>"
      ],
      "text/plain": [
       "       Happiness Rank  Happiness Score  Standard Error  \\\n",
       "count      158.000000       158.000000      158.000000   \n",
       "mean        79.493671         5.375734        0.047885   \n",
       "std         45.754363         1.145010        0.017146   \n",
       "min          1.000000         2.839000        0.018480   \n",
       "25%         40.250000         4.526000        0.037268   \n",
       "50%         79.500000         5.232500        0.043940   \n",
       "75%        118.750000         6.243750        0.052300   \n",
       "max        158.000000         7.587000        0.136930   \n",
       "\n",
       "       Economy (GDP per Capita)      Family  Health (Life Expectancy)  \\\n",
       "count                158.000000  158.000000                158.000000   \n",
       "mean                   0.846137    0.991046                  0.630259   \n",
       "std                    0.403121    0.272369                  0.247078   \n",
       "min                    0.000000    0.000000                  0.000000   \n",
       "25%                    0.545808    0.856823                  0.439185   \n",
       "50%                    0.910245    1.029510                  0.696705   \n",
       "75%                    1.158448    1.214405                  0.811013   \n",
       "max                    1.690420    1.402230                  1.025250   \n",
       "\n",
       "          Freedom  Trust (Government Corruption)  Generosity  \\\n",
       "count  158.000000                     158.000000  158.000000   \n",
       "mean     0.428615                       0.143422    0.237296   \n",
       "std      0.150693                       0.120034    0.126685   \n",
       "min      0.000000                       0.000000    0.000000   \n",
       "25%      0.328330                       0.061675    0.150553   \n",
       "50%      0.435515                       0.107220    0.216130   \n",
       "75%      0.549092                       0.180255    0.309883   \n",
       "max      0.669730                       0.551910    0.795880   \n",
       "\n",
       "       Dystopia Residual  \n",
       "count         158.000000  \n",
       "mean            2.098977  \n",
       "std             0.553550  \n",
       "min             0.328580  \n",
       "25%             1.759410  \n",
       "50%             2.095415  \n",
       "75%             2.462415  \n",
       "max             3.602140  "
      ]
     },
     "execution_count": 7,
     "metadata": {},
     "output_type": "execute_result"
    }
   ],
   "source": [
    "# Lets check data description\n",
    "data.describe()"
   ]
  },
  {
   "cell_type": "markdown",
   "id": "edb2ac75",
   "metadata": {},
   "source": [
    "# Lets do EDA (Exploratory Data Analysis)"
   ]
  },
  {
   "cell_type": "code",
   "execution_count": 8,
   "id": "3134aa1a",
   "metadata": {},
   "outputs": [],
   "source": [
    "#Lets check the relationship between all features vs label.\n",
    "#For that we have to import datavisualization tools\n",
    "\n",
    "import matplotlib.pyplot as plt\n",
    "import seaborn as sns\n",
    "%matplotlib inline"
   ]
  },
  {
   "cell_type": "markdown",
   "id": "54d1875c",
   "metadata": {},
   "source": [
    "# Lets make DataFrame for the Nominal Data. \n",
    "\n",
    "(Selecting Categorical Columns)"
   ]
  },
  {
   "cell_type": "code",
   "execution_count": 9,
   "id": "a394777f",
   "metadata": {},
   "outputs": [
    {
     "data": {
      "text/html": [
       "<div>\n",
       "<style scoped>\n",
       "    .dataframe tbody tr th:only-of-type {\n",
       "        vertical-align: middle;\n",
       "    }\n",
       "\n",
       "    .dataframe tbody tr th {\n",
       "        vertical-align: top;\n",
       "    }\n",
       "\n",
       "    .dataframe thead th {\n",
       "        text-align: right;\n",
       "    }\n",
       "</style>\n",
       "<table border=\"1\" class=\"dataframe\">\n",
       "  <thead>\n",
       "    <tr style=\"text-align: right;\">\n",
       "      <th></th>\n",
       "      <th>Country</th>\n",
       "      <th>Region</th>\n",
       "    </tr>\n",
       "  </thead>\n",
       "  <tbody>\n",
       "    <tr>\n",
       "      <th>0</th>\n",
       "      <td>Switzerland</td>\n",
       "      <td>Western Europe</td>\n",
       "    </tr>\n",
       "    <tr>\n",
       "      <th>1</th>\n",
       "      <td>Iceland</td>\n",
       "      <td>Western Europe</td>\n",
       "    </tr>\n",
       "    <tr>\n",
       "      <th>2</th>\n",
       "      <td>Denmark</td>\n",
       "      <td>Western Europe</td>\n",
       "    </tr>\n",
       "    <tr>\n",
       "      <th>3</th>\n",
       "      <td>Norway</td>\n",
       "      <td>Western Europe</td>\n",
       "    </tr>\n",
       "    <tr>\n",
       "      <th>4</th>\n",
       "      <td>Canada</td>\n",
       "      <td>North America</td>\n",
       "    </tr>\n",
       "    <tr>\n",
       "      <th>...</th>\n",
       "      <td>...</td>\n",
       "      <td>...</td>\n",
       "    </tr>\n",
       "    <tr>\n",
       "      <th>153</th>\n",
       "      <td>Rwanda</td>\n",
       "      <td>Sub-Saharan Africa</td>\n",
       "    </tr>\n",
       "    <tr>\n",
       "      <th>154</th>\n",
       "      <td>Benin</td>\n",
       "      <td>Sub-Saharan Africa</td>\n",
       "    </tr>\n",
       "    <tr>\n",
       "      <th>155</th>\n",
       "      <td>Syria</td>\n",
       "      <td>Middle East and Northern Africa</td>\n",
       "    </tr>\n",
       "    <tr>\n",
       "      <th>156</th>\n",
       "      <td>Burundi</td>\n",
       "      <td>Sub-Saharan Africa</td>\n",
       "    </tr>\n",
       "    <tr>\n",
       "      <th>157</th>\n",
       "      <td>Togo</td>\n",
       "      <td>Sub-Saharan Africa</td>\n",
       "    </tr>\n",
       "  </tbody>\n",
       "</table>\n",
       "<p>158 rows × 2 columns</p>\n",
       "</div>"
      ],
      "text/plain": [
       "         Country                           Region\n",
       "0    Switzerland                   Western Europe\n",
       "1        Iceland                   Western Europe\n",
       "2        Denmark                   Western Europe\n",
       "3         Norway                   Western Europe\n",
       "4         Canada                    North America\n",
       "..           ...                              ...\n",
       "153       Rwanda               Sub-Saharan Africa\n",
       "154        Benin               Sub-Saharan Africa\n",
       "155        Syria  Middle East and Northern Africa\n",
       "156      Burundi               Sub-Saharan Africa\n",
       "157         Togo               Sub-Saharan Africa\n",
       "\n",
       "[158 rows x 2 columns]"
      ]
     },
     "execution_count": 9,
     "metadata": {},
     "output_type": "execute_result"
    }
   ],
   "source": [
    "data_cat=data[['Country','Region']]\n",
    "data_cat"
   ]
  },
  {
   "cell_type": "markdown",
   "id": "54f39c7c",
   "metadata": {},
   "source": [
    "# Visualization of the Data\n",
    "\n",
    "For the nominal categorical data we will use Countplot. but not in for both columns.  we will check for only one columns Region .\n",
    "\n",
    "\n",
    "Because first column is country name of 157 countries . and we know that there is no repaetation of the same country name .\n",
    "\n",
    "But we have to check region becasue for multiple countries we have same region . lets check according to region."
   ]
  },
  {
   "cell_type": "code",
   "execution_count": 10,
   "id": "b2cc12b7",
   "metadata": {},
   "outputs": [
    {
     "data": {
      "image/png": "[encoded data removed]",
      "text/plain": [
       "<Figure size 1800x1296 with 1 Axes>"
      ]
     },
     "metadata": {
      "needs_background": "light"
     },
     "output_type": "display_data"
    }
   ],
   "source": [
    "plt.figure(figsize=(25,18))\n",
    "sns.countplot(x='Region',data=data_cat)\n",
    "plt.show()"
   ]
  },
  {
   "cell_type": "markdown",
   "id": "c7655afc",
   "metadata": {},
   "source": [
    "So here we clearly see . we have 10 region . \n",
    "and we have\n",
    "\n",
    " More countries from \n",
    "\n",
    "- Western Europe\n",
    "\n",
    "- Middle East And Northern Africa\n",
    "\n",
    "- Latin America and Caribbean\n",
    "\n",
    "- Central and Eastern Europe\n",
    "\n",
    "- Sub-Saharan Africa\n",
    "\n",
    "\n",
    "\n",
    "Less Countries from\n",
    "\n",
    "\n",
    "\n",
    "- North America\n",
    "\n",
    "- Australia and New Zealand\n",
    "\n",
    "- Southeastern Asia\n",
    "\n",
    "- Eastern Asia\n",
    "\n",
    "- Southern Asia"
   ]
  },
  {
   "cell_type": "code",
   "execution_count": 11,
   "id": "de9cd933",
   "metadata": {},
   "outputs": [
    {
     "data": {
      "text/plain": [
       "array([1], dtype=int64)"
      ]
     },
     "execution_count": 11,
     "metadata": {},
     "output_type": "execute_result"
    }
   ],
   "source": [
    "#Lets check all countries are different from all countries data\n",
    "data_cat['Country'].value_counts().unique()"
   ]
  },
  {
   "cell_type": "markdown",
   "id": "0fad3f35",
   "metadata": {},
   "source": [
    "Here , we can see that there is no repeatation of any country name"
   ]
  },
  {
   "cell_type": "markdown",
   "id": "aef0ec34",
   "metadata": {},
   "source": [
    "# Lets check relationship between feature and label. "
   ]
  },
  {
   "cell_type": "code",
   "execution_count": 12,
   "id": "1cfd6a65",
   "metadata": {},
   "outputs": [
    {
     "data": {
      "image/png": "[encoded data removed]",
      "text/plain": [
       "<Figure size 432x288 with 1 Axes>"
      ]
     },
     "metadata": {
      "needs_background": "light"
     },
     "output_type": "display_data"
    }
   ],
   "source": [
    "sns.scatterplot(x='Happiness Rank',y='Dystopia Residual',data=data)\n",
    "plt.show()"
   ]
  },
  {
   "cell_type": "markdown",
   "id": "0c62c590",
   "metadata": {},
   "source": [
    "Here, we can clearly see in Happiness Rank and Dystopia Residual they have  some relations."
   ]
  },
  {
   "cell_type": "code",
   "execution_count": 13,
   "id": "f8e8e0c8",
   "metadata": {},
   "outputs": [
    {
     "data": {
      "image/png": "[encoded data removed]",
      "text/plain": [
       "<Figure size 432x288 with 1 Axes>"
      ]
     },
     "metadata": {
      "needs_background": "light"
     },
     "output_type": "display_data"
    }
   ],
   "source": [
    "sns.scatterplot(x='Happiness Score',y='Dystopia Residual',data=data)\n",
    "plt.show()"
   ]
  },
  {
   "cell_type": "markdown",
   "id": "805cf236",
   "metadata": {},
   "source": [
    "Here, we can clearly see in Happiness Score and Dystopia Residual there is some relation .\n",
    "But we cannot say that there is good relation . "
   ]
  },
  {
   "cell_type": "code",
   "execution_count": 14,
   "id": "c9563a00",
   "metadata": {},
   "outputs": [
    {
     "data": {
      "image/png": "[encoded data removed]",
      "text/plain": [
       "<Figure size 432x288 with 1 Axes>"
      ]
     },
     "metadata": {
      "needs_background": "light"
     },
     "output_type": "display_data"
    }
   ],
   "source": [
    "sns.scatterplot(x='Standard Error',y='Dystopia Residual',data=data)\n",
    "plt.show()"
   ]
  },
  {
   "cell_type": "markdown",
   "id": "789a1ccc",
   "metadata": {},
   "source": [
    "Here, we can clearly see in Standard Error and Dystopia Residual there is no relation .\n",
    "Maximum data points liew between 0.04 to 0.06 "
   ]
  },
  {
   "cell_type": "code",
   "execution_count": 15,
   "id": "6ab7be54",
   "metadata": {},
   "outputs": [
    {
     "data": {
      "image/png": "[encoded data removed]",
      "text/plain": [
       "<Figure size 432x288 with 1 Axes>"
      ]
     },
     "metadata": {
      "needs_background": "light"
     },
     "output_type": "display_data"
    }
   ],
   "source": [
    "sns.scatterplot(x='Economy (GDP per Capita)',y='Dystopia Residual',data=data)\n",
    "plt.show()"
   ]
  },
  {
   "cell_type": "markdown",
   "id": "f376807e",
   "metadata": {},
   "source": [
    "Here, we can clearly see in 'Economy (GDP per Capita) and Dystopia Residual there is some relation .\n",
    "But we cannot say that there is good relation . \n",
    "\n",
    "Because maximum data point lie on middile of the graph\n"
   ]
  },
  {
   "cell_type": "code",
   "execution_count": 16,
   "id": "cf5a1a43",
   "metadata": {},
   "outputs": [
    {
     "data": {
      "image/png": "[encoded data removed]",
      "text/plain": [
       "<Figure size 432x288 with 1 Axes>"
      ]
     },
     "metadata": {
      "needs_background": "light"
     },
     "output_type": "display_data"
    }
   ],
   "source": [
    "sns.scatterplot(x='Family',y='Dystopia Residual',data=data)\n",
    "plt.show()"
   ]
  },
  {
   "cell_type": "markdown",
   "id": "293679eb",
   "metadata": {},
   "source": [
    "Here, we can clearly see in 'Family and Dystopia Residual there is some relation .\n",
    "But we cannot say that there is good relation . \n",
    "\n",
    "Because maximum data point lie on 0.8 to 1.3\n"
   ]
  },
  {
   "cell_type": "code",
   "execution_count": 17,
   "id": "b82444bf",
   "metadata": {},
   "outputs": [
    {
     "data": {
      "image/png": "[encoded data removed]",
      "text/plain": [
       "<Figure size 432x288 with 1 Axes>"
      ]
     },
     "metadata": {
      "needs_background": "light"
     },
     "output_type": "display_data"
    }
   ],
   "source": [
    "sns.scatterplot(x='Health (Life Expectancy)',y='Dystopia Residual',data=data)\n",
    "plt.show()"
   ]
  },
  {
   "cell_type": "markdown",
   "id": "010c4357",
   "metadata": {},
   "source": [
    "Here, we can clearly see in Health (Life Expectancy) and Dystopia Residual there is some relation .\n",
    "But we cannot say that there is good relation . \n",
    "\n",
    "Because maximum data point lie on 0.6 to 1.9\n"
   ]
  },
  {
   "cell_type": "code",
   "execution_count": 18,
   "id": "66eafd56",
   "metadata": {},
   "outputs": [
    {
     "data": {
      "image/png": "[encoded data removed]",
      "text/plain": [
       "<Figure size 432x288 with 1 Axes>"
      ]
     },
     "metadata": {
      "needs_background": "light"
     },
     "output_type": "display_data"
    }
   ],
   "source": [
    "sns.scatterplot(x='Freedom',y='Dystopia Residual',data=data)\n",
    "plt.show()"
   ]
  },
  {
   "cell_type": "markdown",
   "id": "80ad3343",
   "metadata": {},
   "source": [
    "Here, we can clearly see in Freedom and Dystopia Residual there is some relation .\n",
    "But we cannot say that there is good relation . \n",
    "\n",
    "Because maximum data point lie on 0.3 to 0.5"
   ]
  },
  {
   "cell_type": "code",
   "execution_count": 19,
   "id": "1ef15d30",
   "metadata": {},
   "outputs": [
    {
     "data": {
      "image/png": "[encoded data removed]",
      "text/plain": [
       "<Figure size 432x288 with 1 Axes>"
      ]
     },
     "metadata": {
      "needs_background": "light"
     },
     "output_type": "display_data"
    }
   ],
   "source": [
    "sns.scatterplot(x='Trust (Government Corruption)',y='Dystopia Residual',data=data)\n",
    "plt.show()"
   ]
  },
  {
   "cell_type": "markdown",
   "id": "fb8c5b4d",
   "metadata": {},
   "source": [
    "We clearly see that , there is no relationship between Trust (Government Corruption) and Dystopia Residual.\n",
    "\n",
    "Maximum data points lie between 0.0 to 0.2"
   ]
  },
  {
   "cell_type": "code",
   "execution_count": 20,
   "id": "89682d2b",
   "metadata": {},
   "outputs": [
    {
     "data": {
      "image/png": "[encoded data removed]",
      "text/plain": [
       "<Figure size 432x288 with 1 Axes>"
      ]
     },
     "metadata": {
      "needs_background": "light"
     },
     "output_type": "display_data"
    }
   ],
   "source": [
    "sns.scatterplot(x='Generosity',y='Dystopia Residual',data=data)\n",
    "plt.show()"
   ]
  },
  {
   "cell_type": "markdown",
   "id": "548e0913",
   "metadata": {},
   "source": [
    "We clearly see that , there is no relationship between Trust (Government Corruption) and Dystopia Residual.\n",
    "\n",
    "Maximum data points lie between 0.0 to 0.5"
   ]
  },
  {
   "cell_type": "markdown",
   "id": "00528302",
   "metadata": {},
   "source": [
    "# Lets check Distribution of all Column except Categorical column."
   ]
  },
  {
   "cell_type": "code",
   "execution_count": 21,
   "id": "a75e43b5",
   "metadata": {},
   "outputs": [],
   "source": [
    "data_dist=data.drop(columns=['Country','Region'],axis=1)#Here we assigning in the new variable for checking distribution using distplot."
   ]
  },
  {
   "cell_type": "code",
   "execution_count": 22,
   "id": "52ae3f8c",
   "metadata": {},
   "outputs": [],
   "source": [
    "import warnings\n",
    "warnings.filterwarnings('ignore')"
   ]
  },
  {
   "cell_type": "code",
   "execution_count": 23,
   "id": "731c4b1f",
   "metadata": {},
   "outputs": [
    {
     "data": {
      "image/png": "[encoded data removed]",
      "text/plain": [
       "<Figure size 1080x576 with 9 Axes>"
      ]
     },
     "metadata": {
      "needs_background": "light"
     },
     "output_type": "display_data"
    }
   ],
   "source": [
    "plt.figure(figsize=(15,8))\n",
    "plotnumber=1\n",
    "for col in data_dist:\n",
    "    if plotnumber <=9:\n",
    "        ax=plt.subplot(3,3,plotnumber)\n",
    "        sns.distplot(data[col])\n",
    "        plt.xlabel(col,fontsize=12)\n",
    "    plotnumber +=1\n",
    "plt.show()"
   ]
  },
  {
   "cell_type": "markdown",
   "id": "d64c542b",
   "metadata": {},
   "source": [
    "According to the distributiion we see that . all data has almost normally distributed . but we have ouliers in Standard Error .\n",
    "\n",
    "We will see later the outliers."
   ]
  },
  {
   "cell_type": "markdown",
   "id": "1e2d0f64",
   "metadata": {},
   "source": [
    "# Now Proceed to Use Encoding Technique."
   ]
  },
  {
   "cell_type": "markdown",
   "id": "48f311d6",
   "metadata": {},
   "source": [
    "Since , The dataset have 2 string values . we will use encoding technique to convert the string data to numerical one."
   ]
  },
  {
   "cell_type": "markdown",
   "id": "6369ebb3",
   "metadata": {},
   "source": [
    "# Encoding of DataFrame"
   ]
  },
  {
   "cell_type": "code",
   "execution_count": 24,
   "id": "9b5f338f",
   "metadata": {},
   "outputs": [
    {
     "data": {
      "text/html": [
       "<div>\n",
       "<style scoped>\n",
       "    .dataframe tbody tr th:only-of-type {\n",
       "        vertical-align: middle;\n",
       "    }\n",
       "\n",
       "    .dataframe tbody tr th {\n",
       "        vertical-align: top;\n",
       "    }\n",
       "\n",
       "    .dataframe thead th {\n",
       "        text-align: right;\n",
       "    }\n",
       "</style>\n",
       "<table border=\"1\" class=\"dataframe\">\n",
       "  <thead>\n",
       "    <tr style=\"text-align: right;\">\n",
       "      <th></th>\n",
       "      <th>Country</th>\n",
       "      <th>Region</th>\n",
       "      <th>Happiness Rank</th>\n",
       "      <th>Happiness Score</th>\n",
       "      <th>Standard Error</th>\n",
       "      <th>Economy (GDP per Capita)</th>\n",
       "      <th>Family</th>\n",
       "      <th>Health (Life Expectancy)</th>\n",
       "      <th>Freedom</th>\n",
       "      <th>Trust (Government Corruption)</th>\n",
       "      <th>Generosity</th>\n",
       "      <th>Dystopia Residual</th>\n",
       "    </tr>\n",
       "  </thead>\n",
       "  <tbody>\n",
       "    <tr>\n",
       "      <th>0</th>\n",
       "      <td>135</td>\n",
       "      <td>9</td>\n",
       "      <td>1</td>\n",
       "      <td>7.587</td>\n",
       "      <td>0.03411</td>\n",
       "      <td>1.39651</td>\n",
       "      <td>1.34951</td>\n",
       "      <td>0.94143</td>\n",
       "      <td>0.66557</td>\n",
       "      <td>0.41978</td>\n",
       "      <td>0.29678</td>\n",
       "      <td>2.51738</td>\n",
       "    </tr>\n",
       "    <tr>\n",
       "      <th>1</th>\n",
       "      <td>58</td>\n",
       "      <td>9</td>\n",
       "      <td>2</td>\n",
       "      <td>7.561</td>\n",
       "      <td>0.04884</td>\n",
       "      <td>1.30232</td>\n",
       "      <td>1.40223</td>\n",
       "      <td>0.94784</td>\n",
       "      <td>0.62877</td>\n",
       "      <td>0.14145</td>\n",
       "      <td>0.43630</td>\n",
       "      <td>2.70201</td>\n",
       "    </tr>\n",
       "  </tbody>\n",
       "</table>\n",
       "</div>"
      ],
      "text/plain": [
       "   Country  Region  Happiness Rank  Happiness Score  Standard Error  \\\n",
       "0      135       9               1            7.587         0.03411   \n",
       "1       58       9               2            7.561         0.04884   \n",
       "\n",
       "   Economy (GDP per Capita)   Family  Health (Life Expectancy)  Freedom  \\\n",
       "0                   1.39651  1.34951                   0.94143  0.66557   \n",
       "1                   1.30232  1.40223                   0.94784  0.62877   \n",
       "\n",
       "   Trust (Government Corruption)  Generosity  Dystopia Residual  \n",
       "0                        0.41978     0.29678            2.51738  \n",
       "1                        0.14145     0.43630            2.70201  "
      ]
     },
     "execution_count": 24,
     "metadata": {},
     "output_type": "execute_result"
    }
   ],
   "source": [
    "# Lets import ordinal encoder .\n",
    "from sklearn.preprocessing import LabelEncoder #We use ordinal encoder because coutry column has follow some order in Rank.\n",
    "\n",
    "enc=LabelEncoder()#Here we assigning the name\n",
    "\n",
    "for i in data.columns: #Here we run the loop for iterate every column.\n",
    "    if data[i].dtypes=='object':#Here we set . only apply label encoder on object data type\n",
    "        data[i]=enc.fit_transform(data[i].values.reshape(-1,1))# here we applying method\n",
    "data.head(2)"
   ]
  },
  {
   "cell_type": "markdown",
   "id": "933d0091",
   "metadata": {},
   "source": [
    "# Describe the Datset with colors."
   ]
  },
  {
   "cell_type": "code",
   "execution_count": 25,
   "id": "285d3c1a",
   "metadata": {},
   "outputs": [
    {
     "data": {
      "image/png": "[encoded data removed]",
      "text/plain": [
       "<Figure size 1080x576 with 2 Axes>"
      ]
     },
     "metadata": {
      "needs_background": "light"
     },
     "output_type": "display_data"
    }
   ],
   "source": [
    "#Only Continious Columns\n",
    "import matplotlib.pyplot as plt\n",
    "\n",
    "plt.figure(figsize=(15,8))\n",
    "sns.heatmap(data.describe(),annot=True,linewidths=0.1,linecolor='green',fmt=\"0.2f\")\n",
    "plt.show()"
   ]
  },
  {
   "cell_type": "markdown",
   "id": "346ea5d0",
   "metadata": {},
   "source": [
    "# Correlation of the columns with the target columns."
   ]
  },
  {
   "cell_type": "code",
   "execution_count": 26,
   "id": "91af1c14",
   "metadata": {},
   "outputs": [
    {
     "data": {
      "text/plain": [
       "Happiness Rank                  -0.521999\n",
       "Generosity                      -0.101301\n",
       "Region                          -0.057276\n",
       "Trust (Government Corruption)   -0.033105\n",
       "Country                         -0.019778\n",
       "Health (Life Expectancy)         0.018979\n",
       "Economy (GDP per Capita)         0.040059\n",
       "Freedom                          0.062783\n",
       "Standard Error                   0.083981\n",
       "Family                           0.148117\n",
       "Happiness Score                  0.530474\n",
       "Dystopia Residual                1.000000\n",
       "Name: Dystopia Residual, dtype: float64"
      ]
     },
     "execution_count": 26,
     "metadata": {},
     "output_type": "execute_result"
    }
   ],
   "source": [
    "data.corr()['Dystopia Residual'].sort_values()"
   ]
  },
  {
   "cell_type": "markdown",
   "id": "e9fe1557",
   "metadata": {},
   "source": [
    "Here i am taking +/- 0.5 is a good correlated. "
   ]
  },
  {
   "cell_type": "code",
   "execution_count": 27,
   "id": "256fd212",
   "metadata": {},
   "outputs": [
    {
     "data": {
      "image/png": "[encoded data removed]",
      "text/plain": [
       "<Figure size 1296x576 with 2 Axes>"
      ]
     },
     "metadata": {
      "needs_background": "light"
     },
     "output_type": "display_data"
    }
   ],
   "source": [
    "#Here wee see the corelation with the use of heatmap.\n",
    "plt.figure(figsize=(18,8))\n",
    "sns.heatmap(data.corr(),annot=True,linewidth=0.1,linecolor='green',fmt=\"0.2f\")\n",
    "plt.show()"
   ]
  },
  {
   "cell_type": "markdown",
   "id": "44a985a0",
   "metadata": {},
   "source": [
    "# Checking the columns which are positively and negative correlated with the target columns. "
   ]
  },
  {
   "cell_type": "code",
   "execution_count": 28,
   "id": "6c44904b",
   "metadata": {},
   "outputs": [
    {
     "data": {
      "image/png": "[encoded data removed]",
      "text/plain": [
       "<Figure size 1584x504 with 1 Axes>"
      ]
     },
     "metadata": {
      "needs_background": "light"
     },
     "output_type": "display_data"
    }
   ],
   "source": [
    "plt.figure(figsize=(22,7))\n",
    "data.corr()['Dystopia Residual'].sort_values(ascending=False).drop('Dystopia Residual').plot(kind='bar',color='black')\n",
    "plt.xlabel('Feature',fontsize=14)\n",
    "plt.ylabel(\"Column With Target Names\",fontsize=18)\n",
    "plt.title(\"Correlation\",fontsize=18)\n",
    "plt.show()"
   ]
  },
  {
   "cell_type": "markdown",
   "id": "261798d1",
   "metadata": {},
   "source": [
    "So, Here we clearly see ..\n",
    "\n",
    "Negative  Correlation \n",
    "\n",
    "- Happiness Rank (Highly Correlated)\n",
    "\n",
    "\n",
    "Positive Correlation\n",
    "\n",
    "- Happiness Score (Highly Correlated)"
   ]
  },
  {
   "cell_type": "markdown",
   "id": "f2e68331",
   "metadata": {},
   "source": [
    "# Lets Check Skewness"
   ]
  },
  {
   "cell_type": "code",
   "execution_count": 29,
   "id": "70ec9606",
   "metadata": {},
   "outputs": [
    {
     "data": {
      "text/plain": [
       "Country                          0.000000\n",
       "Region                          -0.116119\n",
       "Happiness Rank                   0.000418\n",
       "Happiness Score                  0.097769\n",
       "Standard Error                   1.983439\n",
       "Economy (GDP per Capita)        -0.317575\n",
       "Family                          -1.006893\n",
       "Health (Life Expectancy)        -0.705328\n",
       "Freedom                         -0.413462\n",
       "Trust (Government Corruption)    1.385463\n",
       "Generosity                       1.001961\n",
       "Dystopia Residual               -0.238911\n",
       "dtype: float64"
      ]
     },
     "execution_count": 29,
     "metadata": {},
     "output_type": "execute_result"
    }
   ],
   "source": [
    "data.skew()"
   ]
  },
  {
   "cell_type": "markdown",
   "id": "b8ca5d0a",
   "metadata": {},
   "source": [
    "So here i am take skewness range +/- 0.5  is good for us.  \n",
    "\n",
    "\n",
    "\n",
    "So lets check which column does not lie in this range.\n",
    "\n",
    "- Country\n",
    " \n",
    "- Happiness Rank\n",
    "\n",
    "- Region\n",
    "\n",
    "- Happiness Score\n",
    "\n",
    "- Standard Error\n",
    "\n",
    "- Economy (GDP per Capita)\n",
    "\n",
    "\n",
    "- Family\n",
    "\n",
    "\n",
    "- Trust (Government Corruption)\n",
    "\n",
    "\n",
    "- Generosity\n",
    "\n",
    "\n",
    "Almost column have skewness,  only one columns has come in our range.  (Health (Life Expectancy)"
   ]
  },
  {
   "cell_type": "markdown",
   "id": "99533468",
   "metadata": {},
   "source": [
    "# Outliers Check\n"
   ]
  },
  {
   "cell_type": "markdown",
   "id": "31eb331f",
   "metadata": {},
   "source": [
    "#  Checking the ouliers on the int and float type of columns."
   ]
  },
  {
   "cell_type": "code",
   "execution_count": 30,
   "id": "52f80c95",
   "metadata": {},
   "outputs": [
    {
     "data": {
      "image/png": "[encoded data removed]",
      "text/plain": [
       "<Figure size 432x288 with 1 Axes>"
      ]
     },
     "metadata": {
      "needs_background": "light"
     },
     "output_type": "display_data"
    }
   ],
   "source": [
    "data['Happiness Rank'].plot.box()\n",
    "plt.show()"
   ]
  },
  {
   "cell_type": "markdown",
   "id": "113f77c4",
   "metadata": {},
   "source": [
    "We see that there is no  outliers"
   ]
  },
  {
   "cell_type": "code",
   "execution_count": 31,
   "id": "f549012c",
   "metadata": {},
   "outputs": [
    {
     "data": {
      "image/png": "[encoded data removed]",
      "text/plain": [
       "<Figure size 432x288 with 1 Axes>"
      ]
     },
     "metadata": {
      "needs_background": "light"
     },
     "output_type": "display_data"
    }
   ],
   "source": [
    "data['Happiness Score'].plot.box()\n",
    "plt.show()"
   ]
  },
  {
   "cell_type": "markdown",
   "id": "18e3bfa3",
   "metadata": {},
   "source": [
    "Happiness Score we clearly see that there is no outliers"
   ]
  },
  {
   "cell_type": "code",
   "execution_count": 32,
   "id": "8d97432e",
   "metadata": {},
   "outputs": [
    {
     "data": {
      "image/png": "[encoded data removed]",
      "text/plain": [
       "<Figure size 432x288 with 1 Axes>"
      ]
     },
     "metadata": {
      "needs_background": "light"
     },
     "output_type": "display_data"
    }
   ],
   "source": [
    "data['Standard Error'].plot.box()\n",
    "plt.show()"
   ]
  },
  {
   "cell_type": "markdown",
   "id": "74efa8a8",
   "metadata": {},
   "source": [
    "Standard Error contains some outliers."
   ]
  },
  {
   "cell_type": "code",
   "execution_count": 33,
   "id": "d828de0d",
   "metadata": {},
   "outputs": [
    {
     "data": {
      "image/png": "[encoded data removed]",
      "text/plain": [
       "<Figure size 432x288 with 1 Axes>"
      ]
     },
     "metadata": {
      "needs_background": "light"
     },
     "output_type": "display_data"
    }
   ],
   "source": [
    "data['Economy (GDP per Capita)'].plot.box()\n",
    "plt.show()"
   ]
  },
  {
   "cell_type": "markdown",
   "id": "6830efde",
   "metadata": {},
   "source": [
    "Economy (GDP per Capita) there is not outliers"
   ]
  },
  {
   "cell_type": "code",
   "execution_count": 34,
   "id": "1fb646c1",
   "metadata": {},
   "outputs": [
    {
     "data": {
      "image/png": "[encoded data removed]",
      "text/plain": [
       "<Figure size 432x288 with 1 Axes>"
      ]
     },
     "metadata": {
      "needs_background": "light"
     },
     "output_type": "display_data"
    }
   ],
   "source": [
    "data['Family'].plot.box()\n",
    "plt.show()"
   ]
  },
  {
   "cell_type": "markdown",
   "id": "31353fbc",
   "metadata": {},
   "source": [
    "Family contains some outliers."
   ]
  },
  {
   "cell_type": "code",
   "execution_count": 35,
   "id": "a48e6089",
   "metadata": {},
   "outputs": [
    {
     "data": {
      "image/png": "[encoded data removed]",
      "text/plain": [
       "<Figure size 432x288 with 1 Axes>"
      ]
     },
     "metadata": {
      "needs_background": "light"
     },
     "output_type": "display_data"
    }
   ],
   "source": [
    "data['Health (Life Expectancy)'].plot.box()\n",
    "plt.show()"
   ]
  },
  {
   "cell_type": "markdown",
   "id": "0c40dc5f",
   "metadata": {},
   "source": [
    "Health (Life Expectancy) is not containing outliers"
   ]
  },
  {
   "cell_type": "code",
   "execution_count": 36,
   "id": "028763a8",
   "metadata": {},
   "outputs": [
    {
     "data": {
      "image/png": "[encoded data removed]",
      "text/plain": [
       "<Figure size 432x288 with 1 Axes>"
      ]
     },
     "metadata": {
      "needs_background": "light"
     },
     "output_type": "display_data"
    }
   ],
   "source": [
    "data['Freedom'].plot.box()\n",
    "plt.show()"
   ]
  },
  {
   "cell_type": "markdown",
   "id": "d5a9d668",
   "metadata": {},
   "source": [
    "Freedom not contain outliers."
   ]
  },
  {
   "cell_type": "code",
   "execution_count": 37,
   "id": "2f95abea",
   "metadata": {},
   "outputs": [
    {
     "data": {
      "image/png": "[encoded data removed]",
      "text/plain": [
       "<Figure size 432x288 with 1 Axes>"
      ]
     },
     "metadata": {
      "needs_background": "light"
     },
     "output_type": "display_data"
    }
   ],
   "source": [
    "data['Trust (Government Corruption)'].plot.box()\n",
    "plt.show()"
   ]
  },
  {
   "cell_type": "markdown",
   "id": "15de2e9d",
   "metadata": {},
   "source": [
    "'Trust (Government Corruption)' contains outliers."
   ]
  },
  {
   "cell_type": "code",
   "execution_count": 38,
   "id": "eb98e61e",
   "metadata": {},
   "outputs": [
    {
     "data": {
      "image/png": "[encoded data removed]",
      "text/plain": [
       "<Figure size 432x288 with 1 Axes>"
      ]
     },
     "metadata": {
      "needs_background": "light"
     },
     "output_type": "display_data"
    }
   ],
   "source": [
    "data['Generosity'].plot.box()\n",
    "plt.show()\n"
   ]
  },
  {
   "cell_type": "markdown",
   "id": "4f6aa269",
   "metadata": {},
   "source": [
    "Generosity contains outliers."
   ]
  },
  {
   "cell_type": "markdown",
   "id": "f96c9aef",
   "metadata": {},
   "source": [
    "So . we all know only 4 columns has ouliers \n",
    "\n",
    "- Standard Error\n",
    "\n",
    "- Family\n",
    "\n",
    "\n",
    "- Trust (Government Corruption)\n",
    "\n",
    "\n",
    "- Generosity\n",
    "\n",
    "\n",
    "\n"
   ]
  },
  {
   "cell_type": "code",
   "execution_count": 39,
   "id": "6c73274a",
   "metadata": {},
   "outputs": [],
   "source": [
    "#Lets handle the outliers by zscore\n",
    "#lets import zscore\n",
    "from scipy.stats import zscore\n",
    "import numpy as np"
   ]
  },
  {
   "cell_type": "code",
   "execution_count": 40,
   "id": "7162642c",
   "metadata": {},
   "outputs": [
    {
     "data": {
      "text/html": [
       "<div>\n",
       "<style scoped>\n",
       "    .dataframe tbody tr th:only-of-type {\n",
       "        vertical-align: middle;\n",
       "    }\n",
       "\n",
       "    .dataframe tbody tr th {\n",
       "        vertical-align: top;\n",
       "    }\n",
       "\n",
       "    .dataframe thead th {\n",
       "        text-align: right;\n",
       "    }\n",
       "</style>\n",
       "<table border=\"1\" class=\"dataframe\">\n",
       "  <thead>\n",
       "    <tr style=\"text-align: right;\">\n",
       "      <th></th>\n",
       "      <th>Country</th>\n",
       "      <th>Region</th>\n",
       "      <th>Happiness Rank</th>\n",
       "      <th>Happiness Score</th>\n",
       "      <th>Standard Error</th>\n",
       "      <th>Economy (GDP per Capita)</th>\n",
       "      <th>Family</th>\n",
       "      <th>Health (Life Expectancy)</th>\n",
       "      <th>Freedom</th>\n",
       "      <th>Trust (Government Corruption)</th>\n",
       "      <th>Generosity</th>\n",
       "      <th>Dystopia Residual</th>\n",
       "    </tr>\n",
       "  </thead>\n",
       "  <tbody>\n",
       "    <tr>\n",
       "      <th>count</th>\n",
       "      <td>152.000000</td>\n",
       "      <td>152.000000</td>\n",
       "      <td>152.000000</td>\n",
       "      <td>152.000000</td>\n",
       "      <td>152.000000</td>\n",
       "      <td>152.000000</td>\n",
       "      <td>152.000000</td>\n",
       "      <td>152.000000</td>\n",
       "      <td>152.000000</td>\n",
       "      <td>152.000000</td>\n",
       "      <td>152.000000</td>\n",
       "      <td>152.000000</td>\n",
       "    </tr>\n",
       "    <tr>\n",
       "      <th>mean</th>\n",
       "      <td>77.532895</td>\n",
       "      <td>5.111842</td>\n",
       "      <td>79.125000</td>\n",
       "      <td>5.385099</td>\n",
       "      <td>0.046503</td>\n",
       "      <td>0.851399</td>\n",
       "      <td>0.992761</td>\n",
       "      <td>0.633081</td>\n",
       "      <td>0.425658</td>\n",
       "      <td>0.140129</td>\n",
       "      <td>0.232700</td>\n",
       "      <td>2.109386</td>\n",
       "    </tr>\n",
       "    <tr>\n",
       "      <th>std</th>\n",
       "      <td>46.116598</td>\n",
       "      <td>3.022103</td>\n",
       "      <td>45.671924</td>\n",
       "      <td>1.145437</td>\n",
       "      <td>0.014061</td>\n",
       "      <td>0.393160</td>\n",
       "      <td>0.274875</td>\n",
       "      <td>0.249586</td>\n",
       "      <td>0.151132</td>\n",
       "      <td>0.112452</td>\n",
       "      <td>0.120410</td>\n",
       "      <td>0.544416</td>\n",
       "    </tr>\n",
       "    <tr>\n",
       "      <th>min</th>\n",
       "      <td>0.000000</td>\n",
       "      <td>0.000000</td>\n",
       "      <td>1.000000</td>\n",
       "      <td>2.839000</td>\n",
       "      <td>0.018480</td>\n",
       "      <td>0.000000</td>\n",
       "      <td>0.000000</td>\n",
       "      <td>0.000000</td>\n",
       "      <td>0.000000</td>\n",
       "      <td>0.000000</td>\n",
       "      <td>0.000000</td>\n",
       "      <td>0.328580</td>\n",
       "    </tr>\n",
       "    <tr>\n",
       "      <th>25%</th>\n",
       "      <td>37.750000</td>\n",
       "      <td>3.000000</td>\n",
       "      <td>39.750000</td>\n",
       "      <td>4.542000</td>\n",
       "      <td>0.037145</td>\n",
       "      <td>0.579618</td>\n",
       "      <td>0.863468</td>\n",
       "      <td>0.440095</td>\n",
       "      <td>0.326415</td>\n",
       "      <td>0.062795</td>\n",
       "      <td>0.144985</td>\n",
       "      <td>1.779525</td>\n",
       "    </tr>\n",
       "    <tr>\n",
       "      <th>50%</th>\n",
       "      <td>76.500000</td>\n",
       "      <td>4.500000</td>\n",
       "      <td>79.500000</td>\n",
       "      <td>5.232500</td>\n",
       "      <td>0.043805</td>\n",
       "      <td>0.918560</td>\n",
       "      <td>1.029510</td>\n",
       "      <td>0.700925</td>\n",
       "      <td>0.432520</td>\n",
       "      <td>0.107220</td>\n",
       "      <td>0.214105</td>\n",
       "      <td>2.095415</td>\n",
       "    </tr>\n",
       "    <tr>\n",
       "      <th>75%</th>\n",
       "      <td>117.500000</td>\n",
       "      <td>8.000000</td>\n",
       "      <td>118.250000</td>\n",
       "      <td>6.275500</td>\n",
       "      <td>0.051095</td>\n",
       "      <td>1.155523</td>\n",
       "      <td>1.220705</td>\n",
       "      <td>0.813548</td>\n",
       "      <td>0.543400</td>\n",
       "      <td>0.176212</td>\n",
       "      <td>0.301820</td>\n",
       "      <td>2.465407</td>\n",
       "    </tr>\n",
       "    <tr>\n",
       "      <th>max</th>\n",
       "      <td>157.000000</td>\n",
       "      <td>9.000000</td>\n",
       "      <td>158.000000</td>\n",
       "      <td>7.587000</td>\n",
       "      <td>0.098110</td>\n",
       "      <td>1.563910</td>\n",
       "      <td>1.402230</td>\n",
       "      <td>1.025250</td>\n",
       "      <td>0.669730</td>\n",
       "      <td>0.492100</td>\n",
       "      <td>0.576300</td>\n",
       "      <td>3.602140</td>\n",
       "    </tr>\n",
       "  </tbody>\n",
       "</table>\n",
       "</div>"
      ],
      "text/plain": [
       "          Country      Region  Happiness Rank  Happiness Score  \\\n",
       "count  152.000000  152.000000      152.000000       152.000000   \n",
       "mean    77.532895    5.111842       79.125000         5.385099   \n",
       "std     46.116598    3.022103       45.671924         1.145437   \n",
       "min      0.000000    0.000000        1.000000         2.839000   \n",
       "25%     37.750000    3.000000       39.750000         4.542000   \n",
       "50%     76.500000    4.500000       79.500000         5.232500   \n",
       "75%    117.500000    8.000000      118.250000         6.275500   \n",
       "max    157.000000    9.000000      158.000000         7.587000   \n",
       "\n",
       "       Standard Error  Economy (GDP per Capita)      Family  \\\n",
       "count      152.000000                152.000000  152.000000   \n",
       "mean         0.046503                  0.851399    0.992761   \n",
       "std          0.014061                  0.393160    0.274875   \n",
       "min          0.018480                  0.000000    0.000000   \n",
       "25%          0.037145                  0.579618    0.863468   \n",
       "50%          0.043805                  0.918560    1.029510   \n",
       "75%          0.051095                  1.155523    1.220705   \n",
       "max          0.098110                  1.563910    1.402230   \n",
       "\n",
       "       Health (Life Expectancy)     Freedom  Trust (Government Corruption)  \\\n",
       "count                152.000000  152.000000                     152.000000   \n",
       "mean                   0.633081    0.425658                       0.140129   \n",
       "std                    0.249586    0.151132                       0.112452   \n",
       "min                    0.000000    0.000000                       0.000000   \n",
       "25%                    0.440095    0.326415                       0.062795   \n",
       "50%                    0.700925    0.432520                       0.107220   \n",
       "75%                    0.813548    0.543400                       0.176212   \n",
       "max                    1.025250    0.669730                       0.492100   \n",
       "\n",
       "       Generosity  Dystopia Residual  \n",
       "count  152.000000         152.000000  \n",
       "mean     0.232700           2.109386  \n",
       "std      0.120410           0.544416  \n",
       "min      0.000000           0.328580  \n",
       "25%      0.144985           1.779525  \n",
       "50%      0.214105           2.095415  \n",
       "75%      0.301820           2.465407  \n",
       "max      0.576300           3.602140  "
      ]
     },
     "execution_count": 40,
     "metadata": {},
     "output_type": "execute_result"
    }
   ],
   "source": [
    "z_score=zscore(data[['Standard Error','Family','Trust (Government Corruption)','Generosity']])\n",
    "abs_score=np.abs(z_score)\n",
    "filtering_entry=(z_score<3).all(axis=1)\n",
    "data=data[filtering_entry]\n",
    "data.describe()"
   ]
  },
  {
   "cell_type": "markdown",
   "id": "28f23711",
   "metadata": {},
   "source": [
    "# Lets check How much data is loss .\n"
   ]
  },
  {
   "cell_type": "code",
   "execution_count": 41,
   "id": "b3bd1c5e",
   "metadata": {},
   "outputs": [
    {
     "data": {
      "text/plain": [
       "(152, 12)"
      ]
     },
     "execution_count": 41,
     "metadata": {},
     "output_type": "execute_result"
    }
   ],
   "source": [
    "data.shape"
   ]
  },
  {
   "cell_type": "code",
   "execution_count": 42,
   "id": "f7a2963b",
   "metadata": {},
   "outputs": [
    {
     "data": {
      "text/plain": [
       "3.79746835443038"
      ]
     },
     "execution_count": 42,
     "metadata": {},
     "output_type": "execute_result"
    }
   ],
   "source": [
    "data_loss=((158-152)/158)*100 # 158  is old shape of our dataset. and 120  is the latest shape of our dataset.\n",
    "data_loss# Here . we calculate the percentage."
   ]
  },
  {
   "cell_type": "code",
   "execution_count": 43,
   "id": "83587bae",
   "metadata": {},
   "outputs": [],
   "source": [
    "#Only 3 % percent loss.\n",
    "#But dont forget our dataset is also small.\n",
    "# 3% data loss we can manage\n",
    "# and our data is so small so we dont delete any columns .\n",
    "\n",
    "# Lets separte the feature and label."
   ]
  },
  {
   "cell_type": "code",
   "execution_count": 44,
   "id": "e87cce67",
   "metadata": {},
   "outputs": [],
   "source": [
    "x=data.drop(columns=['Dystopia Residual'],axis=1)\n",
    "y=data['Dystopia Residual']"
   ]
  },
  {
   "cell_type": "markdown",
   "id": "a7cc57e7",
   "metadata": {},
   "source": [
    "# Transforming data to remove skewness"
   ]
  },
  {
   "cell_type": "code",
   "execution_count": 45,
   "id": "db61a83b",
   "metadata": {},
   "outputs": [],
   "source": [
    "from sklearn.preprocessing import power_transform"
   ]
  },
  {
   "cell_type": "code",
   "execution_count": 46,
   "id": "4a578f65",
   "metadata": {},
   "outputs": [
    {
     "data": {
      "text/plain": [
       "array([[ 1.17565162,  1.23382594, -2.05166159, ...,  1.76289798,\n",
       "         1.82810562,  0.64977124],\n",
       "       [-0.30794389,  1.23382594, -1.9970966 , ...,  1.45162489,\n",
       "         0.33064527,  1.55001632],\n",
       "       [-0.80727505,  1.23382594, -1.9474605 , ...,  1.62465652,\n",
       "         1.96449646,  0.96664187],\n",
       "       ...,\n",
       "       [ 1.19279986, -0.29245932,  1.53400762, ..., -1.65594482,\n",
       "         0.76502091,  1.74117772],\n",
       "       [-1.25014973,  0.94921122,  1.55122304, ..., -1.84106987,\n",
       "        -0.14997234, -0.18118688],\n",
       "       [ 1.27796192,  0.94921122,  1.56840821, ..., -0.48334779,\n",
       "        -0.06305936, -0.47649345]])"
      ]
     },
     "execution_count": 46,
     "metadata": {},
     "output_type": "execute_result"
    }
   ],
   "source": [
    "x=power_transform(x,method='yeo-johnson')\n",
    "x"
   ]
  },
  {
   "cell_type": "code",
   "execution_count": 47,
   "id": "d4430f65",
   "metadata": {},
   "outputs": [
    {
     "data": {
      "text/plain": [
       "0    -0.269880\n",
       "2    -0.268593\n",
       "1    -0.230039\n",
       "7    -0.194508\n",
       "6    -0.175853\n",
       "5    -0.140606\n",
       "8    -0.075718\n",
       "3    -0.026561\n",
       "4    -0.024501\n",
       "10    0.025848\n",
       "9     0.169590\n",
       "dtype: float64"
      ]
     },
     "execution_count": 47,
     "metadata": {},
     "output_type": "execute_result"
    }
   ],
   "source": [
    "#Checking skewnness\n",
    "pd.DataFrame(x).skew().sort_values()"
   ]
  },
  {
   "cell_type": "markdown",
   "id": "6fcd45cf",
   "metadata": {},
   "source": [
    "Here we use power_transform to remove the skewness.\n",
    "\n",
    "\n",
    "Here we clearly see  we remove the skewness of our dataset .\n"
   ]
  },
  {
   "cell_type": "markdown",
   "id": "b680d907",
   "metadata": {},
   "source": [
    "And we all know that . if we use power_transform method then we dont need to standardize our data."
   ]
  },
  {
   "cell_type": "code",
   "execution_count": 103,
   "id": "e74fdb08",
   "metadata": {},
   "outputs": [],
   "source": [
    "#lets make model.\n",
    "#Import train_test_split\n",
    "from sklearn.model_selection import train_test_split\n",
    "#Import algorithms for model building\n",
    "from sklearn.linear_model import LinearRegression\n",
    "lr=LinearRegression()\n",
    "#For checking accuracy\n",
    "from sklearn.metrics import r2_score\n",
    "\n",
    "\n",
    "import warnings\n",
    "warnings.filterwarnings('ignore')"
   ]
  },
  {
   "cell_type": "code",
   "execution_count": 105,
   "id": "208df8c4",
   "metadata": {},
   "outputs": [
    {
     "name": "stdout",
     "output_type": "stream",
     "text": [
      " At random state 0 , the testing accuracy is :- 0.9713933136272862\n",
      " At random state 0 , the testing accuracy is :- 0.9758868361327421\n",
      "\n",
      "\n",
      " At random state 1 , the testing accuracy is :- 0.9715201446918111\n",
      " At random state 1 , the testing accuracy is :- 0.9789920692490692\n",
      "\n",
      "\n",
      " At random state 2 , the testing accuracy is :- 0.9727303684853652\n",
      " At random state 2 , the testing accuracy is :- 0.9699170807887583\n",
      "\n",
      "\n",
      " At random state 3 , the testing accuracy is :- 0.9717852323765426\n",
      " At random state 3 , the testing accuracy is :- 0.9761933951436444\n",
      "\n",
      "\n",
      " At random state 4 , the testing accuracy is :- 0.9707539725894079\n",
      " At random state 4 , the testing accuracy is :- 0.9810848205685054\n",
      "\n",
      "\n",
      " At random state 5 , the testing accuracy is :- 0.9752249614336567\n",
      " At random state 5 , the testing accuracy is :- 0.9552482591531414\n",
      "\n",
      "\n",
      " At random state 6 , the testing accuracy is :- 0.971203680985776\n",
      " At random state 6 , the testing accuracy is :- 0.9791549830834447\n",
      "\n",
      "\n",
      " At random state 7 , the testing accuracy is :- 0.9719007239025504\n",
      " At random state 7 , the testing accuracy is :- 0.9736073901991525\n",
      "\n",
      "\n",
      " At random state 8 , the testing accuracy is :- 0.9714730244492914\n",
      " At random state 8 , the testing accuracy is :- 0.9723578794749823\n",
      "\n",
      "\n",
      " At random state 9 , the testing accuracy is :- 0.9715023021833317\n",
      " At random state 9 , the testing accuracy is :- 0.9745829620749957\n",
      "\n",
      "\n",
      " At random state 10 , the testing accuracy is :- 0.9736886008507489\n",
      " At random state 10 , the testing accuracy is :- 0.9683397091146906\n",
      "\n",
      "\n",
      " At random state 11 , the testing accuracy is :- 0.9779614721880465\n",
      " At random state 11 , the testing accuracy is :- 0.9459936574719732\n",
      "\n",
      "\n",
      " At random state 12 , the testing accuracy is :- 0.973650986309247\n",
      " At random state 12 , the testing accuracy is :- 0.9667702067893559\n",
      "\n",
      "\n",
      " At random state 13 , the testing accuracy is :- 0.9739098175215114\n",
      " At random state 13 , the testing accuracy is :- 0.9611552719951784\n",
      "\n",
      "\n",
      " At random state 14 , the testing accuracy is :- 0.9728515298901951\n",
      " At random state 14 , the testing accuracy is :- 0.9665741941670698\n",
      "\n",
      "\n",
      " At random state 15 , the testing accuracy is :- 0.9669789723664008\n",
      " At random state 15 , the testing accuracy is :- 0.9831244051089877\n",
      "\n",
      "\n",
      " At random state 16 , the testing accuracy is :- 0.979908866891945\n",
      " At random state 16 , the testing accuracy is :- 0.9155535437201308\n",
      "\n",
      "\n",
      " At random state 17 , the testing accuracy is :- 0.9798566061881718\n",
      " At random state 17 , the testing accuracy is :- 0.9433326424792938\n",
      "\n",
      "\n",
      " At random state 18 , the testing accuracy is :- 0.9744934187762224\n",
      " At random state 18 , the testing accuracy is :- 0.9541613274630569\n",
      "\n",
      "\n",
      " At random state 19 , the testing accuracy is :- 0.9778263204291654\n",
      " At random state 19 , the testing accuracy is :- 0.9537257458586033\n",
      "\n",
      "\n",
      " At random state 20 , the testing accuracy is :- 0.9711688514326721\n",
      " At random state 20 , the testing accuracy is :- 0.9757425172461852\n",
      "\n",
      "\n",
      " At random state 21 , the testing accuracy is :- 0.9757235879785473\n",
      " At random state 21 , the testing accuracy is :- 0.9521686445539952\n",
      "\n",
      "\n",
      " At random state 22 , the testing accuracy is :- 0.9688563348293503\n",
      " At random state 22 , the testing accuracy is :- 0.9799514336121051\n",
      "\n",
      "\n",
      " At random state 23 , the testing accuracy is :- 0.9805727331036292\n",
      " At random state 23 , the testing accuracy is :- 0.9337724932761755\n",
      "\n",
      "\n",
      " At random state 24 , the testing accuracy is :- 0.9722697444464846\n",
      " At random state 24 , the testing accuracy is :- 0.9732980011946475\n",
      "\n",
      "\n",
      " At random state 25 , the testing accuracy is :- 0.9721455116234123\n",
      " At random state 25 , the testing accuracy is :- 0.9688921049206382\n",
      "\n",
      "\n",
      " At random state 26 , the testing accuracy is :- 0.97573060359926\n",
      " At random state 26 , the testing accuracy is :- 0.9513163678700501\n",
      "\n",
      "\n",
      " At random state 27 , the testing accuracy is :- 0.9765200426253489\n",
      " At random state 27 , the testing accuracy is :- 0.9396712326242371\n",
      "\n",
      "\n",
      " At random state 28 , the testing accuracy is :- 0.9669646590479455\n",
      " At random state 28 , the testing accuracy is :- 0.9865761263523245\n",
      "\n",
      "\n",
      " At random state 29 , the testing accuracy is :- 0.971722735658798\n",
      " At random state 29 , the testing accuracy is :- 0.9707248665778201\n",
      "\n",
      "\n",
      " At random state 30 , the testing accuracy is :- 0.9752341328882281\n",
      " At random state 30 , the testing accuracy is :- 0.9476113379751315\n",
      "\n",
      "\n",
      " At random state 31 , the testing accuracy is :- 0.9687839278396863\n",
      " At random state 31 , the testing accuracy is :- 0.9851025657356818\n",
      "\n",
      "\n",
      " At random state 32 , the testing accuracy is :- 0.9784253050655184\n",
      " At random state 32 , the testing accuracy is :- 0.9461100041085025\n",
      "\n",
      "\n",
      " At random state 33 , the testing accuracy is :- 0.9669407124577258\n",
      " At random state 33 , the testing accuracy is :- 0.9849537779561701\n",
      "\n",
      "\n",
      " At random state 34 , the testing accuracy is :- 0.974360813822627\n",
      " At random state 34 , the testing accuracy is :- 0.9571115781600545\n",
      "\n",
      "\n",
      " At random state 35 , the testing accuracy is :- 0.9710799662488477\n",
      " At random state 35 , the testing accuracy is :- 0.9775921502262\n",
      "\n",
      "\n",
      " At random state 36 , the testing accuracy is :- 0.9671640372422042\n",
      " At random state 36 , the testing accuracy is :- 0.9818600898865362\n",
      "\n",
      "\n",
      " At random state 37 , the testing accuracy is :- 0.9726265217152936\n",
      " At random state 37 , the testing accuracy is :- 0.9718893711984884\n",
      "\n",
      "\n",
      " At random state 38 , the testing accuracy is :- 0.9707332135176863\n",
      " At random state 38 , the testing accuracy is :- 0.9793832265324328\n",
      "\n",
      "\n",
      " At random state 39 , the testing accuracy is :- 0.9785519763449081\n",
      " At random state 39 , the testing accuracy is :- 0.9308759679528795\n",
      "\n",
      "\n",
      " At random state 40 , the testing accuracy is :- 0.9771854112678914\n",
      " At random state 40 , the testing accuracy is :- 0.9550738377203322\n",
      "\n",
      "\n",
      " At random state 41 , the testing accuracy is :- 0.9689884980203161\n",
      " At random state 41 , the testing accuracy is :- 0.9742948344075653\n",
      "\n",
      "\n",
      " At random state 42 , the testing accuracy is :- 0.9679797142571187\n",
      " At random state 42 , the testing accuracy is :- 0.9799995687864829\n",
      "\n",
      "\n",
      " At random state 43 , the testing accuracy is :- 0.9685238823277709\n",
      " At random state 43 , the testing accuracy is :- 0.9821425541592331\n",
      "\n",
      "\n",
      " At random state 44 , the testing accuracy is :- 0.9751112071672319\n",
      " At random state 44 , the testing accuracy is :- 0.9504132270342115\n",
      "\n",
      "\n",
      " At random state 45 , the testing accuracy is :- 0.9745029062152762\n",
      " At random state 45 , the testing accuracy is :- 0.9566179680338798\n",
      "\n",
      "\n",
      " At random state 46 , the testing accuracy is :- 0.9737868219648984\n",
      " At random state 46 , the testing accuracy is :- 0.9675183093442139\n",
      "\n",
      "\n",
      " At random state 47 , the testing accuracy is :- 0.9804516798640682\n",
      " At random state 47 , the testing accuracy is :- 0.9298988308931632\n",
      "\n",
      "\n",
      " At random state 48 , the testing accuracy is :- 0.9721742117560115\n",
      " At random state 48 , the testing accuracy is :- 0.9688652449022578\n",
      "\n",
      "\n",
      " At random state 49 , the testing accuracy is :- 0.9841332064160215\n",
      " At random state 49 , the testing accuracy is :- 0.878289509668329\n",
      "\n",
      "\n",
      " At random state 50 , the testing accuracy is :- 0.9786464966679644\n",
      " At random state 50 , the testing accuracy is :- 0.9524673760130147\n",
      "\n",
      "\n",
      " At random state 51 , the testing accuracy is :- 0.9710757458959042\n",
      " At random state 51 , the testing accuracy is :- 0.9772918297663485\n",
      "\n",
      "\n",
      " At random state 52 , the testing accuracy is :- 0.9706748843303498\n",
      " At random state 52 , the testing accuracy is :- 0.9801166335080232\n",
      "\n",
      "\n",
      " At random state 53 , the testing accuracy is :- 0.9740937143952069\n",
      " At random state 53 , the testing accuracy is :- 0.9614139299352933\n",
      "\n",
      "\n",
      " At random state 54 , the testing accuracy is :- 0.9746078942632419\n",
      " At random state 54 , the testing accuracy is :- 0.9632275808147459\n",
      "\n",
      "\n",
      " At random state 55 , the testing accuracy is :- 0.9697895548329102\n",
      " At random state 55 , the testing accuracy is :- 0.9767301228917935\n",
      "\n",
      "\n",
      " At random state 56 , the testing accuracy is :- 0.9756187253221665\n",
      " At random state 56 , the testing accuracy is :- 0.9428694802351275\n",
      "\n",
      "\n",
      " At random state 57 , the testing accuracy is :- 0.9738025107225214\n",
      " At random state 57 , the testing accuracy is :- 0.9633264061593522\n",
      "\n",
      "\n",
      " At random state 58 , the testing accuracy is :- 0.9696463781313956\n",
      " At random state 58 , the testing accuracy is :- 0.9773832170151796\n",
      "\n",
      "\n",
      " At random state 59 , the testing accuracy is :- 0.9696138850108017\n",
      " At random state 59 , the testing accuracy is :- 0.9810366909078546\n",
      "\n",
      "\n",
      " At random state 60 , the testing accuracy is :- 0.9786786379248329\n",
      " At random state 60 , the testing accuracy is :- 0.9419856860173953\n",
      "\n",
      "\n",
      " At random state 61 , the testing accuracy is :- 0.9675682527563843\n",
      " At random state 61 , the testing accuracy is :- 0.9805906074385055\n",
      "\n",
      "\n",
      " At random state 62 , the testing accuracy is :- 0.9728933530220983\n",
      " At random state 62 , the testing accuracy is :- 0.9680279545580304\n",
      "\n",
      "\n",
      " At random state 63 , the testing accuracy is :- 0.9700332929691539\n",
      " At random state 63 , the testing accuracy is :- 0.9724739717121791\n",
      "\n",
      "\n",
      " At random state 64 , the testing accuracy is :- 0.9713612365528854\n",
      " At random state 64 , the testing accuracy is :- 0.978037063198187\n",
      "\n",
      "\n",
      " At random state 65 , the testing accuracy is :- 0.9725417209598407\n",
      " At random state 65 , the testing accuracy is :- 0.9719507100889746\n",
      "\n",
      "\n",
      " At random state 66 , the testing accuracy is :- 0.9703713143156854\n",
      " At random state 66 , the testing accuracy is :- 0.9834838222487702\n",
      "\n",
      "\n",
      " At random state 67 , the testing accuracy is :- 0.9760443353654767\n",
      " At random state 67 , the testing accuracy is :- 0.9437452213463472\n",
      "\n",
      "\n",
      " At random state 68 , the testing accuracy is :- 0.969549524431399\n",
      " At random state 68 , the testing accuracy is :- 0.9821042761390185\n",
      "\n",
      "\n",
      " At random state 69 , the testing accuracy is :- 0.9727826665855571\n",
      " At random state 69 , the testing accuracy is :- 0.9699757713331588\n",
      "\n",
      "\n",
      " At random state 70 , the testing accuracy is :- 0.9734743898887886\n",
      " At random state 70 , the testing accuracy is :- 0.9673419460600317\n",
      "\n",
      "\n",
      " At random state 71 , the testing accuracy is :- 0.967359922929976\n",
      " At random state 71 , the testing accuracy is :- 0.9854330355184503\n",
      "\n",
      "\n",
      " At random state 72 , the testing accuracy is :- 0.9733154073668407\n",
      " At random state 72 , the testing accuracy is :- 0.9646149757761581\n",
      "\n",
      "\n",
      " At random state 73 , the testing accuracy is :- 0.9720522525519664\n",
      " At random state 73 , the testing accuracy is :- 0.9714738490685617\n",
      "\n",
      "\n",
      " At random state 74 , the testing accuracy is :- 0.9723340928278537\n",
      " At random state 74 , the testing accuracy is :- 0.9718059042121486\n",
      "\n",
      "\n",
      " At random state 75 , the testing accuracy is :- 0.9704398463637849\n",
      " At random state 75 , the testing accuracy is :- 0.9772928582426315\n",
      "\n",
      "\n",
      " At random state 76 , the testing accuracy is :- 0.9698856261796482\n",
      " At random state 76 , the testing accuracy is :- 0.9824443795196263\n",
      "\n",
      "\n",
      " At random state 77 , the testing accuracy is :- 0.9822554929645391\n",
      " At random state 77 , the testing accuracy is :- 0.9227232408411128\n",
      "\n",
      "\n",
      " At random state 78 , the testing accuracy is :- 0.9702430066633225\n",
      " At random state 78 , the testing accuracy is :- 0.9831151098698483\n",
      "\n",
      "\n",
      " At random state 79 , the testing accuracy is :- 0.9766459996666359\n",
      " At random state 79 , the testing accuracy is :- 0.9605653790044297\n",
      "\n",
      "\n",
      " At random state 80 , the testing accuracy is :- 0.9726059512544516\n",
      " At random state 80 , the testing accuracy is :- 0.966667552164675\n",
      "\n",
      "\n",
      " At random state 81 , the testing accuracy is :- 0.9700968859471013\n",
      " At random state 81 , the testing accuracy is :- 0.9831907812836266\n",
      "\n",
      "\n",
      " At random state 82 , the testing accuracy is :- 0.9724047113467978\n",
      " At random state 82 , the testing accuracy is :- 0.967722784305759\n",
      "\n",
      "\n",
      " At random state 83 , the testing accuracy is :- 0.9746091218792559\n",
      " At random state 83 , the testing accuracy is :- 0.9616796993016252\n",
      "\n",
      "\n",
      " At random state 84 , the testing accuracy is :- 0.9794332134773933\n",
      " At random state 84 , the testing accuracy is :- 0.9351665138291152\n",
      "\n",
      "\n",
      " At random state 85 , the testing accuracy is :- 0.9695665700754845\n",
      " At random state 85 , the testing accuracy is :- 0.9752649173097974\n",
      "\n",
      "\n",
      " At random state 86 , the testing accuracy is :- 0.971453668989398\n",
      " At random state 86 , the testing accuracy is :- 0.9770007274586195\n",
      "\n",
      "\n",
      " At random state 87 , the testing accuracy is :- 0.9744554932183956\n",
      " At random state 87 , the testing accuracy is :- 0.9447371680135194\n",
      "\n",
      "\n",
      " At random state 88 , the testing accuracy is :- 0.9711668790579068\n",
      " At random state 88 , the testing accuracy is :- 0.9707609642103122\n",
      "\n",
      "\n",
      " At random state 89 , the testing accuracy is :- 0.9728798944947754\n",
      " At random state 89 , the testing accuracy is :- 0.9712904084503003\n",
      "\n",
      "\n",
      " At random state 90 , the testing accuracy is :- 0.9697605972162763\n",
      " At random state 90 , the testing accuracy is :- 0.9845372180585475\n",
      "\n",
      "\n",
      " At random state 91 , the testing accuracy is :- 0.977973032740691\n",
      " At random state 91 , the testing accuracy is :- 0.9487711150387655\n",
      "\n",
      "\n",
      " At random state 92 , the testing accuracy is :- 0.9750516904899436\n",
      " At random state 92 , the testing accuracy is :- 0.9595592686738773\n",
      "\n",
      "\n",
      " At random state 93 , the testing accuracy is :- 0.9714419873816534\n",
      " At random state 93 , the testing accuracy is :- 0.9790855092141448\n",
      "\n",
      "\n",
      " At random state 94 , the testing accuracy is :- 0.9729480245114237\n",
      " At random state 94 , the testing accuracy is :- 0.9695395799494\n",
      "\n",
      "\n",
      " At random state 95 , the testing accuracy is :- 0.9698160101029111\n",
      " At random state 95 , the testing accuracy is :- 0.9817322152980248\n",
      "\n",
      "\n",
      " At random state 96 , the testing accuracy is :- 0.9723337198259574\n",
      " At random state 96 , the testing accuracy is :- 0.9720397439887661\n",
      "\n",
      "\n",
      " At random state 97 , the testing accuracy is :- 0.9714453673909842\n",
      " At random state 97 , the testing accuracy is :- 0.9772433388779791\n",
      "\n",
      "\n",
      " At random state 98 , the testing accuracy is :- 0.9761982136916956\n",
      " At random state 98 , the testing accuracy is :- 0.9540176544438168\n",
      "\n",
      "\n",
      " At random state 99 , the testing accuracy is :- 0.9700870855860756\n",
      " At random state 99 , the testing accuracy is :- 0.9762430251857389\n",
      "\n",
      "\n",
      " At random state 100 , the testing accuracy is :- 0.9692720631627914\n",
      " At random state 100 , the testing accuracy is :- 0.9840050051374475\n",
      "\n",
      "\n",
      " At random state 101 , the testing accuracy is :- 0.9806415431076931\n",
      " At random state 101 , the testing accuracy is :- 0.9439732453540741\n",
      "\n",
      "\n",
      " At random state 102 , the testing accuracy is :- 0.973837553262246\n",
      " At random state 102 , the testing accuracy is :- 0.9623051276379883\n",
      "\n",
      "\n",
      " At random state 103 , the testing accuracy is :- 0.9760857988912951\n",
      " At random state 103 , the testing accuracy is :- 0.949576834299263\n",
      "\n",
      "\n",
      " At random state 104 , the testing accuracy is :- 0.9762134539927118\n",
      " At random state 104 , the testing accuracy is :- 0.9533921054378098\n",
      "\n",
      "\n",
      " At random state 105 , the testing accuracy is :- 0.9704604240415675\n",
      " At random state 105 , the testing accuracy is :- 0.9771109848808969\n",
      "\n",
      "\n",
      " At random state 106 , the testing accuracy is :- 0.9710882092970848\n",
      " At random state 106 , the testing accuracy is :- 0.9787073404813573\n",
      "\n",
      "\n",
      " At random state 107 , the testing accuracy is :- 0.9704382436451463\n",
      " At random state 107 , the testing accuracy is :- 0.9813490330278487\n",
      "\n",
      "\n",
      " At random state 108 , the testing accuracy is :- 0.968583375845644\n",
      " At random state 108 , the testing accuracy is :- 0.9811204643424076\n",
      "\n",
      "\n",
      " At random state 109 , the testing accuracy is :- 0.971441773843573\n",
      " At random state 109 , the testing accuracy is :- 0.9745797831239355\n",
      "\n",
      "\n",
      " At random state 110 , the testing accuracy is :- 0.9715085485134313\n",
      " At random state 110 , the testing accuracy is :- 0.9744383065127238\n",
      "\n",
      "\n",
      " At random state 111 , the testing accuracy is :- 0.9786540939241247\n",
      " At random state 111 , the testing accuracy is :- 0.9403184366031629\n",
      "\n",
      "\n",
      " At random state 112 , the testing accuracy is :- 0.9832735328108362\n",
      " At random state 112 , the testing accuracy is :- 0.8913872519984358\n",
      "\n",
      "\n",
      " At random state 113 , the testing accuracy is :- 0.9801406265299174\n",
      " At random state 113 , the testing accuracy is :- 0.9350787927564579\n",
      "\n",
      "\n",
      " At random state 114 , the testing accuracy is :- 0.9738268839391987\n",
      " At random state 114 , the testing accuracy is :- 0.9599930144150082\n",
      "\n",
      "\n",
      " At random state 115 , the testing accuracy is :- 0.9694411916096123\n",
      " At random state 115 , the testing accuracy is :- 0.9845805565250143\n",
      "\n",
      "\n",
      " At random state 116 , the testing accuracy is :- 0.9733899380890726\n",
      " At random state 116 , the testing accuracy is :- 0.9652894729665462\n",
      "\n",
      "\n",
      " At random state 117 , the testing accuracy is :- 0.9714277614056388\n",
      " At random state 117 , the testing accuracy is :- 0.9770609617596836\n",
      "\n",
      "\n",
      " At random state 118 , the testing accuracy is :- 0.9764539428081391\n",
      " At random state 118 , the testing accuracy is :- 0.9591199930823039\n",
      "\n",
      "\n",
      " At random state 119 , the testing accuracy is :- 0.9759437382686682\n",
      " At random state 119 , the testing accuracy is :- 0.9623804418102789\n",
      "\n",
      "\n",
      " At random state 120 , the testing accuracy is :- 0.9736517906567468\n",
      " At random state 120 , the testing accuracy is :- 0.9656745922205673\n",
      "\n",
      "\n",
      " At random state 121 , the testing accuracy is :- 0.9693126137962232\n",
      " At random state 121 , the testing accuracy is :- 0.9787698364694424\n",
      "\n",
      "\n",
      " At random state 122 , the testing accuracy is :- 0.9784007298689784\n",
      " At random state 122 , the testing accuracy is :- 0.9369882029068123\n",
      "\n",
      "\n",
      " At random state 123 , the testing accuracy is :- 0.9709307034584903\n",
      " At random state 123 , the testing accuracy is :- 0.9790595686659677\n",
      "\n",
      "\n",
      " At random state 124 , the testing accuracy is :- 0.9764053782251572\n",
      " At random state 124 , the testing accuracy is :- 0.9393662497178156\n",
      "\n",
      "\n",
      " At random state 125 , the testing accuracy is :- 0.9730596860257764\n",
      " At random state 125 , the testing accuracy is :- 0.965016231808971\n",
      "\n",
      "\n",
      " At random state 126 , the testing accuracy is :- 0.9693917565359059\n",
      " At random state 126 , the testing accuracy is :- 0.9834653479788363\n",
      "\n",
      "\n",
      " At random state 127 , the testing accuracy is :- 0.9731851208422829\n",
      " At random state 127 , the testing accuracy is :- 0.9669819793847974\n",
      "\n",
      "\n",
      " At random state 128 , the testing accuracy is :- 0.9716918893751464\n",
      " At random state 128 , the testing accuracy is :- 0.9755811275785103\n",
      "\n",
      "\n",
      " At random state 129 , the testing accuracy is :- 0.9805731400948651\n",
      " At random state 129 , the testing accuracy is :- 0.9348716605514701\n",
      "\n",
      "\n",
      " At random state 130 , the testing accuracy is :- 0.9775484410904444\n",
      " At random state 130 , the testing accuracy is :- 0.951865905255153\n",
      "\n",
      "\n",
      " At random state 131 , the testing accuracy is :- 0.9807339990674887\n",
      " At random state 131 , the testing accuracy is :- 0.9198756727695022\n",
      "\n",
      "\n",
      " At random state 132 , the testing accuracy is :- 0.9665542755932891\n",
      " At random state 132 , the testing accuracy is :- 0.9839520017855528\n",
      "\n",
      "\n",
      " At random state 133 , the testing accuracy is :- 0.9684902847063419\n",
      " At random state 133 , the testing accuracy is :- 0.9867834012845415\n",
      "\n",
      "\n",
      " At random state 134 , the testing accuracy is :- 0.9721134158870662\n",
      " At random state 134 , the testing accuracy is :- 0.9712895114456344\n",
      "\n",
      "\n",
      " At random state 135 , the testing accuracy is :- 0.9696269241999967\n",
      " At random state 135 , the testing accuracy is :- 0.9826699712938094\n",
      "\n",
      "\n",
      " At random state 136 , the testing accuracy is :- 0.977475511231117\n",
      " At random state 136 , the testing accuracy is :- 0.9538545401686729\n",
      "\n",
      "\n",
      " At random state 137 , the testing accuracy is :- 0.9838545860925423\n",
      " At random state 137 , the testing accuracy is :- 0.914654569514113\n",
      "\n",
      "\n",
      " At random state 138 , the testing accuracy is :- 0.974385756314048\n",
      " At random state 138 , the testing accuracy is :- 0.9594744453012733\n",
      "\n",
      "\n",
      " At random state 139 , the testing accuracy is :- 0.9743988943440919\n",
      " At random state 139 , the testing accuracy is :- 0.9645455788982252\n",
      "\n",
      "\n",
      " At random state 140 , the testing accuracy is :- 0.971014745795411\n",
      " At random state 140 , the testing accuracy is :- 0.9774788839962287\n",
      "\n",
      "\n",
      " At random state 141 , the testing accuracy is :- 0.9661123917304208\n",
      " At random state 141 , the testing accuracy is :- 0.986977476367329\n",
      "\n",
      "\n",
      " At random state 142 , the testing accuracy is :- 0.9797289367285327\n",
      " At random state 142 , the testing accuracy is :- 0.9380503286450423\n",
      "\n",
      "\n",
      " At random state 143 , the testing accuracy is :- 0.9747856155996218\n",
      " At random state 143 , the testing accuracy is :- 0.9582406265049089\n",
      "\n",
      "\n",
      " At random state 144 , the testing accuracy is :- 0.9819494731100609\n",
      " At random state 144 , the testing accuracy is :- 0.9233917049812461\n",
      "\n",
      "\n",
      " At random state 145 , the testing accuracy is :- 0.9793181886020342\n",
      " At random state 145 , the testing accuracy is :- 0.9347865843585478\n",
      "\n",
      "\n",
      " At random state 146 , the testing accuracy is :- 0.9705421344792903\n",
      " At random state 146 , the testing accuracy is :- 0.9783847667215373\n",
      "\n",
      "\n",
      " At random state 147 , the testing accuracy is :- 0.9713552148863501\n",
      " At random state 147 , the testing accuracy is :- 0.9743855794160708\n",
      "\n",
      "\n",
      " At random state 148 , the testing accuracy is :- 0.9800175459144467\n",
      " At random state 148 , the testing accuracy is :- 0.9237883988482534\n",
      "\n",
      "\n",
      " At random state 149 , the testing accuracy is :- 0.9769718503712158\n",
      " At random state 149 , the testing accuracy is :- 0.955463222267833\n",
      "\n",
      "\n",
      " At random state 150 , the testing accuracy is :- 0.9751246332697724\n",
      " At random state 150 , the testing accuracy is :- 0.9564014745638644\n",
      "\n",
      "\n",
      " At random state 151 , the testing accuracy is :- 0.9771359638474151\n",
      " At random state 151 , the testing accuracy is :- 0.952014339369856\n",
      "\n",
      "\n",
      " At random state 152 , the testing accuracy is :- 0.9712347089751298\n",
      " At random state 152 , the testing accuracy is :- 0.9754108056117698\n",
      "\n",
      "\n",
      " At random state 153 , the testing accuracy is :- 0.979998678604147\n",
      " At random state 153 , the testing accuracy is :- 0.9444997640566934\n",
      "\n",
      "\n",
      " At random state 154 , the testing accuracy is :- 0.9697152115760062\n",
      " At random state 154 , the testing accuracy is :- 0.9802017730855901\n",
      "\n",
      "\n",
      " At random state 155 , the testing accuracy is :- 0.9767580408081141\n",
      " At random state 155 , the testing accuracy is :- 0.9563212064538512\n",
      "\n",
      "\n",
      " At random state 156 , the testing accuracy is :- 0.9680101791910769\n",
      " At random state 156 , the testing accuracy is :- 0.9841244501866253\n",
      "\n",
      "\n",
      " At random state 157 , the testing accuracy is :- 0.9814286557927812\n",
      " At random state 157 , the testing accuracy is :- 0.9297219427070886\n",
      "\n",
      "\n",
      " At random state 158 , the testing accuracy is :- 0.9790135881537261\n",
      " At random state 158 , the testing accuracy is :- 0.9368410542242771\n",
      "\n",
      "\n",
      " At random state 159 , the testing accuracy is :- 0.9720614734952144\n",
      " At random state 159 , the testing accuracy is :- 0.9737312649787414\n",
      "\n",
      "\n",
      " At random state 160 , the testing accuracy is :- 0.9713666364996257\n",
      " At random state 160 , the testing accuracy is :- 0.9760872262788681\n",
      "\n",
      "\n",
      " At random state 161 , the testing accuracy is :- 0.9728642993142793\n",
      " At random state 161 , the testing accuracy is :- 0.9655325334399355\n",
      "\n",
      "\n",
      " At random state 162 , the testing accuracy is :- 0.9735495664258877\n",
      " At random state 162 , the testing accuracy is :- 0.9590399397633599\n",
      "\n",
      "\n",
      " At random state 163 , the testing accuracy is :- 0.9700794586921542\n",
      " At random state 163 , the testing accuracy is :- 0.9810954031490309\n",
      "\n",
      "\n",
      " At random state 164 , the testing accuracy is :- 0.971034143557748\n",
      " At random state 164 , the testing accuracy is :- 0.9747319301224068\n",
      "\n",
      "\n",
      " At random state 165 , the testing accuracy is :- 0.9722780137149234\n",
      " At random state 165 , the testing accuracy is :- 0.9728431767519056\n",
      "\n",
      "\n",
      " At random state 166 , the testing accuracy is :- 0.9724303828323794\n",
      " At random state 166 , the testing accuracy is :- 0.9722250533329695\n",
      "\n",
      "\n",
      " At random state 167 , the testing accuracy is :- 0.9746742983113306\n",
      " At random state 167 , the testing accuracy is :- 0.9568695718940117\n",
      "\n",
      "\n",
      " At random state 168 , the testing accuracy is :- 0.9808774623234651\n",
      " At random state 168 , the testing accuracy is :- 0.9245277998927766\n",
      "\n",
      "\n",
      " At random state 169 , the testing accuracy is :- 0.9733735797475965\n",
      " At random state 169 , the testing accuracy is :- 0.9636269333714127\n",
      "\n",
      "\n",
      " At random state 170 , the testing accuracy is :- 0.9693977862320458\n",
      " At random state 170 , the testing accuracy is :- 0.9819807511658272\n",
      "\n",
      "\n",
      " At random state 171 , the testing accuracy is :- 0.9727064415170688\n",
      " At random state 171 , the testing accuracy is :- 0.9654460001503555\n",
      "\n",
      "\n",
      " At random state 172 , the testing accuracy is :- 0.980305106078696\n",
      " At random state 172 , the testing accuracy is :- 0.9294464700806483\n",
      "\n",
      "\n",
      " At random state 173 , the testing accuracy is :- 0.976285182133638\n",
      " At random state 173 , the testing accuracy is :- 0.9569810564546938\n",
      "\n",
      "\n",
      " At random state 174 , the testing accuracy is :- 0.9769209933862789\n",
      " At random state 174 , the testing accuracy is :- 0.9402669095806339\n",
      "\n",
      "\n",
      " At random state 175 , the testing accuracy is :- 0.973504505650115\n",
      " At random state 175 , the testing accuracy is :- 0.9668073725453004\n",
      "\n",
      "\n",
      " At random state 176 , the testing accuracy is :- 0.9762537941918827\n",
      " At random state 176 , the testing accuracy is :- 0.9398239991169051\n",
      "\n",
      "\n",
      " At random state 177 , the testing accuracy is :- 0.9705018227040036\n",
      " At random state 177 , the testing accuracy is :- 0.9762147208697337\n",
      "\n",
      "\n",
      " At random state 178 , the testing accuracy is :- 0.9693557904693366\n",
      " At random state 178 , the testing accuracy is :- 0.9863742802571049\n",
      "\n",
      "\n",
      " At random state 179 , the testing accuracy is :- 0.9692066452063502\n",
      " At random state 179 , the testing accuracy is :- 0.9817562193904282\n",
      "\n",
      "\n",
      " At random state 180 , the testing accuracy is :- 0.9696275750531302\n",
      " At random state 180 , the testing accuracy is :- 0.9803986004544475\n",
      "\n",
      "\n",
      " At random state 181 , the testing accuracy is :- 0.9643142770880652\n",
      " At random state 181 , the testing accuracy is :- 0.9880760950262407\n",
      "\n",
      "\n",
      " At random state 182 , the testing accuracy is :- 0.9674869870348306\n",
      " At random state 182 , the testing accuracy is :- 0.9868330208836044\n",
      "\n",
      "\n",
      " At random state 183 , the testing accuracy is :- 0.975272143499464\n",
      " At random state 183 , the testing accuracy is :- 0.9582832775410818\n",
      "\n",
      "\n",
      " At random state 184 , the testing accuracy is :- 0.970115964352741\n",
      " At random state 184 , the testing accuracy is :- 0.9759939302379368\n",
      "\n",
      "\n",
      " At random state 185 , the testing accuracy is :- 0.974366098096849\n",
      " At random state 185 , the testing accuracy is :- 0.9625878316407073\n",
      "\n",
      "\n",
      " At random state 186 , the testing accuracy is :- 0.9745503217347209\n",
      " At random state 186 , the testing accuracy is :- 0.9551789986916165\n",
      "\n",
      "\n",
      " At random state 187 , the testing accuracy is :- 0.9743580024800091\n",
      " At random state 187 , the testing accuracy is :- 0.9602039211723159\n",
      "\n",
      "\n",
      " At random state 188 , the testing accuracy is :- 0.971759086501221\n",
      " At random state 188 , the testing accuracy is :- 0.9729528389512972\n",
      "\n",
      "\n",
      " At random state 189 , the testing accuracy is :- 0.9780647983950332\n",
      " At random state 189 , the testing accuracy is :- 0.9489171671542764\n",
      "\n",
      "\n",
      " At random state 190 , the testing accuracy is :- 0.9723122545513335\n",
      " At random state 190 , the testing accuracy is :- 0.9722136694818215\n",
      "\n",
      "\n",
      " At random state 191 , the testing accuracy is :- 0.9761490372100827\n",
      " At random state 191 , the testing accuracy is :- 0.9515657300359606\n",
      "\n",
      "\n",
      " At random state 192 , the testing accuracy is :- 0.9695847034322342\n",
      " At random state 192 , the testing accuracy is :- 0.9812805946636417\n",
      "\n",
      "\n",
      " At random state 193 , the testing accuracy is :- 0.9808719695052251\n",
      " At random state 193 , the testing accuracy is :- 0.9207450570532174\n",
      "\n",
      "\n",
      " At random state 194 , the testing accuracy is :- 0.9700109935572276\n",
      " At random state 194 , the testing accuracy is :- 0.9778158267497148\n",
      "\n",
      "\n",
      " At random state 195 , the testing accuracy is :- 0.973743064586888\n",
      " At random state 195 , the testing accuracy is :- 0.9656802855722592\n",
      "\n",
      "\n",
      " At random state 196 , the testing accuracy is :- 0.9706114154636899\n",
      " At random state 196 , the testing accuracy is :- 0.9765604195427655\n",
      "\n",
      "\n",
      " At random state 197 , the testing accuracy is :- 0.9787190179233529\n",
      " At random state 197 , the testing accuracy is :- 0.9362302016814201\n",
      "\n",
      "\n",
      " At random state 198 , the testing accuracy is :- 0.9722346151715653\n",
      " At random state 198 , the testing accuracy is :- 0.9743009597449077\n",
      "\n",
      "\n",
      " At random state 199 , the testing accuracy is :- 0.9717780062679952\n",
      " At random state 199 , the testing accuracy is :- 0.9712385312470997\n",
      "\n",
      "\n"
     ]
    }
   ],
   "source": [
    "for i in range(0,200):\n",
    "    x_train,x_test,y_train,y_test=train_test_split(x,y,test_size=0.2,random_state=i)\n",
    "    lr.fit(x_train,y_train)\n",
    "    x_pred=lr.predict(x_train)\n",
    "    y_pred=lr.predict(x_test)\n",
    "    print(f\" At random state {i} , the testing accuracy is :- {r2_score(y_train,x_pred)}\")\n",
    "    print(f\" At random state {i} , the testing accuracy is :- {r2_score(y_test,y_pred)}\")\n",
    "    print(\"\\n\")"
   ]
  },
  {
   "cell_type": "markdown",
   "id": "acc4f60b",
   "metadata": {},
   "source": [
    "So , we select random state 4"
   ]
  },
  {
   "cell_type": "code",
   "execution_count": 106,
   "id": "647bc9c4",
   "metadata": {},
   "outputs": [],
   "source": [
    "x_train,x_test,y_train,y_test=train_test_split(x,y,test_size=0.2,random_state=4)\n"
   ]
  },
  {
   "cell_type": "code",
   "execution_count": 107,
   "id": "27bb9adc",
   "metadata": {},
   "outputs": [
    {
     "data": {
      "text/html": [
       "<style>#sk-container-id-6 {color: black;background-color: white;}#sk-container-id-6 pre{padding: 0;}#sk-container-id-6 div.sk-toggleable {background-color: white;}#sk-container-id-6 label.sk-toggleable__label {cursor: pointer;display: block;width: 100%;margin-bottom: 0;padding: 0.3em;box-sizing: border-box;text-align: center;}#sk-container-id-6 label.sk-toggleable__label-arrow:before {content: \"▸\";float: left;margin-right: 0.25em;color: #696969;}#sk-container-id-6 label.sk-toggleable__label-arrow:hover:before {color: black;}#sk-container-id-6 div.sk-estimator:hover label.sk-toggleable__label-arrow:before {color: black;}#sk-container-id-6 div.sk-toggleable__content {max-height: 0;max-width: 0;overflow: hidden;text-align: left;background-color: #f0f8ff;}#sk-container-id-6 div.sk-toggleable__content pre {margin: 0.2em;color: black;border-radius: 0.25em;background-color: #f0f8ff;}#sk-container-id-6 input.sk-toggleable__control:checked~div.sk-toggleable__content {max-height: 200px;max-width: 100%;overflow: auto;}#sk-container-id-6 input.sk-toggleable__control:checked~label.sk-toggleable__label-arrow:before {content: \"▾\";}#sk-container-id-6 div.sk-estimator input.sk-toggleable__control:checked~label.sk-toggleable__label {background-color: #d4ebff;}#sk-container-id-6 div.sk-label input.sk-toggleable__control:checked~label.sk-toggleable__label {background-color: #d4ebff;}#sk-container-id-6 input.sk-hidden--visually {border: 0;clip: rect(1px 1px 1px 1px);clip: rect(1px, 1px, 1px, 1px);height: 1px;margin: -1px;overflow: hidden;padding: 0;position: absolute;width: 1px;}#sk-container-id-6 div.sk-estimator {font-family: monospace;background-color: #f0f8ff;border: 1px dotted black;border-radius: 0.25em;box-sizing: border-box;margin-bottom: 0.5em;}#sk-container-id-6 div.sk-estimator:hover {background-color: #d4ebff;}#sk-container-id-6 div.sk-parallel-item::after {content: \"\";width: 100%;border-bottom: 1px solid gray;flex-grow: 1;}#sk-container-id-6 div.sk-label:hover label.sk-toggleable__label {background-color: #d4ebff;}#sk-container-id-6 div.sk-serial::before {content: \"\";position: absolute;border-left: 1px solid gray;box-sizing: border-box;top: 0;bottom: 0;left: 50%;z-index: 0;}#sk-container-id-6 div.sk-serial {display: flex;flex-direction: column;align-items: center;background-color: white;padding-right: 0.2em;padding-left: 0.2em;position: relative;}#sk-container-id-6 div.sk-item {position: relative;z-index: 1;}#sk-container-id-6 div.sk-parallel {display: flex;align-items: stretch;justify-content: center;background-color: white;position: relative;}#sk-container-id-6 div.sk-item::before, #sk-container-id-6 div.sk-parallel-item::before {content: \"\";position: absolute;border-left: 1px solid gray;box-sizing: border-box;top: 0;bottom: 0;left: 50%;z-index: -1;}#sk-container-id-6 div.sk-parallel-item {display: flex;flex-direction: column;z-index: 1;position: relative;background-color: white;}#sk-container-id-6 div.sk-parallel-item:first-child::after {align-self: flex-end;width: 50%;}#sk-container-id-6 div.sk-parallel-item:last-child::after {align-self: flex-start;width: 50%;}#sk-container-id-6 div.sk-parallel-item:only-child::after {width: 0;}#sk-container-id-6 div.sk-dashed-wrapped {border: 1px dashed gray;margin: 0 0.4em 0.5em 0.4em;box-sizing: border-box;padding-bottom: 0.4em;background-color: white;}#sk-container-id-6 div.sk-label label {font-family: monospace;font-weight: bold;display: inline-block;line-height: 1.2em;}#sk-container-id-6 div.sk-label-container {text-align: center;}#sk-container-id-6 div.sk-container {/* jupyter's `normalize.less` sets `[hidden] { display: none; }` but bootstrap.min.css set `[hidden] { display: none !important; }` so we also need the `!important` here to be able to override the default hidden behavior on the sphinx rendered scikit-learn.org. See: https://github.com/scikit-learn/scikit-learn/issues/21755 */display: inline-block !important;position: relative;}#sk-container-id-6 div.sk-text-repr-fallback {display: none;}</style><div id=\"sk-container-id-6\" class=\"sk-top-container\"><div class=\"sk-text-repr-fallback\"><pre>LinearRegression()</pre><b>In a Jupyter environment, please rerun this cell to show the HTML representation or trust the notebook. <br />On GitHub, the HTML representation is unable to render, please try loading this page with nbviewer.org.</b></div><div class=\"sk-container\" hidden><div class=\"sk-item\"><div class=\"sk-estimator sk-toggleable\"><input class=\"sk-toggleable__control sk-hidden--visually\" id=\"sk-estimator-id-6\" type=\"checkbox\" checked><label for=\"sk-estimator-id-6\" class=\"sk-toggleable__label sk-toggleable__label-arrow\">LinearRegression</label><div class=\"sk-toggleable__content\"><pre>LinearRegression()</pre></div></div></div></div></div>"
      ],
      "text/plain": [
       "LinearRegression()"
      ]
     },
     "execution_count": 107,
     "metadata": {},
     "output_type": "execute_result"
    }
   ],
   "source": [
    "#Lets fit the model\n",
    "lr.fit(x_train,y_train)"
   ]
  },
  {
   "cell_type": "code",
   "execution_count": 108,
   "id": "e35a7a22",
   "metadata": {},
   "outputs": [
    {
     "data": {
      "text/plain": [
       "0.9707539725894079"
      ]
     },
     "execution_count": 108,
     "metadata": {},
     "output_type": "execute_result"
    }
   ],
   "source": [
    "#Lets Check Score\n",
    "lr.score(x_train,y_train)#Training Score\n",
    "x_pred=lr.predict(x_train)\n",
    "s_pred=r2_score(y_train,x_pred)\n",
    "s_pred"
   ]
  },
  {
   "cell_type": "code",
   "execution_count": 109,
   "id": "0b2be966",
   "metadata": {},
   "outputs": [
    {
     "data": {
      "text/plain": [
       "0.9810848205685054"
      ]
     },
     "execution_count": 109,
     "metadata": {},
     "output_type": "execute_result"
    }
   ],
   "source": [
    "#Lets Check Score\n",
    "lr.score(x_test,y_test)#Testing Score\n",
    "y_pred=lr.predict(x_test)\n",
    "g_pred=r2_score(y_test,y_pred)\n",
    "g_pred"
   ]
  },
  {
   "cell_type": "markdown",
   "id": "948136ff",
   "metadata": {},
   "source": [
    "# Lets Check Cross Validation Score"
   ]
  },
  {
   "cell_type": "code",
   "execution_count": 110,
   "id": "27f3405a",
   "metadata": {},
   "outputs": [],
   "source": [
    "#Lets import cross_val_score\n",
    "from sklearn.model_selection import cross_val_score"
   ]
  },
  {
   "cell_type": "code",
   "execution_count": 111,
   "id": "6182b326",
   "metadata": {},
   "outputs": [
    {
     "name": "stdout",
     "output_type": "stream",
     "text": [
      "At cross fold 2 the Cross_val_Score for training is 0.9707539725894079 and accuracy for testing is 0.9810848205685054\n",
      "At cross fold 3 the Cross_val_Score for training is 0.9707539725894079 and accuracy for testing is 0.9810848205685054\n",
      "At cross fold 4 the Cross_val_Score for training is 0.9707539725894079 and accuracy for testing is 0.9810848205685054\n",
      "At cross fold 5 the Cross_val_Score for training is 0.9707539725894079 and accuracy for testing is 0.9810848205685054\n",
      "At cross fold 6 the Cross_val_Score for training is 0.9707539725894079 and accuracy for testing is 0.9810848205685054\n",
      "At cross fold 7 the Cross_val_Score for training is 0.9707539725894079 and accuracy for testing is 0.9810848205685054\n",
      "At cross fold 8 the Cross_val_Score for training is 0.9707539725894079 and accuracy for testing is 0.9810848205685054\n",
      "At cross fold 9 the Cross_val_Score for training is 0.9707539725894079 and accuracy for testing is 0.9810848205685054\n"
     ]
    }
   ],
   "source": [
    "for j in range(2,10):\n",
    "    cv_score=cross_val_score(lr,x,y,cv=j)\n",
    "    cv_mean=cv_score.mean()\n",
    "    \n",
    "    print(f\"At cross fold {j} the Cross_val_Score for training is {s_pred} and accuracy for testing is {g_pred}\")"
   ]
  },
  {
   "cell_type": "markdown",
   "id": "0870cd36",
   "metadata": {},
   "source": [
    "So ,we can see that . Linear Regression and Cross_Val_Score almost give same result."
   ]
  },
  {
   "cell_type": "markdown",
   "id": "54ba822d",
   "metadata": {},
   "source": [
    "# Lets , Print Best Fit Line Using Scatter Plot"
   ]
  },
  {
   "cell_type": "code",
   "execution_count": 112,
   "id": "e93497ea",
   "metadata": {},
   "outputs": [
    {
     "data": {
      "image/png": "[encoded data removed]",
      "text/plain": [
       "<Figure size 576x432 with 1 Axes>"
      ]
     },
     "metadata": {
      "needs_background": "light"
     },
     "output_type": "display_data"
    }
   ],
   "source": [
    "import matplotlib.pyplot as plt\n",
    "plt.figure(figsize=(8,6))\n",
    "plt.scatter(y_test,y_pred,color='r')\n",
    "plt.plot(y_test,y_test,color='b')\n",
    "plt.xlabel(\"Acutal Charges \",fontsize=14)\n",
    "plt.ylabel(\"Predicted Charges \",fontsize=14)\n",
    "plt.title(\"Linear Regression \",fontsize=18)\n",
    "plt.savefig('lr.png')\n",
    "plt.show()\n"
   ]
  },
  {
   "cell_type": "markdown",
   "id": "888bc55e",
   "metadata": {},
   "source": [
    "So ,we can clearly see that best fit line pass through maximum data points."
   ]
  },
  {
   "cell_type": "markdown",
   "id": "2b8ea31e",
   "metadata": {},
   "source": [
    "# Lets Do Hyperparameter Tuning \n",
    "\n",
    "\n",
    "We got good accuracuy but lets check how much accuracy increased with tuning the parameter."
   ]
  },
  {
   "cell_type": "code",
   "execution_count": 113,
   "id": "77601fcd",
   "metadata": {},
   "outputs": [],
   "source": [
    "#Import GridSearch CV\n",
    "from sklearn.model_selection import GridSearchCV"
   ]
  },
  {
   "cell_type": "code",
   "execution_count": 117,
   "id": "2e2b2575",
   "metadata": {},
   "outputs": [],
   "source": [
    "#Import LASSO (Least absolute shrinkage and selection operator)\n",
    "from sklearn.linear_model import Lasso\n",
    "\n"
   ]
  },
  {
   "cell_type": "code",
   "execution_count": 118,
   "id": "a265df5b",
   "metadata": {},
   "outputs": [],
   "source": [
    "param={'alpha':[.0001,.001,.01,.1,1,10],\n",
    "          'random_state':list(range(0,10))} #Here we assinging the multiple parameters for getting best one."
   ]
  },
  {
   "cell_type": "code",
   "execution_count": 120,
   "id": "3a963a46",
   "metadata": {},
   "outputs": [
    {
     "name": "stdout",
     "output_type": "stream",
     "text": [
      "{'alpha': 0.0001, 'random_state': 0}\n"
     ]
    }
   ],
   "source": [
    "ls=Lasso()\n",
    "clf=GridSearchCV(ls,param)\n",
    "clf.fit(x_train,y_train)\n",
    "print(clf.best_params_)"
   ]
  },
  {
   "cell_type": "code",
   "execution_count": 140,
   "id": "a16f79a1",
   "metadata": {},
   "outputs": [],
   "source": [
    "cnn=Lasso(alpha=.0002,random_state=9)"
   ]
  },
  {
   "cell_type": "code",
   "execution_count": 141,
   "id": "df6883e9",
   "metadata": {},
   "outputs": [
    {
     "data": {
      "text/html": [
       "<style>#sk-container-id-11 {color: black;background-color: white;}#sk-container-id-11 pre{padding: 0;}#sk-container-id-11 div.sk-toggleable {background-color: white;}#sk-container-id-11 label.sk-toggleable__label {cursor: pointer;display: block;width: 100%;margin-bottom: 0;padding: 0.3em;box-sizing: border-box;text-align: center;}#sk-container-id-11 label.sk-toggleable__label-arrow:before {content: \"▸\";float: left;margin-right: 0.25em;color: #696969;}#sk-container-id-11 label.sk-toggleable__label-arrow:hover:before {color: black;}#sk-container-id-11 div.sk-estimator:hover label.sk-toggleable__label-arrow:before {color: black;}#sk-container-id-11 div.sk-toggleable__content {max-height: 0;max-width: 0;overflow: hidden;text-align: left;background-color: #f0f8ff;}#sk-container-id-11 div.sk-toggleable__content pre {margin: 0.2em;color: black;border-radius: 0.25em;background-color: #f0f8ff;}#sk-container-id-11 input.sk-toggleable__control:checked~div.sk-toggleable__content {max-height: 200px;max-width: 100%;overflow: auto;}#sk-container-id-11 input.sk-toggleable__control:checked~label.sk-toggleable__label-arrow:before {content: \"▾\";}#sk-container-id-11 div.sk-estimator input.sk-toggleable__control:checked~label.sk-toggleable__label {background-color: #d4ebff;}#sk-container-id-11 div.sk-label input.sk-toggleable__control:checked~label.sk-toggleable__label {background-color: #d4ebff;}#sk-container-id-11 input.sk-hidden--visually {border: 0;clip: rect(1px 1px 1px 1px);clip: rect(1px, 1px, 1px, 1px);height: 1px;margin: -1px;overflow: hidden;padding: 0;position: absolute;width: 1px;}#sk-container-id-11 div.sk-estimator {font-family: monospace;background-color: #f0f8ff;border: 1px dotted black;border-radius: 0.25em;box-sizing: border-box;margin-bottom: 0.5em;}#sk-container-id-11 div.sk-estimator:hover {background-color: #d4ebff;}#sk-container-id-11 div.sk-parallel-item::after {content: \"\";width: 100%;border-bottom: 1px solid gray;flex-grow: 1;}#sk-container-id-11 div.sk-label:hover label.sk-toggleable__label {background-color: #d4ebff;}#sk-container-id-11 div.sk-serial::before {content: \"\";position: absolute;border-left: 1px solid gray;box-sizing: border-box;top: 0;bottom: 0;left: 50%;z-index: 0;}#sk-container-id-11 div.sk-serial {display: flex;flex-direction: column;align-items: center;background-color: white;padding-right: 0.2em;padding-left: 0.2em;position: relative;}#sk-container-id-11 div.sk-item {position: relative;z-index: 1;}#sk-container-id-11 div.sk-parallel {display: flex;align-items: stretch;justify-content: center;background-color: white;position: relative;}#sk-container-id-11 div.sk-item::before, #sk-container-id-11 div.sk-parallel-item::before {content: \"\";position: absolute;border-left: 1px solid gray;box-sizing: border-box;top: 0;bottom: 0;left: 50%;z-index: -1;}#sk-container-id-11 div.sk-parallel-item {display: flex;flex-direction: column;z-index: 1;position: relative;background-color: white;}#sk-container-id-11 div.sk-parallel-item:first-child::after {align-self: flex-end;width: 50%;}#sk-container-id-11 div.sk-parallel-item:last-child::after {align-self: flex-start;width: 50%;}#sk-container-id-11 div.sk-parallel-item:only-child::after {width: 0;}#sk-container-id-11 div.sk-dashed-wrapped {border: 1px dashed gray;margin: 0 0.4em 0.5em 0.4em;box-sizing: border-box;padding-bottom: 0.4em;background-color: white;}#sk-container-id-11 div.sk-label label {font-family: monospace;font-weight: bold;display: inline-block;line-height: 1.2em;}#sk-container-id-11 div.sk-label-container {text-align: center;}#sk-container-id-11 div.sk-container {/* jupyter's `normalize.less` sets `[hidden] { display: none; }` but bootstrap.min.css set `[hidden] { display: none !important; }` so we also need the `!important` here to be able to override the default hidden behavior on the sphinx rendered scikit-learn.org. See: https://github.com/scikit-learn/scikit-learn/issues/21755 */display: inline-block !important;position: relative;}#sk-container-id-11 div.sk-text-repr-fallback {display: none;}</style><div id=\"sk-container-id-11\" class=\"sk-top-container\"><div class=\"sk-text-repr-fallback\"><pre>Lasso(alpha=0.0002, random_state=9)</pre><b>In a Jupyter environment, please rerun this cell to show the HTML representation or trust the notebook. <br />On GitHub, the HTML representation is unable to render, please try loading this page with nbviewer.org.</b></div><div class=\"sk-container\" hidden><div class=\"sk-item\"><div class=\"sk-estimator sk-toggleable\"><input class=\"sk-toggleable__control sk-hidden--visually\" id=\"sk-estimator-id-11\" type=\"checkbox\" checked><label for=\"sk-estimator-id-11\" class=\"sk-toggleable__label sk-toggleable__label-arrow\">Lasso</label><div class=\"sk-toggleable__content\"><pre>Lasso(alpha=0.0002, random_state=9)</pre></div></div></div></div></div>"
      ],
      "text/plain": [
       "Lasso(alpha=0.0002, random_state=9)"
      ]
     },
     "execution_count": 141,
     "metadata": {},
     "output_type": "execute_result"
    }
   ],
   "source": [
    "cnn.fit(x_train,y_train) # Here we fit the model. with our best parameters."
   ]
  },
  {
   "cell_type": "code",
   "execution_count": 142,
   "id": "90db16af",
   "metadata": {},
   "outputs": [
    {
     "data": {
      "text/plain": [
       "0.9707504127726995"
      ]
     },
     "execution_count": 142,
     "metadata": {},
     "output_type": "execute_result"
    }
   ],
   "source": [
    "cnn.score(x_train,y_train)#Training Score"
   ]
  },
  {
   "cell_type": "code",
   "execution_count": 143,
   "id": "dbc6abdb",
   "metadata": {},
   "outputs": [
    {
     "data": {
      "text/plain": [
       "0.9809688930591983"
      ]
     },
     "execution_count": 143,
     "metadata": {},
     "output_type": "execute_result"
    }
   ],
   "source": [
    "cnn.score(x_test,y_test)#Testing Score"
   ]
  },
  {
   "cell_type": "markdown",
   "id": "ddca56db",
   "metadata": {},
   "source": [
    "I tried Lots of time but i dont get better accuracy ..\n",
    "\n",
    "\n",
    "So here we are using Linear Regression . and We got .\n",
    "\n",
    "\n",
    "Training Score - 97 %\n",
    "\n",
    "\n",
    "Testing Score - 98 %\n",
    "\n",
    "\n",
    "\n",
    "So our Model is ready for testing ."
   ]
  },
  {
   "cell_type": "markdown",
   "id": "538e33e2",
   "metadata": {},
   "source": [
    "# Lets Use One More Algorithm\n",
    "\n",
    "# RandomForestRegressor"
   ]
  },
  {
   "cell_type": "code",
   "execution_count": 144,
   "id": "dcaf6106",
   "metadata": {},
   "outputs": [],
   "source": [
    "#Lets import RandomForesrtRegressor"
   ]
  },
  {
   "cell_type": "code",
   "execution_count": 145,
   "id": "fb2db3c6",
   "metadata": {},
   "outputs": [],
   "source": [
    "from sklearn.ensemble import RandomForestRegressor"
   ]
  },
  {
   "cell_type": "code",
   "execution_count": 146,
   "id": "62960b3b",
   "metadata": {},
   "outputs": [],
   "source": [
    "rf=RandomForestRegressor()"
   ]
  },
  {
   "cell_type": "code",
   "execution_count": 153,
   "id": "94e14fdb",
   "metadata": {},
   "outputs": [
    {
     "data": {
      "text/html": [
       "<style>#sk-container-id-14 {color: black;background-color: white;}#sk-container-id-14 pre{padding: 0;}#sk-container-id-14 div.sk-toggleable {background-color: white;}#sk-container-id-14 label.sk-toggleable__label {cursor: pointer;display: block;width: 100%;margin-bottom: 0;padding: 0.3em;box-sizing: border-box;text-align: center;}#sk-container-id-14 label.sk-toggleable__label-arrow:before {content: \"▸\";float: left;margin-right: 0.25em;color: #696969;}#sk-container-id-14 label.sk-toggleable__label-arrow:hover:before {color: black;}#sk-container-id-14 div.sk-estimator:hover label.sk-toggleable__label-arrow:before {color: black;}#sk-container-id-14 div.sk-toggleable__content {max-height: 0;max-width: 0;overflow: hidden;text-align: left;background-color: #f0f8ff;}#sk-container-id-14 div.sk-toggleable__content pre {margin: 0.2em;color: black;border-radius: 0.25em;background-color: #f0f8ff;}#sk-container-id-14 input.sk-toggleable__control:checked~div.sk-toggleable__content {max-height: 200px;max-width: 100%;overflow: auto;}#sk-container-id-14 input.sk-toggleable__control:checked~label.sk-toggleable__label-arrow:before {content: \"▾\";}#sk-container-id-14 div.sk-estimator input.sk-toggleable__control:checked~label.sk-toggleable__label {background-color: #d4ebff;}#sk-container-id-14 div.sk-label input.sk-toggleable__control:checked~label.sk-toggleable__label {background-color: #d4ebff;}#sk-container-id-14 input.sk-hidden--visually {border: 0;clip: rect(1px 1px 1px 1px);clip: rect(1px, 1px, 1px, 1px);height: 1px;margin: -1px;overflow: hidden;padding: 0;position: absolute;width: 1px;}#sk-container-id-14 div.sk-estimator {font-family: monospace;background-color: #f0f8ff;border: 1px dotted black;border-radius: 0.25em;box-sizing: border-box;margin-bottom: 0.5em;}#sk-container-id-14 div.sk-estimator:hover {background-color: #d4ebff;}#sk-container-id-14 div.sk-parallel-item::after {content: \"\";width: 100%;border-bottom: 1px solid gray;flex-grow: 1;}#sk-container-id-14 div.sk-label:hover label.sk-toggleable__label {background-color: #d4ebff;}#sk-container-id-14 div.sk-serial::before {content: \"\";position: absolute;border-left: 1px solid gray;box-sizing: border-box;top: 0;bottom: 0;left: 50%;z-index: 0;}#sk-container-id-14 div.sk-serial {display: flex;flex-direction: column;align-items: center;background-color: white;padding-right: 0.2em;padding-left: 0.2em;position: relative;}#sk-container-id-14 div.sk-item {position: relative;z-index: 1;}#sk-container-id-14 div.sk-parallel {display: flex;align-items: stretch;justify-content: center;background-color: white;position: relative;}#sk-container-id-14 div.sk-item::before, #sk-container-id-14 div.sk-parallel-item::before {content: \"\";position: absolute;border-left: 1px solid gray;box-sizing: border-box;top: 0;bottom: 0;left: 50%;z-index: -1;}#sk-container-id-14 div.sk-parallel-item {display: flex;flex-direction: column;z-index: 1;position: relative;background-color: white;}#sk-container-id-14 div.sk-parallel-item:first-child::after {align-self: flex-end;width: 50%;}#sk-container-id-14 div.sk-parallel-item:last-child::after {align-self: flex-start;width: 50%;}#sk-container-id-14 div.sk-parallel-item:only-child::after {width: 0;}#sk-container-id-14 div.sk-dashed-wrapped {border: 1px dashed gray;margin: 0 0.4em 0.5em 0.4em;box-sizing: border-box;padding-bottom: 0.4em;background-color: white;}#sk-container-id-14 div.sk-label label {font-family: monospace;font-weight: bold;display: inline-block;line-height: 1.2em;}#sk-container-id-14 div.sk-label-container {text-align: center;}#sk-container-id-14 div.sk-container {/* jupyter's `normalize.less` sets `[hidden] { display: none; }` but bootstrap.min.css set `[hidden] { display: none !important; }` so we also need the `!important` here to be able to override the default hidden behavior on the sphinx rendered scikit-learn.org. See: https://github.com/scikit-learn/scikit-learn/issues/21755 */display: inline-block !important;position: relative;}#sk-container-id-14 div.sk-text-repr-fallback {display: none;}</style><div id=\"sk-container-id-14\" class=\"sk-top-container\"><div class=\"sk-text-repr-fallback\"><pre>RandomForestRegressor()</pre><b>In a Jupyter environment, please rerun this cell to show the HTML representation or trust the notebook. <br />On GitHub, the HTML representation is unable to render, please try loading this page with nbviewer.org.</b></div><div class=\"sk-container\" hidden><div class=\"sk-item\"><div class=\"sk-estimator sk-toggleable\"><input class=\"sk-toggleable__control sk-hidden--visually\" id=\"sk-estimator-id-14\" type=\"checkbox\" checked><label for=\"sk-estimator-id-14\" class=\"sk-toggleable__label sk-toggleable__label-arrow\">RandomForestRegressor</label><div class=\"sk-toggleable__content\"><pre>RandomForestRegressor()</pre></div></div></div></div></div>"
      ],
      "text/plain": [
       "RandomForestRegressor()"
      ]
     },
     "execution_count": 153,
     "metadata": {},
     "output_type": "execute_result"
    }
   ],
   "source": [
    "rf.fit(x_train,y_train)#Here we fit our data"
   ]
  },
  {
   "cell_type": "code",
   "execution_count": 154,
   "id": "09b71507",
   "metadata": {},
   "outputs": [
    {
     "data": {
      "text/plain": [
       "0.9363794010677848"
      ]
     },
     "execution_count": 154,
     "metadata": {},
     "output_type": "execute_result"
    }
   ],
   "source": [
    "rf.score(x_train,y_train)#For Training Score"
   ]
  },
  {
   "cell_type": "code",
   "execution_count": 155,
   "id": "11cac5f7",
   "metadata": {},
   "outputs": [
    {
     "data": {
      "text/plain": [
       "0.7480574480771207"
      ]
     },
     "execution_count": 155,
     "metadata": {},
     "output_type": "execute_result"
    }
   ],
   "source": [
    "rf.score(x_test,y_test)#For testing Score"
   ]
  },
  {
   "cell_type": "markdown",
   "id": "1b00f13a",
   "metadata": {},
   "source": [
    "But we can clearly see that we dont get much accuracy lets do hyperparameter tuning."
   ]
  },
  {
   "cell_type": "code",
   "execution_count": 156,
   "id": "ffec246a",
   "metadata": {},
   "outputs": [],
   "source": [
    "from sklearn.model_selection import GridSearchCV"
   ]
  },
  {
   "cell_type": "code",
   "execution_count": 157,
   "id": "26ac877d",
   "metadata": {},
   "outputs": [],
   "source": [
    "#lets create best parameters for hyperparameter tuning."
   ]
  },
  {
   "cell_type": "code",
   "execution_count": 163,
   "id": "5a4b9353",
   "metadata": {},
   "outputs": [],
   "source": [
    "param={'criterion':['mse','mae'],\n",
    "          'max_features':['auto','sqrt','log2']}"
   ]
  },
  {
   "cell_type": "code",
   "execution_count": 164,
   "id": "1da41093",
   "metadata": {},
   "outputs": [
    {
     "name": "stdout",
     "output_type": "stream",
     "text": [
      "{'criterion': 'mse', 'max_features': 'auto'}\n"
     ]
    }
   ],
   "source": [
    "#Lets apply the parameters \n",
    "rf=RandomForestRegressor()\n",
    "clf=GridSearchCV(rf,param)\n",
    "clf.fit(x_train,y_train)\n",
    "print(clf.best_params_)"
   ]
  },
  {
   "cell_type": "code",
   "execution_count": 168,
   "id": "a71d6677",
   "metadata": {},
   "outputs": [
    {
     "name": "stdout",
     "output_type": "stream",
     "text": [
      "R2 Score 74.6551144370393\n"
     ]
    }
   ],
   "source": [
    "rf=RandomForestRegressor(criterion='mse',max_features='auto')#Initiate best parameters in RandomForestRegressor\n",
    "\n",
    "rf.fit(x_train,y_train) #Fitting the training data.\n",
    "\n",
    "rf.score(x_train,y_train) # Training Score\n",
    "\n",
    "rf_pred=rf.predict(x_test) #Assigning the new variable name for getting r2_score\n",
    "\n",
    "rf_score=r2_score(y_test,pred_decision)\n",
    "\n",
    "print(\"R2 Score\",rfs*100)\n"
   ]
  },
  {
   "cell_type": "code",
   "execution_count": 170,
   "id": "e6c7003f",
   "metadata": {},
   "outputs": [],
   "source": [
    "#So here we got  74 % . and in Linear Regresson we got 98 % . So i am going with linear Regression"
   ]
  },
  {
   "cell_type": "code",
   "execution_count": 172,
   "id": "6d6f3c81",
   "metadata": {},
   "outputs": [
    {
     "data": {
      "text/plain": [
       "0.9707504127726995"
      ]
     },
     "execution_count": 172,
     "metadata": {},
     "output_type": "execute_result"
    }
   ],
   "source": [
    "cnn.score(x_train,y_train)#Linear Regression Training Score"
   ]
  },
  {
   "cell_type": "code",
   "execution_count": 173,
   "id": "c3be17b8",
   "metadata": {},
   "outputs": [
    {
     "data": {
      "text/plain": [
       "0.9809688930591983"
      ]
     },
     "execution_count": 173,
     "metadata": {},
     "output_type": "execute_result"
    }
   ],
   "source": [
    "cnn.score(x_test,y_test)#Linear Regression Testing Score"
   ]
  },
  {
   "cell_type": "markdown",
   "id": "769bf23c",
   "metadata": {},
   "source": [
    "# Lets Check r2_score for both Training and Testing ."
   ]
  },
  {
   "cell_type": "code",
   "execution_count": 180,
   "id": "75b7874b",
   "metadata": {},
   "outputs": [
    {
     "data": {
      "text/plain": [
       "97.07504127726995"
      ]
     },
     "execution_count": 180,
     "metadata": {},
     "output_type": "execute_result"
    }
   ],
   "source": [
    "x_pred=cnn.predict(x_train) #Training Score (r2_score)\n",
    "r2_score(y_train,x_pred) *100"
   ]
  },
  {
   "cell_type": "code",
   "execution_count": 181,
   "id": "891c5ab0",
   "metadata": {},
   "outputs": [
    {
     "data": {
      "text/plain": [
       "98.09688930591983"
      ]
     },
     "execution_count": 181,
     "metadata": {},
     "output_type": "execute_result"
    }
   ],
   "source": [
    "y_pred=cnn.predict(x_test)\n",
    "r2_score(y_test,y_pred)*100 #Testing Score (r2_score)"
   ]
  },
  {
   "cell_type": "markdown",
   "id": "696b8c65",
   "metadata": {},
   "source": [
    "We are getting model accuracy and cross validatiion both as 98.09 % which shows our model is performing extremly well."
   ]
  },
  {
   "cell_type": "markdown",
   "id": "402d9a18",
   "metadata": {},
   "source": [
    "# Lets Save the Model"
   ]
  },
  {
   "cell_type": "code",
   "execution_count": 191,
   "id": "9e814b82",
   "metadata": {},
   "outputs": [],
   "source": [
    "import pickle\n",
    "\n",
    "file_name=('World Happiness')\n",
    "\n",
    "pickle.dump(rf,open(file_name,'wb'))"
   ]
  },
  {
   "cell_type": "markdown",
   "id": "d5be31db",
   "metadata": {},
   "source": [
    "# Conclusion"
   ]
  },
  {
   "cell_type": "code",
   "execution_count": 200,
   "id": "0c7481eb",
   "metadata": {},
   "outputs": [
    {
     "name": "stdout",
     "output_type": "stream",
     "text": [
      "73.46012841136593\n"
     ]
    }
   ],
   "source": [
    "loaded_model=pickle.load(open('World Happiness','rb'))\n",
    "result=loaded_model.score(x_test,y_test)\n",
    "print(result*100)#I dont why is showing wrong prediction"
   ]
  },
  {
   "cell_type": "code",
   "execution_count": 197,
   "id": "3215a3b4",
   "metadata": {},
   "outputs": [],
   "source": [
    "conclusion=pd.DataFrame([loaded_model.predict(x_train)[:],pred_decision[:]],index=['predicted','original'])"
   ]
  },
  {
   "cell_type": "code",
   "execution_count": 198,
   "id": "12aa3e9e",
   "metadata": {},
   "outputs": [
    {
     "data": {
      "text/html": [
       "<div>\n",
       "<style scoped>\n",
       "    .dataframe tbody tr th:only-of-type {\n",
       "        vertical-align: middle;\n",
       "    }\n",
       "\n",
       "    .dataframe tbody tr th {\n",
       "        vertical-align: top;\n",
       "    }\n",
       "\n",
       "    .dataframe thead th {\n",
       "        text-align: right;\n",
       "    }\n",
       "</style>\n",
       "<table border=\"1\" class=\"dataframe\">\n",
       "  <thead>\n",
       "    <tr style=\"text-align: right;\">\n",
       "      <th></th>\n",
       "      <th>0</th>\n",
       "      <th>1</th>\n",
       "      <th>2</th>\n",
       "      <th>3</th>\n",
       "      <th>4</th>\n",
       "      <th>5</th>\n",
       "      <th>6</th>\n",
       "      <th>7</th>\n",
       "      <th>8</th>\n",
       "      <th>9</th>\n",
       "      <th>...</th>\n",
       "      <th>111</th>\n",
       "      <th>112</th>\n",
       "      <th>113</th>\n",
       "      <th>114</th>\n",
       "      <th>115</th>\n",
       "      <th>116</th>\n",
       "      <th>117</th>\n",
       "      <th>118</th>\n",
       "      <th>119</th>\n",
       "      <th>120</th>\n",
       "    </tr>\n",
       "  </thead>\n",
       "  <tbody>\n",
       "    <tr>\n",
       "      <th>predicted</th>\n",
       "      <td>1.943269</td>\n",
       "      <td>1.525601</td>\n",
       "      <td>2.574816</td>\n",
       "      <td>2.173567</td>\n",
       "      <td>1.778393</td>\n",
       "      <td>1.788643</td>\n",
       "      <td>1.808609</td>\n",
       "      <td>1.416424</td>\n",
       "      <td>1.907293</td>\n",
       "      <td>2.119814</td>\n",
       "      <td>...</td>\n",
       "      <td>1.423792</td>\n",
       "      <td>1.750132</td>\n",
       "      <td>2.045479</td>\n",
       "      <td>1.899468</td>\n",
       "      <td>1.239168</td>\n",
       "      <td>2.319297</td>\n",
       "      <td>2.03256</td>\n",
       "      <td>2.070135</td>\n",
       "      <td>1.603613</td>\n",
       "      <td>1.784506</td>\n",
       "    </tr>\n",
       "    <tr>\n",
       "      <th>original</th>\n",
       "      <td>2.199013</td>\n",
       "      <td>2.248738</td>\n",
       "      <td>1.746702</td>\n",
       "      <td>1.717287</td>\n",
       "      <td>1.718877</td>\n",
       "      <td>2.439212</td>\n",
       "      <td>1.962621</td>\n",
       "      <td>2.432872</td>\n",
       "      <td>2.452386</td>\n",
       "      <td>2.065784</td>\n",
       "      <td>...</td>\n",
       "      <td>NaN</td>\n",
       "      <td>NaN</td>\n",
       "      <td>NaN</td>\n",
       "      <td>NaN</td>\n",
       "      <td>NaN</td>\n",
       "      <td>NaN</td>\n",
       "      <td>NaN</td>\n",
       "      <td>NaN</td>\n",
       "      <td>NaN</td>\n",
       "      <td>NaN</td>\n",
       "    </tr>\n",
       "  </tbody>\n",
       "</table>\n",
       "<p>2 rows × 121 columns</p>\n",
       "</div>"
      ],
      "text/plain": [
       "                0         1         2         3         4         5    \\\n",
       "predicted  1.943269  1.525601  2.574816  2.173567  1.778393  1.788643   \n",
       "original   2.199013  2.248738  1.746702  1.717287  1.718877  2.439212   \n",
       "\n",
       "                6         7         8         9    ...       111       112  \\\n",
       "predicted  1.808609  1.416424  1.907293  2.119814  ...  1.423792  1.750132   \n",
       "original   1.962621  2.432872  2.452386  2.065784  ...       NaN       NaN   \n",
       "\n",
       "                113       114       115       116      117       118  \\\n",
       "predicted  2.045479  1.899468  1.239168  2.319297  2.03256  2.070135   \n",
       "original        NaN       NaN       NaN       NaN      NaN       NaN   \n",
       "\n",
       "                119       120  \n",
       "predicted  1.603613  1.784506  \n",
       "original        NaN       NaN  \n",
       "\n",
       "[2 rows x 121 columns]"
      ]
     },
     "execution_count": 198,
     "metadata": {},
     "output_type": "execute_result"
    }
   ],
   "source": [
    "conclusion"
   ]
  },
  {
   "cell_type": "code",
   "execution_count": 199,
   "id": "292ef1bd",
   "metadata": {},
   "outputs": [],
   "source": [
    "#Student of DataScience\n",
    "#Student of DataTrained- Saurav\n",
    "#Date-19-10-22\n",
    "#Time - 21:12"
   ]
  },
  {
   "cell_type": "code",
   "execution_count": null,
   "id": "d116fd46",
   "metadata": {},
   "outputs": [],
   "source": []
  }
 ],
 "metadata": {
  "kernelspec": {
   "display_name": "Python 3 (ipykernel)",
   "language": "python",
   "name": "python3"
  },
  "language_info": {
   "codemirror_mode": {
    "name": "ipython",
    "version": 3
   },
   "file_extension": ".py",
   "mimetype": "text/x-python",
   "name": "python",
   "nbconvert_exporter": "python",
   "pygments_lexer": "ipython3",
   "version": "3.9.12"
  }
 },
 "nbformat": 4,
 "nbformat_minor": 5
}
