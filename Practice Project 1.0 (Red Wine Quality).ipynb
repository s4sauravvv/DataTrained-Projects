{
 "cells": [
  {
   "cell_type": "markdown",
   "id": "40e33bb2",
   "metadata": {},
   "source": [
    "# Red Wine Quality Prediction"
   ]
  },
  {
   "cell_type": "markdown",
   "id": "f650e8ab",
   "metadata": {},
   "source": [
    "# Problem Statement:\n",
    "\n",
    "\n",
    "\n",
    "The dataset is related to red and white variants of the Portuguese \"Vinho Verde\" wine. Due to privacy and logistic issues, only physicochemical (inputs) and sensory (the output) variables are available (e.g. there is no data about grape types, wine brand, wine selling price, etc.).\n",
    "\n",
    "This dataset can be viewed as classification task. The classes are ordered and not balanced (e.g. there are many more normal wines than excellent or poor ones). Also, we are not sure if all input variables are relevant. So it could be interesting to test feature selection methods."
   ]
  },
  {
   "cell_type": "markdown",
   "id": "18588a42",
   "metadata": {},
   "source": [
    "# Attribute Information\n",
    "\n",
    "\n",
    "\n",
    "Input variables (based on physicochemical tests):\n",
    "\n",
    "\n",
    "1 - fixed acidity\n",
    "\n",
    "\n",
    "2 - volatile acidity\n",
    "\n",
    "\n",
    "\n",
    "3 - citric acid\n",
    "\n",
    "\n",
    "\n",
    "4 - residual sugar\n",
    "\n",
    "\n",
    "\n",
    "5 - chlorides\n",
    "\n",
    "\n",
    "\n",
    "\n",
    "6 - free sulfur dioxide\n",
    "\n",
    "\n",
    "\n",
    "7 - total sulfur dioxide\n",
    "\n",
    "\n",
    "\n",
    "8 - density\n",
    "\n",
    "\n",
    "\n",
    "\n",
    "9 - pH\n",
    "\n",
    "\n",
    "\n",
    "10 - sulphates\n",
    "\n",
    "\n",
    "\n",
    "\n",
    "11 - alcohol\n",
    "\n",
    "\n",
    "\n",
    "Output variable (based on sensory data):\n",
    "\n",
    "\n",
    "\n",
    "\n",
    "12 - quality (score between 0 and 10)\n",
    "\n",
    "\n",
    "\n",
    "\n",
    "What might be an interesting thing to do, is to set an arbitrary cutoff for your dependent variable (wine quality) at e.g. 7 or higher getting classified as 'good/1' and the remainder as 'not good/0'.\n",
    "\n",
    "\n",
    "This allows you to practice with hyper parameter tuning on e.g. decision tree algorithms looking at the ROC curve and the AUC value.\n",
    "\n",
    "\n",
    "\n",
    "You need to build a classification model. "
   ]
  },
  {
   "cell_type": "markdown",
   "id": "b7bf9cee",
   "metadata": {},
   "source": [
    "# Inspiration\n",
    "\n",
    "Use machine learning to determine which physiochemical properties make a wine 'good'!"
   ]
  },
  {
   "cell_type": "markdown",
   "id": "efef91e0",
   "metadata": {},
   "source": [
    " # Always refer.\n",
    "For any queries about algorithm follow the given below link.\n",
    "\n",
    "\n",
    "\n",
    "\n",
    "https://scikit-learn.org/stable/index.html"
   ]
  },
  {
   "cell_type": "code",
   "execution_count": 704,
   "id": "60452275",
   "metadata": {},
   "outputs": [],
   "source": [
    "#lets import Necessary Libraries\n",
    "import numpy as np\n",
    "import pandas as pd"
   ]
  },
  {
   "cell_type": "code",
   "execution_count": 705,
   "id": "697d8b86",
   "metadata": {},
   "outputs": [
    {
     "data": {
      "text/html": [
       "<div>\n",
       "<style scoped>\n",
       "    .dataframe tbody tr th:only-of-type {\n",
       "        vertical-align: middle;\n",
       "    }\n",
       "\n",
       "    .dataframe tbody tr th {\n",
       "        vertical-align: top;\n",
       "    }\n",
       "\n",
       "    .dataframe thead th {\n",
       "        text-align: right;\n",
       "    }\n",
       "</style>\n",
       "<table border=\"1\" class=\"dataframe\">\n",
       "  <thead>\n",
       "    <tr style=\"text-align: right;\">\n",
       "      <th></th>\n",
       "      <th>fixed acidity</th>\n",
       "      <th>volatile acidity</th>\n",
       "      <th>citric acid</th>\n",
       "      <th>residual sugar</th>\n",
       "      <th>chlorides</th>\n",
       "      <th>free sulfur dioxide</th>\n",
       "      <th>total sulfur dioxide</th>\n",
       "      <th>density</th>\n",
       "      <th>pH</th>\n",
       "      <th>sulphates</th>\n",
       "      <th>alcohol</th>\n",
       "      <th>quality</th>\n",
       "    </tr>\n",
       "  </thead>\n",
       "  <tbody>\n",
       "    <tr>\n",
       "      <th>0</th>\n",
       "      <td>7.4</td>\n",
       "      <td>0.70</td>\n",
       "      <td>0.00</td>\n",
       "      <td>1.9</td>\n",
       "      <td>0.076</td>\n",
       "      <td>11.0</td>\n",
       "      <td>34.0</td>\n",
       "      <td>0.9978</td>\n",
       "      <td>3.51</td>\n",
       "      <td>0.56</td>\n",
       "      <td>9.4</td>\n",
       "      <td>5</td>\n",
       "    </tr>\n",
       "    <tr>\n",
       "      <th>1</th>\n",
       "      <td>7.8</td>\n",
       "      <td>0.88</td>\n",
       "      <td>0.00</td>\n",
       "      <td>2.6</td>\n",
       "      <td>0.098</td>\n",
       "      <td>25.0</td>\n",
       "      <td>67.0</td>\n",
       "      <td>0.9968</td>\n",
       "      <td>3.20</td>\n",
       "      <td>0.68</td>\n",
       "      <td>9.8</td>\n",
       "      <td>5</td>\n",
       "    </tr>\n",
       "    <tr>\n",
       "      <th>2</th>\n",
       "      <td>7.8</td>\n",
       "      <td>0.76</td>\n",
       "      <td>0.04</td>\n",
       "      <td>2.3</td>\n",
       "      <td>0.092</td>\n",
       "      <td>15.0</td>\n",
       "      <td>54.0</td>\n",
       "      <td>0.9970</td>\n",
       "      <td>3.26</td>\n",
       "      <td>0.65</td>\n",
       "      <td>9.8</td>\n",
       "      <td>5</td>\n",
       "    </tr>\n",
       "    <tr>\n",
       "      <th>3</th>\n",
       "      <td>11.2</td>\n",
       "      <td>0.28</td>\n",
       "      <td>0.56</td>\n",
       "      <td>1.9</td>\n",
       "      <td>0.075</td>\n",
       "      <td>17.0</td>\n",
       "      <td>60.0</td>\n",
       "      <td>0.9980</td>\n",
       "      <td>3.16</td>\n",
       "      <td>0.58</td>\n",
       "      <td>9.8</td>\n",
       "      <td>6</td>\n",
       "    </tr>\n",
       "    <tr>\n",
       "      <th>4</th>\n",
       "      <td>7.4</td>\n",
       "      <td>0.70</td>\n",
       "      <td>0.00</td>\n",
       "      <td>1.9</td>\n",
       "      <td>0.076</td>\n",
       "      <td>11.0</td>\n",
       "      <td>34.0</td>\n",
       "      <td>0.9978</td>\n",
       "      <td>3.51</td>\n",
       "      <td>0.56</td>\n",
       "      <td>9.4</td>\n",
       "      <td>5</td>\n",
       "    </tr>\n",
       "  </tbody>\n",
       "</table>\n",
       "</div>"
      ],
      "text/plain": [
       "   fixed acidity  volatile acidity  citric acid  residual sugar  chlorides  \\\n",
       "0            7.4              0.70         0.00             1.9      0.076   \n",
       "1            7.8              0.88         0.00             2.6      0.098   \n",
       "2            7.8              0.76         0.04             2.3      0.092   \n",
       "3           11.2              0.28         0.56             1.9      0.075   \n",
       "4            7.4              0.70         0.00             1.9      0.076   \n",
       "\n",
       "   free sulfur dioxide  total sulfur dioxide  density    pH  sulphates  \\\n",
       "0                 11.0                  34.0   0.9978  3.51       0.56   \n",
       "1                 25.0                  67.0   0.9968  3.20       0.68   \n",
       "2                 15.0                  54.0   0.9970  3.26       0.65   \n",
       "3                 17.0                  60.0   0.9980  3.16       0.58   \n",
       "4                 11.0                  34.0   0.9978  3.51       0.56   \n",
       "\n",
       "   alcohol  quality  \n",
       "0      9.4        5  \n",
       "1      9.8        5  \n",
       "2      9.8        5  \n",
       "3      9.8        6  \n",
       "4      9.4        5  "
      ]
     },
     "execution_count": 705,
     "metadata": {},
     "output_type": "execute_result"
    }
   ],
   "source": [
    "#Load Dataset\n",
    "data=pd.read_csv('https://raw.githubusercontent.com/dsrscientist/DSData/master/winequality-red.csv')\n",
    "data.head()"
   ]
  },
  {
   "cell_type": "code",
   "execution_count": 706,
   "id": "46b3a346",
   "metadata": {},
   "outputs": [
    {
     "data": {
      "text/plain": [
       "(1599, 12)"
      ]
     },
     "execution_count": 706,
     "metadata": {},
     "output_type": "execute_result"
    }
   ],
   "source": [
    "#Lets check the shape of the data\n",
    "data.shape"
   ]
  },
  {
   "cell_type": "markdown",
   "id": "65b1278f",
   "metadata": {},
   "source": [
    "So, we have 12 columns and 1599 rows."
   ]
  },
  {
   "cell_type": "code",
   "execution_count": 707,
   "id": "b24fe12d",
   "metadata": {},
   "outputs": [
    {
     "data": {
      "text/plain": [
       "fixed acidity           0\n",
       "volatile acidity        0\n",
       "citric acid             0\n",
       "residual sugar          0\n",
       "chlorides               0\n",
       "free sulfur dioxide     0\n",
       "total sulfur dioxide    0\n",
       "density                 0\n",
       "pH                      0\n",
       "sulphates               0\n",
       "alcohol                 0\n",
       "quality                 0\n",
       "dtype: int64"
      ]
     },
     "execution_count": 707,
     "metadata": {},
     "output_type": "execute_result"
    }
   ],
   "source": [
    "#Checking Nan Values\n",
    "data.isna().sum()"
   ]
  },
  {
   "cell_type": "markdown",
   "id": "146cb9f8",
   "metadata": {},
   "source": [
    "So, We dont any null values we are good to proceed."
   ]
  },
  {
   "cell_type": "code",
   "execution_count": 708,
   "id": "60d71454",
   "metadata": {},
   "outputs": [
    {
     "data": {
      "text/plain": [
       "fixed acidity           float64\n",
       "volatile acidity        float64\n",
       "citric acid             float64\n",
       "residual sugar          float64\n",
       "chlorides               float64\n",
       "free sulfur dioxide     float64\n",
       "total sulfur dioxide    float64\n",
       "density                 float64\n",
       "pH                      float64\n",
       "sulphates               float64\n",
       "alcohol                 float64\n",
       "quality                   int64\n",
       "dtype: object"
      ]
     },
     "execution_count": 708,
     "metadata": {},
     "output_type": "execute_result"
    }
   ],
   "source": [
    "#Lets check the datatype of the columns\n",
    "data.dtypes"
   ]
  },
  {
   "cell_type": "markdown",
   "id": "7c244601",
   "metadata": {},
   "source": [
    "So, as we know that float values are 99% times are continious data .and we have all float values  and we have 1 int type . ."
   ]
  },
  {
   "cell_type": "code",
   "execution_count": 709,
   "id": "439c4d05",
   "metadata": {},
   "outputs": [
    {
     "data": {
      "text/plain": [
       "array([5, 6, 7, 4, 8, 3], dtype=int64)"
      ]
     },
     "execution_count": 709,
     "metadata": {},
     "output_type": "execute_result"
    }
   ],
   "source": [
    "#Lets check the uniques values of quality\n",
    "data['quality'].unique()"
   ]
  },
  {
   "cell_type": "markdown",
   "id": "1b37b736",
   "metadata": {},
   "source": [
    "7 or higher getting classified as 'good/1' and the remainder as 'not good/0'."
   ]
  },
  {
   "cell_type": "code",
   "execution_count": 710,
   "id": "8b1f66e5",
   "metadata": {},
   "outputs": [
    {
     "data": {
      "text/html": [
       "<div>\n",
       "<style scoped>\n",
       "    .dataframe tbody tr th:only-of-type {\n",
       "        vertical-align: middle;\n",
       "    }\n",
       "\n",
       "    .dataframe tbody tr th {\n",
       "        vertical-align: top;\n",
       "    }\n",
       "\n",
       "    .dataframe thead th {\n",
       "        text-align: right;\n",
       "    }\n",
       "</style>\n",
       "<table border=\"1\" class=\"dataframe\">\n",
       "  <thead>\n",
       "    <tr style=\"text-align: right;\">\n",
       "      <th></th>\n",
       "      <th>fixed acidity</th>\n",
       "      <th>volatile acidity</th>\n",
       "      <th>citric acid</th>\n",
       "      <th>residual sugar</th>\n",
       "      <th>chlorides</th>\n",
       "      <th>free sulfur dioxide</th>\n",
       "      <th>total sulfur dioxide</th>\n",
       "      <th>density</th>\n",
       "      <th>pH</th>\n",
       "      <th>sulphates</th>\n",
       "      <th>alcohol</th>\n",
       "      <th>quality</th>\n",
       "    </tr>\n",
       "  </thead>\n",
       "  <tbody>\n",
       "  </tbody>\n",
       "</table>\n",
       "</div>"
      ],
      "text/plain": [
       "Empty DataFrame\n",
       "Columns: [fixed acidity, volatile acidity, citric acid, residual sugar, chlorides, free sulfur dioxide, total sulfur dioxide, density, pH, sulphates, alcohol, quality]\n",
       "Index: []"
      ]
     },
     "execution_count": 710,
     "metadata": {},
     "output_type": "execute_result"
    }
   ],
   "source": [
    "#Lets use loc method and check thre is any blank space are available in target columns.\n",
    "data.loc[data['quality']==\" \"]"
   ]
  },
  {
   "cell_type": "markdown",
   "id": "a489b4e9",
   "metadata": {},
   "source": [
    "So we dont have any blank space in label column and we good to proceed."
   ]
  },
  {
   "cell_type": "code",
   "execution_count": 711,
   "id": "b809a858",
   "metadata": {},
   "outputs": [
    {
     "data": {
      "text/html": [
       "<div>\n",
       "<style scoped>\n",
       "    .dataframe tbody tr th:only-of-type {\n",
       "        vertical-align: middle;\n",
       "    }\n",
       "\n",
       "    .dataframe tbody tr th {\n",
       "        vertical-align: top;\n",
       "    }\n",
       "\n",
       "    .dataframe thead th {\n",
       "        text-align: right;\n",
       "    }\n",
       "</style>\n",
       "<table border=\"1\" class=\"dataframe\">\n",
       "  <thead>\n",
       "    <tr style=\"text-align: right;\">\n",
       "      <th></th>\n",
       "      <th>fixed acidity</th>\n",
       "      <th>volatile acidity</th>\n",
       "      <th>citric acid</th>\n",
       "      <th>residual sugar</th>\n",
       "      <th>chlorides</th>\n",
       "      <th>free sulfur dioxide</th>\n",
       "      <th>total sulfur dioxide</th>\n",
       "      <th>density</th>\n",
       "      <th>pH</th>\n",
       "      <th>sulphates</th>\n",
       "      <th>alcohol</th>\n",
       "      <th>quality</th>\n",
       "    </tr>\n",
       "  </thead>\n",
       "  <tbody>\n",
       "    <tr>\n",
       "      <th>count</th>\n",
       "      <td>1599.000000</td>\n",
       "      <td>1599.000000</td>\n",
       "      <td>1599.000000</td>\n",
       "      <td>1599.000000</td>\n",
       "      <td>1599.000000</td>\n",
       "      <td>1599.000000</td>\n",
       "      <td>1599.000000</td>\n",
       "      <td>1599.000000</td>\n",
       "      <td>1599.000000</td>\n",
       "      <td>1599.000000</td>\n",
       "      <td>1599.000000</td>\n",
       "      <td>1599.000000</td>\n",
       "    </tr>\n",
       "    <tr>\n",
       "      <th>mean</th>\n",
       "      <td>8.319637</td>\n",
       "      <td>0.527821</td>\n",
       "      <td>0.270976</td>\n",
       "      <td>2.538806</td>\n",
       "      <td>0.087467</td>\n",
       "      <td>15.874922</td>\n",
       "      <td>46.467792</td>\n",
       "      <td>0.996747</td>\n",
       "      <td>3.311113</td>\n",
       "      <td>0.658149</td>\n",
       "      <td>10.422983</td>\n",
       "      <td>5.636023</td>\n",
       "    </tr>\n",
       "    <tr>\n",
       "      <th>std</th>\n",
       "      <td>1.741096</td>\n",
       "      <td>0.179060</td>\n",
       "      <td>0.194801</td>\n",
       "      <td>1.409928</td>\n",
       "      <td>0.047065</td>\n",
       "      <td>10.460157</td>\n",
       "      <td>32.895324</td>\n",
       "      <td>0.001887</td>\n",
       "      <td>0.154386</td>\n",
       "      <td>0.169507</td>\n",
       "      <td>1.065668</td>\n",
       "      <td>0.807569</td>\n",
       "    </tr>\n",
       "    <tr>\n",
       "      <th>min</th>\n",
       "      <td>4.600000</td>\n",
       "      <td>0.120000</td>\n",
       "      <td>0.000000</td>\n",
       "      <td>0.900000</td>\n",
       "      <td>0.012000</td>\n",
       "      <td>1.000000</td>\n",
       "      <td>6.000000</td>\n",
       "      <td>0.990070</td>\n",
       "      <td>2.740000</td>\n",
       "      <td>0.330000</td>\n",
       "      <td>8.400000</td>\n",
       "      <td>3.000000</td>\n",
       "    </tr>\n",
       "    <tr>\n",
       "      <th>25%</th>\n",
       "      <td>7.100000</td>\n",
       "      <td>0.390000</td>\n",
       "      <td>0.090000</td>\n",
       "      <td>1.900000</td>\n",
       "      <td>0.070000</td>\n",
       "      <td>7.000000</td>\n",
       "      <td>22.000000</td>\n",
       "      <td>0.995600</td>\n",
       "      <td>3.210000</td>\n",
       "      <td>0.550000</td>\n",
       "      <td>9.500000</td>\n",
       "      <td>5.000000</td>\n",
       "    </tr>\n",
       "    <tr>\n",
       "      <th>50%</th>\n",
       "      <td>7.900000</td>\n",
       "      <td>0.520000</td>\n",
       "      <td>0.260000</td>\n",
       "      <td>2.200000</td>\n",
       "      <td>0.079000</td>\n",
       "      <td>14.000000</td>\n",
       "      <td>38.000000</td>\n",
       "      <td>0.996750</td>\n",
       "      <td>3.310000</td>\n",
       "      <td>0.620000</td>\n",
       "      <td>10.200000</td>\n",
       "      <td>6.000000</td>\n",
       "    </tr>\n",
       "    <tr>\n",
       "      <th>75%</th>\n",
       "      <td>9.200000</td>\n",
       "      <td>0.640000</td>\n",
       "      <td>0.420000</td>\n",
       "      <td>2.600000</td>\n",
       "      <td>0.090000</td>\n",
       "      <td>21.000000</td>\n",
       "      <td>62.000000</td>\n",
       "      <td>0.997835</td>\n",
       "      <td>3.400000</td>\n",
       "      <td>0.730000</td>\n",
       "      <td>11.100000</td>\n",
       "      <td>6.000000</td>\n",
       "    </tr>\n",
       "    <tr>\n",
       "      <th>max</th>\n",
       "      <td>15.900000</td>\n",
       "      <td>1.580000</td>\n",
       "      <td>1.000000</td>\n",
       "      <td>15.500000</td>\n",
       "      <td>0.611000</td>\n",
       "      <td>72.000000</td>\n",
       "      <td>289.000000</td>\n",
       "      <td>1.003690</td>\n",
       "      <td>4.010000</td>\n",
       "      <td>2.000000</td>\n",
       "      <td>14.900000</td>\n",
       "      <td>8.000000</td>\n",
       "    </tr>\n",
       "  </tbody>\n",
       "</table>\n",
       "</div>"
      ],
      "text/plain": [
       "       fixed acidity  volatile acidity  citric acid  residual sugar  \\\n",
       "count    1599.000000       1599.000000  1599.000000     1599.000000   \n",
       "mean        8.319637          0.527821     0.270976        2.538806   \n",
       "std         1.741096          0.179060     0.194801        1.409928   \n",
       "min         4.600000          0.120000     0.000000        0.900000   \n",
       "25%         7.100000          0.390000     0.090000        1.900000   \n",
       "50%         7.900000          0.520000     0.260000        2.200000   \n",
       "75%         9.200000          0.640000     0.420000        2.600000   \n",
       "max        15.900000          1.580000     1.000000       15.500000   \n",
       "\n",
       "         chlorides  free sulfur dioxide  total sulfur dioxide      density  \\\n",
       "count  1599.000000          1599.000000           1599.000000  1599.000000   \n",
       "mean      0.087467            15.874922             46.467792     0.996747   \n",
       "std       0.047065            10.460157             32.895324     0.001887   \n",
       "min       0.012000             1.000000              6.000000     0.990070   \n",
       "25%       0.070000             7.000000             22.000000     0.995600   \n",
       "50%       0.079000            14.000000             38.000000     0.996750   \n",
       "75%       0.090000            21.000000             62.000000     0.997835   \n",
       "max       0.611000            72.000000            289.000000     1.003690   \n",
       "\n",
       "                pH    sulphates      alcohol      quality  \n",
       "count  1599.000000  1599.000000  1599.000000  1599.000000  \n",
       "mean      3.311113     0.658149    10.422983     5.636023  \n",
       "std       0.154386     0.169507     1.065668     0.807569  \n",
       "min       2.740000     0.330000     8.400000     3.000000  \n",
       "25%       3.210000     0.550000     9.500000     5.000000  \n",
       "50%       3.310000     0.620000    10.200000     6.000000  \n",
       "75%       3.400000     0.730000    11.100000     6.000000  \n",
       "max       4.010000     2.000000    14.900000     8.000000  "
      ]
     },
     "execution_count": 711,
     "metadata": {},
     "output_type": "execute_result"
    }
   ],
   "source": [
    "#Lets check data description\n",
    "data.describe()"
   ]
  },
  {
   "cell_type": "markdown",
   "id": "f4609a8c",
   "metadata": {},
   "source": [
    "# EDA (Exploratory Data Analysis)"
   ]
  },
  {
   "cell_type": "markdown",
   "id": "7a987164",
   "metadata": {},
   "source": [
    "# Scatter Plot"
   ]
  },
  {
   "cell_type": "code",
   "execution_count": 712,
   "id": "c9790dcb",
   "metadata": {},
   "outputs": [
    {
     "data": {
      "image/png": "[encoded data removed]",
      "text/plain": [
       "<Figure size 432x288 with 1 Axes>"
      ]
     },
     "metadata": {
      "needs_background": "light"
     },
     "output_type": "display_data"
    }
   ],
   "source": [
    "import matplotlib.pyplot as plt\n",
    "import seaborn as sns\n",
    "sns.scatterplot(x='quality',y='fixed acidity',data=data)\n",
    "plt.show()"
   ]
  },
  {
   "cell_type": "markdown",
   "id": "95889e77",
   "metadata": {},
   "source": [
    "For quality  4 5 6 7  fixed acidity is gaining"
   ]
  },
  {
   "cell_type": "code",
   "execution_count": 713,
   "id": "f7d51083",
   "metadata": {},
   "outputs": [
    {
     "data": {
      "text/plain": [
       "<AxesSubplot:xlabel='quality', ylabel='volatile acidity'>"
      ]
     },
     "execution_count": 713,
     "metadata": {},
     "output_type": "execute_result"
    },
    {
     "data": {
      "image/png": "[encoded data removed]",
      "text/plain": [
       "<Figure size 432x288 with 1 Axes>"
      ]
     },
     "metadata": {
      "needs_background": "light"
     },
     "output_type": "display_data"
    }
   ],
   "source": [
    "sns.scatterplot(x='quality',y='volatile acidity',data=data)"
   ]
  },
  {
   "cell_type": "markdown",
   "id": "f970c681",
   "metadata": {},
   "source": [
    "for quality 4 5 6 7 volatile acidity is gaining"
   ]
  },
  {
   "cell_type": "code",
   "execution_count": 714,
   "id": "70676708",
   "metadata": {},
   "outputs": [
    {
     "data": {
      "text/plain": [
       "<AxesSubplot:xlabel='quality', ylabel='citric acid'>"
      ]
     },
     "execution_count": 714,
     "metadata": {},
     "output_type": "execute_result"
    },
    {
     "data": {
      "image/png": "[encoded data removed]",
      "text/plain": [
       "<Figure size 432x288 with 1 Axes>"
      ]
     },
     "metadata": {
      "needs_background": "light"
     },
     "output_type": "display_data"
    }
   ],
   "source": [
    "sns.scatterplot(x='quality',y='citric acid',data=data)"
   ]
  },
  {
   "cell_type": "markdown",
   "id": "0f0d8004",
   "metadata": {},
   "source": [
    "For quality 4,5,6,7, citric acid is gaining"
   ]
  },
  {
   "cell_type": "code",
   "execution_count": 715,
   "id": "37c94cc7",
   "metadata": {},
   "outputs": [
    {
     "data": {
      "text/plain": [
       "<AxesSubplot:xlabel='quality', ylabel='residual sugar'>"
      ]
     },
     "execution_count": 715,
     "metadata": {},
     "output_type": "execute_result"
    },
    {
     "data": {
      "image/png": "[encoded data removed]",
      "text/plain": [
       "<Figure size 432x288 with 1 Axes>"
      ]
     },
     "metadata": {
      "needs_background": "light"
     },
     "output_type": "display_data"
    }
   ],
   "source": [
    "sns.scatterplot(x='quality',y='residual sugar',data=data)"
   ]
  },
  {
   "cell_type": "markdown",
   "id": "7fba079b",
   "metadata": {},
   "source": [
    "For quality 5,6,7 residual sugar is gaining"
   ]
  },
  {
   "cell_type": "code",
   "execution_count": 716,
   "id": "a1e1bf13",
   "metadata": {},
   "outputs": [
    {
     "data": {
      "text/plain": [
       "<AxesSubplot:xlabel='quality', ylabel='chlorides'>"
      ]
     },
     "execution_count": 716,
     "metadata": {},
     "output_type": "execute_result"
    },
    {
     "data": {
      "image/png": "[encoded data removed]",
      "text/plain": [
       "<Figure size 432x288 with 1 Axes>"
      ]
     },
     "metadata": {
      "needs_background": "light"
     },
     "output_type": "display_data"
    }
   ],
   "source": [
    "sns.scatterplot(x='quality',y='chlorides',data=data)"
   ]
  },
  {
   "cell_type": "markdown",
   "id": "fe79d30e",
   "metadata": {},
   "source": [
    "for quality 5,6 chlorides is gaining"
   ]
  },
  {
   "cell_type": "code",
   "execution_count": 717,
   "id": "ce24470c",
   "metadata": {},
   "outputs": [
    {
     "data": {
      "text/plain": [
       "<AxesSubplot:xlabel='quality', ylabel='free sulfur dioxide'>"
      ]
     },
     "execution_count": 717,
     "metadata": {},
     "output_type": "execute_result"
    },
    {
     "data": {
      "image/png": "[encoded data removed]",
      "text/plain": [
       "<Figure size 432x288 with 1 Axes>"
      ]
     },
     "metadata": {
      "needs_background": "light"
     },
     "output_type": "display_data"
    }
   ],
   "source": [
    "sns.scatterplot(x='quality',y='free sulfur dioxide',data=data)"
   ]
  },
  {
   "cell_type": "markdown",
   "id": "f46894d1",
   "metadata": {},
   "source": [
    "For quality 5,6,7 free sulfur dioxide is gaining"
   ]
  },
  {
   "cell_type": "code",
   "execution_count": 718,
   "id": "49489602",
   "metadata": {},
   "outputs": [
    {
     "data": {
      "text/plain": [
       "<AxesSubplot:xlabel='quality', ylabel='total sulfur dioxide'>"
      ]
     },
     "execution_count": 718,
     "metadata": {},
     "output_type": "execute_result"
    },
    {
     "data": {
      "image/png": "[encoded data removed]",
      "text/plain": [
       "<Figure size 432x288 with 1 Axes>"
      ]
     },
     "metadata": {
      "needs_background": "light"
     },
     "output_type": "display_data"
    }
   ],
   "source": [
    "sns.scatterplot(x='quality',y='total sulfur dioxide',data=data)"
   ]
  },
  {
   "cell_type": "markdown",
   "id": "8250798d",
   "metadata": {},
   "source": [
    "for quality 5,6 total_sulfer dioxide is gaining"
   ]
  },
  {
   "cell_type": "code",
   "execution_count": 719,
   "id": "514cd771",
   "metadata": {},
   "outputs": [
    {
     "data": {
      "text/plain": [
       "<AxesSubplot:xlabel='quality', ylabel='density'>"
      ]
     },
     "execution_count": 719,
     "metadata": {},
     "output_type": "execute_result"
    },
    {
     "data": {
      "image/png": "[encoded data removed]",
      "text/plain": [
       "<Figure size 432x288 with 1 Axes>"
      ]
     },
     "metadata": {
      "needs_background": "light"
     },
     "output_type": "display_data"
    }
   ],
   "source": [
    "sns.scatterplot(x='quality',y='density',data=data)\n"
   ]
  },
  {
   "cell_type": "markdown",
   "id": "7cab1386",
   "metadata": {},
   "source": [
    "for quality 5,6,7 density is gaining"
   ]
  },
  {
   "cell_type": "code",
   "execution_count": 720,
   "id": "16ad3d29",
   "metadata": {},
   "outputs": [
    {
     "data": {
      "text/plain": [
       "<AxesSubplot:xlabel='quality', ylabel='pH'>"
      ]
     },
     "execution_count": 720,
     "metadata": {},
     "output_type": "execute_result"
    },
    {
     "data": {
      "image/png": "[encoded data removed]",
      "text/plain": [
       "<Figure size 432x288 with 1 Axes>"
      ]
     },
     "metadata": {
      "needs_background": "light"
     },
     "output_type": "display_data"
    }
   ],
   "source": [
    "sns.scatterplot(x='quality',y='pH',data=data)"
   ]
  },
  {
   "cell_type": "markdown",
   "id": "851c985a",
   "metadata": {},
   "source": [
    "For quality 5,6,7 ph is gaining"
   ]
  },
  {
   "cell_type": "code",
   "execution_count": 721,
   "id": "d9c9aa4a",
   "metadata": {},
   "outputs": [
    {
     "data": {
      "text/plain": [
       "<AxesSubplot:xlabel='quality', ylabel='sulphates'>"
      ]
     },
     "execution_count": 721,
     "metadata": {},
     "output_type": "execute_result"
    },
    {
     "data": {
      "image/png": "[encoded data removed]",
      "text/plain": [
       "<Figure size 432x288 with 1 Axes>"
      ]
     },
     "metadata": {
      "needs_background": "light"
     },
     "output_type": "display_data"
    }
   ],
   "source": [
    "sns.scatterplot(x='quality',y='sulphates',data=data)\n"
   ]
  },
  {
   "cell_type": "markdown",
   "id": "65f9b7a8",
   "metadata": {},
   "source": [
    "For quality 5,6,7 sulphates are gaining."
   ]
  },
  {
   "cell_type": "code",
   "execution_count": 722,
   "id": "c4913cb4",
   "metadata": {},
   "outputs": [
    {
     "data": {
      "text/plain": [
       "<AxesSubplot:xlabel='quality', ylabel='alcohol'>"
      ]
     },
     "execution_count": 722,
     "metadata": {},
     "output_type": "execute_result"
    },
    {
     "data": {
      "image/png": "[encoded data removed]",
      "text/plain": [
       "<Figure size 432x288 with 1 Axes>"
      ]
     },
     "metadata": {
      "needs_background": "light"
     },
     "output_type": "display_data"
    }
   ],
   "source": [
    "sns.scatterplot(x='quality',y='alcohol',data=data)"
   ]
  },
  {
   "cell_type": "markdown",
   "id": "917c3644",
   "metadata": {},
   "source": [
    "for quality 4,5,6,7 alcohol is gaining"
   ]
  },
  {
   "cell_type": "code",
   "execution_count": 723,
   "id": "69b2ea31",
   "metadata": {},
   "outputs": [],
   "source": [
    "#Lets check value counts of target variable"
   ]
  },
  {
   "cell_type": "code",
   "execution_count": 724,
   "id": "6c1dab5d",
   "metadata": {},
   "outputs": [
    {
     "data": {
      "text/plain": [
       "5    681\n",
       "6    638\n",
       "7    199\n",
       "4     53\n",
       "8     18\n",
       "3     10\n",
       "Name: quality, dtype: int64"
      ]
     },
     "execution_count": 724,
     "metadata": {},
     "output_type": "execute_result"
    }
   ],
   "source": [
    "data['quality'].value_counts()"
   ]
  },
  {
   "cell_type": "markdown",
   "id": "83931aa7",
   "metadata": {},
   "source": [
    "#so here we clearly see our dataset in not balanced dataset. lets use over sampling method to balance the dataset.before that lets check correlation "
   ]
  },
  {
   "cell_type": "markdown",
   "id": "2adf0464",
   "metadata": {},
   "source": [
    "# Correlation"
   ]
  },
  {
   "cell_type": "code",
   "execution_count": 725,
   "id": "4441878e",
   "metadata": {},
   "outputs": [
    {
     "data": {
      "text/html": [
       "<div>\n",
       "<style scoped>\n",
       "    .dataframe tbody tr th:only-of-type {\n",
       "        vertical-align: middle;\n",
       "    }\n",
       "\n",
       "    .dataframe tbody tr th {\n",
       "        vertical-align: top;\n",
       "    }\n",
       "\n",
       "    .dataframe thead th {\n",
       "        text-align: right;\n",
       "    }\n",
       "</style>\n",
       "<table border=\"1\" class=\"dataframe\">\n",
       "  <thead>\n",
       "    <tr style=\"text-align: right;\">\n",
       "      <th></th>\n",
       "      <th>fixed acidity</th>\n",
       "      <th>volatile acidity</th>\n",
       "      <th>citric acid</th>\n",
       "      <th>residual sugar</th>\n",
       "      <th>chlorides</th>\n",
       "      <th>free sulfur dioxide</th>\n",
       "      <th>total sulfur dioxide</th>\n",
       "      <th>density</th>\n",
       "      <th>pH</th>\n",
       "      <th>sulphates</th>\n",
       "      <th>alcohol</th>\n",
       "      <th>quality</th>\n",
       "    </tr>\n",
       "  </thead>\n",
       "  <tbody>\n",
       "    <tr>\n",
       "      <th>fixed acidity</th>\n",
       "      <td>1.000000</td>\n",
       "      <td>-0.256131</td>\n",
       "      <td>0.671703</td>\n",
       "      <td>0.114777</td>\n",
       "      <td>0.093705</td>\n",
       "      <td>-0.153794</td>\n",
       "      <td>-0.113181</td>\n",
       "      <td>0.668047</td>\n",
       "      <td>-0.682978</td>\n",
       "      <td>0.183006</td>\n",
       "      <td>-0.061668</td>\n",
       "      <td>0.124052</td>\n",
       "    </tr>\n",
       "    <tr>\n",
       "      <th>volatile acidity</th>\n",
       "      <td>-0.256131</td>\n",
       "      <td>1.000000</td>\n",
       "      <td>-0.552496</td>\n",
       "      <td>0.001918</td>\n",
       "      <td>0.061298</td>\n",
       "      <td>-0.010504</td>\n",
       "      <td>0.076470</td>\n",
       "      <td>0.022026</td>\n",
       "      <td>0.234937</td>\n",
       "      <td>-0.260987</td>\n",
       "      <td>-0.202288</td>\n",
       "      <td>-0.390558</td>\n",
       "    </tr>\n",
       "    <tr>\n",
       "      <th>citric acid</th>\n",
       "      <td>0.671703</td>\n",
       "      <td>-0.552496</td>\n",
       "      <td>1.000000</td>\n",
       "      <td>0.143577</td>\n",
       "      <td>0.203823</td>\n",
       "      <td>-0.060978</td>\n",
       "      <td>0.035533</td>\n",
       "      <td>0.364947</td>\n",
       "      <td>-0.541904</td>\n",
       "      <td>0.312770</td>\n",
       "      <td>0.109903</td>\n",
       "      <td>0.226373</td>\n",
       "    </tr>\n",
       "    <tr>\n",
       "      <th>residual sugar</th>\n",
       "      <td>0.114777</td>\n",
       "      <td>0.001918</td>\n",
       "      <td>0.143577</td>\n",
       "      <td>1.000000</td>\n",
       "      <td>0.055610</td>\n",
       "      <td>0.187049</td>\n",
       "      <td>0.203028</td>\n",
       "      <td>0.355283</td>\n",
       "      <td>-0.085652</td>\n",
       "      <td>0.005527</td>\n",
       "      <td>0.042075</td>\n",
       "      <td>0.013732</td>\n",
       "    </tr>\n",
       "    <tr>\n",
       "      <th>chlorides</th>\n",
       "      <td>0.093705</td>\n",
       "      <td>0.061298</td>\n",
       "      <td>0.203823</td>\n",
       "      <td>0.055610</td>\n",
       "      <td>1.000000</td>\n",
       "      <td>0.005562</td>\n",
       "      <td>0.047400</td>\n",
       "      <td>0.200632</td>\n",
       "      <td>-0.265026</td>\n",
       "      <td>0.371260</td>\n",
       "      <td>-0.221141</td>\n",
       "      <td>-0.128907</td>\n",
       "    </tr>\n",
       "    <tr>\n",
       "      <th>free sulfur dioxide</th>\n",
       "      <td>-0.153794</td>\n",
       "      <td>-0.010504</td>\n",
       "      <td>-0.060978</td>\n",
       "      <td>0.187049</td>\n",
       "      <td>0.005562</td>\n",
       "      <td>1.000000</td>\n",
       "      <td>0.667666</td>\n",
       "      <td>-0.021946</td>\n",
       "      <td>0.070377</td>\n",
       "      <td>0.051658</td>\n",
       "      <td>-0.069408</td>\n",
       "      <td>-0.050656</td>\n",
       "    </tr>\n",
       "    <tr>\n",
       "      <th>total sulfur dioxide</th>\n",
       "      <td>-0.113181</td>\n",
       "      <td>0.076470</td>\n",
       "      <td>0.035533</td>\n",
       "      <td>0.203028</td>\n",
       "      <td>0.047400</td>\n",
       "      <td>0.667666</td>\n",
       "      <td>1.000000</td>\n",
       "      <td>0.071269</td>\n",
       "      <td>-0.066495</td>\n",
       "      <td>0.042947</td>\n",
       "      <td>-0.205654</td>\n",
       "      <td>-0.185100</td>\n",
       "    </tr>\n",
       "    <tr>\n",
       "      <th>density</th>\n",
       "      <td>0.668047</td>\n",
       "      <td>0.022026</td>\n",
       "      <td>0.364947</td>\n",
       "      <td>0.355283</td>\n",
       "      <td>0.200632</td>\n",
       "      <td>-0.021946</td>\n",
       "      <td>0.071269</td>\n",
       "      <td>1.000000</td>\n",
       "      <td>-0.341699</td>\n",
       "      <td>0.148506</td>\n",
       "      <td>-0.496180</td>\n",
       "      <td>-0.174919</td>\n",
       "    </tr>\n",
       "    <tr>\n",
       "      <th>pH</th>\n",
       "      <td>-0.682978</td>\n",
       "      <td>0.234937</td>\n",
       "      <td>-0.541904</td>\n",
       "      <td>-0.085652</td>\n",
       "      <td>-0.265026</td>\n",
       "      <td>0.070377</td>\n",
       "      <td>-0.066495</td>\n",
       "      <td>-0.341699</td>\n",
       "      <td>1.000000</td>\n",
       "      <td>-0.196648</td>\n",
       "      <td>0.205633</td>\n",
       "      <td>-0.057731</td>\n",
       "    </tr>\n",
       "    <tr>\n",
       "      <th>sulphates</th>\n",
       "      <td>0.183006</td>\n",
       "      <td>-0.260987</td>\n",
       "      <td>0.312770</td>\n",
       "      <td>0.005527</td>\n",
       "      <td>0.371260</td>\n",
       "      <td>0.051658</td>\n",
       "      <td>0.042947</td>\n",
       "      <td>0.148506</td>\n",
       "      <td>-0.196648</td>\n",
       "      <td>1.000000</td>\n",
       "      <td>0.093595</td>\n",
       "      <td>0.251397</td>\n",
       "    </tr>\n",
       "    <tr>\n",
       "      <th>alcohol</th>\n",
       "      <td>-0.061668</td>\n",
       "      <td>-0.202288</td>\n",
       "      <td>0.109903</td>\n",
       "      <td>0.042075</td>\n",
       "      <td>-0.221141</td>\n",
       "      <td>-0.069408</td>\n",
       "      <td>-0.205654</td>\n",
       "      <td>-0.496180</td>\n",
       "      <td>0.205633</td>\n",
       "      <td>0.093595</td>\n",
       "      <td>1.000000</td>\n",
       "      <td>0.476166</td>\n",
       "    </tr>\n",
       "    <tr>\n",
       "      <th>quality</th>\n",
       "      <td>0.124052</td>\n",
       "      <td>-0.390558</td>\n",
       "      <td>0.226373</td>\n",
       "      <td>0.013732</td>\n",
       "      <td>-0.128907</td>\n",
       "      <td>-0.050656</td>\n",
       "      <td>-0.185100</td>\n",
       "      <td>-0.174919</td>\n",
       "      <td>-0.057731</td>\n",
       "      <td>0.251397</td>\n",
       "      <td>0.476166</td>\n",
       "      <td>1.000000</td>\n",
       "    </tr>\n",
       "  </tbody>\n",
       "</table>\n",
       "</div>"
      ],
      "text/plain": [
       "                      fixed acidity  volatile acidity  citric acid  \\\n",
       "fixed acidity              1.000000         -0.256131     0.671703   \n",
       "volatile acidity          -0.256131          1.000000    -0.552496   \n",
       "citric acid                0.671703         -0.552496     1.000000   \n",
       "residual sugar             0.114777          0.001918     0.143577   \n",
       "chlorides                  0.093705          0.061298     0.203823   \n",
       "free sulfur dioxide       -0.153794         -0.010504    -0.060978   \n",
       "total sulfur dioxide      -0.113181          0.076470     0.035533   \n",
       "density                    0.668047          0.022026     0.364947   \n",
       "pH                        -0.682978          0.234937    -0.541904   \n",
       "sulphates                  0.183006         -0.260987     0.312770   \n",
       "alcohol                   -0.061668         -0.202288     0.109903   \n",
       "quality                    0.124052         -0.390558     0.226373   \n",
       "\n",
       "                      residual sugar  chlorides  free sulfur dioxide  \\\n",
       "fixed acidity               0.114777   0.093705            -0.153794   \n",
       "volatile acidity            0.001918   0.061298            -0.010504   \n",
       "citric acid                 0.143577   0.203823            -0.060978   \n",
       "residual sugar              1.000000   0.055610             0.187049   \n",
       "chlorides                   0.055610   1.000000             0.005562   \n",
       "free sulfur dioxide         0.187049   0.005562             1.000000   \n",
       "total sulfur dioxide        0.203028   0.047400             0.667666   \n",
       "density                     0.355283   0.200632            -0.021946   \n",
       "pH                         -0.085652  -0.265026             0.070377   \n",
       "sulphates                   0.005527   0.371260             0.051658   \n",
       "alcohol                     0.042075  -0.221141            -0.069408   \n",
       "quality                     0.013732  -0.128907            -0.050656   \n",
       "\n",
       "                      total sulfur dioxide   density        pH  sulphates  \\\n",
       "fixed acidity                    -0.113181  0.668047 -0.682978   0.183006   \n",
       "volatile acidity                  0.076470  0.022026  0.234937  -0.260987   \n",
       "citric acid                       0.035533  0.364947 -0.541904   0.312770   \n",
       "residual sugar                    0.203028  0.355283 -0.085652   0.005527   \n",
       "chlorides                         0.047400  0.200632 -0.265026   0.371260   \n",
       "free sulfur dioxide               0.667666 -0.021946  0.070377   0.051658   \n",
       "total sulfur dioxide              1.000000  0.071269 -0.066495   0.042947   \n",
       "density                           0.071269  1.000000 -0.341699   0.148506   \n",
       "pH                               -0.066495 -0.341699  1.000000  -0.196648   \n",
       "sulphates                         0.042947  0.148506 -0.196648   1.000000   \n",
       "alcohol                          -0.205654 -0.496180  0.205633   0.093595   \n",
       "quality                          -0.185100 -0.174919 -0.057731   0.251397   \n",
       "\n",
       "                       alcohol   quality  \n",
       "fixed acidity        -0.061668  0.124052  \n",
       "volatile acidity     -0.202288 -0.390558  \n",
       "citric acid           0.109903  0.226373  \n",
       "residual sugar        0.042075  0.013732  \n",
       "chlorides            -0.221141 -0.128907  \n",
       "free sulfur dioxide  -0.069408 -0.050656  \n",
       "total sulfur dioxide -0.205654 -0.185100  \n",
       "density              -0.496180 -0.174919  \n",
       "pH                    0.205633 -0.057731  \n",
       "sulphates             0.093595  0.251397  \n",
       "alcohol               1.000000  0.476166  \n",
       "quality               0.476166  1.000000  "
      ]
     },
     "execution_count": 725,
     "metadata": {},
     "output_type": "execute_result"
    }
   ],
   "source": [
    "data.corr()"
   ]
  },
  {
   "cell_type": "code",
   "execution_count": 726,
   "id": "f974df2a",
   "metadata": {},
   "outputs": [
    {
     "data": {
      "text/plain": [
       "fixed acidity           0.124052\n",
       "volatile acidity       -0.390558\n",
       "citric acid             0.226373\n",
       "residual sugar          0.013732\n",
       "chlorides              -0.128907\n",
       "free sulfur dioxide    -0.050656\n",
       "total sulfur dioxide   -0.185100\n",
       "density                -0.174919\n",
       "pH                     -0.057731\n",
       "sulphates               0.251397\n",
       "alcohol                 0.476166\n",
       "quality                 1.000000\n",
       "Name: quality, dtype: float64"
      ]
     },
     "execution_count": 726,
     "metadata": {},
     "output_type": "execute_result"
    }
   ],
   "source": [
    "#Lest check correlation with target columns in sorted values\n",
    "data.corr()['quality']"
   ]
  },
  {
   "cell_type": "code",
   "execution_count": 727,
   "id": "f5e14710",
   "metadata": {},
   "outputs": [],
   "source": [
    "import matplotlib.pyplot as plt\n",
    "%matplotlib inline\n",
    "import seaborn as sns"
   ]
  },
  {
   "cell_type": "code",
   "execution_count": 728,
   "id": "5643cb05",
   "metadata": {},
   "outputs": [
    {
     "data": {
      "text/plain": [
       "<AxesSubplot:>"
      ]
     },
     "execution_count": 728,
     "metadata": {},
     "output_type": "execute_result"
    },
    {
     "data": {
      "image/png": "[encoded data removed]",
      "text/plain": [
       "<Figure size 1080x576 with 2 Axes>"
      ]
     },
     "metadata": {
      "needs_background": "light"
     },
     "output_type": "display_data"
    }
   ],
   "source": [
    "#Lets plot in heatmap and check\n",
    "plt.figure(figsize=(15,8))\n",
    "sns.heatmap(data.corr(),annot=True,linewidth=0.5,linecolor='black',fmt=\"0.2f\")"
   ]
  },
  {
   "cell_type": "markdown",
   "id": "84024eab",
   "metadata": {},
   "source": [
    "# Outcome of Correlation :-"
   ]
  },
  {
   "cell_type": "code",
   "execution_count": 729,
   "id": "81ada01f",
   "metadata": {},
   "outputs": [
    {
     "data": {
      "text/plain": [
       "Index(['fixed acidity', 'volatile acidity', 'citric acid', 'residual sugar',\n",
       "       'chlorides', 'free sulfur dioxide', 'total sulfur dioxide', 'density',\n",
       "       'pH', 'sulphates', 'alcohol', 'quality'],\n",
       "      dtype='object')"
      ]
     },
     "execution_count": 729,
     "metadata": {},
     "output_type": "execute_result"
    }
   ],
   "source": [
    "data.columns"
   ]
  },
  {
   "cell_type": "markdown",
   "id": "8645578a",
   "metadata": {},
   "source": [
    "- All the column of the dataset is positively and Negatively  correlated with the target column\n",
    "\n",
    "1 -fixed acidity has 12  percent correlation with the target column which can be  considered as a weak bond.\n",
    "\n",
    "2- volatile acidity has 39  percent correlation with the target column which can be considered as a weak bond.\n",
    "\n",
    "3- citric acid has 23  percent correlation with the target column which can be  considered as a weak bond.\n",
    "\n",
    "4- residual sugar has 10   percent correlation with the target column which can be  considered as a weak bond.\n",
    "\n",
    "\n",
    "5- chlorides has 13   percent correlation with the target column which can be  considered as a weak bond.\n",
    "\n",
    "\n",
    "6- free sulfur dioxide has 5   percent correlation with the target column which can be  considered as a weak bond\n",
    "\n",
    "\n",
    "7- total sulfur dioxide has 19   percent correlation with the target column which can be  considered as a weak bond\n",
    "\n",
    "\n",
    "8 - density has 17   percent correlation with the target column which can be  considered as a weak bond\n",
    "\n",
    "\n",
    "9 - pH  has 6%  percent correlation with the target column which can be  considered as a weak bond\n",
    "\n",
    "10- sulphates has 25%  percent correlation with the target column which can be  considered as a weak bond\n",
    "\n",
    "11- alcohol has 48 % percent correlation with the target column which can be  considered as a good bond\n",
    "\n",
    "\n",
    "\n",
    "\n",
    "Maximum Correlation - Alcohol\n",
    "\n",
    "\n",
    "Minimum Correlation - free sulfur dioxid\n"
   ]
  },
  {
   "cell_type": "markdown",
   "id": "169c5f0f",
   "metadata": {},
   "source": [
    "# Describing the Dataset"
   ]
  },
  {
   "cell_type": "code",
   "execution_count": 730,
   "id": "9c0167a4",
   "metadata": {},
   "outputs": [
    {
     "data": {
      "text/html": [
       "<div>\n",
       "<style scoped>\n",
       "    .dataframe tbody tr th:only-of-type {\n",
       "        vertical-align: middle;\n",
       "    }\n",
       "\n",
       "    .dataframe tbody tr th {\n",
       "        vertical-align: top;\n",
       "    }\n",
       "\n",
       "    .dataframe thead th {\n",
       "        text-align: right;\n",
       "    }\n",
       "</style>\n",
       "<table border=\"1\" class=\"dataframe\">\n",
       "  <thead>\n",
       "    <tr style=\"text-align: right;\">\n",
       "      <th></th>\n",
       "      <th>fixed acidity</th>\n",
       "      <th>volatile acidity</th>\n",
       "      <th>citric acid</th>\n",
       "      <th>residual sugar</th>\n",
       "      <th>chlorides</th>\n",
       "      <th>free sulfur dioxide</th>\n",
       "      <th>total sulfur dioxide</th>\n",
       "      <th>density</th>\n",
       "      <th>pH</th>\n",
       "      <th>sulphates</th>\n",
       "      <th>alcohol</th>\n",
       "      <th>quality</th>\n",
       "    </tr>\n",
       "  </thead>\n",
       "  <tbody>\n",
       "    <tr>\n",
       "      <th>count</th>\n",
       "      <td>1599.000000</td>\n",
       "      <td>1599.000000</td>\n",
       "      <td>1599.000000</td>\n",
       "      <td>1599.000000</td>\n",
       "      <td>1599.000000</td>\n",
       "      <td>1599.000000</td>\n",
       "      <td>1599.000000</td>\n",
       "      <td>1599.000000</td>\n",
       "      <td>1599.000000</td>\n",
       "      <td>1599.000000</td>\n",
       "      <td>1599.000000</td>\n",
       "      <td>1599.000000</td>\n",
       "    </tr>\n",
       "    <tr>\n",
       "      <th>mean</th>\n",
       "      <td>8.319637</td>\n",
       "      <td>0.527821</td>\n",
       "      <td>0.270976</td>\n",
       "      <td>2.538806</td>\n",
       "      <td>0.087467</td>\n",
       "      <td>15.874922</td>\n",
       "      <td>46.467792</td>\n",
       "      <td>0.996747</td>\n",
       "      <td>3.311113</td>\n",
       "      <td>0.658149</td>\n",
       "      <td>10.422983</td>\n",
       "      <td>5.636023</td>\n",
       "    </tr>\n",
       "    <tr>\n",
       "      <th>std</th>\n",
       "      <td>1.741096</td>\n",
       "      <td>0.179060</td>\n",
       "      <td>0.194801</td>\n",
       "      <td>1.409928</td>\n",
       "      <td>0.047065</td>\n",
       "      <td>10.460157</td>\n",
       "      <td>32.895324</td>\n",
       "      <td>0.001887</td>\n",
       "      <td>0.154386</td>\n",
       "      <td>0.169507</td>\n",
       "      <td>1.065668</td>\n",
       "      <td>0.807569</td>\n",
       "    </tr>\n",
       "    <tr>\n",
       "      <th>min</th>\n",
       "      <td>4.600000</td>\n",
       "      <td>0.120000</td>\n",
       "      <td>0.000000</td>\n",
       "      <td>0.900000</td>\n",
       "      <td>0.012000</td>\n",
       "      <td>1.000000</td>\n",
       "      <td>6.000000</td>\n",
       "      <td>0.990070</td>\n",
       "      <td>2.740000</td>\n",
       "      <td>0.330000</td>\n",
       "      <td>8.400000</td>\n",
       "      <td>3.000000</td>\n",
       "    </tr>\n",
       "    <tr>\n",
       "      <th>25%</th>\n",
       "      <td>7.100000</td>\n",
       "      <td>0.390000</td>\n",
       "      <td>0.090000</td>\n",
       "      <td>1.900000</td>\n",
       "      <td>0.070000</td>\n",
       "      <td>7.000000</td>\n",
       "      <td>22.000000</td>\n",
       "      <td>0.995600</td>\n",
       "      <td>3.210000</td>\n",
       "      <td>0.550000</td>\n",
       "      <td>9.500000</td>\n",
       "      <td>5.000000</td>\n",
       "    </tr>\n",
       "    <tr>\n",
       "      <th>50%</th>\n",
       "      <td>7.900000</td>\n",
       "      <td>0.520000</td>\n",
       "      <td>0.260000</td>\n",
       "      <td>2.200000</td>\n",
       "      <td>0.079000</td>\n",
       "      <td>14.000000</td>\n",
       "      <td>38.000000</td>\n",
       "      <td>0.996750</td>\n",
       "      <td>3.310000</td>\n",
       "      <td>0.620000</td>\n",
       "      <td>10.200000</td>\n",
       "      <td>6.000000</td>\n",
       "    </tr>\n",
       "    <tr>\n",
       "      <th>75%</th>\n",
       "      <td>9.200000</td>\n",
       "      <td>0.640000</td>\n",
       "      <td>0.420000</td>\n",
       "      <td>2.600000</td>\n",
       "      <td>0.090000</td>\n",
       "      <td>21.000000</td>\n",
       "      <td>62.000000</td>\n",
       "      <td>0.997835</td>\n",
       "      <td>3.400000</td>\n",
       "      <td>0.730000</td>\n",
       "      <td>11.100000</td>\n",
       "      <td>6.000000</td>\n",
       "    </tr>\n",
       "    <tr>\n",
       "      <th>max</th>\n",
       "      <td>15.900000</td>\n",
       "      <td>1.580000</td>\n",
       "      <td>1.000000</td>\n",
       "      <td>15.500000</td>\n",
       "      <td>0.611000</td>\n",
       "      <td>72.000000</td>\n",
       "      <td>289.000000</td>\n",
       "      <td>1.003690</td>\n",
       "      <td>4.010000</td>\n",
       "      <td>2.000000</td>\n",
       "      <td>14.900000</td>\n",
       "      <td>8.000000</td>\n",
       "    </tr>\n",
       "  </tbody>\n",
       "</table>\n",
       "</div>"
      ],
      "text/plain": [
       "       fixed acidity  volatile acidity  citric acid  residual sugar  \\\n",
       "count    1599.000000       1599.000000  1599.000000     1599.000000   \n",
       "mean        8.319637          0.527821     0.270976        2.538806   \n",
       "std         1.741096          0.179060     0.194801        1.409928   \n",
       "min         4.600000          0.120000     0.000000        0.900000   \n",
       "25%         7.100000          0.390000     0.090000        1.900000   \n",
       "50%         7.900000          0.520000     0.260000        2.200000   \n",
       "75%         9.200000          0.640000     0.420000        2.600000   \n",
       "max        15.900000          1.580000     1.000000       15.500000   \n",
       "\n",
       "         chlorides  free sulfur dioxide  total sulfur dioxide      density  \\\n",
       "count  1599.000000          1599.000000           1599.000000  1599.000000   \n",
       "mean      0.087467            15.874922             46.467792     0.996747   \n",
       "std       0.047065            10.460157             32.895324     0.001887   \n",
       "min       0.012000             1.000000              6.000000     0.990070   \n",
       "25%       0.070000             7.000000             22.000000     0.995600   \n",
       "50%       0.079000            14.000000             38.000000     0.996750   \n",
       "75%       0.090000            21.000000             62.000000     0.997835   \n",
       "max       0.611000            72.000000            289.000000     1.003690   \n",
       "\n",
       "                pH    sulphates      alcohol      quality  \n",
       "count  1599.000000  1599.000000  1599.000000  1599.000000  \n",
       "mean      3.311113     0.658149    10.422983     5.636023  \n",
       "std       0.154386     0.169507     1.065668     0.807569  \n",
       "min       2.740000     0.330000     8.400000     3.000000  \n",
       "25%       3.210000     0.550000     9.500000     5.000000  \n",
       "50%       3.310000     0.620000    10.200000     6.000000  \n",
       "75%       3.400000     0.730000    11.100000     6.000000  \n",
       "max       4.010000     2.000000    14.900000     8.000000  "
      ]
     },
     "execution_count": 730,
     "metadata": {},
     "output_type": "execute_result"
    }
   ],
   "source": [
    "data.describe()"
   ]
  },
  {
   "cell_type": "code",
   "execution_count": 731,
   "id": "2738ff0a",
   "metadata": {},
   "outputs": [
    {
     "data": {
      "image/png": "[encoded data removed]",
      "text/plain": [
       "<Figure size 1080x864 with 2 Axes>"
      ]
     },
     "metadata": {
      "needs_background": "light"
     },
     "output_type": "display_data"
    }
   ],
   "source": [
    "plt.figure(figsize=(15,12))\n",
    "sns.heatmap(round(data.describe()[1:].transpose(),2),linewidth=2,annot=True,fmt='f')\n",
    "plt.xticks(fontsize=18)\n",
    "plt.yticks(fontsize=12)\n",
    "plt.title(\"Variable Summary\")\n",
    "plt.show()"
   ]
  },
  {
   "cell_type": "code",
   "execution_count": 732,
   "id": "a55b7453",
   "metadata": {},
   "outputs": [
    {
     "name": "stdout",
     "output_type": "stream",
     "text": [
      "<class 'pandas.core.frame.DataFrame'>\n",
      "RangeIndex: 1599 entries, 0 to 1598\n",
      "Data columns (total 12 columns):\n",
      " #   Column                Non-Null Count  Dtype  \n",
      "---  ------                --------------  -----  \n",
      " 0   fixed acidity         1599 non-null   float64\n",
      " 1   volatile acidity      1599 non-null   float64\n",
      " 2   citric acid           1599 non-null   float64\n",
      " 3   residual sugar        1599 non-null   float64\n",
      " 4   chlorides             1599 non-null   float64\n",
      " 5   free sulfur dioxide   1599 non-null   float64\n",
      " 6   total sulfur dioxide  1599 non-null   float64\n",
      " 7   density               1599 non-null   float64\n",
      " 8   pH                    1599 non-null   float64\n",
      " 9   sulphates             1599 non-null   float64\n",
      " 10  alcohol               1599 non-null   float64\n",
      " 11  quality               1599 non-null   int64  \n",
      "dtypes: float64(11), int64(1)\n",
      "memory usage: 150.0 KB\n"
     ]
    }
   ],
   "source": [
    "#Lets check the info of the dataset\n",
    "\n",
    "data.info()"
   ]
  },
  {
   "cell_type": "markdown",
   "id": "cd5fa292",
   "metadata": {},
   "source": [
    "From the above code we can have the columns datatype and memory used by the data frame"
   ]
  },
  {
   "cell_type": "markdown",
   "id": "a2c8b2e7",
   "metadata": {},
   "source": [
    "# Outliers Checking"
   ]
  },
  {
   "cell_type": "code",
   "execution_count": 733,
   "id": "3ddbe8b6",
   "metadata": {},
   "outputs": [],
   "source": [
    "import warnings\n",
    "warnings.filterwarnings('ignore')"
   ]
  },
  {
   "cell_type": "code",
   "execution_count": null,
   "id": "0495b637",
   "metadata": {},
   "outputs": [],
   "source": []
  },
  {
   "cell_type": "code",
   "execution_count": 734,
   "id": "545e5ab6",
   "metadata": {},
   "outputs": [
    {
     "data": {
      "image/png": "[encoded data removed]",
      "text/plain": [
       "<Figure size 2160x6480 with 12 Axes>"
      ]
     },
     "metadata": {
      "needs_background": "light"
     },
     "output_type": "display_data"
    }
   ],
   "source": [
    "collist=data.columns.values\n",
    "ncol=30\n",
    "nrows=14\n",
    "plt.figure(figsize=(ncol,3*ncol))\n",
    "for i in range(0,len(collist)):\n",
    "    plt.subplot(nrows,ncol,i+1)\n",
    "    sns.boxplot(data[collist[i]],color='green',orient='h')\n",
    "    plt.tight_layout()"
   ]
  },
  {
   "cell_type": "markdown",
   "id": "d560cd5a",
   "metadata": {},
   "source": [
    "From the above outcome we can see that columns ['citric acid','total sulfur dioxide','fixed acidity','volatile acidity', 'alcohol','pH','sulphates',] has less outliers , columns['residual sugar', 'chlorides','free sulfur dioxide','density',] has more outliers while the outcome columns has no outliers."
   ]
  },
  {
   "cell_type": "markdown",
   "id": "578185d1",
   "metadata": {},
   "source": [
    "# SKEWNESS :"
   ]
  },
  {
   "cell_type": "code",
   "execution_count": 735,
   "id": "4cd2d403",
   "metadata": {
    "scrolled": false
   },
   "outputs": [
    {
     "data": {
      "text/plain": [
       "fixed acidity           0.982751\n",
       "volatile acidity        0.671593\n",
       "citric acid             0.318337\n",
       "residual sugar          4.540655\n",
       "chlorides               5.680347\n",
       "free sulfur dioxide     1.250567\n",
       "total sulfur dioxide    1.515531\n",
       "density                 0.071288\n",
       "pH                      0.193683\n",
       "sulphates               2.428672\n",
       "alcohol                 0.860829\n",
       "quality                 0.217802\n",
       "dtype: float64"
      ]
     },
     "execution_count": 735,
     "metadata": {},
     "output_type": "execute_result"
    }
   ],
   "source": [
    "data.skew()"
   ]
  },
  {
   "cell_type": "markdown",
   "id": "9dd4b30c",
   "metadata": {},
   "source": [
    "Outcome of the skewness . skewness threshold is taken is +/-0.5 columns which are having skewness.\n",
    "\n",
    "- fixed acidity\n",
    "- volatile acidity \n",
    "- residual sugar\n",
    "- chlorides\n",
    "- free sulfur dioxide\n",
    "- total sulfur dioxide\n",
    "- density\n",
    "- sulphates\n",
    "- alcohol\n",
    "\n",
    "\n",
    "\n"
   ]
  },
  {
   "cell_type": "markdown",
   "id": "2673fea4",
   "metadata": {},
   "source": [
    "# Checking Distribution "
   ]
  },
  {
   "cell_type": "code",
   "execution_count": 736,
   "id": "42f72e1c",
   "metadata": {},
   "outputs": [
    {
     "data": {
      "image/png": "[encoded data removed]",
      "text/plain": [
       "<Figure size 1440x648 with 12 Axes>"
      ]
     },
     "metadata": {},
     "output_type": "display_data"
    }
   ],
   "source": [
    "plt.figure(figsize=(20,9),facecolor='orange')\n",
    "plotnumber=1\n",
    "for col in data:\n",
    "    if plotnumber <=12:\n",
    "        ax=plt.subplot(6,2,plotnumber)\n",
    "        sns.distplot(data[col])\n",
    "        plt.xlabel(col,fontsize=20)\n",
    "        plotnumber +=1\n",
    "plt.show()\n",
    "    "
   ]
  },
  {
   "cell_type": "markdown",
   "id": "8766e6f4",
   "metadata": {},
   "source": [
    "Seems Look like all features is not distributed Normally.(Some have right skewed some have left skewed and all features have outliers ."
   ]
  },
  {
   "cell_type": "markdown",
   "id": "2accfb62",
   "metadata": {},
   "source": [
    "# Data Preprocessing"
   ]
  },
  {
   "cell_type": "markdown",
   "id": "4c0e61eb",
   "metadata": {},
   "source": [
    "# Data Cleaning"
   ]
  },
  {
   "cell_type": "code",
   "execution_count": 737,
   "id": "970c3f40",
   "metadata": {},
   "outputs": [
    {
     "data": {
      "text/plain": [
       "fixed acidity           0.124052\n",
       "volatile acidity       -0.390558\n",
       "citric acid             0.226373\n",
       "residual sugar          0.013732\n",
       "chlorides              -0.128907\n",
       "free sulfur dioxide    -0.050656\n",
       "total sulfur dioxide   -0.185100\n",
       "density                -0.174919\n",
       "pH                     -0.057731\n",
       "sulphates               0.251397\n",
       "alcohol                 0.476166\n",
       "quality                 1.000000\n",
       "Name: quality, dtype: float64"
      ]
     },
     "execution_count": 737,
     "metadata": {},
     "output_type": "execute_result"
    }
   ],
   "source": [
    "data.corr()['quality']"
   ]
  },
  {
   "cell_type": "markdown",
   "id": "2499f6ea",
   "metadata": {},
   "source": [
    "Here i am setting threshold +/- 0.1 .its not standard . dataset demands .becasue we have very less row and columns."
   ]
  },
  {
   "cell_type": "code",
   "execution_count": 738,
   "id": "9c7e7a45",
   "metadata": {},
   "outputs": [
    {
     "data": {
      "text/html": [
       "<div>\n",
       "<style scoped>\n",
       "    .dataframe tbody tr th:only-of-type {\n",
       "        vertical-align: middle;\n",
       "    }\n",
       "\n",
       "    .dataframe tbody tr th {\n",
       "        vertical-align: top;\n",
       "    }\n",
       "\n",
       "    .dataframe thead th {\n",
       "        text-align: right;\n",
       "    }\n",
       "</style>\n",
       "<table border=\"1\" class=\"dataframe\">\n",
       "  <thead>\n",
       "    <tr style=\"text-align: right;\">\n",
       "      <th></th>\n",
       "      <th>fixed acidity</th>\n",
       "      <th>volatile acidity</th>\n",
       "      <th>citric acid</th>\n",
       "      <th>chlorides</th>\n",
       "      <th>total sulfur dioxide</th>\n",
       "      <th>density</th>\n",
       "      <th>sulphates</th>\n",
       "      <th>alcohol</th>\n",
       "      <th>quality</th>\n",
       "    </tr>\n",
       "  </thead>\n",
       "  <tbody>\n",
       "    <tr>\n",
       "      <th>0</th>\n",
       "      <td>7.4</td>\n",
       "      <td>0.700</td>\n",
       "      <td>0.00</td>\n",
       "      <td>0.076</td>\n",
       "      <td>34.0</td>\n",
       "      <td>0.99780</td>\n",
       "      <td>0.56</td>\n",
       "      <td>9.4</td>\n",
       "      <td>5</td>\n",
       "    </tr>\n",
       "    <tr>\n",
       "      <th>1</th>\n",
       "      <td>7.8</td>\n",
       "      <td>0.880</td>\n",
       "      <td>0.00</td>\n",
       "      <td>0.098</td>\n",
       "      <td>67.0</td>\n",
       "      <td>0.99680</td>\n",
       "      <td>0.68</td>\n",
       "      <td>9.8</td>\n",
       "      <td>5</td>\n",
       "    </tr>\n",
       "    <tr>\n",
       "      <th>2</th>\n",
       "      <td>7.8</td>\n",
       "      <td>0.760</td>\n",
       "      <td>0.04</td>\n",
       "      <td>0.092</td>\n",
       "      <td>54.0</td>\n",
       "      <td>0.99700</td>\n",
       "      <td>0.65</td>\n",
       "      <td>9.8</td>\n",
       "      <td>5</td>\n",
       "    </tr>\n",
       "    <tr>\n",
       "      <th>3</th>\n",
       "      <td>11.2</td>\n",
       "      <td>0.280</td>\n",
       "      <td>0.56</td>\n",
       "      <td>0.075</td>\n",
       "      <td>60.0</td>\n",
       "      <td>0.99800</td>\n",
       "      <td>0.58</td>\n",
       "      <td>9.8</td>\n",
       "      <td>6</td>\n",
       "    </tr>\n",
       "    <tr>\n",
       "      <th>4</th>\n",
       "      <td>7.4</td>\n",
       "      <td>0.700</td>\n",
       "      <td>0.00</td>\n",
       "      <td>0.076</td>\n",
       "      <td>34.0</td>\n",
       "      <td>0.99780</td>\n",
       "      <td>0.56</td>\n",
       "      <td>9.4</td>\n",
       "      <td>5</td>\n",
       "    </tr>\n",
       "    <tr>\n",
       "      <th>...</th>\n",
       "      <td>...</td>\n",
       "      <td>...</td>\n",
       "      <td>...</td>\n",
       "      <td>...</td>\n",
       "      <td>...</td>\n",
       "      <td>...</td>\n",
       "      <td>...</td>\n",
       "      <td>...</td>\n",
       "      <td>...</td>\n",
       "    </tr>\n",
       "    <tr>\n",
       "      <th>1594</th>\n",
       "      <td>6.2</td>\n",
       "      <td>0.600</td>\n",
       "      <td>0.08</td>\n",
       "      <td>0.090</td>\n",
       "      <td>44.0</td>\n",
       "      <td>0.99490</td>\n",
       "      <td>0.58</td>\n",
       "      <td>10.5</td>\n",
       "      <td>5</td>\n",
       "    </tr>\n",
       "    <tr>\n",
       "      <th>1595</th>\n",
       "      <td>5.9</td>\n",
       "      <td>0.550</td>\n",
       "      <td>0.10</td>\n",
       "      <td>0.062</td>\n",
       "      <td>51.0</td>\n",
       "      <td>0.99512</td>\n",
       "      <td>0.76</td>\n",
       "      <td>11.2</td>\n",
       "      <td>6</td>\n",
       "    </tr>\n",
       "    <tr>\n",
       "      <th>1596</th>\n",
       "      <td>6.3</td>\n",
       "      <td>0.510</td>\n",
       "      <td>0.13</td>\n",
       "      <td>0.076</td>\n",
       "      <td>40.0</td>\n",
       "      <td>0.99574</td>\n",
       "      <td>0.75</td>\n",
       "      <td>11.0</td>\n",
       "      <td>6</td>\n",
       "    </tr>\n",
       "    <tr>\n",
       "      <th>1597</th>\n",
       "      <td>5.9</td>\n",
       "      <td>0.645</td>\n",
       "      <td>0.12</td>\n",
       "      <td>0.075</td>\n",
       "      <td>44.0</td>\n",
       "      <td>0.99547</td>\n",
       "      <td>0.71</td>\n",
       "      <td>10.2</td>\n",
       "      <td>5</td>\n",
       "    </tr>\n",
       "    <tr>\n",
       "      <th>1598</th>\n",
       "      <td>6.0</td>\n",
       "      <td>0.310</td>\n",
       "      <td>0.47</td>\n",
       "      <td>0.067</td>\n",
       "      <td>42.0</td>\n",
       "      <td>0.99549</td>\n",
       "      <td>0.66</td>\n",
       "      <td>11.0</td>\n",
       "      <td>6</td>\n",
       "    </tr>\n",
       "  </tbody>\n",
       "</table>\n",
       "<p>1599 rows × 9 columns</p>\n",
       "</div>"
      ],
      "text/plain": [
       "      fixed acidity  volatile acidity  citric acid  chlorides  \\\n",
       "0               7.4             0.700         0.00      0.076   \n",
       "1               7.8             0.880         0.00      0.098   \n",
       "2               7.8             0.760         0.04      0.092   \n",
       "3              11.2             0.280         0.56      0.075   \n",
       "4               7.4             0.700         0.00      0.076   \n",
       "...             ...               ...          ...        ...   \n",
       "1594            6.2             0.600         0.08      0.090   \n",
       "1595            5.9             0.550         0.10      0.062   \n",
       "1596            6.3             0.510         0.13      0.076   \n",
       "1597            5.9             0.645         0.12      0.075   \n",
       "1598            6.0             0.310         0.47      0.067   \n",
       "\n",
       "      total sulfur dioxide  density  sulphates  alcohol  quality  \n",
       "0                     34.0  0.99780       0.56      9.4        5  \n",
       "1                     67.0  0.99680       0.68      9.8        5  \n",
       "2                     54.0  0.99700       0.65      9.8        5  \n",
       "3                     60.0  0.99800       0.58      9.8        6  \n",
       "4                     34.0  0.99780       0.56      9.4        5  \n",
       "...                    ...      ...        ...      ...      ...  \n",
       "1594                  44.0  0.99490       0.58     10.5        5  \n",
       "1595                  51.0  0.99512       0.76     11.2        6  \n",
       "1596                  40.0  0.99574       0.75     11.0        6  \n",
       "1597                  44.0  0.99547       0.71     10.2        5  \n",
       "1598                  42.0  0.99549       0.66     11.0        6  \n",
       "\n",
       "[1599 rows x 9 columns]"
      ]
     },
     "execution_count": 738,
     "metadata": {},
     "output_type": "execute_result"
    }
   ],
   "source": [
    "data=data.drop(['residual sugar','free sulfur dioxide','pH'],axis=1)\n",
    "data"
   ]
  },
  {
   "cell_type": "markdown",
   "id": "2125ecb6",
   "metadata": {},
   "source": [
    "# Removing Outliers"
   ]
  },
  {
   "cell_type": "code",
   "execution_count": 739,
   "id": "d5a3b5ea",
   "metadata": {},
   "outputs": [],
   "source": [
    "import numpy as np\n",
    "from scipy.stats import zscore"
   ]
  },
  {
   "cell_type": "code",
   "execution_count": 740,
   "id": "2722aa46",
   "metadata": {},
   "outputs": [
    {
     "data": {
      "text/plain": [
       "(1599, 9)"
      ]
     },
     "execution_count": 740,
     "metadata": {},
     "output_type": "execute_result"
    }
   ],
   "source": [
    "z=np.abs(zscore(data))\n",
    "z.shape"
   ]
  },
  {
   "cell_type": "code",
   "execution_count": 741,
   "id": "e6deb908",
   "metadata": {},
   "outputs": [
    {
     "name": "stdout",
     "output_type": "stream",
     "text": [
      "(array([  13,   15,   17,   17,   19,   38,   42,   43,   81,   81,   83,\n",
      "         86,   88,   91,   92,  106,  106,  109,  120,  126,  127,  142,\n",
      "        144,  147,  151,  151,  151,  169,  169,  181,  199,  226,  226,\n",
      "        240,  243,  244,  258,  258,  281,  291,  339,  340,  347,  354,\n",
      "        374,  381,  391,  442,  442,  451,  459,  467,  480,  515,  517,\n",
      "        544,  554,  554,  555,  555,  557,  557,  568,  588,  591,  608,\n",
      "        614,  636,  639,  649,  651,  652,  652,  672,  672,  684,  690,\n",
      "        690,  692,  692,  723,  724,  730,  754,  776,  777,  795,  821,\n",
      "        832,  836,  837,  889,  899, 1017, 1018, 1051, 1051, 1079, 1081,\n",
      "       1114, 1165, 1244, 1260, 1269, 1269, 1270, 1270, 1288, 1289, 1299,\n",
      "       1299, 1312, 1319, 1319, 1367, 1370, 1370, 1372, 1372, 1374, 1374,\n",
      "       1434, 1435, 1469, 1474, 1476, 1478, 1493, 1496, 1505, 1558, 1570],\n",
      "      dtype=int64), array([6, 4, 3, 6, 3, 1, 3, 6, 3, 6, 3, 6, 6, 6, 6, 3, 6, 4, 1, 1, 1, 7,\n",
      "       7, 3, 2, 3, 6, 3, 6, 3, 1, 3, 6, 3, 0, 0, 3, 6, 3, 3, 6, 6, 0, 4,\n",
      "       0, 0, 0, 0, 5, 3, 8, 7, 5, 4, 8, 0, 0, 5, 0, 5, 0, 5, 3, 7, 4, 5,\n",
      "       6, 4, 6, 4, 4, 0, 7, 1, 4, 4, 1, 8, 3, 6, 6, 1, 3, 3, 3, 3, 6, 7,\n",
      "       8, 5, 5, 5, 8, 5, 5, 3, 6, 4, 4, 5, 3, 4, 3, 5, 7, 5, 7, 6, 6, 1,\n",
      "       8, 1, 3, 6, 6, 3, 6, 3, 6, 3, 8, 5, 5, 8, 5, 5, 8, 4, 4, 8, 3, 3],\n",
      "      dtype=int64))\n"
     ]
    }
   ],
   "source": [
    "threshold=3 #Rule of Thumb\n",
    "#Index Number\n",
    "print(np.where(z>3))"
   ]
  },
  {
   "cell_type": "code",
   "execution_count": 742,
   "id": "be6b4ffb",
   "metadata": {},
   "outputs": [
    {
     "data": {
      "text/plain": [
       "132"
      ]
     },
     "execution_count": 742,
     "metadata": {},
     "output_type": "execute_result"
    }
   ],
   "source": [
    "len(np.where(z>3)[0])"
   ]
  },
  {
   "cell_type": "code",
   "execution_count": 743,
   "id": "0f280e7d",
   "metadata": {},
   "outputs": [
    {
     "name": "stdout",
     "output_type": "stream",
     "text": [
      "Old DataFrame  (1599, 9)\n",
      "New DataFrame  (1491, 9)\n",
      "Total Drop Columns are  108\n"
     ]
    }
   ],
   "source": [
    "df_new=data[(z<3).all(axis=1)]\n",
    "print(\"Old DataFrame \",data.shape)\n",
    "print(\"New DataFrame \",df_new.shape)\n",
    "print(\"Total Drop Columns are \",data.shape[0]-df_new.shape[0])"
   ]
  },
  {
   "cell_type": "markdown",
   "id": "e8c63c5a",
   "metadata": {},
   "source": [
    "# Percent data loss"
   ]
  },
  {
   "cell_type": "code",
   "execution_count": 744,
   "id": "fdb39843",
   "metadata": {},
   "outputs": [
    {
     "name": "stdout",
     "output_type": "stream",
     "text": [
      "6.75422138836773  % \n"
     ]
    }
   ],
   "source": [
    "loss_percent=(1599-1491)/1599*100\n",
    "print(loss_percent,\" % \")"
   ]
  },
  {
   "cell_type": "code",
   "execution_count": null,
   "id": "f20f511f",
   "metadata": {},
   "outputs": [],
   "source": []
  },
  {
   "cell_type": "markdown",
   "id": "5924bdd6",
   "metadata": {},
   "source": [
    "Checking wheather how much outliers are still here . if the outliers there help in the testing the model or not"
   ]
  },
  {
   "cell_type": "markdown",
   "id": "4ef6b0a6",
   "metadata": {},
   "source": [
    "Model without outliers is data and model with desired outliers is df_new "
   ]
  },
  {
   "cell_type": "code",
   "execution_count": 750,
   "id": "4238c873",
   "metadata": {},
   "outputs": [],
   "source": [
    "#Lets create one funntion for convert our target in binary classification\n",
    "\n",
    "data['best quality'] = [1 if x > 7 else 0 for x in data.quality]\n",
    "\n",
    "# 1 is for good\n",
    "# 0 is for bad.\n",
    "\n",
    "\n",
    "#Here we usinn list comprehension for creating new column for making our target column as binary classification,\n",
    "#Because in our task, we have to plot ROC curve .and ROC only apply on Binary Classification."
   ]
  },
  {
   "cell_type": "code",
   "execution_count": 749,
   "id": "fc3e54d1",
   "metadata": {},
   "outputs": [
    {
     "data": {
      "text/html": [
       "<div>\n",
       "<style scoped>\n",
       "    .dataframe tbody tr th:only-of-type {\n",
       "        vertical-align: middle;\n",
       "    }\n",
       "\n",
       "    .dataframe tbody tr th {\n",
       "        vertical-align: top;\n",
       "    }\n",
       "\n",
       "    .dataframe thead th {\n",
       "        text-align: right;\n",
       "    }\n",
       "</style>\n",
       "<table border=\"1\" class=\"dataframe\">\n",
       "  <thead>\n",
       "    <tr style=\"text-align: right;\">\n",
       "      <th></th>\n",
       "      <th>fixed acidity</th>\n",
       "      <th>volatile acidity</th>\n",
       "      <th>citric acid</th>\n",
       "      <th>chlorides</th>\n",
       "      <th>total sulfur dioxide</th>\n",
       "      <th>density</th>\n",
       "      <th>sulphates</th>\n",
       "      <th>alcohol</th>\n",
       "      <th>quality</th>\n",
       "      <th>best quality</th>\n",
       "    </tr>\n",
       "  </thead>\n",
       "  <tbody>\n",
       "    <tr>\n",
       "      <th>0</th>\n",
       "      <td>7.4</td>\n",
       "      <td>0.700</td>\n",
       "      <td>0.00</td>\n",
       "      <td>0.076</td>\n",
       "      <td>34.0</td>\n",
       "      <td>0.99780</td>\n",
       "      <td>0.56</td>\n",
       "      <td>9.4</td>\n",
       "      <td>5</td>\n",
       "      <td>0</td>\n",
       "    </tr>\n",
       "    <tr>\n",
       "      <th>1</th>\n",
       "      <td>7.8</td>\n",
       "      <td>0.880</td>\n",
       "      <td>0.00</td>\n",
       "      <td>0.098</td>\n",
       "      <td>67.0</td>\n",
       "      <td>0.99680</td>\n",
       "      <td>0.68</td>\n",
       "      <td>9.8</td>\n",
       "      <td>5</td>\n",
       "      <td>0</td>\n",
       "    </tr>\n",
       "    <tr>\n",
       "      <th>2</th>\n",
       "      <td>7.8</td>\n",
       "      <td>0.760</td>\n",
       "      <td>0.04</td>\n",
       "      <td>0.092</td>\n",
       "      <td>54.0</td>\n",
       "      <td>0.99700</td>\n",
       "      <td>0.65</td>\n",
       "      <td>9.8</td>\n",
       "      <td>5</td>\n",
       "      <td>0</td>\n",
       "    </tr>\n",
       "    <tr>\n",
       "      <th>3</th>\n",
       "      <td>11.2</td>\n",
       "      <td>0.280</td>\n",
       "      <td>0.56</td>\n",
       "      <td>0.075</td>\n",
       "      <td>60.0</td>\n",
       "      <td>0.99800</td>\n",
       "      <td>0.58</td>\n",
       "      <td>9.8</td>\n",
       "      <td>6</td>\n",
       "      <td>1</td>\n",
       "    </tr>\n",
       "    <tr>\n",
       "      <th>4</th>\n",
       "      <td>7.4</td>\n",
       "      <td>0.700</td>\n",
       "      <td>0.00</td>\n",
       "      <td>0.076</td>\n",
       "      <td>34.0</td>\n",
       "      <td>0.99780</td>\n",
       "      <td>0.56</td>\n",
       "      <td>9.4</td>\n",
       "      <td>5</td>\n",
       "      <td>0</td>\n",
       "    </tr>\n",
       "    <tr>\n",
       "      <th>...</th>\n",
       "      <td>...</td>\n",
       "      <td>...</td>\n",
       "      <td>...</td>\n",
       "      <td>...</td>\n",
       "      <td>...</td>\n",
       "      <td>...</td>\n",
       "      <td>...</td>\n",
       "      <td>...</td>\n",
       "      <td>...</td>\n",
       "      <td>...</td>\n",
       "    </tr>\n",
       "    <tr>\n",
       "      <th>1594</th>\n",
       "      <td>6.2</td>\n",
       "      <td>0.600</td>\n",
       "      <td>0.08</td>\n",
       "      <td>0.090</td>\n",
       "      <td>44.0</td>\n",
       "      <td>0.99490</td>\n",
       "      <td>0.58</td>\n",
       "      <td>10.5</td>\n",
       "      <td>5</td>\n",
       "      <td>0</td>\n",
       "    </tr>\n",
       "    <tr>\n",
       "      <th>1595</th>\n",
       "      <td>5.9</td>\n",
       "      <td>0.550</td>\n",
       "      <td>0.10</td>\n",
       "      <td>0.062</td>\n",
       "      <td>51.0</td>\n",
       "      <td>0.99512</td>\n",
       "      <td>0.76</td>\n",
       "      <td>11.2</td>\n",
       "      <td>6</td>\n",
       "      <td>1</td>\n",
       "    </tr>\n",
       "    <tr>\n",
       "      <th>1596</th>\n",
       "      <td>6.3</td>\n",
       "      <td>0.510</td>\n",
       "      <td>0.13</td>\n",
       "      <td>0.076</td>\n",
       "      <td>40.0</td>\n",
       "      <td>0.99574</td>\n",
       "      <td>0.75</td>\n",
       "      <td>11.0</td>\n",
       "      <td>6</td>\n",
       "      <td>1</td>\n",
       "    </tr>\n",
       "    <tr>\n",
       "      <th>1597</th>\n",
       "      <td>5.9</td>\n",
       "      <td>0.645</td>\n",
       "      <td>0.12</td>\n",
       "      <td>0.075</td>\n",
       "      <td>44.0</td>\n",
       "      <td>0.99547</td>\n",
       "      <td>0.71</td>\n",
       "      <td>10.2</td>\n",
       "      <td>5</td>\n",
       "      <td>0</td>\n",
       "    </tr>\n",
       "    <tr>\n",
       "      <th>1598</th>\n",
       "      <td>6.0</td>\n",
       "      <td>0.310</td>\n",
       "      <td>0.47</td>\n",
       "      <td>0.067</td>\n",
       "      <td>42.0</td>\n",
       "      <td>0.99549</td>\n",
       "      <td>0.66</td>\n",
       "      <td>11.0</td>\n",
       "      <td>6</td>\n",
       "      <td>1</td>\n",
       "    </tr>\n",
       "  </tbody>\n",
       "</table>\n",
       "<p>1599 rows × 10 columns</p>\n",
       "</div>"
      ],
      "text/plain": [
       "      fixed acidity  volatile acidity  citric acid  chlorides  \\\n",
       "0               7.4             0.700         0.00      0.076   \n",
       "1               7.8             0.880         0.00      0.098   \n",
       "2               7.8             0.760         0.04      0.092   \n",
       "3              11.2             0.280         0.56      0.075   \n",
       "4               7.4             0.700         0.00      0.076   \n",
       "...             ...               ...          ...        ...   \n",
       "1594            6.2             0.600         0.08      0.090   \n",
       "1595            5.9             0.550         0.10      0.062   \n",
       "1596            6.3             0.510         0.13      0.076   \n",
       "1597            5.9             0.645         0.12      0.075   \n",
       "1598            6.0             0.310         0.47      0.067   \n",
       "\n",
       "      total sulfur dioxide  density  sulphates  alcohol  quality  best quality  \n",
       "0                     34.0  0.99780       0.56      9.4        5             0  \n",
       "1                     67.0  0.99680       0.68      9.8        5             0  \n",
       "2                     54.0  0.99700       0.65      9.8        5             0  \n",
       "3                     60.0  0.99800       0.58      9.8        6             1  \n",
       "4                     34.0  0.99780       0.56      9.4        5             0  \n",
       "...                    ...      ...        ...      ...      ...           ...  \n",
       "1594                  44.0  0.99490       0.58     10.5        5             0  \n",
       "1595                  51.0  0.99512       0.76     11.2        6             1  \n",
       "1596                  40.0  0.99574       0.75     11.0        6             1  \n",
       "1597                  44.0  0.99547       0.71     10.2        5             0  \n",
       "1598                  42.0  0.99549       0.66     11.0        6             1  \n",
       "\n",
       "[1599 rows x 10 columns]"
      ]
     },
     "execution_count": 749,
     "metadata": {},
     "output_type": "execute_result"
    }
   ],
   "source": [
    "data"
   ]
  },
  {
   "cell_type": "markdown",
   "id": "30b98e12",
   "metadata": {},
   "source": [
    "# Model without outliers is data and model with desired outliers is df_new "
   ]
  },
  {
   "cell_type": "code",
   "execution_count": 753,
   "id": "1ebdde69",
   "metadata": {},
   "outputs": [],
   "source": [
    "#Independent Column\n",
    "x=data.drop(columns=['quality','best quality'])\n",
    "#Dependent Column\n",
    "y=data['best quality']"
   ]
  },
  {
   "cell_type": "markdown",
   "id": "42ea984a",
   "metadata": {},
   "source": [
    "# Transforming data to remove skewness"
   ]
  },
  {
   "cell_type": "code",
   "execution_count": 754,
   "id": "784c8a0f",
   "metadata": {},
   "outputs": [],
   "source": [
    "from sklearn.preprocessing import power_transform"
   ]
  },
  {
   "cell_type": "code",
   "execution_count": 755,
   "id": "b0e36048",
   "metadata": {},
   "outputs": [
    {
     "data": {
      "text/plain": [
       "array([[-4.42665887e-01,  9.95541630e-01, -1.53110932e+00, ...,\n",
       "         5.64441955e-01, -5.81649810e-01, -1.07502541e+00],\n",
       "       [-1.61307687e-01,  1.77129873e+00, -1.53110932e+00, ...,\n",
       "         3.69665306e-02,  3.95139954e-01, -5.00859609e-01],\n",
       "       [-1.61307687e-01,  1.26980139e+00, -1.25535866e+00, ...,\n",
       "         1.42851242e-01,  1.83771552e-01, -5.00859609e-01],\n",
       "       ...,\n",
       "       [-1.36436736e+00,  3.87065014e-04, -6.83293826e-01, ...,\n",
       "        -5.27496656e-01,  8.20841495e-01,  7.34557526e-01],\n",
       "       [-1.76745837e+00,  7.28552770e-01, -7.43826364e-01, ...,\n",
       "        -6.72159727e-01,  5.88343819e-01, -1.87998601e-02],\n",
       "       [-1.66263981e+00, -1.32045850e+00,  1.03107021e+00, ...,\n",
       "        -6.61431573e-01,  2.56369273e-01,  7.34557526e-01]])"
      ]
     },
     "execution_count": 755,
     "metadata": {},
     "output_type": "execute_result"
    }
   ],
   "source": [
    "x=power_transform(x,method='yeo-johnson')\n",
    "x"
   ]
  },
  {
   "cell_type": "code",
   "execution_count": 756,
   "id": "9a965ede",
   "metadata": {},
   "outputs": [
    {
     "data": {
      "text/plain": [
       "3   -0.151304\n",
       "5   -0.005054\n",
       "4   -0.003752\n",
       "0    0.002529\n",
       "1    0.003099\n",
       "6    0.009985\n",
       "2    0.017788\n",
       "7    0.112372\n",
       "dtype: float64"
      ]
     },
     "execution_count": 756,
     "metadata": {},
     "output_type": "execute_result"
    }
   ],
   "source": [
    "#Checking skewnness\n",
    "pd.DataFrame(x).skew().sort_values()"
   ]
  },
  {
   "cell_type": "markdown",
   "id": "4e75cc28",
   "metadata": {},
   "source": [
    "So here we use power transform so we dont need to use Standard Scaler"
   ]
  },
  {
   "cell_type": "code",
   "execution_count": 757,
   "id": "fb71fead",
   "metadata": {},
   "outputs": [
    {
     "data": {
      "text/plain": [
       "Counter({5: 554, 3: 535, 4: 535, 6: 554, 8: 538, 7: 552})"
      ]
     },
     "execution_count": 757,
     "metadata": {},
     "output_type": "execute_result"
    }
   ],
   "source": [
    "Counter(y_train)"
   ]
  },
  {
   "cell_type": "markdown",
   "id": "5d7d01da",
   "metadata": {},
   "source": [
    "# Over Sampling using SMOTE (Synthetic Minority Over Smapling Technique)"
   ]
  },
  {
   "cell_type": "code",
   "execution_count": 758,
   "id": "cf7ecac5",
   "metadata": {},
   "outputs": [],
   "source": [
    "from imblearn.over_sampling import SMOTE\n",
    "#sm=SMOTE(0.75)a"
   ]
  },
  {
   "cell_type": "code",
   "execution_count": 759,
   "id": "4d6c2d25",
   "metadata": {},
   "outputs": [],
   "source": [
    "smt=SMOTE()\n",
    "x_sample,y_sample=smt.fit_resample(x,y)\n"
   ]
  },
  {
   "cell_type": "markdown",
   "id": "1bdff545",
   "metadata": {},
   "source": [
    "# Lets Build Model with 4 Algorithms"
   ]
  },
  {
   "cell_type": "code",
   "execution_count": 760,
   "id": "c9477df6",
   "metadata": {},
   "outputs": [],
   "source": [
    "from sklearn.model_selection import train_test_split\n",
    "\n",
    "from sklearn.linear_model import LogisticRegression\n",
    "lr=LogisticRegression()\n",
    "from sklearn.neighbors import KNeighborsClassifier\n",
    "knn=KNeighborsClassifier()\n",
    "from sklearn.tree import DecisionTreeClassifier\n",
    "dt=DecisionTreeClassifier()\n",
    "from sklearn.svm import SVC\n",
    "s=SVC()\n",
    "from sklearn.metrics import accuracy_score,classification_report"
   ]
  },
  {
   "cell_type": "code",
   "execution_count": 761,
   "id": "15d0c183",
   "metadata": {},
   "outputs": [
    {
     "name": "stdout",
     "output_type": "stream",
     "text": [
      "At Radom State  43 The Model Performs Very Well\n",
      "At random State  43 The Model performs very well\n",
      "Training Accuracy Score is :-  74.12040656763097\n",
      "Testing Accuracy Score is : -  74.0625 \n",
      "\n",
      "At Radom State  58 The Model Performs Very Well\n",
      "At random State  58 The Model performs very well\n",
      "Training Accuracy Score is :-  73.80766223612197\n",
      "Testing Accuracy Score is : -  73.75 \n",
      "\n",
      "At Radom State  85 The Model Performs Very Well\n",
      "At random State  85 The Model performs very well\n",
      "Training Accuracy Score is :-  74.43315089913996\n",
      "Testing Accuracy Score is : -  74.375 \n",
      "\n",
      "At Radom State  191 The Model Performs Very Well\n",
      "At random State  191 The Model performs very well\n",
      "Training Accuracy Score is :-  74.35496481626271\n",
      "Testing Accuracy Score is : -  74.375 \n",
      "\n",
      "At Radom State  266 The Model Performs Very Well\n",
      "At random State  266 The Model performs very well\n",
      "Training Accuracy Score is :-  74.43315089913996\n",
      "Testing Accuracy Score is : -  74.375 \n",
      "\n",
      "At Radom State  323 The Model Performs Very Well\n",
      "At random State  323 The Model performs very well\n",
      "Training Accuracy Score is :-  74.43315089913996\n",
      "Testing Accuracy Score is : -  74.375 \n",
      "\n",
      "At Radom State  342 The Model Performs Very Well\n",
      "At random State  342 The Model performs very well\n",
      "Training Accuracy Score is :-  74.35496481626271\n",
      "Testing Accuracy Score is : -  74.375 \n",
      "\n",
      "At Radom State  561 The Model Performs Very Well\n",
      "At random State  561 The Model performs very well\n",
      "Training Accuracy Score is :-  74.35496481626271\n",
      "Testing Accuracy Score is : -  74.375 \n",
      "\n",
      "At Radom State  586 The Model Performs Very Well\n",
      "At random State  586 The Model performs very well\n",
      "Training Accuracy Score is :-  74.12040656763097\n",
      "Testing Accuracy Score is : -  74.0625 \n",
      "\n",
      "At Radom State  648 The Model Performs Very Well\n",
      "At random State  648 The Model performs very well\n",
      "Training Accuracy Score is :-  74.35496481626271\n",
      "Testing Accuracy Score is : -  74.375 \n",
      "\n",
      "At Radom State  693 The Model Performs Very Well\n",
      "At random State  693 The Model performs very well\n",
      "Training Accuracy Score is :-  74.43315089913996\n",
      "Testing Accuracy Score is : -  74.375 \n",
      "\n",
      "At Radom State  813 The Model Performs Very Well\n",
      "At random State  813 The Model performs very well\n",
      "Training Accuracy Score is :-  74.6677091477717\n",
      "Testing Accuracy Score is : -  74.6875 \n",
      "\n",
      "At Radom State  959 The Model Performs Very Well\n",
      "At random State  959 The Model performs very well\n",
      "Training Accuracy Score is :-  74.35496481626271\n",
      "Testing Accuracy Score is : -  74.375 \n",
      "\n",
      "At Radom State  964 The Model Performs Very Well\n",
      "At random State  964 The Model performs very well\n",
      "Training Accuracy Score is :-  74.43315089913996\n",
      "Testing Accuracy Score is : -  74.375 \n",
      "\n"
     ]
    }
   ],
   "source": [
    "for i in range(0,1000):\n",
    "    x_train,x_test,y_train,y_test=train_test_split(x,y,random_state=i,test_size=0.20)\n",
    "    lr.fit(x_train,y_train)\n",
    "    \n",
    "    pred_train=lr.predict(x_train)\n",
    "    pred_test=lr.predict(x_test)\n",
    "    if round(accuracy_score(y_train,pred_train)*100,1)==round(accuracy_score(y_test,pred_test)*100,1):\n",
    "        print(\"At Radom State \",i,\"The Model Performs Very Well\")\n",
    "        print(\"At random State \",i,\"The Model performs very well\")\n",
    "        print(\"Training Accuracy Score is :- \",accuracy_score(y_train,pred_train)*100)\n",
    "        print(\"Testing Accuracy Score is : - \",accuracy_score(y_test,pred_test)*100,\"\\n\")"
   ]
  },
  {
   "cell_type": "markdown",
   "id": "cd578c50",
   "metadata": {},
   "source": [
    "For Logistic Regression we select Random State - 813\n",
    "\n",
    "But i want to check with different algorithm\n"
   ]
  },
  {
   "cell_type": "markdown",
   "id": "39275d0a",
   "metadata": {},
   "source": [
    "# Lets check with KNN"
   ]
  },
  {
   "cell_type": "code",
   "execution_count": 762,
   "id": "6ed4509e",
   "metadata": {},
   "outputs": [
    {
     "name": "stdout",
     "output_type": "stream",
     "text": [
      " At random state 0 , the testing accuracy is :- 0.8240813135261923\n",
      " At random state 0 , the testing accuracy is :- 0.734375\n",
      "\n",
      "\n",
      " At random state 1 , the testing accuracy is :- 0.8318999218139171\n",
      " At random state 1 , the testing accuracy is :- 0.7375\n",
      "\n",
      "\n",
      " At random state 2 , the testing accuracy is :- 0.836591086786552\n",
      " At random state 2 , the testing accuracy is :- 0.7\n",
      "\n",
      "\n",
      " At random state 3 , the testing accuracy is :- 0.8021892103205629\n",
      " At random state 3 , the testing accuracy is :- 0.75\n",
      "\n",
      "\n",
      " At random state 4 , the testing accuracy is :- 0.818608287724785\n",
      " At random state 4 , the testing accuracy is :- 0.734375\n",
      "\n",
      "\n",
      " At random state 5 , the testing accuracy is :- 0.8178264268960125\n",
      " At random state 5 , the testing accuracy is :- 0.73125\n",
      "\n",
      "\n",
      " At random state 6 , the testing accuracy is :- 0.8287724784988272\n",
      " At random state 6 , the testing accuracy is :- 0.7625\n",
      "\n",
      "\n",
      " At random state 7 , the testing accuracy is :- 0.8279906176700548\n",
      " At random state 7 , the testing accuracy is :- 0.7375\n",
      "\n",
      "\n",
      " At random state 8 , the testing accuracy is :- 0.8139171227521501\n",
      " At random state 8 , the testing accuracy is :- 0.765625\n",
      "\n",
      "\n",
      " At random state 9 , the testing accuracy is :- 0.8053166536356529\n",
      " At random state 9 , the testing accuracy is :- 0.76875\n",
      "\n",
      "\n",
      " At random state 10 , the testing accuracy is :- 0.8248631743549648\n",
      " At random state 10 , the testing accuracy is :- 0.740625\n",
      "\n",
      "\n",
      " At random state 11 , the testing accuracy is :- 0.8295543393275997\n",
      " At random state 11 , the testing accuracy is :- 0.71875\n",
      "\n",
      "\n",
      " At random state 12 , the testing accuracy is :- 0.8358092259577795\n",
      " At random state 12 , the testing accuracy is :- 0.73125\n",
      "\n",
      "\n",
      " At random state 13 , the testing accuracy is :- 0.8240813135261923\n",
      " At random state 13 , the testing accuracy is :- 0.7375\n",
      "\n",
      "\n",
      " At random state 14 , the testing accuracy is :- 0.8248631743549648\n",
      " At random state 14 , the testing accuracy is :- 0.746875\n",
      "\n",
      "\n",
      " At random state 15 , the testing accuracy is :- 0.8272087568412823\n",
      " At random state 15 , the testing accuracy is :- 0.715625\n",
      "\n",
      "\n",
      " At random state 16 , the testing accuracy is :- 0.8272087568412823\n",
      " At random state 16 , the testing accuracy is :- 0.703125\n",
      "\n",
      "\n",
      " At random state 17 , the testing accuracy is :- 0.818608287724785\n",
      " At random state 17 , the testing accuracy is :- 0.765625\n",
      "\n",
      "\n",
      " At random state 18 , the testing accuracy is :- 0.8248631743549648\n",
      " At random state 18 , the testing accuracy is :- 0.778125\n",
      "\n",
      "\n",
      " At random state 19 , the testing accuracy is :- 0.8264268960125097\n",
      " At random state 19 , the testing accuracy is :- 0.775\n",
      "\n",
      "\n",
      " At random state 20 , the testing accuracy is :- 0.8272087568412823\n",
      " At random state 20 , the testing accuracy is :- 0.75\n",
      "\n",
      "\n",
      " At random state 21 , the testing accuracy is :- 0.8318999218139171\n",
      " At random state 21 , the testing accuracy is :- 0.75625\n",
      "\n",
      "\n",
      " At random state 22 , the testing accuracy is :- 0.8389366692728695\n",
      " At random state 22 , the testing accuracy is :- 0.709375\n",
      "\n",
      "\n",
      " At random state 23 , the testing accuracy is :- 0.8131352619233776\n",
      " At random state 23 , the testing accuracy is :- 0.73125\n",
      "\n",
      "\n",
      " At random state 24 , the testing accuracy is :- 0.8311180609851446\n",
      " At random state 24 , the testing accuracy is :- 0.725\n",
      "\n",
      "\n",
      " At random state 25 , the testing accuracy is :- 0.8264268960125097\n",
      " At random state 25 , the testing accuracy is :- 0.775\n",
      "\n",
      "\n",
      " At random state 26 , the testing accuracy is :- 0.8248631743549648\n",
      " At random state 26 , the testing accuracy is :- 0.740625\n",
      "\n",
      "\n",
      " At random state 27 , the testing accuracy is :- 0.8178264268960125\n",
      " At random state 27 , the testing accuracy is :- 0.803125\n",
      "\n",
      "\n",
      " At random state 28 , the testing accuracy is :- 0.8225175918686474\n",
      " At random state 28 , the testing accuracy is :- 0.71875\n",
      "\n",
      "\n",
      " At random state 29 , the testing accuracy is :- 0.8146989835809226\n",
      " At random state 29 , the testing accuracy is :- 0.765625\n",
      "\n",
      "\n",
      " At random state 30 , the testing accuracy is :- 0.8240813135261923\n",
      " At random state 30 , the testing accuracy is :- 0.765625\n",
      "\n",
      "\n",
      " At random state 31 , the testing accuracy is :- 0.8240813135261923\n",
      " At random state 31 , the testing accuracy is :- 0.7375\n",
      "\n",
      "\n",
      " At random state 32 , the testing accuracy is :- 0.8240813135261923\n",
      " At random state 32 , the testing accuracy is :- 0.73125\n",
      "\n",
      "\n",
      " At random state 33 , the testing accuracy is :- 0.8240813135261923\n",
      " At random state 33 , the testing accuracy is :- 0.73125\n",
      "\n",
      "\n",
      " At random state 34 , the testing accuracy is :- 0.8256450351837373\n",
      " At random state 34 , the testing accuracy is :- 0.740625\n",
      "\n",
      "\n",
      " At random state 35 , the testing accuracy is :- 0.8225175918686474\n",
      " At random state 35 , the testing accuracy is :- 0.725\n",
      "\n",
      "\n",
      " At random state 36 , the testing accuracy is :- 0.8358092259577795\n",
      " At random state 36 , the testing accuracy is :- 0.75\n",
      "\n",
      "\n",
      " At random state 37 , the testing accuracy is :- 0.8139171227521501\n",
      " At random state 37 , the testing accuracy is :- 0.775\n",
      "\n",
      "\n",
      " At random state 38 , the testing accuracy is :- 0.8178264268960125\n",
      " At random state 38 , the testing accuracy is :- 0.759375\n",
      "\n",
      "\n",
      " At random state 39 , the testing accuracy is :- 0.8162627052384676\n",
      " At random state 39 , the testing accuracy is :- 0.75625\n",
      "\n",
      "\n",
      " At random state 40 , the testing accuracy is :- 0.8193901485535575\n",
      " At random state 40 , the testing accuracy is :- 0.778125\n",
      "\n",
      "\n",
      " At random state 41 , the testing accuracy is :- 0.8045347928068803\n",
      " At random state 41 , the testing accuracy is :- 0.809375\n",
      "\n",
      "\n",
      " At random state 42 , the testing accuracy is :- 0.836591086786552\n",
      " At random state 42 , the testing accuracy is :- 0.725\n",
      "\n",
      "\n",
      " At random state 43 , the testing accuracy is :- 0.8170445660672401\n",
      " At random state 43 , the testing accuracy is :- 0.746875\n",
      "\n",
      "\n",
      " At random state 44 , the testing accuracy is :- 0.8217357310398749\n",
      " At random state 44 , the testing accuracy is :- 0.740625\n",
      "\n",
      "\n",
      " At random state 45 , the testing accuracy is :- 0.8225175918686474\n",
      " At random state 45 , the testing accuracy is :- 0.753125\n",
      "\n",
      "\n",
      " At random state 46 , the testing accuracy is :- 0.8334636434714621\n",
      " At random state 46 , the testing accuracy is :- 0.753125\n",
      "\n",
      "\n",
      " At random state 47 , the testing accuracy is :- 0.8264268960125097\n",
      " At random state 47 , the testing accuracy is :- 0.7375\n",
      "\n",
      "\n",
      " At random state 48 , the testing accuracy is :- 0.8193901485535575\n",
      " At random state 48 , the testing accuracy is :- 0.734375\n",
      "\n",
      "\n",
      " At random state 49 , the testing accuracy is :- 0.8193901485535575\n",
      " At random state 49 , the testing accuracy is :- 0.746875\n",
      "\n",
      "\n",
      " At random state 50 , the testing accuracy is :- 0.8248631743549648\n",
      " At random state 50 , the testing accuracy is :- 0.715625\n",
      "\n",
      "\n",
      " At random state 51 , the testing accuracy is :- 0.836591086786552\n",
      " At random state 51 , the testing accuracy is :- 0.7\n",
      "\n",
      "\n",
      " At random state 52 , the testing accuracy is :- 0.8217357310398749\n",
      " At random state 52 , the testing accuracy is :- 0.725\n",
      "\n",
      "\n",
      " At random state 53 , the testing accuracy is :- 0.8240813135261923\n",
      " At random state 53 , the testing accuracy is :- 0.75625\n",
      "\n",
      "\n",
      " At random state 54 , the testing accuracy is :- 0.8162627052384676\n",
      " At random state 54 , the testing accuracy is :- 0.75625\n",
      "\n",
      "\n",
      " At random state 55 , the testing accuracy is :- 0.8248631743549648\n",
      " At random state 55 , the testing accuracy is :- 0.7\n",
      "\n",
      "\n",
      " At random state 56 , the testing accuracy is :- 0.8201720093823299\n",
      " At random state 56 , the testing accuracy is :- 0.746875\n",
      "\n",
      "\n",
      " At random state 57 , the testing accuracy is :- 0.8311180609851446\n",
      " At random state 57 , the testing accuracy is :- 0.73125\n",
      "\n",
      "\n",
      " At random state 58 , the testing accuracy is :- 0.8217357310398749\n",
      " At random state 58 , the testing accuracy is :- 0.71875\n",
      "\n",
      "\n",
      " At random state 59 , the testing accuracy is :- 0.8225175918686474\n",
      " At random state 59 , the testing accuracy is :- 0.73125\n",
      "\n",
      "\n",
      " At random state 60 , the testing accuracy is :- 0.8232994526974199\n",
      " At random state 60 , the testing accuracy is :- 0.765625\n",
      "\n",
      "\n",
      " At random state 61 , the testing accuracy is :- 0.8115715402658327\n",
      " At random state 61 , the testing accuracy is :- 0.775\n",
      "\n",
      "\n",
      " At random state 62 , the testing accuracy is :- 0.8318999218139171\n",
      " At random state 62 , the testing accuracy is :- 0.71875\n",
      "\n",
      "\n",
      " At random state 63 , the testing accuracy is :- 0.8225175918686474\n",
      " At random state 63 , the testing accuracy is :- 0.7375\n",
      "\n",
      "\n",
      " At random state 64 , the testing accuracy is :- 0.8272087568412823\n",
      " At random state 64 , the testing accuracy is :- 0.7375\n",
      "\n",
      "\n",
      " At random state 65 , the testing accuracy is :- 0.8240813135261923\n",
      " At random state 65 , the testing accuracy is :- 0.69375\n",
      "\n",
      "\n",
      " At random state 66 , the testing accuracy is :- 0.8217357310398749\n",
      " At random state 66 , the testing accuracy is :- 0.721875\n",
      "\n",
      "\n",
      " At random state 67 , the testing accuracy is :- 0.835027365129007\n",
      " At random state 67 , the testing accuracy is :- 0.7125\n",
      "\n",
      "\n",
      " At random state 68 , the testing accuracy is :- 0.8232994526974199\n",
      " At random state 68 , the testing accuracy is :- 0.740625\n",
      "\n",
      "\n",
      " At random state 69 , the testing accuracy is :- 0.8295543393275997\n",
      " At random state 69 , the testing accuracy is :- 0.728125\n",
      "\n",
      "\n",
      " At random state 70 , the testing accuracy is :- 0.8193901485535575\n",
      " At random state 70 , the testing accuracy is :- 0.746875\n",
      "\n",
      "\n",
      " At random state 71 , the testing accuracy is :- 0.8209538702111024\n",
      " At random state 71 , the testing accuracy is :- 0.753125\n",
      "\n",
      "\n",
      " At random state 72 , the testing accuracy is :- 0.8240813135261923\n",
      " At random state 72 , the testing accuracy is :- 0.7375\n",
      "\n",
      "\n",
      " At random state 73 , the testing accuracy is :- 0.8232994526974199\n",
      " At random state 73 , the testing accuracy is :- 0.728125\n",
      "\n",
      "\n",
      " At random state 74 , the testing accuracy is :- 0.8162627052384676\n",
      " At random state 74 , the testing accuracy is :- 0.73125\n",
      "\n",
      "\n",
      " At random state 75 , the testing accuracy is :- 0.8326817826426895\n",
      " At random state 75 , the testing accuracy is :- 0.68125\n",
      "\n",
      "\n",
      " At random state 76 , the testing accuracy is :- 0.8193901485535575\n",
      " At random state 76 , the testing accuracy is :- 0.715625\n",
      "\n",
      "\n",
      " At random state 77 , the testing accuracy is :- 0.8279906176700548\n",
      " At random state 77 , the testing accuracy is :- 0.721875\n",
      "\n",
      "\n",
      " At random state 78 , the testing accuracy is :- 0.8217357310398749\n",
      " At random state 78 , the testing accuracy is :- 0.76875\n",
      "\n",
      "\n",
      " At random state 79 , the testing accuracy is :- 0.835027365129007\n",
      " At random state 79 , the testing accuracy is :- 0.728125\n",
      "\n",
      "\n",
      " At random state 80 , the testing accuracy is :- 0.835027365129007\n",
      " At random state 80 , the testing accuracy is :- 0.75625\n",
      "\n",
      "\n",
      " At random state 81 , the testing accuracy is :- 0.8287724784988272\n",
      " At random state 81 , the testing accuracy is :- 0.709375\n",
      "\n",
      "\n",
      " At random state 82 , the testing accuracy is :- 0.8287724784988272\n",
      " At random state 82 , the testing accuracy is :- 0.74375\n",
      "\n",
      "\n",
      " At random state 83 , the testing accuracy is :- 0.815480844409695\n",
      " At random state 83 , the testing accuracy is :- 0.7875\n",
      "\n",
      "\n",
      " At random state 84 , the testing accuracy is :- 0.8303362001563722\n",
      " At random state 84 , the testing accuracy is :- 0.696875\n",
      "\n",
      "\n",
      " At random state 85 , the testing accuracy is :- 0.836591086786552\n",
      " At random state 85 , the testing accuracy is :- 0.73125\n",
      "\n",
      "\n",
      " At random state 86 , the testing accuracy is :- 0.8201720093823299\n",
      " At random state 86 , the testing accuracy is :- 0.740625\n",
      "\n",
      "\n",
      " At random state 87 , the testing accuracy is :- 0.8295543393275997\n",
      " At random state 87 , the testing accuracy is :- 0.66875\n",
      "\n",
      "\n",
      " At random state 88 , the testing accuracy is :- 0.8193901485535575\n",
      " At random state 88 , the testing accuracy is :- 0.721875\n",
      "\n",
      "\n",
      " At random state 89 , the testing accuracy is :- 0.8146989835809226\n",
      " At random state 89 , the testing accuracy is :- 0.74375\n",
      "\n",
      "\n",
      " At random state 90 , the testing accuracy is :- 0.8201720093823299\n",
      " At random state 90 , the testing accuracy is :- 0.740625\n",
      "\n",
      "\n",
      " At random state 91 , the testing accuracy is :- 0.835027365129007\n",
      " At random state 91 , the testing accuracy is :- 0.725\n",
      "\n",
      "\n",
      " At random state 92 , the testing accuracy is :- 0.8217357310398749\n",
      " At random state 92 , the testing accuracy is :- 0.728125\n",
      "\n",
      "\n",
      " At random state 93 , the testing accuracy is :- 0.8146989835809226\n",
      " At random state 93 , the testing accuracy is :- 0.75\n",
      "\n",
      "\n",
      " At random state 94 , the testing accuracy is :- 0.8279906176700548\n",
      " At random state 94 , the testing accuracy is :- 0.70625\n",
      "\n",
      "\n",
      " At random state 95 , the testing accuracy is :- 0.8295543393275997\n",
      " At random state 95 , the testing accuracy is :- 0.7375\n",
      "\n",
      "\n",
      " At random state 96 , the testing accuracy is :- 0.8264268960125097\n",
      " At random state 96 , the testing accuracy is :- 0.73125\n",
      "\n",
      "\n",
      " At random state 97 , the testing accuracy is :- 0.8287724784988272\n",
      " At random state 97 , the testing accuracy is :- 0.759375\n",
      "\n",
      "\n",
      " At random state 98 , the testing accuracy is :- 0.8311180609851446\n",
      " At random state 98 , the testing accuracy is :- 0.734375\n",
      "\n",
      "\n",
      " At random state 99 , the testing accuracy is :- 0.8193901485535575\n",
      " At random state 99 , the testing accuracy is :- 0.75625\n",
      "\n",
      "\n"
     ]
    }
   ],
   "source": [
    "for i in range(0,100):\n",
    "    x_train,x_test,y_train,y_test=train_test_split(x,y,test_size=0.2,random_state=i)\n",
    "    knn.fit(x_train,y_train)\n",
    "    x_pred=knn.predict(x_train)\n",
    "    y_pred=knn.predict(x_test)\n",
    "    print(f\" At random state {i} , the testing accuracy is :- {accuracy_score(y_train,x_pred)}\")\n",
    "    print(f\" At random state {i} , the testing accuracy is :- {accuracy_score(y_test,y_pred)}\")\n",
    "    print(\"\\n\")"
   ]
  },
  {
   "cell_type": "markdown",
   "id": "309994b8",
   "metadata": {},
   "source": [
    "So i am going with random state 41"
   ]
  },
  {
   "cell_type": "code",
   "execution_count": 763,
   "id": "86b9dc9b",
   "metadata": {},
   "outputs": [],
   "source": [
    "x_train,x_test,y_train,y_test=train_test_split(x,y,test_size=0.2,random_state=41)"
   ]
  },
  {
   "cell_type": "code",
   "execution_count": 764,
   "id": "adb3863c",
   "metadata": {},
   "outputs": [
    {
     "data": {
      "text/html": [
       "<style>#sk-container-id-115 {color: black;background-color: white;}#sk-container-id-115 pre{padding: 0;}#sk-container-id-115 div.sk-toggleable {background-color: white;}#sk-container-id-115 label.sk-toggleable__label {cursor: pointer;display: block;width: 100%;margin-bottom: 0;padding: 0.3em;box-sizing: border-box;text-align: center;}#sk-container-id-115 label.sk-toggleable__label-arrow:before {content: \"▸\";float: left;margin-right: 0.25em;color: #696969;}#sk-container-id-115 label.sk-toggleable__label-arrow:hover:before {color: black;}#sk-container-id-115 div.sk-estimator:hover label.sk-toggleable__label-arrow:before {color: black;}#sk-container-id-115 div.sk-toggleable__content {max-height: 0;max-width: 0;overflow: hidden;text-align: left;background-color: #f0f8ff;}#sk-container-id-115 div.sk-toggleable__content pre {margin: 0.2em;color: black;border-radius: 0.25em;background-color: #f0f8ff;}#sk-container-id-115 input.sk-toggleable__control:checked~div.sk-toggleable__content {max-height: 200px;max-width: 100%;overflow: auto;}#sk-container-id-115 input.sk-toggleable__control:checked~label.sk-toggleable__label-arrow:before {content: \"▾\";}#sk-container-id-115 div.sk-estimator input.sk-toggleable__control:checked~label.sk-toggleable__label {background-color: #d4ebff;}#sk-container-id-115 div.sk-label input.sk-toggleable__control:checked~label.sk-toggleable__label {background-color: #d4ebff;}#sk-container-id-115 input.sk-hidden--visually {border: 0;clip: rect(1px 1px 1px 1px);clip: rect(1px, 1px, 1px, 1px);height: 1px;margin: -1px;overflow: hidden;padding: 0;position: absolute;width: 1px;}#sk-container-id-115 div.sk-estimator {font-family: monospace;background-color: #f0f8ff;border: 1px dotted black;border-radius: 0.25em;box-sizing: border-box;margin-bottom: 0.5em;}#sk-container-id-115 div.sk-estimator:hover {background-color: #d4ebff;}#sk-container-id-115 div.sk-parallel-item::after {content: \"\";width: 100%;border-bottom: 1px solid gray;flex-grow: 1;}#sk-container-id-115 div.sk-label:hover label.sk-toggleable__label {background-color: #d4ebff;}#sk-container-id-115 div.sk-serial::before {content: \"\";position: absolute;border-left: 1px solid gray;box-sizing: border-box;top: 0;bottom: 0;left: 50%;z-index: 0;}#sk-container-id-115 div.sk-serial {display: flex;flex-direction: column;align-items: center;background-color: white;padding-right: 0.2em;padding-left: 0.2em;position: relative;}#sk-container-id-115 div.sk-item {position: relative;z-index: 1;}#sk-container-id-115 div.sk-parallel {display: flex;align-items: stretch;justify-content: center;background-color: white;position: relative;}#sk-container-id-115 div.sk-item::before, #sk-container-id-115 div.sk-parallel-item::before {content: \"\";position: absolute;border-left: 1px solid gray;box-sizing: border-box;top: 0;bottom: 0;left: 50%;z-index: -1;}#sk-container-id-115 div.sk-parallel-item {display: flex;flex-direction: column;z-index: 1;position: relative;background-color: white;}#sk-container-id-115 div.sk-parallel-item:first-child::after {align-self: flex-end;width: 50%;}#sk-container-id-115 div.sk-parallel-item:last-child::after {align-self: flex-start;width: 50%;}#sk-container-id-115 div.sk-parallel-item:only-child::after {width: 0;}#sk-container-id-115 div.sk-dashed-wrapped {border: 1px dashed gray;margin: 0 0.4em 0.5em 0.4em;box-sizing: border-box;padding-bottom: 0.4em;background-color: white;}#sk-container-id-115 div.sk-label label {font-family: monospace;font-weight: bold;display: inline-block;line-height: 1.2em;}#sk-container-id-115 div.sk-label-container {text-align: center;}#sk-container-id-115 div.sk-container {/* jupyter's `normalize.less` sets `[hidden] { display: none; }` but bootstrap.min.css set `[hidden] { display: none !important; }` so we also need the `!important` here to be able to override the default hidden behavior on the sphinx rendered scikit-learn.org. See: https://github.com/scikit-learn/scikit-learn/issues/21755 */display: inline-block !important;position: relative;}#sk-container-id-115 div.sk-text-repr-fallback {display: none;}</style><div id=\"sk-container-id-115\" class=\"sk-top-container\"><div class=\"sk-text-repr-fallback\"><pre>KNeighborsClassifier()</pre><b>In a Jupyter environment, please rerun this cell to show the HTML representation or trust the notebook. <br />On GitHub, the HTML representation is unable to render, please try loading this page with nbviewer.org.</b></div><div class=\"sk-container\" hidden><div class=\"sk-item\"><div class=\"sk-estimator sk-toggleable\"><input class=\"sk-toggleable__control sk-hidden--visually\" id=\"sk-estimator-id-131\" type=\"checkbox\" checked><label for=\"sk-estimator-id-131\" class=\"sk-toggleable__label sk-toggleable__label-arrow\">KNeighborsClassifier</label><div class=\"sk-toggleable__content\"><pre>KNeighborsClassifier()</pre></div></div></div></div></div>"
      ],
      "text/plain": [
       "KNeighborsClassifier()"
      ]
     },
     "execution_count": 764,
     "metadata": {},
     "output_type": "execute_result"
    }
   ],
   "source": [
    "knn.fit(x_train,y_train)"
   ]
  },
  {
   "cell_type": "code",
   "execution_count": 765,
   "id": "5bebee24",
   "metadata": {},
   "outputs": [
    {
     "data": {
      "text/plain": [
       "0.8045347928068803"
      ]
     },
     "execution_count": 765,
     "metadata": {},
     "output_type": "execute_result"
    }
   ],
   "source": [
    "knn.score(x_train,y_train)#Training Score"
   ]
  },
  {
   "cell_type": "code",
   "execution_count": 766,
   "id": "c33e0204",
   "metadata": {},
   "outputs": [
    {
     "data": {
      "text/plain": [
       "0.809375"
      ]
     },
     "execution_count": 766,
     "metadata": {},
     "output_type": "execute_result"
    }
   ],
   "source": [
    "knn.score(x_test,y_test)#Testing Score"
   ]
  },
  {
   "cell_type": "markdown",
   "id": "46532f53",
   "metadata": {},
   "source": [
    "\n"
   ]
  },
  {
   "cell_type": "markdown",
   "id": "1610b727",
   "metadata": {},
   "source": [
    "# Lets check with Decision Tree"
   ]
  },
  {
   "cell_type": "code",
   "execution_count": 767,
   "id": "35c6da18",
   "metadata": {},
   "outputs": [
    {
     "name": "stdout",
     "output_type": "stream",
     "text": [
      " At random state 0 , the testing accuracy is :- 1.0\n",
      " At random state 0 , the testing accuracy is :- 0.75\n",
      "\n",
      "\n",
      " At random state 1 , the testing accuracy is :- 1.0\n",
      " At random state 1 , the testing accuracy is :- 0.746875\n",
      "\n",
      "\n",
      " At random state 2 , the testing accuracy is :- 1.0\n",
      " At random state 2 , the testing accuracy is :- 0.7\n",
      "\n",
      "\n",
      " At random state 3 , the testing accuracy is :- 1.0\n",
      " At random state 3 , the testing accuracy is :- 0.796875\n",
      "\n",
      "\n",
      " At random state 4 , the testing accuracy is :- 1.0\n",
      " At random state 4 , the testing accuracy is :- 0.759375\n",
      "\n",
      "\n",
      " At random state 5 , the testing accuracy is :- 1.0\n",
      " At random state 5 , the testing accuracy is :- 0.728125\n",
      "\n",
      "\n",
      " At random state 6 , the testing accuracy is :- 1.0\n",
      " At random state 6 , the testing accuracy is :- 0.75\n",
      "\n",
      "\n",
      " At random state 7 , the testing accuracy is :- 1.0\n",
      " At random state 7 , the testing accuracy is :- 0.7625\n",
      "\n",
      "\n",
      " At random state 8 , the testing accuracy is :- 1.0\n",
      " At random state 8 , the testing accuracy is :- 0.728125\n",
      "\n",
      "\n",
      " At random state 9 , the testing accuracy is :- 1.0\n",
      " At random state 9 , the testing accuracy is :- 0.721875\n",
      "\n",
      "\n",
      " At random state 10 , the testing accuracy is :- 1.0\n",
      " At random state 10 , the testing accuracy is :- 0.778125\n",
      "\n",
      "\n",
      " At random state 11 , the testing accuracy is :- 1.0\n",
      " At random state 11 , the testing accuracy is :- 0.74375\n",
      "\n",
      "\n",
      " At random state 12 , the testing accuracy is :- 1.0\n",
      " At random state 12 , the testing accuracy is :- 0.734375\n",
      "\n",
      "\n",
      " At random state 13 , the testing accuracy is :- 1.0\n",
      " At random state 13 , the testing accuracy is :- 0.746875\n",
      "\n",
      "\n",
      " At random state 14 , the testing accuracy is :- 1.0\n",
      " At random state 14 , the testing accuracy is :- 0.70625\n",
      "\n",
      "\n",
      " At random state 15 , the testing accuracy is :- 1.0\n",
      " At random state 15 , the testing accuracy is :- 0.75\n",
      "\n",
      "\n",
      " At random state 16 , the testing accuracy is :- 1.0\n",
      " At random state 16 , the testing accuracy is :- 0.740625\n",
      "\n",
      "\n",
      " At random state 17 , the testing accuracy is :- 1.0\n",
      " At random state 17 , the testing accuracy is :- 0.775\n",
      "\n",
      "\n",
      " At random state 18 , the testing accuracy is :- 1.0\n",
      " At random state 18 , the testing accuracy is :- 0.734375\n",
      "\n",
      "\n",
      " At random state 19 , the testing accuracy is :- 1.0\n",
      " At random state 19 , the testing accuracy is :- 0.759375\n",
      "\n",
      "\n",
      " At random state 20 , the testing accuracy is :- 1.0\n",
      " At random state 20 , the testing accuracy is :- 0.784375\n",
      "\n",
      "\n",
      " At random state 21 , the testing accuracy is :- 1.0\n",
      " At random state 21 , the testing accuracy is :- 0.765625\n",
      "\n",
      "\n",
      " At random state 22 , the testing accuracy is :- 1.0\n",
      " At random state 22 , the testing accuracy is :- 0.721875\n",
      "\n",
      "\n",
      " At random state 23 , the testing accuracy is :- 1.0\n",
      " At random state 23 , the testing accuracy is :- 0.728125\n",
      "\n",
      "\n",
      " At random state 24 , the testing accuracy is :- 1.0\n",
      " At random state 24 , the testing accuracy is :- 0.725\n",
      "\n",
      "\n",
      " At random state 25 , the testing accuracy is :- 1.0\n",
      " At random state 25 , the testing accuracy is :- 0.784375\n",
      "\n",
      "\n",
      " At random state 26 , the testing accuracy is :- 1.0\n",
      " At random state 26 , the testing accuracy is :- 0.75625\n",
      "\n",
      "\n",
      " At random state 27 , the testing accuracy is :- 1.0\n",
      " At random state 27 , the testing accuracy is :- 0.740625\n",
      "\n",
      "\n",
      " At random state 28 , the testing accuracy is :- 1.0\n",
      " At random state 28 , the testing accuracy is :- 0.78125\n",
      "\n",
      "\n",
      " At random state 29 , the testing accuracy is :- 1.0\n",
      " At random state 29 , the testing accuracy is :- 0.765625\n",
      "\n",
      "\n",
      " At random state 30 , the testing accuracy is :- 1.0\n",
      " At random state 30 , the testing accuracy is :- 0.771875\n",
      "\n",
      "\n",
      " At random state 31 , the testing accuracy is :- 1.0\n",
      " At random state 31 , the testing accuracy is :- 0.765625\n",
      "\n",
      "\n",
      " At random state 32 , the testing accuracy is :- 1.0\n",
      " At random state 32 , the testing accuracy is :- 0.73125\n",
      "\n",
      "\n",
      " At random state 33 , the testing accuracy is :- 1.0\n",
      " At random state 33 , the testing accuracy is :- 0.765625\n",
      "\n",
      "\n",
      " At random state 34 , the testing accuracy is :- 1.0\n",
      " At random state 34 , the testing accuracy is :- 0.803125\n",
      "\n",
      "\n",
      " At random state 35 , the testing accuracy is :- 1.0\n",
      " At random state 35 , the testing accuracy is :- 0.746875\n",
      "\n",
      "\n",
      " At random state 36 , the testing accuracy is :- 1.0\n",
      " At random state 36 , the testing accuracy is :- 0.775\n",
      "\n",
      "\n",
      " At random state 37 , the testing accuracy is :- 1.0\n",
      " At random state 37 , the testing accuracy is :- 0.75\n",
      "\n",
      "\n",
      " At random state 38 , the testing accuracy is :- 1.0\n",
      " At random state 38 , the testing accuracy is :- 0.734375\n",
      "\n",
      "\n",
      " At random state 39 , the testing accuracy is :- 1.0\n",
      " At random state 39 , the testing accuracy is :- 0.753125\n",
      "\n",
      "\n",
      " At random state 40 , the testing accuracy is :- 1.0\n",
      " At random state 40 , the testing accuracy is :- 0.78125\n",
      "\n",
      "\n",
      " At random state 41 , the testing accuracy is :- 1.0\n",
      " At random state 41 , the testing accuracy is :- 0.753125\n",
      "\n",
      "\n",
      " At random state 42 , the testing accuracy is :- 1.0\n",
      " At random state 42 , the testing accuracy is :- 0.73125\n",
      "\n",
      "\n",
      " At random state 43 , the testing accuracy is :- 1.0\n",
      " At random state 43 , the testing accuracy is :- 0.778125\n",
      "\n",
      "\n",
      " At random state 44 , the testing accuracy is :- 1.0\n",
      " At random state 44 , the testing accuracy is :- 0.740625\n",
      "\n",
      "\n",
      " At random state 45 , the testing accuracy is :- 1.0\n",
      " At random state 45 , the testing accuracy is :- 0.75625\n",
      "\n",
      "\n",
      " At random state 46 , the testing accuracy is :- 1.0\n",
      " At random state 46 , the testing accuracy is :- 0.790625\n",
      "\n",
      "\n",
      " At random state 47 , the testing accuracy is :- 1.0\n",
      " At random state 47 , the testing accuracy is :- 0.75\n",
      "\n",
      "\n",
      " At random state 48 , the testing accuracy is :- 1.0\n",
      " At random state 48 , the testing accuracy is :- 0.721875\n",
      "\n",
      "\n",
      " At random state 49 , the testing accuracy is :- 1.0\n",
      " At random state 49 , the testing accuracy is :- 0.753125\n",
      "\n",
      "\n",
      " At random state 50 , the testing accuracy is :- 1.0\n",
      " At random state 50 , the testing accuracy is :- 0.7375\n",
      "\n",
      "\n",
      " At random state 51 , the testing accuracy is :- 1.0\n",
      " At random state 51 , the testing accuracy is :- 0.69375\n",
      "\n",
      "\n",
      " At random state 52 , the testing accuracy is :- 1.0\n",
      " At random state 52 , the testing accuracy is :- 0.75625\n",
      "\n",
      "\n",
      " At random state 53 , the testing accuracy is :- 1.0\n",
      " At random state 53 , the testing accuracy is :- 0.796875\n",
      "\n",
      "\n",
      " At random state 54 , the testing accuracy is :- 1.0\n",
      " At random state 54 , the testing accuracy is :- 0.759375\n",
      "\n",
      "\n",
      " At random state 55 , the testing accuracy is :- 1.0\n",
      " At random state 55 , the testing accuracy is :- 0.734375\n",
      "\n",
      "\n",
      " At random state 56 , the testing accuracy is :- 1.0\n",
      " At random state 56 , the testing accuracy is :- 0.7625\n",
      "\n",
      "\n",
      " At random state 57 , the testing accuracy is :- 1.0\n",
      " At random state 57 , the testing accuracy is :- 0.74375\n",
      "\n",
      "\n",
      " At random state 58 , the testing accuracy is :- 1.0\n",
      " At random state 58 , the testing accuracy is :- 0.740625\n",
      "\n",
      "\n",
      " At random state 59 , the testing accuracy is :- 1.0\n",
      " At random state 59 , the testing accuracy is :- 0.7625\n",
      "\n",
      "\n",
      " At random state 60 , the testing accuracy is :- 1.0\n",
      " At random state 60 , the testing accuracy is :- 0.778125\n",
      "\n",
      "\n",
      " At random state 61 , the testing accuracy is :- 1.0\n",
      " At random state 61 , the testing accuracy is :- 0.75625\n",
      "\n",
      "\n",
      " At random state 62 , the testing accuracy is :- 1.0\n",
      " At random state 62 , the testing accuracy is :- 0.78125\n",
      "\n",
      "\n",
      " At random state 63 , the testing accuracy is :- 1.0\n",
      " At random state 63 , the testing accuracy is :- 0.753125\n",
      "\n",
      "\n",
      " At random state 64 , the testing accuracy is :- 1.0\n",
      " At random state 64 , the testing accuracy is :- 0.7875\n",
      "\n",
      "\n",
      " At random state 65 , the testing accuracy is :- 1.0\n",
      " At random state 65 , the testing accuracy is :- 0.740625\n",
      "\n",
      "\n",
      " At random state 66 , the testing accuracy is :- 1.0\n",
      " At random state 66 , the testing accuracy is :- 0.734375\n",
      "\n",
      "\n",
      " At random state 67 , the testing accuracy is :- 1.0\n",
      " At random state 67 , the testing accuracy is :- 0.803125\n",
      "\n",
      "\n",
      " At random state 68 , the testing accuracy is :- 1.0\n",
      " At random state 68 , the testing accuracy is :- 0.709375\n",
      "\n",
      "\n",
      " At random state 69 , the testing accuracy is :- 1.0\n",
      " At random state 69 , the testing accuracy is :- 0.725\n",
      "\n",
      "\n",
      " At random state 70 , the testing accuracy is :- 1.0\n",
      " At random state 70 , the testing accuracy is :- 0.703125\n",
      "\n",
      "\n",
      " At random state 71 , the testing accuracy is :- 1.0\n",
      " At random state 71 , the testing accuracy is :- 0.759375\n",
      "\n",
      "\n",
      " At random state 72 , the testing accuracy is :- 1.0\n",
      " At random state 72 , the testing accuracy is :- 0.753125\n",
      "\n",
      "\n",
      " At random state 73 , the testing accuracy is :- 1.0\n",
      " At random state 73 , the testing accuracy is :- 0.71875\n",
      "\n",
      "\n",
      " At random state 74 , the testing accuracy is :- 1.0\n",
      " At random state 74 , the testing accuracy is :- 0.75\n",
      "\n",
      "\n",
      " At random state 75 , the testing accuracy is :- 1.0\n",
      " At random state 75 , the testing accuracy is :- 0.740625\n",
      "\n",
      "\n",
      " At random state 76 , the testing accuracy is :- 1.0\n",
      " At random state 76 , the testing accuracy is :- 0.7625\n",
      "\n",
      "\n",
      " At random state 77 , the testing accuracy is :- 1.0\n",
      " At random state 77 , the testing accuracy is :- 0.746875\n",
      "\n",
      "\n",
      " At random state 78 , the testing accuracy is :- 1.0\n",
      " At random state 78 , the testing accuracy is :- 0.76875\n",
      "\n",
      "\n",
      " At random state 79 , the testing accuracy is :- 1.0\n",
      " At random state 79 , the testing accuracy is :- 0.740625\n",
      "\n",
      "\n",
      " At random state 80 , the testing accuracy is :- 1.0\n",
      " At random state 80 , the testing accuracy is :- 0.7625\n",
      "\n",
      "\n",
      " At random state 81 , the testing accuracy is :- 1.0\n",
      " At random state 81 , the testing accuracy is :- 0.721875\n",
      "\n",
      "\n",
      " At random state 82 , the testing accuracy is :- 1.0\n",
      " At random state 82 , the testing accuracy is :- 0.784375\n",
      "\n",
      "\n",
      " At random state 83 , the testing accuracy is :- 1.0\n",
      " At random state 83 , the testing accuracy is :- 0.78125\n",
      "\n",
      "\n",
      " At random state 84 , the testing accuracy is :- 1.0\n",
      " At random state 84 , the testing accuracy is :- 0.753125\n",
      "\n",
      "\n",
      " At random state 85 , the testing accuracy is :- 1.0\n",
      " At random state 85 , the testing accuracy is :- 0.7375\n",
      "\n",
      "\n",
      " At random state 86 , the testing accuracy is :- 1.0\n",
      " At random state 86 , the testing accuracy is :- 0.7875\n",
      "\n",
      "\n",
      " At random state 87 , the testing accuracy is :- 1.0\n",
      " At random state 87 , the testing accuracy is :- 0.740625\n",
      "\n",
      "\n",
      " At random state 88 , the testing accuracy is :- 1.0\n",
      " At random state 88 , the testing accuracy is :- 0.7375\n",
      "\n",
      "\n",
      " At random state 89 , the testing accuracy is :- 1.0\n",
      " At random state 89 , the testing accuracy is :- 0.759375\n",
      "\n",
      "\n",
      " At random state 90 , the testing accuracy is :- 1.0\n",
      " At random state 90 , the testing accuracy is :- 0.771875\n",
      "\n",
      "\n",
      " At random state 91 , the testing accuracy is :- 1.0\n",
      " At random state 91 , the testing accuracy is :- 0.7625\n",
      "\n",
      "\n",
      " At random state 92 , the testing accuracy is :- 1.0\n",
      " At random state 92 , the testing accuracy is :- 0.725\n",
      "\n",
      "\n",
      " At random state 93 , the testing accuracy is :- 1.0\n",
      " At random state 93 , the testing accuracy is :- 0.725\n",
      "\n",
      "\n",
      " At random state 94 , the testing accuracy is :- 1.0\n",
      " At random state 94 , the testing accuracy is :- 0.759375\n",
      "\n",
      "\n",
      " At random state 95 , the testing accuracy is :- 1.0\n",
      " At random state 95 , the testing accuracy is :- 0.759375\n",
      "\n",
      "\n",
      " At random state 96 , the testing accuracy is :- 1.0\n",
      " At random state 96 , the testing accuracy is :- 0.7375\n",
      "\n",
      "\n",
      " At random state 97 , the testing accuracy is :- 1.0\n",
      " At random state 97 , the testing accuracy is :- 0.796875\n",
      "\n",
      "\n",
      " At random state 98 , the testing accuracy is :- 1.0\n",
      " At random state 98 , the testing accuracy is :- 0.71875\n",
      "\n",
      "\n",
      " At random state 99 , the testing accuracy is :- 1.0\n",
      " At random state 99 , the testing accuracy is :- 0.784375\n",
      "\n",
      "\n"
     ]
    }
   ],
   "source": [
    "for i in range(0,100):\n",
    "    x_train,x_test,y_train,y_test=train_test_split(x,y,test_size=0.2,random_state=i)\n",
    "    dt.fit(x_train,y_train)\n",
    "    x_pred=dt.predict(x_train)\n",
    "    y_pred=dt.predict(x_test)\n",
    "    print(f\" At random state {i} , the testing accuracy is :- {accuracy_score(y_train,x_pred)}\")\n",
    "    print(f\" At random state {i} , the testing accuracy is :- {accuracy_score(y_test,y_pred)}\")\n",
    "    print(\"\\n\")"
   ]
  },
  {
   "cell_type": "code",
   "execution_count": 769,
   "id": "d46cf825",
   "metadata": {},
   "outputs": [],
   "source": [
    "x_train,x_test,y_train,y_test=train_test_split(x,y,test_size=0.2,random_state=34)"
   ]
  },
  {
   "cell_type": "code",
   "execution_count": 770,
   "id": "80cf2553",
   "metadata": {},
   "outputs": [
    {
     "data": {
      "text/html": [
       "<style>#sk-container-id-116 {color: black;background-color: white;}#sk-container-id-116 pre{padding: 0;}#sk-container-id-116 div.sk-toggleable {background-color: white;}#sk-container-id-116 label.sk-toggleable__label {cursor: pointer;display: block;width: 100%;margin-bottom: 0;padding: 0.3em;box-sizing: border-box;text-align: center;}#sk-container-id-116 label.sk-toggleable__label-arrow:before {content: \"▸\";float: left;margin-right: 0.25em;color: #696969;}#sk-container-id-116 label.sk-toggleable__label-arrow:hover:before {color: black;}#sk-container-id-116 div.sk-estimator:hover label.sk-toggleable__label-arrow:before {color: black;}#sk-container-id-116 div.sk-toggleable__content {max-height: 0;max-width: 0;overflow: hidden;text-align: left;background-color: #f0f8ff;}#sk-container-id-116 div.sk-toggleable__content pre {margin: 0.2em;color: black;border-radius: 0.25em;background-color: #f0f8ff;}#sk-container-id-116 input.sk-toggleable__control:checked~div.sk-toggleable__content {max-height: 200px;max-width: 100%;overflow: auto;}#sk-container-id-116 input.sk-toggleable__control:checked~label.sk-toggleable__label-arrow:before {content: \"▾\";}#sk-container-id-116 div.sk-estimator input.sk-toggleable__control:checked~label.sk-toggleable__label {background-color: #d4ebff;}#sk-container-id-116 div.sk-label input.sk-toggleable__control:checked~label.sk-toggleable__label {background-color: #d4ebff;}#sk-container-id-116 input.sk-hidden--visually {border: 0;clip: rect(1px 1px 1px 1px);clip: rect(1px, 1px, 1px, 1px);height: 1px;margin: -1px;overflow: hidden;padding: 0;position: absolute;width: 1px;}#sk-container-id-116 div.sk-estimator {font-family: monospace;background-color: #f0f8ff;border: 1px dotted black;border-radius: 0.25em;box-sizing: border-box;margin-bottom: 0.5em;}#sk-container-id-116 div.sk-estimator:hover {background-color: #d4ebff;}#sk-container-id-116 div.sk-parallel-item::after {content: \"\";width: 100%;border-bottom: 1px solid gray;flex-grow: 1;}#sk-container-id-116 div.sk-label:hover label.sk-toggleable__label {background-color: #d4ebff;}#sk-container-id-116 div.sk-serial::before {content: \"\";position: absolute;border-left: 1px solid gray;box-sizing: border-box;top: 0;bottom: 0;left: 50%;z-index: 0;}#sk-container-id-116 div.sk-serial {display: flex;flex-direction: column;align-items: center;background-color: white;padding-right: 0.2em;padding-left: 0.2em;position: relative;}#sk-container-id-116 div.sk-item {position: relative;z-index: 1;}#sk-container-id-116 div.sk-parallel {display: flex;align-items: stretch;justify-content: center;background-color: white;position: relative;}#sk-container-id-116 div.sk-item::before, #sk-container-id-116 div.sk-parallel-item::before {content: \"\";position: absolute;border-left: 1px solid gray;box-sizing: border-box;top: 0;bottom: 0;left: 50%;z-index: -1;}#sk-container-id-116 div.sk-parallel-item {display: flex;flex-direction: column;z-index: 1;position: relative;background-color: white;}#sk-container-id-116 div.sk-parallel-item:first-child::after {align-self: flex-end;width: 50%;}#sk-container-id-116 div.sk-parallel-item:last-child::after {align-self: flex-start;width: 50%;}#sk-container-id-116 div.sk-parallel-item:only-child::after {width: 0;}#sk-container-id-116 div.sk-dashed-wrapped {border: 1px dashed gray;margin: 0 0.4em 0.5em 0.4em;box-sizing: border-box;padding-bottom: 0.4em;background-color: white;}#sk-container-id-116 div.sk-label label {font-family: monospace;font-weight: bold;display: inline-block;line-height: 1.2em;}#sk-container-id-116 div.sk-label-container {text-align: center;}#sk-container-id-116 div.sk-container {/* jupyter's `normalize.less` sets `[hidden] { display: none; }` but bootstrap.min.css set `[hidden] { display: none !important; }` so we also need the `!important` here to be able to override the default hidden behavior on the sphinx rendered scikit-learn.org. See: https://github.com/scikit-learn/scikit-learn/issues/21755 */display: inline-block !important;position: relative;}#sk-container-id-116 div.sk-text-repr-fallback {display: none;}</style><div id=\"sk-container-id-116\" class=\"sk-top-container\"><div class=\"sk-text-repr-fallback\"><pre>DecisionTreeClassifier()</pre><b>In a Jupyter environment, please rerun this cell to show the HTML representation or trust the notebook. <br />On GitHub, the HTML representation is unable to render, please try loading this page with nbviewer.org.</b></div><div class=\"sk-container\" hidden><div class=\"sk-item\"><div class=\"sk-estimator sk-toggleable\"><input class=\"sk-toggleable__control sk-hidden--visually\" id=\"sk-estimator-id-132\" type=\"checkbox\" checked><label for=\"sk-estimator-id-132\" class=\"sk-toggleable__label sk-toggleable__label-arrow\">DecisionTreeClassifier</label><div class=\"sk-toggleable__content\"><pre>DecisionTreeClassifier()</pre></div></div></div></div></div>"
      ],
      "text/plain": [
       "DecisionTreeClassifier()"
      ]
     },
     "execution_count": 770,
     "metadata": {},
     "output_type": "execute_result"
    }
   ],
   "source": [
    "dt.fit(x_train,y_train)"
   ]
  },
  {
   "cell_type": "code",
   "execution_count": 771,
   "id": "3e49ccb2",
   "metadata": {},
   "outputs": [
    {
     "data": {
      "text/plain": [
       "1.0"
      ]
     },
     "execution_count": 771,
     "metadata": {},
     "output_type": "execute_result"
    }
   ],
   "source": [
    "dt.score(x_train,y_train)"
   ]
  },
  {
   "cell_type": "code",
   "execution_count": 772,
   "id": "10218b23",
   "metadata": {},
   "outputs": [
    {
     "data": {
      "text/plain": [
       "0.809375"
      ]
     },
     "execution_count": 772,
     "metadata": {},
     "output_type": "execute_result"
    }
   ],
   "source": [
    "dt.score(x_test,y_test)"
   ]
  },
  {
   "cell_type": "markdown",
   "id": "792a0891",
   "metadata": {},
   "source": [
    "# Do Hyperparameter Tuning"
   ]
  },
  {
   "cell_type": "code",
   "execution_count": 773,
   "id": "d3f7be01",
   "metadata": {},
   "outputs": [],
   "source": [
    "from sklearn.model_selection import GridSearchCV"
   ]
  },
  {
   "cell_type": "code",
   "execution_count": 774,
   "id": "57bf660a",
   "metadata": {},
   "outputs": [],
   "source": [
    "#We are tuning four important hyperparameter right now, we are passing the different values for both paramters.\n",
    "\n",
    "\n",
    "grid_param={\n",
    "    'criterion':['ginni','entropy'],\n",
    "    'max_depth': range(10,15),# The Maximum depth of the tree\n",
    "    'min_samples_leaf':range(2,6),#The maximum number of samples required to be at a leaf node\n",
    "    'min_samples_split':range(3,8),#The minimum numbers of sample required to split an internal node\n",
    "    'max_leaf_nodes':range(5,10)}#Best nodes are defined as them unlimited number of leaf nodes\n",
    "\n",
    "#criterian"
   ]
  },
  {
   "cell_type": "code",
   "execution_count": 775,
   "id": "ead04556",
   "metadata": {},
   "outputs": [],
   "source": [
    "grid_search=GridSearchCV(estimator=dt,\n",
    "                         param_grid=grid_param,\n",
    "                         cv=5,\n",
    "                        n_jobs=-1)#use all the cores in your system for performance improvement .\n"
   ]
  },
  {
   "cell_type": "code",
   "execution_count": 776,
   "id": "52fb6c27",
   "metadata": {},
   "outputs": [
    {
     "data": {
      "text/html": [
       "<style>#sk-container-id-117 {color: black;background-color: white;}#sk-container-id-117 pre{padding: 0;}#sk-container-id-117 div.sk-toggleable {background-color: white;}#sk-container-id-117 label.sk-toggleable__label {cursor: pointer;display: block;width: 100%;margin-bottom: 0;padding: 0.3em;box-sizing: border-box;text-align: center;}#sk-container-id-117 label.sk-toggleable__label-arrow:before {content: \"▸\";float: left;margin-right: 0.25em;color: #696969;}#sk-container-id-117 label.sk-toggleable__label-arrow:hover:before {color: black;}#sk-container-id-117 div.sk-estimator:hover label.sk-toggleable__label-arrow:before {color: black;}#sk-container-id-117 div.sk-toggleable__content {max-height: 0;max-width: 0;overflow: hidden;text-align: left;background-color: #f0f8ff;}#sk-container-id-117 div.sk-toggleable__content pre {margin: 0.2em;color: black;border-radius: 0.25em;background-color: #f0f8ff;}#sk-container-id-117 input.sk-toggleable__control:checked~div.sk-toggleable__content {max-height: 200px;max-width: 100%;overflow: auto;}#sk-container-id-117 input.sk-toggleable__control:checked~label.sk-toggleable__label-arrow:before {content: \"▾\";}#sk-container-id-117 div.sk-estimator input.sk-toggleable__control:checked~label.sk-toggleable__label {background-color: #d4ebff;}#sk-container-id-117 div.sk-label input.sk-toggleable__control:checked~label.sk-toggleable__label {background-color: #d4ebff;}#sk-container-id-117 input.sk-hidden--visually {border: 0;clip: rect(1px 1px 1px 1px);clip: rect(1px, 1px, 1px, 1px);height: 1px;margin: -1px;overflow: hidden;padding: 0;position: absolute;width: 1px;}#sk-container-id-117 div.sk-estimator {font-family: monospace;background-color: #f0f8ff;border: 1px dotted black;border-radius: 0.25em;box-sizing: border-box;margin-bottom: 0.5em;}#sk-container-id-117 div.sk-estimator:hover {background-color: #d4ebff;}#sk-container-id-117 div.sk-parallel-item::after {content: \"\";width: 100%;border-bottom: 1px solid gray;flex-grow: 1;}#sk-container-id-117 div.sk-label:hover label.sk-toggleable__label {background-color: #d4ebff;}#sk-container-id-117 div.sk-serial::before {content: \"\";position: absolute;border-left: 1px solid gray;box-sizing: border-box;top: 0;bottom: 0;left: 50%;z-index: 0;}#sk-container-id-117 div.sk-serial {display: flex;flex-direction: column;align-items: center;background-color: white;padding-right: 0.2em;padding-left: 0.2em;position: relative;}#sk-container-id-117 div.sk-item {position: relative;z-index: 1;}#sk-container-id-117 div.sk-parallel {display: flex;align-items: stretch;justify-content: center;background-color: white;position: relative;}#sk-container-id-117 div.sk-item::before, #sk-container-id-117 div.sk-parallel-item::before {content: \"\";position: absolute;border-left: 1px solid gray;box-sizing: border-box;top: 0;bottom: 0;left: 50%;z-index: -1;}#sk-container-id-117 div.sk-parallel-item {display: flex;flex-direction: column;z-index: 1;position: relative;background-color: white;}#sk-container-id-117 div.sk-parallel-item:first-child::after {align-self: flex-end;width: 50%;}#sk-container-id-117 div.sk-parallel-item:last-child::after {align-self: flex-start;width: 50%;}#sk-container-id-117 div.sk-parallel-item:only-child::after {width: 0;}#sk-container-id-117 div.sk-dashed-wrapped {border: 1px dashed gray;margin: 0 0.4em 0.5em 0.4em;box-sizing: border-box;padding-bottom: 0.4em;background-color: white;}#sk-container-id-117 div.sk-label label {font-family: monospace;font-weight: bold;display: inline-block;line-height: 1.2em;}#sk-container-id-117 div.sk-label-container {text-align: center;}#sk-container-id-117 div.sk-container {/* jupyter's `normalize.less` sets `[hidden] { display: none; }` but bootstrap.min.css set `[hidden] { display: none !important; }` so we also need the `!important` here to be able to override the default hidden behavior on the sphinx rendered scikit-learn.org. See: https://github.com/scikit-learn/scikit-learn/issues/21755 */display: inline-block !important;position: relative;}#sk-container-id-117 div.sk-text-repr-fallback {display: none;}</style><div id=\"sk-container-id-117\" class=\"sk-top-container\"><div class=\"sk-text-repr-fallback\"><pre>GridSearchCV(cv=5, estimator=DecisionTreeClassifier(), n_jobs=-1,\n",
       "             param_grid={&#x27;criterion&#x27;: [&#x27;ginni&#x27;, &#x27;entropy&#x27;],\n",
       "                         &#x27;max_depth&#x27;: range(10, 15),\n",
       "                         &#x27;max_leaf_nodes&#x27;: range(5, 10),\n",
       "                         &#x27;min_samples_leaf&#x27;: range(2, 6),\n",
       "                         &#x27;min_samples_split&#x27;: range(3, 8)})</pre><b>In a Jupyter environment, please rerun this cell to show the HTML representation or trust the notebook. <br />On GitHub, the HTML representation is unable to render, please try loading this page with nbviewer.org.</b></div><div class=\"sk-container\" hidden><div class=\"sk-item sk-dashed-wrapped\"><div class=\"sk-label-container\"><div class=\"sk-label sk-toggleable\"><input class=\"sk-toggleable__control sk-hidden--visually\" id=\"sk-estimator-id-133\" type=\"checkbox\" ><label for=\"sk-estimator-id-133\" class=\"sk-toggleable__label sk-toggleable__label-arrow\">GridSearchCV</label><div class=\"sk-toggleable__content\"><pre>GridSearchCV(cv=5, estimator=DecisionTreeClassifier(), n_jobs=-1,\n",
       "             param_grid={&#x27;criterion&#x27;: [&#x27;ginni&#x27;, &#x27;entropy&#x27;],\n",
       "                         &#x27;max_depth&#x27;: range(10, 15),\n",
       "                         &#x27;max_leaf_nodes&#x27;: range(5, 10),\n",
       "                         &#x27;min_samples_leaf&#x27;: range(2, 6),\n",
       "                         &#x27;min_samples_split&#x27;: range(3, 8)})</pre></div></div></div><div class=\"sk-parallel\"><div class=\"sk-parallel-item\"><div class=\"sk-item\"><div class=\"sk-label-container\"><div class=\"sk-label sk-toggleable\"><input class=\"sk-toggleable__control sk-hidden--visually\" id=\"sk-estimator-id-134\" type=\"checkbox\" ><label for=\"sk-estimator-id-134\" class=\"sk-toggleable__label sk-toggleable__label-arrow\">estimator: DecisionTreeClassifier</label><div class=\"sk-toggleable__content\"><pre>DecisionTreeClassifier()</pre></div></div></div><div class=\"sk-serial\"><div class=\"sk-item\"><div class=\"sk-estimator sk-toggleable\"><input class=\"sk-toggleable__control sk-hidden--visually\" id=\"sk-estimator-id-135\" type=\"checkbox\" ><label for=\"sk-estimator-id-135\" class=\"sk-toggleable__label sk-toggleable__label-arrow\">DecisionTreeClassifier</label><div class=\"sk-toggleable__content\"><pre>DecisionTreeClassifier()</pre></div></div></div></div></div></div></div></div></div></div>"
      ],
      "text/plain": [
       "GridSearchCV(cv=5, estimator=DecisionTreeClassifier(), n_jobs=-1,\n",
       "             param_grid={'criterion': ['ginni', 'entropy'],\n",
       "                         'max_depth': range(10, 15),\n",
       "                         'max_leaf_nodes': range(5, 10),\n",
       "                         'min_samples_leaf': range(2, 6),\n",
       "                         'min_samples_split': range(3, 8)})"
      ]
     },
     "execution_count": 776,
     "metadata": {},
     "output_type": "execute_result"
    }
   ],
   "source": [
    "grid_search.fit(x_train,y_train)"
   ]
  },
  {
   "cell_type": "code",
   "execution_count": 777,
   "id": "f3e17a61",
   "metadata": {},
   "outputs": [],
   "source": [
    "#Initiate DecisionTreeClassifier with new parameter and train.\n",
    "\n",
    "cnn=DecisionTreeClassifier(criterion='gini',max_depth=12,max_leaf_nodes=11,min_samples_split= 12)"
   ]
  },
  {
   "cell_type": "code",
   "execution_count": 778,
   "id": "924e1ac0",
   "metadata": {},
   "outputs": [
    {
     "name": "stdout",
     "output_type": "stream",
     "text": [
      "{'criterion': 'entropy', 'max_depth': 10, 'max_leaf_nodes': 9, 'min_samples_leaf': 2, 'min_samples_split': 3}\n"
     ]
    }
   ],
   "source": [
    "best_parameter=grid_search.best_params_\n",
    "print(best_parameter)"
   ]
  },
  {
   "cell_type": "code",
   "execution_count": 779,
   "id": "0ac6c501",
   "metadata": {},
   "outputs": [
    {
     "data": {
      "text/html": [
       "<style>#sk-container-id-118 {color: black;background-color: white;}#sk-container-id-118 pre{padding: 0;}#sk-container-id-118 div.sk-toggleable {background-color: white;}#sk-container-id-118 label.sk-toggleable__label {cursor: pointer;display: block;width: 100%;margin-bottom: 0;padding: 0.3em;box-sizing: border-box;text-align: center;}#sk-container-id-118 label.sk-toggleable__label-arrow:before {content: \"▸\";float: left;margin-right: 0.25em;color: #696969;}#sk-container-id-118 label.sk-toggleable__label-arrow:hover:before {color: black;}#sk-container-id-118 div.sk-estimator:hover label.sk-toggleable__label-arrow:before {color: black;}#sk-container-id-118 div.sk-toggleable__content {max-height: 0;max-width: 0;overflow: hidden;text-align: left;background-color: #f0f8ff;}#sk-container-id-118 div.sk-toggleable__content pre {margin: 0.2em;color: black;border-radius: 0.25em;background-color: #f0f8ff;}#sk-container-id-118 input.sk-toggleable__control:checked~div.sk-toggleable__content {max-height: 200px;max-width: 100%;overflow: auto;}#sk-container-id-118 input.sk-toggleable__control:checked~label.sk-toggleable__label-arrow:before {content: \"▾\";}#sk-container-id-118 div.sk-estimator input.sk-toggleable__control:checked~label.sk-toggleable__label {background-color: #d4ebff;}#sk-container-id-118 div.sk-label input.sk-toggleable__control:checked~label.sk-toggleable__label {background-color: #d4ebff;}#sk-container-id-118 input.sk-hidden--visually {border: 0;clip: rect(1px 1px 1px 1px);clip: rect(1px, 1px, 1px, 1px);height: 1px;margin: -1px;overflow: hidden;padding: 0;position: absolute;width: 1px;}#sk-container-id-118 div.sk-estimator {font-family: monospace;background-color: #f0f8ff;border: 1px dotted black;border-radius: 0.25em;box-sizing: border-box;margin-bottom: 0.5em;}#sk-container-id-118 div.sk-estimator:hover {background-color: #d4ebff;}#sk-container-id-118 div.sk-parallel-item::after {content: \"\";width: 100%;border-bottom: 1px solid gray;flex-grow: 1;}#sk-container-id-118 div.sk-label:hover label.sk-toggleable__label {background-color: #d4ebff;}#sk-container-id-118 div.sk-serial::before {content: \"\";position: absolute;border-left: 1px solid gray;box-sizing: border-box;top: 0;bottom: 0;left: 50%;z-index: 0;}#sk-container-id-118 div.sk-serial {display: flex;flex-direction: column;align-items: center;background-color: white;padding-right: 0.2em;padding-left: 0.2em;position: relative;}#sk-container-id-118 div.sk-item {position: relative;z-index: 1;}#sk-container-id-118 div.sk-parallel {display: flex;align-items: stretch;justify-content: center;background-color: white;position: relative;}#sk-container-id-118 div.sk-item::before, #sk-container-id-118 div.sk-parallel-item::before {content: \"\";position: absolute;border-left: 1px solid gray;box-sizing: border-box;top: 0;bottom: 0;left: 50%;z-index: -1;}#sk-container-id-118 div.sk-parallel-item {display: flex;flex-direction: column;z-index: 1;position: relative;background-color: white;}#sk-container-id-118 div.sk-parallel-item:first-child::after {align-self: flex-end;width: 50%;}#sk-container-id-118 div.sk-parallel-item:last-child::after {align-self: flex-start;width: 50%;}#sk-container-id-118 div.sk-parallel-item:only-child::after {width: 0;}#sk-container-id-118 div.sk-dashed-wrapped {border: 1px dashed gray;margin: 0 0.4em 0.5em 0.4em;box-sizing: border-box;padding-bottom: 0.4em;background-color: white;}#sk-container-id-118 div.sk-label label {font-family: monospace;font-weight: bold;display: inline-block;line-height: 1.2em;}#sk-container-id-118 div.sk-label-container {text-align: center;}#sk-container-id-118 div.sk-container {/* jupyter's `normalize.less` sets `[hidden] { display: none; }` but bootstrap.min.css set `[hidden] { display: none !important; }` so we also need the `!important` here to be able to override the default hidden behavior on the sphinx rendered scikit-learn.org. See: https://github.com/scikit-learn/scikit-learn/issues/21755 */display: inline-block !important;position: relative;}#sk-container-id-118 div.sk-text-repr-fallback {display: none;}</style><div id=\"sk-container-id-118\" class=\"sk-top-container\"><div class=\"sk-text-repr-fallback\"><pre>DecisionTreeClassifier(max_depth=12, max_leaf_nodes=11, min_samples_split=12)</pre><b>In a Jupyter environment, please rerun this cell to show the HTML representation or trust the notebook. <br />On GitHub, the HTML representation is unable to render, please try loading this page with nbviewer.org.</b></div><div class=\"sk-container\" hidden><div class=\"sk-item\"><div class=\"sk-estimator sk-toggleable\"><input class=\"sk-toggleable__control sk-hidden--visually\" id=\"sk-estimator-id-136\" type=\"checkbox\" checked><label for=\"sk-estimator-id-136\" class=\"sk-toggleable__label sk-toggleable__label-arrow\">DecisionTreeClassifier</label><div class=\"sk-toggleable__content\"><pre>DecisionTreeClassifier(max_depth=12, max_leaf_nodes=11, min_samples_split=12)</pre></div></div></div></div></div>"
      ],
      "text/plain": [
       "DecisionTreeClassifier(max_depth=12, max_leaf_nodes=11, min_samples_split=12)"
      ]
     },
     "execution_count": 779,
     "metadata": {},
     "output_type": "execute_result"
    }
   ],
   "source": [
    "#Train the model\n",
    "cnn.fit(x_train,y_train)"
   ]
  },
  {
   "cell_type": "code",
   "execution_count": 780,
   "id": "88af29d1",
   "metadata": {},
   "outputs": [
    {
     "data": {
      "text/plain": [
       "0.7677873338545739"
      ]
     },
     "execution_count": 780,
     "metadata": {},
     "output_type": "execute_result"
    }
   ],
   "source": [
    "cnn.score(x_train,y_train)"
   ]
  },
  {
   "cell_type": "code",
   "execution_count": 781,
   "id": "89ce0894",
   "metadata": {},
   "outputs": [
    {
     "data": {
      "text/plain": [
       "0.703125"
      ]
     },
     "execution_count": 781,
     "metadata": {},
     "output_type": "execute_result"
    }
   ],
   "source": [
    "cnn.score(x_test,y_test)"
   ]
  },
  {
   "cell_type": "markdown",
   "id": "42ec3e1f",
   "metadata": {},
   "source": [
    "# Lets check with Random Forest\n"
   ]
  },
  {
   "cell_type": "code",
   "execution_count": 782,
   "id": "9de1d1bc",
   "metadata": {},
   "outputs": [],
   "source": [
    "from sklearn.ensemble import RandomForestClassifier\n",
    "rf=RandomForestClassifier()"
   ]
  },
  {
   "cell_type": "code",
   "execution_count": 783,
   "id": "32d0d5dd",
   "metadata": {},
   "outputs": [
    {
     "name": "stdout",
     "output_type": "stream",
     "text": [
      " At random state 0 , the testing accuracy is :- 1.0\n",
      " At random state 0 , the testing accuracy is :- 0.828125\n",
      "\n",
      "\n",
      " At random state 1 , the testing accuracy is :- 1.0\n",
      " At random state 1 , the testing accuracy is :- 0.83125\n",
      "\n",
      "\n",
      " At random state 2 , the testing accuracy is :- 1.0\n",
      " At random state 2 , the testing accuracy is :- 0.765625\n",
      "\n",
      "\n",
      " At random state 3 , the testing accuracy is :- 1.0\n",
      " At random state 3 , the testing accuracy is :- 0.834375\n",
      "\n",
      "\n",
      " At random state 4 , the testing accuracy is :- 1.0\n",
      " At random state 4 , the testing accuracy is :- 0.828125\n",
      "\n",
      "\n",
      " At random state 5 , the testing accuracy is :- 1.0\n",
      " At random state 5 , the testing accuracy is :- 0.825\n",
      "\n",
      "\n",
      " At random state 6 , the testing accuracy is :- 1.0\n",
      " At random state 6 , the testing accuracy is :- 0.8\n",
      "\n",
      "\n",
      " At random state 7 , the testing accuracy is :- 1.0\n",
      " At random state 7 , the testing accuracy is :- 0.8375\n",
      "\n",
      "\n",
      " At random state 8 , the testing accuracy is :- 1.0\n",
      " At random state 8 , the testing accuracy is :- 0.8125\n",
      "\n",
      "\n",
      " At random state 9 , the testing accuracy is :- 1.0\n",
      " At random state 9 , the testing accuracy is :- 0.803125\n",
      "\n",
      "\n",
      " At random state 10 , the testing accuracy is :- 1.0\n",
      " At random state 10 , the testing accuracy is :- 0.809375\n",
      "\n",
      "\n",
      " At random state 11 , the testing accuracy is :- 1.0\n",
      " At random state 11 , the testing accuracy is :- 0.784375\n",
      "\n",
      "\n",
      " At random state 12 , the testing accuracy is :- 1.0\n",
      " At random state 12 , the testing accuracy is :- 0.8125\n",
      "\n",
      "\n",
      " At random state 13 , the testing accuracy is :- 1.0\n",
      " At random state 13 , the testing accuracy is :- 0.80625\n",
      "\n",
      "\n",
      " At random state 14 , the testing accuracy is :- 1.0\n",
      " At random state 14 , the testing accuracy is :- 0.7875\n",
      "\n",
      "\n",
      " At random state 15 , the testing accuracy is :- 1.0\n",
      " At random state 15 , the testing accuracy is :- 0.796875\n",
      "\n",
      "\n",
      " At random state 16 , the testing accuracy is :- 1.0\n",
      " At random state 16 , the testing accuracy is :- 0.790625\n",
      "\n",
      "\n",
      " At random state 17 , the testing accuracy is :- 1.0\n",
      " At random state 17 , the testing accuracy is :- 0.840625\n",
      "\n",
      "\n",
      " At random state 18 , the testing accuracy is :- 1.0\n",
      " At random state 18 , the testing accuracy is :- 0.828125\n",
      "\n",
      "\n",
      " At random state 19 , the testing accuracy is :- 1.0\n",
      " At random state 19 , the testing accuracy is :- 0.828125\n",
      "\n",
      "\n",
      " At random state 20 , the testing accuracy is :- 1.0\n",
      " At random state 20 , the testing accuracy is :- 0.7875\n",
      "\n",
      "\n",
      " At random state 21 , the testing accuracy is :- 1.0\n",
      " At random state 21 , the testing accuracy is :- 0.8125\n",
      "\n",
      "\n",
      " At random state 22 , the testing accuracy is :- 1.0\n",
      " At random state 22 , the testing accuracy is :- 0.79375\n",
      "\n",
      "\n",
      " At random state 23 , the testing accuracy is :- 1.0\n",
      " At random state 23 , the testing accuracy is :- 0.8125\n",
      "\n",
      "\n",
      " At random state 24 , the testing accuracy is :- 1.0\n",
      " At random state 24 , the testing accuracy is :- 0.778125\n",
      "\n",
      "\n",
      " At random state 25 , the testing accuracy is :- 1.0\n",
      " At random state 25 , the testing accuracy is :- 0.825\n",
      "\n",
      "\n",
      " At random state 26 , the testing accuracy is :- 1.0\n",
      " At random state 26 , the testing accuracy is :- 0.825\n",
      "\n",
      "\n",
      " At random state 27 , the testing accuracy is :- 1.0\n",
      " At random state 27 , the testing accuracy is :- 0.809375\n",
      "\n",
      "\n",
      " At random state 28 , the testing accuracy is :- 1.0\n",
      " At random state 28 , the testing accuracy is :- 0.809375\n",
      "\n",
      "\n",
      " At random state 29 , the testing accuracy is :- 1.0\n",
      " At random state 29 , the testing accuracy is :- 0.815625\n",
      "\n",
      "\n",
      " At random state 30 , the testing accuracy is :- 1.0\n",
      " At random state 30 , the testing accuracy is :- 0.815625\n",
      "\n",
      "\n",
      " At random state 31 , the testing accuracy is :- 1.0\n",
      " At random state 31 , the testing accuracy is :- 0.83125\n",
      "\n",
      "\n",
      " At random state 32 , the testing accuracy is :- 1.0\n",
      " At random state 32 , the testing accuracy is :- 0.790625\n",
      "\n",
      "\n",
      " At random state 33 , the testing accuracy is :- 1.0\n",
      " At random state 33 , the testing accuracy is :- 0.778125\n",
      "\n",
      "\n",
      " At random state 34 , the testing accuracy is :- 1.0\n",
      " At random state 34 , the testing accuracy is :- 0.81875\n",
      "\n",
      "\n",
      " At random state 35 , the testing accuracy is :- 1.0\n",
      " At random state 35 , the testing accuracy is :- 0.8125\n",
      "\n",
      "\n",
      " At random state 36 , the testing accuracy is :- 1.0\n",
      " At random state 36 , the testing accuracy is :- 0.790625\n",
      "\n",
      "\n",
      " At random state 37 , the testing accuracy is :- 1.0\n",
      " At random state 37 , the testing accuracy is :- 0.828125\n",
      "\n",
      "\n",
      " At random state 38 , the testing accuracy is :- 1.0\n",
      " At random state 38 , the testing accuracy is :- 0.828125\n",
      "\n",
      "\n",
      " At random state 39 , the testing accuracy is :- 1.0\n",
      " At random state 39 , the testing accuracy is :- 0.80625\n",
      "\n",
      "\n",
      " At random state 40 , the testing accuracy is :- 1.0\n",
      " At random state 40 , the testing accuracy is :- 0.834375\n",
      "\n",
      "\n",
      " At random state 41 , the testing accuracy is :- 1.0\n",
      " At random state 41 , the testing accuracy is :- 0.81875\n",
      "\n",
      "\n",
      " At random state 42 , the testing accuracy is :- 1.0\n",
      " At random state 42 , the testing accuracy is :- 0.80625\n",
      "\n",
      "\n",
      " At random state 43 , the testing accuracy is :- 1.0\n",
      " At random state 43 , the testing accuracy is :- 0.8125\n",
      "\n",
      "\n",
      " At random state 44 , the testing accuracy is :- 0.9992181391712275\n",
      " At random state 44 , the testing accuracy is :- 0.80625\n",
      "\n",
      "\n",
      " At random state 45 , the testing accuracy is :- 1.0\n",
      " At random state 45 , the testing accuracy is :- 0.853125\n",
      "\n",
      "\n",
      " At random state 46 , the testing accuracy is :- 1.0\n",
      " At random state 46 , the testing accuracy is :- 0.81875\n",
      "\n",
      "\n",
      " At random state 47 , the testing accuracy is :- 1.0\n",
      " At random state 47 , the testing accuracy is :- 0.840625\n",
      "\n",
      "\n",
      " At random state 48 , the testing accuracy is :- 1.0\n",
      " At random state 48 , the testing accuracy is :- 0.803125\n",
      "\n",
      "\n",
      " At random state 49 , the testing accuracy is :- 1.0\n",
      " At random state 49 , the testing accuracy is :- 0.8125\n",
      "\n",
      "\n",
      " At random state 50 , the testing accuracy is :- 1.0\n",
      " At random state 50 , the testing accuracy is :- 0.803125\n",
      "\n",
      "\n",
      " At random state 51 , the testing accuracy is :- 1.0\n",
      " At random state 51 , the testing accuracy is :- 0.765625\n",
      "\n",
      "\n",
      " At random state 52 , the testing accuracy is :- 1.0\n",
      " At random state 52 , the testing accuracy is :- 0.78125\n",
      "\n",
      "\n",
      " At random state 53 , the testing accuracy is :- 1.0\n",
      " At random state 53 , the testing accuracy is :- 0.8375\n",
      "\n",
      "\n",
      " At random state 54 , the testing accuracy is :- 1.0\n",
      " At random state 54 , the testing accuracy is :- 0.79375\n",
      "\n",
      "\n",
      " At random state 55 , the testing accuracy is :- 1.0\n",
      " At random state 55 , the testing accuracy is :- 0.796875\n",
      "\n",
      "\n",
      " At random state 56 , the testing accuracy is :- 1.0\n",
      " At random state 56 , the testing accuracy is :- 0.809375\n",
      "\n",
      "\n",
      " At random state 57 , the testing accuracy is :- 1.0\n",
      " At random state 57 , the testing accuracy is :- 0.790625\n",
      "\n",
      "\n",
      " At random state 58 , the testing accuracy is :- 1.0\n",
      " At random state 58 , the testing accuracy is :- 0.796875\n",
      "\n",
      "\n",
      " At random state 59 , the testing accuracy is :- 1.0\n",
      " At random state 59 , the testing accuracy is :- 0.809375\n",
      "\n",
      "\n",
      " At random state 60 , the testing accuracy is :- 1.0\n",
      " At random state 60 , the testing accuracy is :- 0.803125\n",
      "\n",
      "\n",
      " At random state 61 , the testing accuracy is :- 1.0\n",
      " At random state 61 , the testing accuracy is :- 0.834375\n",
      "\n",
      "\n",
      " At random state 62 , the testing accuracy is :- 1.0\n",
      " At random state 62 , the testing accuracy is :- 0.840625\n",
      "\n",
      "\n",
      " At random state 63 , the testing accuracy is :- 1.0\n",
      " At random state 63 , the testing accuracy is :- 0.83125\n",
      "\n",
      "\n",
      " At random state 64 , the testing accuracy is :- 1.0\n",
      " At random state 64 , the testing accuracy is :- 0.815625\n",
      "\n",
      "\n",
      " At random state 65 , the testing accuracy is :- 1.0\n",
      " At random state 65 , the testing accuracy is :- 0.796875\n",
      "\n",
      "\n",
      " At random state 66 , the testing accuracy is :- 1.0\n",
      " At random state 66 , the testing accuracy is :- 0.80625\n",
      "\n",
      "\n",
      " At random state 67 , the testing accuracy is :- 1.0\n",
      " At random state 67 , the testing accuracy is :- 0.83125\n",
      "\n",
      "\n",
      " At random state 68 , the testing accuracy is :- 1.0\n",
      " At random state 68 , the testing accuracy is :- 0.784375\n",
      "\n",
      "\n",
      " At random state 69 , the testing accuracy is :- 1.0\n",
      " At random state 69 , the testing accuracy is :- 0.80625\n",
      "\n",
      "\n",
      " At random state 70 , the testing accuracy is :- 1.0\n",
      " At random state 70 , the testing accuracy is :- 0.76875\n",
      "\n",
      "\n",
      " At random state 71 , the testing accuracy is :- 1.0\n",
      " At random state 71 , the testing accuracy is :- 0.803125\n",
      "\n",
      "\n",
      " At random state 72 , the testing accuracy is :- 1.0\n",
      " At random state 72 , the testing accuracy is :- 0.825\n",
      "\n",
      "\n",
      " At random state 73 , the testing accuracy is :- 1.0\n",
      " At random state 73 , the testing accuracy is :- 0.8\n",
      "\n",
      "\n",
      " At random state 74 , the testing accuracy is :- 1.0\n",
      " At random state 74 , the testing accuracy is :- 0.79375\n",
      "\n",
      "\n",
      " At random state 75 , the testing accuracy is :- 1.0\n",
      " At random state 75 , the testing accuracy is :- 0.734375\n",
      "\n",
      "\n",
      " At random state 76 , the testing accuracy is :- 1.0\n",
      " At random state 76 , the testing accuracy is :- 0.80625\n",
      "\n",
      "\n",
      " At random state 77 , the testing accuracy is :- 1.0\n",
      " At random state 77 , the testing accuracy is :- 0.78125\n",
      "\n",
      "\n",
      " At random state 78 , the testing accuracy is :- 1.0\n",
      " At random state 78 , the testing accuracy is :- 0.825\n",
      "\n",
      "\n",
      " At random state 79 , the testing accuracy is :- 1.0\n",
      " At random state 79 , the testing accuracy is :- 0.79375\n",
      "\n",
      "\n",
      " At random state 80 , the testing accuracy is :- 1.0\n",
      " At random state 80 , the testing accuracy is :- 0.8125\n",
      "\n",
      "\n",
      " At random state 81 , the testing accuracy is :- 1.0\n",
      " At random state 81 , the testing accuracy is :- 0.784375\n",
      "\n",
      "\n",
      " At random state 82 , the testing accuracy is :- 1.0\n",
      " At random state 82 , the testing accuracy is :- 0.8125\n",
      "\n",
      "\n",
      " At random state 83 , the testing accuracy is :- 1.0\n",
      " At random state 83 , the testing accuracy is :- 0.85625\n",
      "\n",
      "\n",
      " At random state 84 , the testing accuracy is :- 1.0\n",
      " At random state 84 , the testing accuracy is :- 0.81875\n",
      "\n",
      "\n",
      " At random state 85 , the testing accuracy is :- 1.0\n",
      " At random state 85 , the testing accuracy is :- 0.784375\n",
      "\n",
      "\n",
      " At random state 86 , the testing accuracy is :- 1.0\n",
      " At random state 86 , the testing accuracy is :- 0.821875\n",
      "\n",
      "\n",
      " At random state 87 , the testing accuracy is :- 1.0\n",
      " At random state 87 , the testing accuracy is :- 0.8\n",
      "\n",
      "\n",
      " At random state 88 , the testing accuracy is :- 1.0\n",
      " At random state 88 , the testing accuracy is :- 0.80625\n",
      "\n",
      "\n",
      " At random state 89 , the testing accuracy is :- 1.0\n",
      " At random state 89 , the testing accuracy is :- 0.853125\n",
      "\n",
      "\n",
      " At random state 90 , the testing accuracy is :- 0.9992181391712275\n",
      " At random state 90 , the testing accuracy is :- 0.809375\n",
      "\n",
      "\n",
      " At random state 91 , the testing accuracy is :- 1.0\n",
      " At random state 91 , the testing accuracy is :- 0.79375\n",
      "\n",
      "\n",
      " At random state 92 , the testing accuracy is :- 1.0\n",
      " At random state 92 , the testing accuracy is :- 0.796875\n",
      "\n",
      "\n",
      " At random state 93 , the testing accuracy is :- 1.0\n",
      " At random state 93 , the testing accuracy is :- 0.85\n",
      "\n",
      "\n",
      " At random state 94 , the testing accuracy is :- 1.0\n",
      " At random state 94 , the testing accuracy is :- 0.80625\n",
      "\n",
      "\n",
      " At random state 95 , the testing accuracy is :- 1.0\n",
      " At random state 95 , the testing accuracy is :- 0.81875\n",
      "\n",
      "\n",
      " At random state 96 , the testing accuracy is :- 1.0\n",
      " At random state 96 , the testing accuracy is :- 0.803125\n",
      "\n",
      "\n",
      " At random state 97 , the testing accuracy is :- 1.0\n",
      " At random state 97 , the testing accuracy is :- 0.821875\n",
      "\n",
      "\n",
      " At random state 98 , the testing accuracy is :- 1.0\n",
      " At random state 98 , the testing accuracy is :- 0.790625\n",
      "\n",
      "\n",
      " At random state 99 , the testing accuracy is :- 1.0\n",
      " At random state 99 , the testing accuracy is :- 0.83125\n",
      "\n",
      "\n"
     ]
    }
   ],
   "source": [
    "for i in range(0,100):\n",
    "    x_train,x_test,y_train,y_test=train_test_split(x,y,test_size=0.2,random_state=i)\n",
    "    rf.fit(x_train,y_train)\n",
    "    x_pred=rf.predict(x_train)\n",
    "    y_pred=rf.predict(x_test)\n",
    "    print(f\" At random state {i} , the testing accuracy is :- {accuracy_score(y_train,x_pred)}\")\n",
    "    print(f\" At random state {i} , the testing accuracy is :- {accuracy_score(y_test,y_pred)}\")\n",
    "    print(\"\\n\")"
   ]
  },
  {
   "cell_type": "code",
   "execution_count": 784,
   "id": "db807e2b",
   "metadata": {},
   "outputs": [],
   "source": [
    "x_train,x_test,y_train,y_test=train_test_split(x,y,test_size=0.2,random_state=45)"
   ]
  },
  {
   "cell_type": "code",
   "execution_count": 785,
   "id": "95667216",
   "metadata": {},
   "outputs": [
    {
     "data": {
      "text/html": [
       "<style>#sk-container-id-119 {color: black;background-color: white;}#sk-container-id-119 pre{padding: 0;}#sk-container-id-119 div.sk-toggleable {background-color: white;}#sk-container-id-119 label.sk-toggleable__label {cursor: pointer;display: block;width: 100%;margin-bottom: 0;padding: 0.3em;box-sizing: border-box;text-align: center;}#sk-container-id-119 label.sk-toggleable__label-arrow:before {content: \"▸\";float: left;margin-right: 0.25em;color: #696969;}#sk-container-id-119 label.sk-toggleable__label-arrow:hover:before {color: black;}#sk-container-id-119 div.sk-estimator:hover label.sk-toggleable__label-arrow:before {color: black;}#sk-container-id-119 div.sk-toggleable__content {max-height: 0;max-width: 0;overflow: hidden;text-align: left;background-color: #f0f8ff;}#sk-container-id-119 div.sk-toggleable__content pre {margin: 0.2em;color: black;border-radius: 0.25em;background-color: #f0f8ff;}#sk-container-id-119 input.sk-toggleable__control:checked~div.sk-toggleable__content {max-height: 200px;max-width: 100%;overflow: auto;}#sk-container-id-119 input.sk-toggleable__control:checked~label.sk-toggleable__label-arrow:before {content: \"▾\";}#sk-container-id-119 div.sk-estimator input.sk-toggleable__control:checked~label.sk-toggleable__label {background-color: #d4ebff;}#sk-container-id-119 div.sk-label input.sk-toggleable__control:checked~label.sk-toggleable__label {background-color: #d4ebff;}#sk-container-id-119 input.sk-hidden--visually {border: 0;clip: rect(1px 1px 1px 1px);clip: rect(1px, 1px, 1px, 1px);height: 1px;margin: -1px;overflow: hidden;padding: 0;position: absolute;width: 1px;}#sk-container-id-119 div.sk-estimator {font-family: monospace;background-color: #f0f8ff;border: 1px dotted black;border-radius: 0.25em;box-sizing: border-box;margin-bottom: 0.5em;}#sk-container-id-119 div.sk-estimator:hover {background-color: #d4ebff;}#sk-container-id-119 div.sk-parallel-item::after {content: \"\";width: 100%;border-bottom: 1px solid gray;flex-grow: 1;}#sk-container-id-119 div.sk-label:hover label.sk-toggleable__label {background-color: #d4ebff;}#sk-container-id-119 div.sk-serial::before {content: \"\";position: absolute;border-left: 1px solid gray;box-sizing: border-box;top: 0;bottom: 0;left: 50%;z-index: 0;}#sk-container-id-119 div.sk-serial {display: flex;flex-direction: column;align-items: center;background-color: white;padding-right: 0.2em;padding-left: 0.2em;position: relative;}#sk-container-id-119 div.sk-item {position: relative;z-index: 1;}#sk-container-id-119 div.sk-parallel {display: flex;align-items: stretch;justify-content: center;background-color: white;position: relative;}#sk-container-id-119 div.sk-item::before, #sk-container-id-119 div.sk-parallel-item::before {content: \"\";position: absolute;border-left: 1px solid gray;box-sizing: border-box;top: 0;bottom: 0;left: 50%;z-index: -1;}#sk-container-id-119 div.sk-parallel-item {display: flex;flex-direction: column;z-index: 1;position: relative;background-color: white;}#sk-container-id-119 div.sk-parallel-item:first-child::after {align-self: flex-end;width: 50%;}#sk-container-id-119 div.sk-parallel-item:last-child::after {align-self: flex-start;width: 50%;}#sk-container-id-119 div.sk-parallel-item:only-child::after {width: 0;}#sk-container-id-119 div.sk-dashed-wrapped {border: 1px dashed gray;margin: 0 0.4em 0.5em 0.4em;box-sizing: border-box;padding-bottom: 0.4em;background-color: white;}#sk-container-id-119 div.sk-label label {font-family: monospace;font-weight: bold;display: inline-block;line-height: 1.2em;}#sk-container-id-119 div.sk-label-container {text-align: center;}#sk-container-id-119 div.sk-container {/* jupyter's `normalize.less` sets `[hidden] { display: none; }` but bootstrap.min.css set `[hidden] { display: none !important; }` so we also need the `!important` here to be able to override the default hidden behavior on the sphinx rendered scikit-learn.org. See: https://github.com/scikit-learn/scikit-learn/issues/21755 */display: inline-block !important;position: relative;}#sk-container-id-119 div.sk-text-repr-fallback {display: none;}</style><div id=\"sk-container-id-119\" class=\"sk-top-container\"><div class=\"sk-text-repr-fallback\"><pre>RandomForestClassifier()</pre><b>In a Jupyter environment, please rerun this cell to show the HTML representation or trust the notebook. <br />On GitHub, the HTML representation is unable to render, please try loading this page with nbviewer.org.</b></div><div class=\"sk-container\" hidden><div class=\"sk-item\"><div class=\"sk-estimator sk-toggleable\"><input class=\"sk-toggleable__control sk-hidden--visually\" id=\"sk-estimator-id-137\" type=\"checkbox\" checked><label for=\"sk-estimator-id-137\" class=\"sk-toggleable__label sk-toggleable__label-arrow\">RandomForestClassifier</label><div class=\"sk-toggleable__content\"><pre>RandomForestClassifier()</pre></div></div></div></div></div>"
      ],
      "text/plain": [
       "RandomForestClassifier()"
      ]
     },
     "execution_count": 785,
     "metadata": {},
     "output_type": "execute_result"
    }
   ],
   "source": [
    "rf.fit(x_train,y_train)"
   ]
  },
  {
   "cell_type": "code",
   "execution_count": 786,
   "id": "43caeedf",
   "metadata": {},
   "outputs": [
    {
     "data": {
      "text/plain": [
       "1.0"
      ]
     },
     "execution_count": 786,
     "metadata": {},
     "output_type": "execute_result"
    }
   ],
   "source": [
    "rf.score(x_train,y_train)"
   ]
  },
  {
   "cell_type": "code",
   "execution_count": 787,
   "id": "06666a9a",
   "metadata": {},
   "outputs": [
    {
     "data": {
      "text/plain": [
       "0.84375"
      ]
     },
     "execution_count": 787,
     "metadata": {},
     "output_type": "execute_result"
    }
   ],
   "source": [
    "rf.score(x_test,y_test)"
   ]
  },
  {
   "cell_type": "markdown",
   "id": "1a469670",
   "metadata": {},
   "source": [
    "#  Do Hyperparameter Tuning"
   ]
  },
  {
   "cell_type": "code",
   "execution_count": 788,
   "id": "b9ce1011",
   "metadata": {},
   "outputs": [],
   "source": [
    "from sklearn.model_selection import GridSearchCV"
   ]
  },
  {
   "cell_type": "code",
   "execution_count": 789,
   "id": "b73b9933",
   "metadata": {},
   "outputs": [],
   "source": [
    "#We are tuning four important hyperparameter right now, we are passing the different values for both paramters.\n",
    "\n",
    "\n",
    "grid_param={\n",
    "    'criterion':['ginni','entropy'],\n",
    "    'max_depth': range(10,15),# The Maximum depth of the tree\n",
    "    'min_samples_leaf':range(2,6),#The maximum number of samples required to be at a leaf node\n",
    "    'min_samples_split':range(3,8),#The minimum numbers of sample required to split an internal node\n",
    "    'max_leaf_nodes':range(5,10)}#Best nodes are defined as them unlimited number of leaf nodes\n",
    "\n",
    "#criterian"
   ]
  },
  {
   "cell_type": "code",
   "execution_count": 790,
   "id": "fa2a000e",
   "metadata": {},
   "outputs": [],
   "source": [
    "grid_search=GridSearchCV(estimator=dt,\n",
    "                         param_grid=grid_param,\n",
    "                         cv=5,\n",
    "                        n_jobs=-1)#use all the cores in your system for performance improvement .\n"
   ]
  },
  {
   "cell_type": "code",
   "execution_count": 791,
   "id": "92fd4df6",
   "metadata": {},
   "outputs": [
    {
     "data": {
      "text/html": [
       "<style>#sk-container-id-120 {color: black;background-color: white;}#sk-container-id-120 pre{padding: 0;}#sk-container-id-120 div.sk-toggleable {background-color: white;}#sk-container-id-120 label.sk-toggleable__label {cursor: pointer;display: block;width: 100%;margin-bottom: 0;padding: 0.3em;box-sizing: border-box;text-align: center;}#sk-container-id-120 label.sk-toggleable__label-arrow:before {content: \"▸\";float: left;margin-right: 0.25em;color: #696969;}#sk-container-id-120 label.sk-toggleable__label-arrow:hover:before {color: black;}#sk-container-id-120 div.sk-estimator:hover label.sk-toggleable__label-arrow:before {color: black;}#sk-container-id-120 div.sk-toggleable__content {max-height: 0;max-width: 0;overflow: hidden;text-align: left;background-color: #f0f8ff;}#sk-container-id-120 div.sk-toggleable__content pre {margin: 0.2em;color: black;border-radius: 0.25em;background-color: #f0f8ff;}#sk-container-id-120 input.sk-toggleable__control:checked~div.sk-toggleable__content {max-height: 200px;max-width: 100%;overflow: auto;}#sk-container-id-120 input.sk-toggleable__control:checked~label.sk-toggleable__label-arrow:before {content: \"▾\";}#sk-container-id-120 div.sk-estimator input.sk-toggleable__control:checked~label.sk-toggleable__label {background-color: #d4ebff;}#sk-container-id-120 div.sk-label input.sk-toggleable__control:checked~label.sk-toggleable__label {background-color: #d4ebff;}#sk-container-id-120 input.sk-hidden--visually {border: 0;clip: rect(1px 1px 1px 1px);clip: rect(1px, 1px, 1px, 1px);height: 1px;margin: -1px;overflow: hidden;padding: 0;position: absolute;width: 1px;}#sk-container-id-120 div.sk-estimator {font-family: monospace;background-color: #f0f8ff;border: 1px dotted black;border-radius: 0.25em;box-sizing: border-box;margin-bottom: 0.5em;}#sk-container-id-120 div.sk-estimator:hover {background-color: #d4ebff;}#sk-container-id-120 div.sk-parallel-item::after {content: \"\";width: 100%;border-bottom: 1px solid gray;flex-grow: 1;}#sk-container-id-120 div.sk-label:hover label.sk-toggleable__label {background-color: #d4ebff;}#sk-container-id-120 div.sk-serial::before {content: \"\";position: absolute;border-left: 1px solid gray;box-sizing: border-box;top: 0;bottom: 0;left: 50%;z-index: 0;}#sk-container-id-120 div.sk-serial {display: flex;flex-direction: column;align-items: center;background-color: white;padding-right: 0.2em;padding-left: 0.2em;position: relative;}#sk-container-id-120 div.sk-item {position: relative;z-index: 1;}#sk-container-id-120 div.sk-parallel {display: flex;align-items: stretch;justify-content: center;background-color: white;position: relative;}#sk-container-id-120 div.sk-item::before, #sk-container-id-120 div.sk-parallel-item::before {content: \"\";position: absolute;border-left: 1px solid gray;box-sizing: border-box;top: 0;bottom: 0;left: 50%;z-index: -1;}#sk-container-id-120 div.sk-parallel-item {display: flex;flex-direction: column;z-index: 1;position: relative;background-color: white;}#sk-container-id-120 div.sk-parallel-item:first-child::after {align-self: flex-end;width: 50%;}#sk-container-id-120 div.sk-parallel-item:last-child::after {align-self: flex-start;width: 50%;}#sk-container-id-120 div.sk-parallel-item:only-child::after {width: 0;}#sk-container-id-120 div.sk-dashed-wrapped {border: 1px dashed gray;margin: 0 0.4em 0.5em 0.4em;box-sizing: border-box;padding-bottom: 0.4em;background-color: white;}#sk-container-id-120 div.sk-label label {font-family: monospace;font-weight: bold;display: inline-block;line-height: 1.2em;}#sk-container-id-120 div.sk-label-container {text-align: center;}#sk-container-id-120 div.sk-container {/* jupyter's `normalize.less` sets `[hidden] { display: none; }` but bootstrap.min.css set `[hidden] { display: none !important; }` so we also need the `!important` here to be able to override the default hidden behavior on the sphinx rendered scikit-learn.org. See: https://github.com/scikit-learn/scikit-learn/issues/21755 */display: inline-block !important;position: relative;}#sk-container-id-120 div.sk-text-repr-fallback {display: none;}</style><div id=\"sk-container-id-120\" class=\"sk-top-container\"><div class=\"sk-text-repr-fallback\"><pre>GridSearchCV(cv=5, estimator=DecisionTreeClassifier(), n_jobs=-1,\n",
       "             param_grid={&#x27;criterion&#x27;: [&#x27;ginni&#x27;, &#x27;entropy&#x27;],\n",
       "                         &#x27;max_depth&#x27;: range(10, 15),\n",
       "                         &#x27;max_leaf_nodes&#x27;: range(5, 10),\n",
       "                         &#x27;min_samples_leaf&#x27;: range(2, 6),\n",
       "                         &#x27;min_samples_split&#x27;: range(3, 8)})</pre><b>In a Jupyter environment, please rerun this cell to show the HTML representation or trust the notebook. <br />On GitHub, the HTML representation is unable to render, please try loading this page with nbviewer.org.</b></div><div class=\"sk-container\" hidden><div class=\"sk-item sk-dashed-wrapped\"><div class=\"sk-label-container\"><div class=\"sk-label sk-toggleable\"><input class=\"sk-toggleable__control sk-hidden--visually\" id=\"sk-estimator-id-138\" type=\"checkbox\" ><label for=\"sk-estimator-id-138\" class=\"sk-toggleable__label sk-toggleable__label-arrow\">GridSearchCV</label><div class=\"sk-toggleable__content\"><pre>GridSearchCV(cv=5, estimator=DecisionTreeClassifier(), n_jobs=-1,\n",
       "             param_grid={&#x27;criterion&#x27;: [&#x27;ginni&#x27;, &#x27;entropy&#x27;],\n",
       "                         &#x27;max_depth&#x27;: range(10, 15),\n",
       "                         &#x27;max_leaf_nodes&#x27;: range(5, 10),\n",
       "                         &#x27;min_samples_leaf&#x27;: range(2, 6),\n",
       "                         &#x27;min_samples_split&#x27;: range(3, 8)})</pre></div></div></div><div class=\"sk-parallel\"><div class=\"sk-parallel-item\"><div class=\"sk-item\"><div class=\"sk-label-container\"><div class=\"sk-label sk-toggleable\"><input class=\"sk-toggleable__control sk-hidden--visually\" id=\"sk-estimator-id-139\" type=\"checkbox\" ><label for=\"sk-estimator-id-139\" class=\"sk-toggleable__label sk-toggleable__label-arrow\">estimator: DecisionTreeClassifier</label><div class=\"sk-toggleable__content\"><pre>DecisionTreeClassifier()</pre></div></div></div><div class=\"sk-serial\"><div class=\"sk-item\"><div class=\"sk-estimator sk-toggleable\"><input class=\"sk-toggleable__control sk-hidden--visually\" id=\"sk-estimator-id-140\" type=\"checkbox\" ><label for=\"sk-estimator-id-140\" class=\"sk-toggleable__label sk-toggleable__label-arrow\">DecisionTreeClassifier</label><div class=\"sk-toggleable__content\"><pre>DecisionTreeClassifier()</pre></div></div></div></div></div></div></div></div></div></div>"
      ],
      "text/plain": [
       "GridSearchCV(cv=5, estimator=DecisionTreeClassifier(), n_jobs=-1,\n",
       "             param_grid={'criterion': ['ginni', 'entropy'],\n",
       "                         'max_depth': range(10, 15),\n",
       "                         'max_leaf_nodes': range(5, 10),\n",
       "                         'min_samples_leaf': range(2, 6),\n",
       "                         'min_samples_split': range(3, 8)})"
      ]
     },
     "execution_count": 791,
     "metadata": {},
     "output_type": "execute_result"
    }
   ],
   "source": [
    "grid_search.fit(x_train,y_train)"
   ]
  },
  {
   "cell_type": "code",
   "execution_count": null,
   "id": "3522a667",
   "metadata": {},
   "outputs": [],
   "source": []
  },
  {
   "cell_type": "code",
   "execution_count": 792,
   "id": "b5e67298",
   "metadata": {},
   "outputs": [
    {
     "name": "stdout",
     "output_type": "stream",
     "text": [
      "{'criterion': 'entropy', 'max_depth': 10, 'max_leaf_nodes': 9, 'min_samples_leaf': 5, 'min_samples_split': 3}\n"
     ]
    }
   ],
   "source": [
    "best_parameter=grid_search.best_params_\n",
    "print(best_parameter)"
   ]
  },
  {
   "cell_type": "code",
   "execution_count": 793,
   "id": "2dce694d",
   "metadata": {},
   "outputs": [],
   "source": [
    "#Initiate DecisionTreeClassifier with new parameter and train.\n",
    "\n",
    "rf=RandomForestClassifier(criterion='gini',max_depth=29,max_leaf_nodes=89,min_samples_split= 22)"
   ]
  },
  {
   "cell_type": "code",
   "execution_count": 866,
   "id": "addb9d10",
   "metadata": {},
   "outputs": [],
   "source": [
    "#Initiate DecisionTreeClassifier with new parameter and train.\n",
    "\n",
    "rf=RandomForestClassifier(criterion='entropy',max_depth=37,max_leaf_nodes=78,min_samples_split=36)"
   ]
  },
  {
   "cell_type": "code",
   "execution_count": 867,
   "id": "dca9c4a9",
   "metadata": {},
   "outputs": [
    {
     "data": {
      "text/html": [
       "<style>#sk-container-id-139 {color: black;background-color: white;}#sk-container-id-139 pre{padding: 0;}#sk-container-id-139 div.sk-toggleable {background-color: white;}#sk-container-id-139 label.sk-toggleable__label {cursor: pointer;display: block;width: 100%;margin-bottom: 0;padding: 0.3em;box-sizing: border-box;text-align: center;}#sk-container-id-139 label.sk-toggleable__label-arrow:before {content: \"▸\";float: left;margin-right: 0.25em;color: #696969;}#sk-container-id-139 label.sk-toggleable__label-arrow:hover:before {color: black;}#sk-container-id-139 div.sk-estimator:hover label.sk-toggleable__label-arrow:before {color: black;}#sk-container-id-139 div.sk-toggleable__content {max-height: 0;max-width: 0;overflow: hidden;text-align: left;background-color: #f0f8ff;}#sk-container-id-139 div.sk-toggleable__content pre {margin: 0.2em;color: black;border-radius: 0.25em;background-color: #f0f8ff;}#sk-container-id-139 input.sk-toggleable__control:checked~div.sk-toggleable__content {max-height: 200px;max-width: 100%;overflow: auto;}#sk-container-id-139 input.sk-toggleable__control:checked~label.sk-toggleable__label-arrow:before {content: \"▾\";}#sk-container-id-139 div.sk-estimator input.sk-toggleable__control:checked~label.sk-toggleable__label {background-color: #d4ebff;}#sk-container-id-139 div.sk-label input.sk-toggleable__control:checked~label.sk-toggleable__label {background-color: #d4ebff;}#sk-container-id-139 input.sk-hidden--visually {border: 0;clip: rect(1px 1px 1px 1px);clip: rect(1px, 1px, 1px, 1px);height: 1px;margin: -1px;overflow: hidden;padding: 0;position: absolute;width: 1px;}#sk-container-id-139 div.sk-estimator {font-family: monospace;background-color: #f0f8ff;border: 1px dotted black;border-radius: 0.25em;box-sizing: border-box;margin-bottom: 0.5em;}#sk-container-id-139 div.sk-estimator:hover {background-color: #d4ebff;}#sk-container-id-139 div.sk-parallel-item::after {content: \"\";width: 100%;border-bottom: 1px solid gray;flex-grow: 1;}#sk-container-id-139 div.sk-label:hover label.sk-toggleable__label {background-color: #d4ebff;}#sk-container-id-139 div.sk-serial::before {content: \"\";position: absolute;border-left: 1px solid gray;box-sizing: border-box;top: 0;bottom: 0;left: 50%;z-index: 0;}#sk-container-id-139 div.sk-serial {display: flex;flex-direction: column;align-items: center;background-color: white;padding-right: 0.2em;padding-left: 0.2em;position: relative;}#sk-container-id-139 div.sk-item {position: relative;z-index: 1;}#sk-container-id-139 div.sk-parallel {display: flex;align-items: stretch;justify-content: center;background-color: white;position: relative;}#sk-container-id-139 div.sk-item::before, #sk-container-id-139 div.sk-parallel-item::before {content: \"\";position: absolute;border-left: 1px solid gray;box-sizing: border-box;top: 0;bottom: 0;left: 50%;z-index: -1;}#sk-container-id-139 div.sk-parallel-item {display: flex;flex-direction: column;z-index: 1;position: relative;background-color: white;}#sk-container-id-139 div.sk-parallel-item:first-child::after {align-self: flex-end;width: 50%;}#sk-container-id-139 div.sk-parallel-item:last-child::after {align-self: flex-start;width: 50%;}#sk-container-id-139 div.sk-parallel-item:only-child::after {width: 0;}#sk-container-id-139 div.sk-dashed-wrapped {border: 1px dashed gray;margin: 0 0.4em 0.5em 0.4em;box-sizing: border-box;padding-bottom: 0.4em;background-color: white;}#sk-container-id-139 div.sk-label label {font-family: monospace;font-weight: bold;display: inline-block;line-height: 1.2em;}#sk-container-id-139 div.sk-label-container {text-align: center;}#sk-container-id-139 div.sk-container {/* jupyter's `normalize.less` sets `[hidden] { display: none; }` but bootstrap.min.css set `[hidden] { display: none !important; }` so we also need the `!important` here to be able to override the default hidden behavior on the sphinx rendered scikit-learn.org. See: https://github.com/scikit-learn/scikit-learn/issues/21755 */display: inline-block !important;position: relative;}#sk-container-id-139 div.sk-text-repr-fallback {display: none;}</style><div id=\"sk-container-id-139\" class=\"sk-top-container\"><div class=\"sk-text-repr-fallback\"><pre>RandomForestClassifier(criterion=&#x27;entropy&#x27;, max_depth=37, max_leaf_nodes=78,\n",
       "                       min_samples_split=36)</pre><b>In a Jupyter environment, please rerun this cell to show the HTML representation or trust the notebook. <br />On GitHub, the HTML representation is unable to render, please try loading this page with nbviewer.org.</b></div><div class=\"sk-container\" hidden><div class=\"sk-item\"><div class=\"sk-estimator sk-toggleable\"><input class=\"sk-toggleable__control sk-hidden--visually\" id=\"sk-estimator-id-159\" type=\"checkbox\" checked><label for=\"sk-estimator-id-159\" class=\"sk-toggleable__label sk-toggleable__label-arrow\">RandomForestClassifier</label><div class=\"sk-toggleable__content\"><pre>RandomForestClassifier(criterion=&#x27;entropy&#x27;, max_depth=37, max_leaf_nodes=78,\n",
       "                       min_samples_split=36)</pre></div></div></div></div></div>"
      ],
      "text/plain": [
       "RandomForestClassifier(criterion='entropy', max_depth=37, max_leaf_nodes=78,\n",
       "                       min_samples_split=36)"
      ]
     },
     "execution_count": 867,
     "metadata": {},
     "output_type": "execute_result"
    }
   ],
   "source": [
    "#Train the model\n",
    "rf.fit(x_train,y_train)"
   ]
  },
  {
   "cell_type": "code",
   "execution_count": 868,
   "id": "641698f5",
   "metadata": {},
   "outputs": [
    {
     "data": {
      "text/plain": [
       "0.854573885848319"
      ]
     },
     "execution_count": 868,
     "metadata": {},
     "output_type": "execute_result"
    }
   ],
   "source": [
    "rf.score(x_train,y_train)"
   ]
  },
  {
   "cell_type": "code",
   "execution_count": 869,
   "id": "7c4935cc",
   "metadata": {},
   "outputs": [
    {
     "data": {
      "text/plain": [
       "0.8125"
      ]
     },
     "execution_count": 869,
     "metadata": {},
     "output_type": "execute_result"
    }
   ],
   "source": [
    "rf.score(x_test,y_test)"
   ]
  },
  {
   "cell_type": "markdown",
   "id": "eaa1e571",
   "metadata": {},
   "source": [
    "# Lets check with SVM"
   ]
  },
  {
   "cell_type": "code",
   "execution_count": 870,
   "id": "decb8b87",
   "metadata": {},
   "outputs": [],
   "source": [
    "from sklearn.svm import SVC\n",
    "s=SVC()"
   ]
  },
  {
   "cell_type": "code",
   "execution_count": 871,
   "id": "d0fa4d88",
   "metadata": {},
   "outputs": [
    {
     "name": "stdout",
     "output_type": "stream",
     "text": [
      " At random state 0 , the testing accuracy is :- 0.7881157154026583\n",
      " At random state 0 , the testing accuracy is :- 0.7375\n",
      "\n",
      "\n",
      " At random state 1 , the testing accuracy is :- 0.8014073494917905\n",
      " At random state 1 , the testing accuracy is :- 0.75\n",
      "\n",
      "\n",
      " At random state 2 , the testing accuracy is :- 0.8053166536356529\n",
      " At random state 2 , the testing accuracy is :- 0.7375\n",
      "\n",
      "\n",
      " At random state 3 , the testing accuracy is :- 0.7904612978889758\n",
      " At random state 3 , the testing accuracy is :- 0.784375\n",
      "\n",
      "\n",
      " At random state 4 , the testing accuracy is :- 0.7928068803752932\n",
      " At random state 4 , the testing accuracy is :- 0.75\n",
      "\n",
      "\n",
      " At random state 5 , the testing accuracy is :- 0.7888975762314308\n",
      " At random state 5 , the testing accuracy is :- 0.79375\n",
      "\n",
      "\n",
      " At random state 6 , the testing accuracy is :- 0.7881157154026583\n",
      " At random state 6 , the testing accuracy is :- 0.7625\n",
      "\n",
      "\n",
      " At random state 7 , the testing accuracy is :- 0.7849882720875684\n",
      " At random state 7 , the testing accuracy is :- 0.76875\n",
      "\n",
      "\n",
      " At random state 8 , the testing accuracy is :- 0.7920250195465207\n",
      " At random state 8 , the testing accuracy is :- 0.778125\n",
      "\n",
      "\n",
      " At random state 9 , the testing accuracy is :- 0.7951524628616107\n",
      " At random state 9 , the testing accuracy is :- 0.725\n",
      "\n",
      "\n",
      " At random state 10 , the testing accuracy is :- 0.7928068803752932\n",
      " At random state 10 , the testing accuracy is :- 0.75625\n",
      "\n",
      "\n",
      " At random state 11 , the testing accuracy is :- 0.7920250195465207\n",
      " At random state 11 , the testing accuracy is :- 0.74375\n",
      "\n",
      "\n",
      " At random state 12 , the testing accuracy is :- 0.7982799061767005\n",
      " At random state 12 , the testing accuracy is :- 0.76875\n",
      "\n",
      "\n",
      " At random state 13 , the testing accuracy is :- 0.7904612978889758\n",
      " At random state 13 , the testing accuracy is :- 0.753125\n",
      "\n",
      "\n",
      " At random state 14 , the testing accuracy is :- 0.799061767005473\n",
      " At random state 14 , the testing accuracy is :- 0.746875\n",
      "\n",
      "\n",
      " At random state 15 , the testing accuracy is :- 0.7935887412040656\n",
      " At random state 15 , the testing accuracy is :- 0.740625\n",
      "\n",
      "\n",
      " At random state 16 , the testing accuracy is :- 0.8053166536356529\n",
      " At random state 16 , the testing accuracy is :- 0.728125\n",
      "\n",
      "\n",
      " At random state 17 , the testing accuracy is :- 0.7873338545738858\n",
      " At random state 17 , the testing accuracy is :- 0.79375\n",
      "\n",
      "\n",
      " At random state 18 , the testing accuracy is :- 0.7943706020328382\n",
      " At random state 18 , the testing accuracy is :- 0.76875\n",
      "\n",
      "\n",
      " At random state 19 , the testing accuracy is :- 0.7904612978889758\n",
      " At random state 19 , the testing accuracy is :- 0.78125\n",
      "\n",
      "\n",
      " At random state 20 , the testing accuracy is :- 0.7974980453479281\n",
      " At random state 20 , the testing accuracy is :- 0.734375\n",
      "\n",
      "\n",
      " At random state 21 , the testing accuracy is :- 0.7982799061767005\n",
      " At random state 21 , the testing accuracy is :- 0.75625\n",
      "\n",
      "\n",
      " At random state 22 , the testing accuracy is :- 0.7974980453479281\n",
      " At random state 22 , the testing accuracy is :- 0.734375\n",
      "\n",
      "\n",
      " At random state 23 , the testing accuracy is :- 0.7943706020328382\n",
      " At random state 23 , the testing accuracy is :- 0.75625\n",
      "\n",
      "\n",
      " At random state 24 , the testing accuracy is :- 0.8014073494917905\n",
      " At random state 24 , the testing accuracy is :- 0.715625\n",
      "\n",
      "\n",
      " At random state 25 , the testing accuracy is :- 0.7967161845191556\n",
      " At random state 25 , the testing accuracy is :- 0.784375\n",
      "\n",
      "\n",
      " At random state 26 , the testing accuracy is :- 0.7943706020328382\n",
      " At random state 26 , the testing accuracy is :- 0.7625\n",
      "\n",
      "\n",
      " At random state 27 , the testing accuracy is :- 0.7943706020328382\n",
      " At random state 27 , the testing accuracy is :- 0.75625\n",
      "\n",
      "\n",
      " At random state 28 , the testing accuracy is :- 0.7904612978889758\n",
      " At random state 28 , the testing accuracy is :- 0.759375\n",
      "\n",
      "\n",
      " At random state 29 , the testing accuracy is :- 0.7873338545738858\n",
      " At random state 29 , the testing accuracy is :- 0.79375\n",
      "\n",
      "\n",
      " At random state 30 , the testing accuracy is :- 0.800625488663018\n",
      " At random state 30 , the testing accuracy is :- 0.7875\n",
      "\n",
      "\n",
      " At random state 31 , the testing accuracy is :- 0.784206411258796\n",
      " At random state 31 , the testing accuracy is :- 0.765625\n",
      "\n",
      "\n",
      " At random state 32 , the testing accuracy is :- 0.8014073494917905\n",
      " At random state 32 , the testing accuracy is :- 0.73125\n",
      "\n",
      "\n",
      " At random state 33 , the testing accuracy is :- 0.7920250195465207\n",
      " At random state 33 , the testing accuracy is :- 0.740625\n",
      "\n",
      "\n",
      " At random state 34 , the testing accuracy is :- 0.7865519937451134\n",
      " At random state 34 , the testing accuracy is :- 0.740625\n",
      "\n",
      "\n",
      " At random state 35 , the testing accuracy is :- 0.8021892103205629\n",
      " At random state 35 , the testing accuracy is :- 0.746875\n",
      "\n",
      "\n",
      " At random state 36 , the testing accuracy is :- 0.7935887412040656\n",
      " At random state 36 , the testing accuracy is :- 0.753125\n",
      "\n",
      "\n",
      " At random state 37 , the testing accuracy is :- 0.7818608287724785\n",
      " At random state 37 , the testing accuracy is :- 0.765625\n",
      "\n",
      "\n",
      " At random state 38 , the testing accuracy is :- 0.8037529319781079\n",
      " At random state 38 , the testing accuracy is :- 0.753125\n",
      "\n",
      "\n",
      " At random state 39 , the testing accuracy is :- 0.7896794370602033\n",
      " At random state 39 , the testing accuracy is :- 0.771875\n",
      "\n",
      "\n",
      " At random state 40 , the testing accuracy is :- 0.7935887412040656\n",
      " At random state 40 , the testing accuracy is :- 0.778125\n",
      "\n",
      "\n",
      " At random state 41 , the testing accuracy is :- 0.7826426896012509\n",
      " At random state 41 , the testing accuracy is :- 0.75625\n",
      "\n",
      "\n",
      " At random state 42 , the testing accuracy is :- 0.7896794370602033\n",
      " At random state 42 , the testing accuracy is :- 0.76875\n",
      "\n",
      "\n",
      " At random state 43 , the testing accuracy is :- 0.7888975762314308\n",
      " At random state 43 , the testing accuracy is :- 0.765625\n",
      "\n",
      "\n",
      " At random state 44 , the testing accuracy is :- 0.799061767005473\n",
      " At random state 44 , the testing accuracy is :- 0.7375\n",
      "\n",
      "\n",
      " At random state 45 , the testing accuracy is :- 0.784206411258796\n",
      " At random state 45 , the testing accuracy is :- 0.784375\n",
      "\n",
      "\n",
      " At random state 46 , the testing accuracy is :- 0.7920250195465207\n",
      " At random state 46 , the testing accuracy is :- 0.740625\n",
      "\n",
      "\n",
      " At random state 47 , the testing accuracy is :- 0.7928068803752932\n",
      " At random state 47 , the testing accuracy is :- 0.759375\n",
      "\n",
      "\n",
      " At random state 48 , the testing accuracy is :- 0.8045347928068803\n",
      " At random state 48 , the testing accuracy is :- 0.74375\n",
      "\n",
      "\n",
      " At random state 49 , the testing accuracy is :- 0.7951524628616107\n",
      " At random state 49 , the testing accuracy is :- 0.746875\n",
      "\n",
      "\n",
      " At random state 50 , the testing accuracy is :- 0.8068803752931978\n",
      " At random state 50 , the testing accuracy is :- 0.721875\n",
      "\n",
      "\n",
      " At random state 51 , the testing accuracy is :- 0.8029710711493354\n",
      " At random state 51 , the testing accuracy is :- 0.721875\n",
      "\n",
      "\n",
      " At random state 52 , the testing accuracy is :- 0.8029710711493354\n",
      " At random state 52 , the testing accuracy is :- 0.709375\n",
      "\n",
      "\n",
      " At random state 53 , the testing accuracy is :- 0.7928068803752932\n",
      " At random state 53 , the testing accuracy is :- 0.79375\n",
      "\n",
      "\n",
      " At random state 54 , the testing accuracy is :- 0.7928068803752932\n",
      " At random state 54 , the testing accuracy is :- 0.76875\n",
      "\n",
      "\n",
      " At random state 55 , the testing accuracy is :- 0.7873338545738858\n",
      " At random state 55 , the testing accuracy is :- 0.7625\n",
      "\n",
      "\n",
      " At random state 56 , the testing accuracy is :- 0.7974980453479281\n",
      " At random state 56 , the testing accuracy is :- 0.753125\n",
      "\n",
      "\n",
      " At random state 57 , the testing accuracy is :- 0.8060985144644254\n",
      " At random state 57 , the testing accuracy is :- 0.7125\n",
      "\n",
      "\n",
      " At random state 58 , the testing accuracy is :- 0.8037529319781079\n",
      " At random state 58 , the testing accuracy is :- 0.753125\n",
      "\n",
      "\n",
      " At random state 59 , the testing accuracy is :- 0.7982799061767005\n",
      " At random state 59 , the testing accuracy is :- 0.725\n",
      "\n",
      "\n",
      " At random state 60 , the testing accuracy is :- 0.7896794370602033\n",
      " At random state 60 , the testing accuracy is :- 0.7625\n",
      "\n",
      "\n",
      " At random state 61 , the testing accuracy is :- 0.7888975762314308\n",
      " At random state 61 , the testing accuracy is :- 0.80625\n",
      "\n",
      "\n",
      " At random state 62 , the testing accuracy is :- 0.777951524628616\n",
      " At random state 62 , the testing accuracy is :- 0.78125\n",
      "\n",
      "\n",
      " At random state 63 , the testing accuracy is :- 0.7928068803752932\n",
      " At random state 63 , the testing accuracy is :- 0.76875\n",
      "\n",
      "\n",
      " At random state 64 , the testing accuracy is :- 0.7974980453479281\n",
      " At random state 64 , the testing accuracy is :- 0.75\n",
      "\n",
      "\n",
      " At random state 65 , the testing accuracy is :- 0.8014073494917905\n",
      " At random state 65 , the testing accuracy is :- 0.725\n",
      "\n",
      "\n",
      " At random state 66 , the testing accuracy is :- 0.800625488663018\n",
      " At random state 66 , the testing accuracy is :- 0.725\n",
      "\n",
      "\n",
      " At random state 67 , the testing accuracy is :- 0.7826426896012509\n",
      " At random state 67 , the testing accuracy is :- 0.753125\n",
      "\n",
      "\n",
      " At random state 68 , the testing accuracy is :- 0.8037529319781079\n",
      " At random state 68 , the testing accuracy is :- 0.725\n",
      "\n",
      "\n",
      " At random state 69 , the testing accuracy is :- 0.800625488663018\n",
      " At random state 69 , the testing accuracy is :- 0.7375\n",
      "\n",
      "\n",
      " At random state 70 , the testing accuracy is :- 0.7888975762314308\n",
      " At random state 70 , the testing accuracy is :- 0.76875\n",
      "\n",
      "\n",
      " At random state 71 , the testing accuracy is :- 0.7904612978889758\n",
      " At random state 71 , the testing accuracy is :- 0.765625\n",
      "\n",
      "\n",
      " At random state 72 , the testing accuracy is :- 0.7912431587177482\n",
      " At random state 72 , the testing accuracy is :- 0.78125\n",
      "\n",
      "\n",
      " At random state 73 , the testing accuracy is :- 0.800625488663018\n",
      " At random state 73 , the testing accuracy is :- 0.746875\n",
      "\n",
      "\n",
      " At random state 74 , the testing accuracy is :- 0.8053166536356529\n",
      " At random state 74 , the testing accuracy is :- 0.725\n",
      "\n",
      "\n",
      " At random state 75 , the testing accuracy is :- 0.8131352619233776\n",
      " At random state 75 , the testing accuracy is :- 0.70625\n",
      "\n",
      "\n",
      " At random state 76 , the testing accuracy is :- 0.7959343236903831\n",
      " At random state 76 , the testing accuracy is :- 0.7875\n",
      "\n",
      "\n",
      " At random state 77 , the testing accuracy is :- 0.7982799061767005\n",
      " At random state 77 , the testing accuracy is :- 0.765625\n",
      "\n",
      "\n",
      " At random state 78 , the testing accuracy is :- 0.7982799061767005\n",
      " At random state 78 , the testing accuracy is :- 0.775\n",
      "\n",
      "\n",
      " At random state 79 , the testing accuracy is :- 0.7912431587177482\n",
      " At random state 79 , the testing accuracy is :- 0.76875\n",
      "\n",
      "\n",
      " At random state 80 , the testing accuracy is :- 0.7881157154026583\n",
      " At random state 80 , the testing accuracy is :- 0.759375\n",
      "\n",
      "\n",
      " At random state 81 , the testing accuracy is :- 0.8037529319781079\n",
      " At random state 81 , the testing accuracy is :- 0.728125\n",
      "\n",
      "\n",
      " At random state 82 , the testing accuracy is :- 0.7935887412040656\n",
      " At random state 82 , the testing accuracy is :- 0.73125\n",
      "\n",
      "\n",
      " At random state 83 , the testing accuracy is :- 0.7865519937451134\n",
      " At random state 83 , the testing accuracy is :- 0.79375\n",
      "\n",
      "\n",
      " At random state 84 , the testing accuracy is :- 0.7943706020328382\n",
      " At random state 84 , the testing accuracy is :- 0.75625\n",
      "\n",
      "\n",
      " At random state 85 , the testing accuracy is :- 0.7857701329163409\n",
      " At random state 85 , the testing accuracy is :- 0.76875\n",
      "\n",
      "\n",
      " At random state 86 , the testing accuracy is :- 0.7873338545738858\n",
      " At random state 86 , the testing accuracy is :- 0.7625\n",
      "\n",
      "\n",
      " At random state 87 , the testing accuracy is :- 0.8037529319781079\n",
      " At random state 87 , the testing accuracy is :- 0.709375\n",
      "\n",
      "\n",
      " At random state 88 , the testing accuracy is :- 0.8037529319781079\n",
      " At random state 88 , the testing accuracy is :- 0.74375\n",
      "\n",
      "\n",
      " At random state 89 , the testing accuracy is :- 0.7974980453479281\n",
      " At random state 89 , the testing accuracy is :- 0.775\n",
      "\n",
      "\n",
      " At random state 90 , the testing accuracy is :- 0.7904612978889758\n",
      " At random state 90 , the testing accuracy is :- 0.753125\n",
      "\n",
      "\n",
      " At random state 91 , the testing accuracy is :- 0.8021892103205629\n",
      " At random state 91 , the testing accuracy is :- 0.725\n",
      "\n",
      "\n",
      " At random state 92 , the testing accuracy is :- 0.7873338545738858\n",
      " At random state 92 , the testing accuracy is :- 0.7375\n",
      "\n",
      "\n",
      " At random state 93 , the testing accuracy is :- 0.7795152462861611\n",
      " At random state 93 , the testing accuracy is :- 0.78125\n",
      "\n",
      "\n",
      " At random state 94 , the testing accuracy is :- 0.7935887412040656\n",
      " At random state 94 , the testing accuracy is :- 0.715625\n",
      "\n",
      "\n",
      " At random state 95 , the testing accuracy is :- 0.7943706020328382\n",
      " At random state 95 , the testing accuracy is :- 0.775\n",
      "\n",
      "\n",
      " At random state 96 , the testing accuracy is :- 0.7998436278342455\n",
      " At random state 96 , the testing accuracy is :- 0.734375\n",
      "\n",
      "\n",
      " At random state 97 , the testing accuracy is :- 0.7982799061767005\n",
      " At random state 97 , the testing accuracy is :- 0.753125\n",
      "\n",
      "\n",
      " At random state 98 , the testing accuracy is :- 0.7943706020328382\n",
      " At random state 98 , the testing accuracy is :- 0.740625\n",
      "\n",
      "\n",
      " At random state 99 , the testing accuracy is :- 0.7888975762314308\n",
      " At random state 99 , the testing accuracy is :- 0.771875\n",
      "\n",
      "\n"
     ]
    }
   ],
   "source": [
    "for i in range(0,100):\n",
    "    x_train,x_test,y_train,y_test=train_test_split(x,y,test_size=0.2,random_state=i)\n",
    "    s.fit(x_train,y_train)\n",
    "    x_pred=s.predict(x_train)\n",
    "    y_pred=s.predict(x_test)\n",
    "    print(f\" At random state {i} , the testing accuracy is :- {accuracy_score(y_train,x_pred)}\")\n",
    "    print(f\" At random state {i} , the testing accuracy is :- {accuracy_score(y_test,y_pred)}\")\n",
    "    print(\"\\n\")"
   ]
  },
  {
   "cell_type": "code",
   "execution_count": 872,
   "id": "018866b7",
   "metadata": {},
   "outputs": [],
   "source": [
    "x_train,x_test,y_train,y_test=train_test_split(x,y,test_size=0.2,random_state=61)"
   ]
  },
  {
   "cell_type": "code",
   "execution_count": 873,
   "id": "040976e2",
   "metadata": {},
   "outputs": [
    {
     "data": {
      "text/html": [
       "<style>#sk-container-id-140 {color: black;background-color: white;}#sk-container-id-140 pre{padding: 0;}#sk-container-id-140 div.sk-toggleable {background-color: white;}#sk-container-id-140 label.sk-toggleable__label {cursor: pointer;display: block;width: 100%;margin-bottom: 0;padding: 0.3em;box-sizing: border-box;text-align: center;}#sk-container-id-140 label.sk-toggleable__label-arrow:before {content: \"▸\";float: left;margin-right: 0.25em;color: #696969;}#sk-container-id-140 label.sk-toggleable__label-arrow:hover:before {color: black;}#sk-container-id-140 div.sk-estimator:hover label.sk-toggleable__label-arrow:before {color: black;}#sk-container-id-140 div.sk-toggleable__content {max-height: 0;max-width: 0;overflow: hidden;text-align: left;background-color: #f0f8ff;}#sk-container-id-140 div.sk-toggleable__content pre {margin: 0.2em;color: black;border-radius: 0.25em;background-color: #f0f8ff;}#sk-container-id-140 input.sk-toggleable__control:checked~div.sk-toggleable__content {max-height: 200px;max-width: 100%;overflow: auto;}#sk-container-id-140 input.sk-toggleable__control:checked~label.sk-toggleable__label-arrow:before {content: \"▾\";}#sk-container-id-140 div.sk-estimator input.sk-toggleable__control:checked~label.sk-toggleable__label {background-color: #d4ebff;}#sk-container-id-140 div.sk-label input.sk-toggleable__control:checked~label.sk-toggleable__label {background-color: #d4ebff;}#sk-container-id-140 input.sk-hidden--visually {border: 0;clip: rect(1px 1px 1px 1px);clip: rect(1px, 1px, 1px, 1px);height: 1px;margin: -1px;overflow: hidden;padding: 0;position: absolute;width: 1px;}#sk-container-id-140 div.sk-estimator {font-family: monospace;background-color: #f0f8ff;border: 1px dotted black;border-radius: 0.25em;box-sizing: border-box;margin-bottom: 0.5em;}#sk-container-id-140 div.sk-estimator:hover {background-color: #d4ebff;}#sk-container-id-140 div.sk-parallel-item::after {content: \"\";width: 100%;border-bottom: 1px solid gray;flex-grow: 1;}#sk-container-id-140 div.sk-label:hover label.sk-toggleable__label {background-color: #d4ebff;}#sk-container-id-140 div.sk-serial::before {content: \"\";position: absolute;border-left: 1px solid gray;box-sizing: border-box;top: 0;bottom: 0;left: 50%;z-index: 0;}#sk-container-id-140 div.sk-serial {display: flex;flex-direction: column;align-items: center;background-color: white;padding-right: 0.2em;padding-left: 0.2em;position: relative;}#sk-container-id-140 div.sk-item {position: relative;z-index: 1;}#sk-container-id-140 div.sk-parallel {display: flex;align-items: stretch;justify-content: center;background-color: white;position: relative;}#sk-container-id-140 div.sk-item::before, #sk-container-id-140 div.sk-parallel-item::before {content: \"\";position: absolute;border-left: 1px solid gray;box-sizing: border-box;top: 0;bottom: 0;left: 50%;z-index: -1;}#sk-container-id-140 div.sk-parallel-item {display: flex;flex-direction: column;z-index: 1;position: relative;background-color: white;}#sk-container-id-140 div.sk-parallel-item:first-child::after {align-self: flex-end;width: 50%;}#sk-container-id-140 div.sk-parallel-item:last-child::after {align-self: flex-start;width: 50%;}#sk-container-id-140 div.sk-parallel-item:only-child::after {width: 0;}#sk-container-id-140 div.sk-dashed-wrapped {border: 1px dashed gray;margin: 0 0.4em 0.5em 0.4em;box-sizing: border-box;padding-bottom: 0.4em;background-color: white;}#sk-container-id-140 div.sk-label label {font-family: monospace;font-weight: bold;display: inline-block;line-height: 1.2em;}#sk-container-id-140 div.sk-label-container {text-align: center;}#sk-container-id-140 div.sk-container {/* jupyter's `normalize.less` sets `[hidden] { display: none; }` but bootstrap.min.css set `[hidden] { display: none !important; }` so we also need the `!important` here to be able to override the default hidden behavior on the sphinx rendered scikit-learn.org. See: https://github.com/scikit-learn/scikit-learn/issues/21755 */display: inline-block !important;position: relative;}#sk-container-id-140 div.sk-text-repr-fallback {display: none;}</style><div id=\"sk-container-id-140\" class=\"sk-top-container\"><div class=\"sk-text-repr-fallback\"><pre>SVC()</pre><b>In a Jupyter environment, please rerun this cell to show the HTML representation or trust the notebook. <br />On GitHub, the HTML representation is unable to render, please try loading this page with nbviewer.org.</b></div><div class=\"sk-container\" hidden><div class=\"sk-item\"><div class=\"sk-estimator sk-toggleable\"><input class=\"sk-toggleable__control sk-hidden--visually\" id=\"sk-estimator-id-160\" type=\"checkbox\" checked><label for=\"sk-estimator-id-160\" class=\"sk-toggleable__label sk-toggleable__label-arrow\">SVC</label><div class=\"sk-toggleable__content\"><pre>SVC()</pre></div></div></div></div></div>"
      ],
      "text/plain": [
       "SVC()"
      ]
     },
     "execution_count": 873,
     "metadata": {},
     "output_type": "execute_result"
    }
   ],
   "source": [
    "s.fit(x_train,y_train)"
   ]
  },
  {
   "cell_type": "code",
   "execution_count": 874,
   "id": "d6820dbf",
   "metadata": {},
   "outputs": [
    {
     "data": {
      "text/plain": [
       "0.7888975762314308"
      ]
     },
     "execution_count": 874,
     "metadata": {},
     "output_type": "execute_result"
    }
   ],
   "source": [
    "s.score(x_train,y_train)"
   ]
  },
  {
   "cell_type": "code",
   "execution_count": 879,
   "id": "c9467bf9",
   "metadata": {},
   "outputs": [],
   "source": [
    "x_train,x_test,y_train,y_test=train_test_split(x,y,test_size=0.2,random_state=61)"
   ]
  },
  {
   "cell_type": "code",
   "execution_count": 880,
   "id": "6e4fe636",
   "metadata": {},
   "outputs": [
    {
     "data": {
      "text/html": [
       "<style>#sk-container-id-142 {color: black;background-color: white;}#sk-container-id-142 pre{padding: 0;}#sk-container-id-142 div.sk-toggleable {background-color: white;}#sk-container-id-142 label.sk-toggleable__label {cursor: pointer;display: block;width: 100%;margin-bottom: 0;padding: 0.3em;box-sizing: border-box;text-align: center;}#sk-container-id-142 label.sk-toggleable__label-arrow:before {content: \"▸\";float: left;margin-right: 0.25em;color: #696969;}#sk-container-id-142 label.sk-toggleable__label-arrow:hover:before {color: black;}#sk-container-id-142 div.sk-estimator:hover label.sk-toggleable__label-arrow:before {color: black;}#sk-container-id-142 div.sk-toggleable__content {max-height: 0;max-width: 0;overflow: hidden;text-align: left;background-color: #f0f8ff;}#sk-container-id-142 div.sk-toggleable__content pre {margin: 0.2em;color: black;border-radius: 0.25em;background-color: #f0f8ff;}#sk-container-id-142 input.sk-toggleable__control:checked~div.sk-toggleable__content {max-height: 200px;max-width: 100%;overflow: auto;}#sk-container-id-142 input.sk-toggleable__control:checked~label.sk-toggleable__label-arrow:before {content: \"▾\";}#sk-container-id-142 div.sk-estimator input.sk-toggleable__control:checked~label.sk-toggleable__label {background-color: #d4ebff;}#sk-container-id-142 div.sk-label input.sk-toggleable__control:checked~label.sk-toggleable__label {background-color: #d4ebff;}#sk-container-id-142 input.sk-hidden--visually {border: 0;clip: rect(1px 1px 1px 1px);clip: rect(1px, 1px, 1px, 1px);height: 1px;margin: -1px;overflow: hidden;padding: 0;position: absolute;width: 1px;}#sk-container-id-142 div.sk-estimator {font-family: monospace;background-color: #f0f8ff;border: 1px dotted black;border-radius: 0.25em;box-sizing: border-box;margin-bottom: 0.5em;}#sk-container-id-142 div.sk-estimator:hover {background-color: #d4ebff;}#sk-container-id-142 div.sk-parallel-item::after {content: \"\";width: 100%;border-bottom: 1px solid gray;flex-grow: 1;}#sk-container-id-142 div.sk-label:hover label.sk-toggleable__label {background-color: #d4ebff;}#sk-container-id-142 div.sk-serial::before {content: \"\";position: absolute;border-left: 1px solid gray;box-sizing: border-box;top: 0;bottom: 0;left: 50%;z-index: 0;}#sk-container-id-142 div.sk-serial {display: flex;flex-direction: column;align-items: center;background-color: white;padding-right: 0.2em;padding-left: 0.2em;position: relative;}#sk-container-id-142 div.sk-item {position: relative;z-index: 1;}#sk-container-id-142 div.sk-parallel {display: flex;align-items: stretch;justify-content: center;background-color: white;position: relative;}#sk-container-id-142 div.sk-item::before, #sk-container-id-142 div.sk-parallel-item::before {content: \"\";position: absolute;border-left: 1px solid gray;box-sizing: border-box;top: 0;bottom: 0;left: 50%;z-index: -1;}#sk-container-id-142 div.sk-parallel-item {display: flex;flex-direction: column;z-index: 1;position: relative;background-color: white;}#sk-container-id-142 div.sk-parallel-item:first-child::after {align-self: flex-end;width: 50%;}#sk-container-id-142 div.sk-parallel-item:last-child::after {align-self: flex-start;width: 50%;}#sk-container-id-142 div.sk-parallel-item:only-child::after {width: 0;}#sk-container-id-142 div.sk-dashed-wrapped {border: 1px dashed gray;margin: 0 0.4em 0.5em 0.4em;box-sizing: border-box;padding-bottom: 0.4em;background-color: white;}#sk-container-id-142 div.sk-label label {font-family: monospace;font-weight: bold;display: inline-block;line-height: 1.2em;}#sk-container-id-142 div.sk-label-container {text-align: center;}#sk-container-id-142 div.sk-container {/* jupyter's `normalize.less` sets `[hidden] { display: none; }` but bootstrap.min.css set `[hidden] { display: none !important; }` so we also need the `!important` here to be able to override the default hidden behavior on the sphinx rendered scikit-learn.org. See: https://github.com/scikit-learn/scikit-learn/issues/21755 */display: inline-block !important;position: relative;}#sk-container-id-142 div.sk-text-repr-fallback {display: none;}</style><div id=\"sk-container-id-142\" class=\"sk-top-container\"><div class=\"sk-text-repr-fallback\"><pre>SVC()</pre><b>In a Jupyter environment, please rerun this cell to show the HTML representation or trust the notebook. <br />On GitHub, the HTML representation is unable to render, please try loading this page with nbviewer.org.</b></div><div class=\"sk-container\" hidden><div class=\"sk-item\"><div class=\"sk-estimator sk-toggleable\"><input class=\"sk-toggleable__control sk-hidden--visually\" id=\"sk-estimator-id-162\" type=\"checkbox\" checked><label for=\"sk-estimator-id-162\" class=\"sk-toggleable__label sk-toggleable__label-arrow\">SVC</label><div class=\"sk-toggleable__content\"><pre>SVC()</pre></div></div></div></div></div>"
      ],
      "text/plain": [
       "SVC()"
      ]
     },
     "execution_count": 880,
     "metadata": {},
     "output_type": "execute_result"
    }
   ],
   "source": [
    "s.fit(x_train,y_train)"
   ]
  },
  {
   "cell_type": "code",
   "execution_count": 881,
   "id": "a88b66e4",
   "metadata": {},
   "outputs": [
    {
     "data": {
      "text/plain": [
       "0.7888975762314308"
      ]
     },
     "execution_count": 881,
     "metadata": {},
     "output_type": "execute_result"
    }
   ],
   "source": [
    "s.score(x_train,y_train)"
   ]
  },
  {
   "cell_type": "code",
   "execution_count": 882,
   "id": "6965a811",
   "metadata": {},
   "outputs": [
    {
     "data": {
      "text/plain": [
       "0.80625"
      ]
     },
     "execution_count": 882,
     "metadata": {},
     "output_type": "execute_result"
    }
   ],
   "source": [
    "s.score(x_test,y_test)"
   ]
  },
  {
   "cell_type": "markdown",
   "id": "edd8fd0e",
   "metadata": {},
   "source": [
    "# Lets Do Hyperparameter Tuning"
   ]
  },
  {
   "cell_type": "code",
   "execution_count": 917,
   "id": "f78e04d0",
   "metadata": {},
   "outputs": [],
   "source": [
    "from sklearn.model_selection import GridSearchCV\n",
    "from sklearn.metrics import accuracy_score,classification_report"
   ]
  },
  {
   "cell_type": "code",
   "execution_count": 918,
   "id": "53761959",
   "metadata": {},
   "outputs": [],
   "source": [
    "param_grid={'C':[5,10,20],\n",
    "           'gamma':[0.001,0.01,0.02,0.002]}"
   ]
  },
  {
   "cell_type": "code",
   "execution_count": 919,
   "id": "a972de7f",
   "metadata": {},
   "outputs": [
    {
     "data": {
      "text/plain": [
       "{'C': 10, 'gamma': 0.01}"
      ]
     },
     "execution_count": 919,
     "metadata": {},
     "output_type": "execute_result"
    }
   ],
   "source": [
    "gridsearch=GridSearchCV(s,param_grid)\n",
    "\n",
    "gridsearch.fit(x_train,y_train)\n",
    "\n",
    "\n",
    "\n",
    "#Best Param\n",
    "gridsearch.best_params_\n"
   ]
  },
  {
   "cell_type": "code",
   "execution_count": 920,
   "id": "3806fc9c",
   "metadata": {},
   "outputs": [
    {
     "data": {
      "text/plain": [
       "0.8162627052384676"
      ]
     },
     "execution_count": 920,
     "metadata": {},
     "output_type": "execute_result"
    }
   ],
   "source": [
    "svc=SVC(C=22,gamma=0.07)\n",
    "svc.fit(x_train,y_train)\n",
    "\n",
    "\n",
    "#call the function and pass dataset to check train and test_score\n",
    "\n",
    "svc.score(x_train,y_train)"
   ]
  },
  {
   "cell_type": "code",
   "execution_count": 921,
   "id": "a9414164",
   "metadata": {},
   "outputs": [
    {
     "data": {
      "text/plain": [
       "0.80625"
      ]
     },
     "execution_count": 921,
     "metadata": {},
     "output_type": "execute_result"
    }
   ],
   "source": [
    "svc.score(x_test,y_test)"
   ]
  },
  {
   "cell_type": "markdown",
   "id": "e06d1b50",
   "metadata": {},
   "source": [
    "So, Here we try 5 Supervised machine learning algorithm , and we support vector machine  is the best algorithm for our dataset \n",
    "And now we good to proceed."
   ]
  },
  {
   "cell_type": "code",
   "execution_count": 923,
   "id": "e06a2c64",
   "metadata": {},
   "outputs": [
    {
     "data": {
      "text/plain": [
       "0.8162627052384676"
      ]
     },
     "execution_count": 923,
     "metadata": {},
     "output_type": "execute_result"
    }
   ],
   "source": [
    "#Lets check one more time score\n",
    "svc.score(x_train,y_train) #Checking training score"
   ]
  },
  {
   "cell_type": "code",
   "execution_count": 929,
   "id": "52d3833f",
   "metadata": {},
   "outputs": [],
   "source": [
    "y_pred=svc.predict(x_test) #Checking testing score"
   ]
  },
  {
   "cell_type": "markdown",
   "id": "a060be5c",
   "metadata": {},
   "source": [
    "# Cross Validation Score for Logistic Regression"
   ]
  },
  {
   "cell_type": "code",
   "execution_count": 930,
   "id": "2adadd7c",
   "metadata": {},
   "outputs": [
    {
     "name": "stdout",
     "output_type": "stream",
     "text": [
      "At CV : -  2\n",
      "cross validation score is  67.48146120150187\n",
      "accuracy_score is :-  80.625\n",
      "\n",
      "\n",
      "At CV : -  3\n",
      "cross validation score is  71.29455909943715\n",
      "accuracy_score is :-  80.625\n",
      "\n",
      "\n",
      "At CV : -  4\n",
      "cross validation score is  70.16917293233082\n",
      "accuracy_score is :-  80.625\n",
      "\n",
      "\n",
      "At CV : -  5\n",
      "cross validation score is  71.41986677115987\n",
      "accuracy_score is :-  80.625\n",
      "\n",
      "\n",
      "At CV : -  6\n",
      "cross validation score is  70.92356359062451\n",
      "accuracy_score is :-  80.625\n",
      "\n",
      "\n",
      "At CV : -  7\n",
      "cross validation score is  69.98856311083385\n",
      "accuracy_score is :-  80.625\n",
      "\n",
      "\n",
      "At CV : -  8\n",
      "cross validation score is  70.54302763819095\n",
      "accuracy_score is :-  80.625\n",
      "\n",
      "\n",
      "At CV : -  9\n",
      "cross validation score is  70.92088279481156\n",
      "accuracy_score is :-  80.625\n",
      "\n",
      "\n"
     ]
    }
   ],
   "source": [
    "svc.fit(x_train,y_train)\n",
    "pred_lr=svc.predict(x_test)\n",
    "from sklearn.model_selection import cross_val_score\n",
    "\n",
    "\n",
    "lss=accuracy_score(y_test,pred_lr)\n",
    "for j in range(2,10):\n",
    "    lsscore=cross_val_score(svc,x,y,cv=j)\n",
    "    lsc=lsscore.mean()\n",
    "    print(\"At CV : - \",j)\n",
    "    print(\"cross validation score is \",lsc*100)\n",
    "    print(\"accuracy_score is :- \",lss*100)\n",
    "    print(\"\\n\")"
   ]
  },
  {
   "cell_type": "code",
   "execution_count": 931,
   "id": "e4aeec73",
   "metadata": {},
   "outputs": [],
   "source": [
    "#So here we got almost same as SVC result."
   ]
  },
  {
   "cell_type": "markdown",
   "id": "ca583920",
   "metadata": {},
   "source": [
    "# AUC ROC Curve "
   ]
  },
  {
   "cell_type": "code",
   "execution_count": 926,
   "id": "0eb521eb",
   "metadata": {},
   "outputs": [],
   "source": [
    "#Lets import ROC and AUC curve.\n",
    "from sklearn.metrics import roc_curve,auc\n"
   ]
  },
  {
   "cell_type": "code",
   "execution_count": 928,
   "id": "01d37682",
   "metadata": {},
   "outputs": [
    {
     "data": {
      "image/png": "[encoded data removed]",
      "text/plain": [
       "<Figure size 432x288 with 1 Axes>"
      ]
     },
     "metadata": {
      "needs_background": "light"
     },
     "output_type": "display_data"
    }
   ],
   "source": [
    "fpr,tpr,threshold=roc_curve(y_test,y_pred)\n",
    "roc_auc=auc(fpr,tpr)\n",
    "plt.figure()\n",
    "plt.plot(fpr,tpr,color='darkorange',lw=10,label='ROC Curve (area=%0.2f)' % roc_auc)\n",
    "plt.plot([0,1],[0,1],color='navy',lw=10,linestyle='--')\n",
    "plt.xlim([0.0,1.0])\n",
    "plt.ylim([0.0,1.05])\n",
    "plt.xlabel('False Positive Rate ')\n",
    "plt.ylabel('True Positive Rate ')\n",
    "plt.title(\"Reciever Operating Characterstics \")\n",
    "plt.legend(loc='lower right')\n",
    "plt.show()\n"
   ]
  },
  {
   "cell_type": "markdown",
   "id": "b05c1801",
   "metadata": {},
   "source": [
    "So Basically Blue line shows the 50% of the dataset.  and yellow line show how much our model learn the data . "
   ]
  },
  {
   "cell_type": "markdown",
   "id": "766eabf8",
   "metadata": {},
   "source": [
    "So. We get 80% with SVC and same result we get from Cross Validation. . "
   ]
  },
  {
   "cell_type": "markdown",
   "id": "c94b9cad",
   "metadata": {},
   "source": [
    "# Lets Save Our Model"
   ]
  },
  {
   "cell_type": "code",
   "execution_count": 934,
   "id": "1689a523",
   "metadata": {},
   "outputs": [],
   "source": [
    "import pickle\n",
    "filename='redwine.'\n",
    "pickle.dump(rf,open(filename,'wb'))"
   ]
  },
  {
   "cell_type": "markdown",
   "id": "b36f71bf",
   "metadata": {},
   "source": [
    "# Conclusion"
   ]
  },
  {
   "cell_type": "code",
   "execution_count": 935,
   "id": "4b0e5509",
   "metadata": {},
   "outputs": [
    {
     "name": "stdout",
     "output_type": "stream",
     "text": [
      "87.1875\n"
     ]
    }
   ],
   "source": [
    "loaded_model=pickle.load(open('redwine','rb'))\n",
    "result=loaded_model.score(x_test,y_test)\n",
    "print(result*100)"
   ]
  },
  {
   "cell_type": "code",
   "execution_count": 940,
   "id": "0cb2abf0",
   "metadata": {},
   "outputs": [
    {
     "data": {
      "text/html": [
       "<div>\n",
       "<style scoped>\n",
       "    .dataframe tbody tr th:only-of-type {\n",
       "        vertical-align: middle;\n",
       "    }\n",
       "\n",
       "    .dataframe tbody tr th {\n",
       "        vertical-align: top;\n",
       "    }\n",
       "\n",
       "    .dataframe thead th {\n",
       "        text-align: right;\n",
       "    }\n",
       "</style>\n",
       "<table border=\"1\" class=\"dataframe\">\n",
       "  <thead>\n",
       "    <tr style=\"text-align: right;\">\n",
       "      <th></th>\n",
       "      <th>0</th>\n",
       "      <th>1</th>\n",
       "      <th>2</th>\n",
       "      <th>3</th>\n",
       "      <th>4</th>\n",
       "      <th>5</th>\n",
       "      <th>6</th>\n",
       "      <th>7</th>\n",
       "      <th>8</th>\n",
       "      <th>9</th>\n",
       "      <th>...</th>\n",
       "      <th>310</th>\n",
       "      <th>311</th>\n",
       "      <th>312</th>\n",
       "      <th>313</th>\n",
       "      <th>314</th>\n",
       "      <th>315</th>\n",
       "      <th>316</th>\n",
       "      <th>317</th>\n",
       "      <th>318</th>\n",
       "      <th>319</th>\n",
       "    </tr>\n",
       "  </thead>\n",
       "  <tbody>\n",
       "    <tr>\n",
       "      <th>Predicted</th>\n",
       "      <td>0</td>\n",
       "      <td>1</td>\n",
       "      <td>0</td>\n",
       "      <td>1</td>\n",
       "      <td>1</td>\n",
       "      <td>1</td>\n",
       "      <td>0</td>\n",
       "      <td>1</td>\n",
       "      <td>1</td>\n",
       "      <td>0</td>\n",
       "      <td>...</td>\n",
       "      <td>1</td>\n",
       "      <td>0</td>\n",
       "      <td>0</td>\n",
       "      <td>1</td>\n",
       "      <td>0</td>\n",
       "      <td>1</td>\n",
       "      <td>0</td>\n",
       "      <td>1</td>\n",
       "      <td>0</td>\n",
       "      <td>0</td>\n",
       "    </tr>\n",
       "    <tr>\n",
       "      <th>Original</th>\n",
       "      <td>0</td>\n",
       "      <td>0</td>\n",
       "      <td>1</td>\n",
       "      <td>1</td>\n",
       "      <td>1</td>\n",
       "      <td>1</td>\n",
       "      <td>1</td>\n",
       "      <td>0</td>\n",
       "      <td>1</td>\n",
       "      <td>0</td>\n",
       "      <td>...</td>\n",
       "      <td>0</td>\n",
       "      <td>0</td>\n",
       "      <td>0</td>\n",
       "      <td>1</td>\n",
       "      <td>0</td>\n",
       "      <td>1</td>\n",
       "      <td>0</td>\n",
       "      <td>1</td>\n",
       "      <td>0</td>\n",
       "      <td>1</td>\n",
       "    </tr>\n",
       "  </tbody>\n",
       "</table>\n",
       "<p>2 rows × 320 columns</p>\n",
       "</div>"
      ],
      "text/plain": [
       "           0    1    2    3    4    5    6    7    8    9    ...  310  311  \\\n",
       "Predicted    0    1    0    1    1    1    0    1    1    0  ...    1    0   \n",
       "Original     0    0    1    1    1    1    1    0    1    0  ...    0    0   \n",
       "\n",
       "           312  313  314  315  316  317  318  319  \n",
       "Predicted    0    1    0    1    0    1    0    0  \n",
       "Original     0    1    0    1    0    1    0    1  \n",
       "\n",
       "[2 rows x 320 columns]"
      ]
     },
     "execution_count": 940,
     "metadata": {},
     "output_type": "execute_result"
    }
   ],
   "source": [
    "conclusion=pd.DataFrame([loaded_model.predict(x_test)[:],y_pred[:]],index=['Predicted','Original'])\n",
    "conclusion"
   ]
  },
  {
   "cell_type": "markdown",
   "id": "22db90bb",
   "metadata": {},
   "source": [
    "So, Here We Completed Our Model.\n",
    "\n",
    "We use SVM Machine learning algorithm.for predicting model.\n",
    "\n",
    "\n",
    " 1 -  is for Good Quality \n",
    " \n",
    " 2 -  is for Bad  Quality\n",
    "\n",
    "\n",
    "\n"
   ]
  },
  {
   "cell_type": "code",
   "execution_count": 941,
   "id": "e89adb46",
   "metadata": {},
   "outputs": [],
   "source": [
    "#Student of DataScience\n",
    "#Student of DataTrained - Saurav\n",
    "#Date - 31-10-2022\n",
    "#Time - 21:10"
   ]
  },
  {
   "cell_type": "code",
   "execution_count": null,
   "id": "347b9b1d",
   "metadata": {},
   "outputs": [],
   "source": []
  }
 ],
 "metadata": {
  "kernelspec": {
   "display_name": "Python 3 (ipykernel)",
   "language": "python",
   "name": "python3"
  },
  "language_info": {
   "codemirror_mode": {
    "name": "ipython",
    "version": 3
   },
   "file_extension": ".py",
   "mimetype": "text/x-python",
   "name": "python",
   "nbconvert_exporter": "python",
   "pygments_lexer": "ipython3",
   "version": "3.9.12"
  }
 },
 "nbformat": 4,
 "nbformat_minor": 5
}
